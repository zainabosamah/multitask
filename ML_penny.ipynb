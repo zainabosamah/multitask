{
 "cells": [
  {
   "cell_type": "code",
   "execution_count": 105,
   "metadata": {},
   "outputs": [
    {
     "name": "stdout",
     "output_type": "stream",
     "text": [
      "2.12.0\n"
     ]
    }
   ],
   "source": [
    "#mporting necessary packages and libraries \n",
    "\n",
    "import tensorflow as tf\n",
    "from tensorflow.keras.models import Model\n",
    "from tensorflow.keras.layers import Dense, Input\n",
    "import numpy as np\n",
    "import matplotlib.pyplot as plt\n",
    "import pandas as pd\n",
    "from sklearn.model_selection import train_test_split\n",
    "from sklearn.metrics import confusion_matrix\n",
    "import itertools\n",
    "print(tf.__version__)"
   ]
  },
  {
   "cell_type": "code",
   "execution_count": 1,
   "metadata": {},
   "outputs": [],
   "source": [
    "import pandas as pd\n",
    "df = pd.read_csv(r'C:\\Users\\zainabosamah\\OneDrive - IMAM ABDULRAHMAN BIN FAISAL UNIVERSITY\\Desktop\\penny\\ML\\Gaiat products.csv')"
   ]
  },
  {
   "cell_type": "code",
   "execution_count": 2,
   "metadata": {},
   "outputs": [
    {
     "name": "stdout",
     "output_type": "stream",
     "text": [
      "Reading from  https://www.bing.com/images/search?&q=cat%20png&qft=+filterui:aspect-square+filterui:color2-bw\n"
     ]
    },
    {
     "ename": "TypeError",
     "evalue": "the JSON object must be str, bytes or bytearray, not NoneType",
     "output_type": "error",
     "traceback": [
      "\u001b[1;31m---------------------------------------------------------------------------\u001b[0m",
      "\u001b[1;31mTypeError\u001b[0m                                 Traceback (most recent call last)",
      "\u001b[1;32mc:\\Users\\zainabosamah\\OneDrive - IMAM ABDULRAHMAN BIN FAISAL UNIVERSITY\\Desktop\\penny\\ML\\ML_penny.ipynb Cell 3\u001b[0m in \u001b[0;36m<cell line: 4>\u001b[1;34m()\u001b[0m\n\u001b[0;32m      <a href='vscode-notebook-cell:/c%3A/Users/zainabosamah/OneDrive%20-%20IMAM%20ABDULRAHMAN%20BIN%20FAISAL%20UNIVERSITY/Desktop/penny/ML/ML_penny.ipynb#W2sZmlsZQ%3D%3D?line=0'>1</a>\u001b[0m \u001b[39m#fetch images from thier urls from bing_images import bing\u001b[39;00m\n\u001b[0;32m      <a href='vscode-notebook-cell:/c%3A/Users/zainabosamah/OneDrive%20-%20IMAM%20ABDULRAHMAN%20BIN%20FAISAL%20UNIVERSITY/Desktop/penny/ML/ML_penny.ipynb#W2sZmlsZQ%3D%3D?line=1'>2</a>\u001b[0m \u001b[39mfrom\u001b[39;00m \u001b[39mbing_images\u001b[39;00m \u001b[39mimport\u001b[39;00m bing  \u001b[39m#bing is used for searching and fetching (cat images)\u001b[39;00m\n\u001b[1;32m----> <a href='vscode-notebook-cell:/c%3A/Users/zainabosamah/OneDrive%20-%20IMAM%20ABDULRAHMAN%20BIN%20FAISAL%20UNIVERSITY/Desktop/penny/ML/ML_penny.ipynb#W2sZmlsZQ%3D%3D?line=3'>4</a>\u001b[0m urls \u001b[39m=\u001b[39m bing\u001b[39m.\u001b[39;49mfetch_image_urls(\u001b[39m\"\u001b[39;49m\u001b[39mcat\u001b[39;49m\u001b[39m\"\u001b[39;49m, limit\u001b[39m=\u001b[39;49m\u001b[39m10\u001b[39;49m, file_type\u001b[39m=\u001b[39;49m\u001b[39m'\u001b[39;49m\u001b[39mpng\u001b[39;49m\u001b[39m'\u001b[39;49m, filters\u001b[39m=\u001b[39;49m\u001b[39m'\u001b[39;49m\u001b[39m+filterui:aspect-square+filterui:color2-bw\u001b[39;49m\u001b[39m'\u001b[39;49m)\n\u001b[0;32m      <a href='vscode-notebook-cell:/c%3A/Users/zainabosamah/OneDrive%20-%20IMAM%20ABDULRAHMAN%20BIN%20FAISAL%20UNIVERSITY/Desktop/penny/ML/ML_penny.ipynb#W2sZmlsZQ%3D%3D?line=4'>5</a>\u001b[0m \u001b[39mprint\u001b[39m(\u001b[39m\"\u001b[39m\u001b[39m{}\u001b[39;00m\u001b[39m images.\u001b[39m\u001b[39m\"\u001b[39m\u001b[39m.\u001b[39mformat(\u001b[39mlen\u001b[39m(urls)))\n\u001b[0;32m      <a href='vscode-notebook-cell:/c%3A/Users/zainabosamah/OneDrive%20-%20IMAM%20ABDULRAHMAN%20BIN%20FAISAL%20UNIVERSITY/Desktop/penny/ML/ML_penny.ipynb#W2sZmlsZQ%3D%3D?line=6'>7</a>\u001b[0m counter \u001b[39m=\u001b[39m \u001b[39m1\u001b[39m\n",
      "File \u001b[1;32mc:\\python\\lib\\site-packages\\bing_images\\bing.py:29\u001b[0m, in \u001b[0;36mfetch_image_urls\u001b[1;34m(query, limit, file_type, filters, extra_query_params)\u001b[0m\n\u001b[0;32m     27\u001b[0m \u001b[39mif\u001b[39;00m \u001b[39mlen\u001b[39m(file_type) \u001b[39m>\u001b[39m \u001b[39m0\u001b[39m:\n\u001b[0;32m     28\u001b[0m     keywords \u001b[39m=\u001b[39m query \u001b[39m+\u001b[39m \u001b[39m\"\u001b[39m\u001b[39m \u001b[39m\u001b[39m\"\u001b[39m \u001b[39m+\u001b[39m file_type\n\u001b[1;32m---> 29\u001b[0m urls \u001b[39m=\u001b[39m crawl_image_urls(keywords, filters, limit, extra_query_params\u001b[39m=\u001b[39;49mextra_query_params)\n\u001b[0;32m     30\u001b[0m \u001b[39mfor\u001b[39;00m url \u001b[39min\u001b[39;00m urls:\n\u001b[0;32m     31\u001b[0m     \u001b[39mif\u001b[39;00m isValidURL(url, file_type) \u001b[39mand\u001b[39;00m url \u001b[39mnot\u001b[39;00m \u001b[39min\u001b[39;00m result:\n",
      "File \u001b[1;32mc:\\python\\lib\\site-packages\\bing_images\\crawler.py:65\u001b[0m, in \u001b[0;36mcrawl_image_urls\u001b[1;34m(keywords, filters, max_number, proxy, proxy_type, extra_query_params)\u001b[0m\n\u001b[0;32m     61\u001b[0m driver\u001b[39m.\u001b[39mget(query_url)\n\u001b[0;32m     62\u001b[0m WebDriverWait(driver, timeout\u001b[39m=\u001b[39m\u001b[39m300\u001b[39m)\u001b[39m.\u001b[39muntil(\n\u001b[0;32m     63\u001b[0m     \u001b[39mlambda\u001b[39;00m d: \u001b[39mlen\u001b[39m(d\u001b[39m.\u001b[39mfind_elements(By\u001b[39m.\u001b[39mCLASS_NAME, \u001b[39m\"\u001b[39m\u001b[39miusc\u001b[39m\u001b[39m\"\u001b[39m)) \u001b[39m>\u001b[39m \u001b[39m5\u001b[39m)\n\u001b[1;32m---> 65\u001b[0m image_urls \u001b[39m=\u001b[39m image_url_from_webpage(driver, max_number)\n\u001b[0;32m     66\u001b[0m driver\u001b[39m.\u001b[39mclose()\n\u001b[0;32m     68\u001b[0m \u001b[39mif\u001b[39;00m max_number \u001b[39m>\u001b[39m \u001b[39mlen\u001b[39m(image_urls):\n",
      "File \u001b[1;32mc:\\python\\lib\\site-packages\\bing_images\\crawler.py:45\u001b[0m, in \u001b[0;36mimage_url_from_webpage\u001b[1;34m(driver, max_number)\u001b[0m\n\u001b[0;32m     43\u001b[0m \u001b[39mfor\u001b[39;00m image_element \u001b[39min\u001b[39;00m image_elements:\n\u001b[0;32m     44\u001b[0m     m_json_str \u001b[39m=\u001b[39m image_element\u001b[39m.\u001b[39mget_attribute(\u001b[39m\"\u001b[39m\u001b[39mm\u001b[39m\u001b[39m\"\u001b[39m)\n\u001b[1;32m---> 45\u001b[0m     m_json \u001b[39m=\u001b[39m json\u001b[39m.\u001b[39;49mloads(m_json_str)\n\u001b[0;32m     46\u001b[0m     image_urls\u001b[39m.\u001b[39mappend(m_json[\u001b[39m\"\u001b[39m\u001b[39mmurl\u001b[39m\u001b[39m\"\u001b[39m])\n\u001b[0;32m     47\u001b[0m \u001b[39mreturn\u001b[39;00m image_urls\n",
      "File \u001b[1;32mc:\\python\\lib\\json\\__init__.py:339\u001b[0m, in \u001b[0;36mloads\u001b[1;34m(s, cls, object_hook, parse_float, parse_int, parse_constant, object_pairs_hook, **kw)\u001b[0m\n\u001b[0;32m    337\u001b[0m \u001b[39melse\u001b[39;00m:\n\u001b[0;32m    338\u001b[0m     \u001b[39mif\u001b[39;00m \u001b[39mnot\u001b[39;00m \u001b[39misinstance\u001b[39m(s, (\u001b[39mbytes\u001b[39m, \u001b[39mbytearray\u001b[39m)):\n\u001b[1;32m--> 339\u001b[0m         \u001b[39mraise\u001b[39;00m \u001b[39mTypeError\u001b[39;00m(\u001b[39mf\u001b[39m\u001b[39m'\u001b[39m\u001b[39mthe JSON object must be str, bytes or bytearray, \u001b[39m\u001b[39m'\u001b[39m\n\u001b[0;32m    340\u001b[0m                         \u001b[39mf\u001b[39m\u001b[39m'\u001b[39m\u001b[39mnot \u001b[39m\u001b[39m{\u001b[39;00ms\u001b[39m.\u001b[39m\u001b[39m__class__\u001b[39m\u001b[39m.\u001b[39m\u001b[39m__name__\u001b[39m\u001b[39m}\u001b[39;00m\u001b[39m'\u001b[39m)\n\u001b[0;32m    341\u001b[0m     s \u001b[39m=\u001b[39m s\u001b[39m.\u001b[39mdecode(detect_encoding(s), \u001b[39m'\u001b[39m\u001b[39msurrogatepass\u001b[39m\u001b[39m'\u001b[39m)\n\u001b[0;32m    343\u001b[0m \u001b[39mif\u001b[39;00m (\u001b[39mcls\u001b[39m \u001b[39mis\u001b[39;00m \u001b[39mNone\u001b[39;00m \u001b[39mand\u001b[39;00m object_hook \u001b[39mis\u001b[39;00m \u001b[39mNone\u001b[39;00m \u001b[39mand\u001b[39;00m\n\u001b[0;32m    344\u001b[0m         parse_int \u001b[39mis\u001b[39;00m \u001b[39mNone\u001b[39;00m \u001b[39mand\u001b[39;00m parse_float \u001b[39mis\u001b[39;00m \u001b[39mNone\u001b[39;00m \u001b[39mand\u001b[39;00m\n\u001b[0;32m    345\u001b[0m         parse_constant \u001b[39mis\u001b[39;00m \u001b[39mNone\u001b[39;00m \u001b[39mand\u001b[39;00m object_pairs_hook \u001b[39mis\u001b[39;00m \u001b[39mNone\u001b[39;00m \u001b[39mand\u001b[39;00m \u001b[39mnot\u001b[39;00m kw):\n",
      "\u001b[1;31mTypeError\u001b[0m: the JSON object must be str, bytes or bytearray, not NoneType"
     ]
    }
   ],
   "source": [
    "#fetch images from thier urls from bing_images import bing\n",
    "from bing_images import bing  #bing is used for searching and fetching (cat images)\n",
    "\n",
    "urls = bing.fetch_image_urls(\"cat\", limit=10, file_type='png', filters='+filterui:aspect-square+filterui:color2-bw')\n",
    "print(\"{} images.\".format(len(urls)))\n",
    "\n",
    "counter = 1\n",
    "for url in urls:\n",
    "    print(\"{}: {}\".format(counter, url))\n",
    "    counter += 1"
   ]
  },
  {
   "cell_type": "code",
   "execution_count": null,
   "metadata": {},
   "outputs": [
    {
     "name": "stdout",
     "output_type": "stream",
     "text": [
      "Save path: /Users/catchzeng/Desktop/cat\n",
      "Reading from  https://www.bing.com/images/search?&q=cat%20png\n"
     ]
    },
    {
     "ename": "TypeError",
     "evalue": "the JSON object must be str, bytes or bytearray, not NoneType",
     "output_type": "error",
     "traceback": [
      "\u001b[1;31m---------------------------------------------------------------------------\u001b[0m",
      "\u001b[1;31mTypeError\u001b[0m                                 Traceback (most recent call last)",
      "\u001b[1;32mc:\\Users\\zainabosamah\\OneDrive - IMAM ABDULRAHMAN BIN FAISAL UNIVERSITY\\Desktop\\penny\\ML\\ML_penny.ipynb Cell 4\u001b[0m in \u001b[0;36m<cell line: 3>\u001b[1;34m()\u001b[0m\n\u001b[0;32m      <a href='vscode-notebook-cell:/c%3A/Users/zainabosamah/OneDrive%20-%20IMAM%20ABDULRAHMAN%20BIN%20FAISAL%20UNIVERSITY/Desktop/penny/ML/ML_penny.ipynb#X22sZmlsZQ%3D%3D?line=0'>1</a>\u001b[0m \u001b[39mfrom\u001b[39;00m \u001b[39mbing_images\u001b[39;00m \u001b[39mimport\u001b[39;00m bing\n\u001b[1;32m----> <a href='vscode-notebook-cell:/c%3A/Users/zainabosamah/OneDrive%20-%20IMAM%20ABDULRAHMAN%20BIN%20FAISAL%20UNIVERSITY/Desktop/penny/ML/ML_penny.ipynb#X22sZmlsZQ%3D%3D?line=2'>3</a>\u001b[0m bing\u001b[39m.\u001b[39;49mdownload_images(\u001b[39m\"\u001b[39;49m\u001b[39mcat\u001b[39;49m\u001b[39m\"\u001b[39;49m,\n\u001b[0;32m      <a href='vscode-notebook-cell:/c%3A/Users/zainabosamah/OneDrive%20-%20IMAM%20ABDULRAHMAN%20BIN%20FAISAL%20UNIVERSITY/Desktop/penny/ML/ML_penny.ipynb#X22sZmlsZQ%3D%3D?line=3'>4</a>\u001b[0m                       \u001b[39m20\u001b[39;49m,\n\u001b[0;32m      <a href='vscode-notebook-cell:/c%3A/Users/zainabosamah/OneDrive%20-%20IMAM%20ABDULRAHMAN%20BIN%20FAISAL%20UNIVERSITY/Desktop/penny/ML/ML_penny.ipynb#X22sZmlsZQ%3D%3D?line=4'>5</a>\u001b[0m                       output_dir\u001b[39m=\u001b[39;49m\u001b[39m\"\u001b[39;49m\u001b[39m/Users/catchzeng/Desktop/cat\u001b[39;49m\u001b[39m\"\u001b[39;49m,\n\u001b[0;32m      <a href='vscode-notebook-cell:/c%3A/Users/zainabosamah/OneDrive%20-%20IMAM%20ABDULRAHMAN%20BIN%20FAISAL%20UNIVERSITY/Desktop/penny/ML/ML_penny.ipynb#X22sZmlsZQ%3D%3D?line=5'>6</a>\u001b[0m                       pool_size\u001b[39m=\u001b[39;49m\u001b[39m10\u001b[39;49m,\n\u001b[0;32m      <a href='vscode-notebook-cell:/c%3A/Users/zainabosamah/OneDrive%20-%20IMAM%20ABDULRAHMAN%20BIN%20FAISAL%20UNIVERSITY/Desktop/penny/ML/ML_penny.ipynb#X22sZmlsZQ%3D%3D?line=6'>7</a>\u001b[0m                       file_type\u001b[39m=\u001b[39;49m\u001b[39m\"\u001b[39;49m\u001b[39mpng\u001b[39;49m\u001b[39m\"\u001b[39;49m,\n\u001b[0;32m      <a href='vscode-notebook-cell:/c%3A/Users/zainabosamah/OneDrive%20-%20IMAM%20ABDULRAHMAN%20BIN%20FAISAL%20UNIVERSITY/Desktop/penny/ML/ML_penny.ipynb#X22sZmlsZQ%3D%3D?line=7'>8</a>\u001b[0m                       force_replace\u001b[39m=\u001b[39;49m\u001b[39mTrue\u001b[39;49;00m)\n",
      "File \u001b[1;32mc:\\python\\lib\\site-packages\\bing_images\\bing.py:60\u001b[0m, in \u001b[0;36mdownload_images\u001b[1;34m(query, limit, output_dir, pool_size, file_type, filters, force_replace, extra_query_params)\u001b[0m\n\u001b[0;32m     58\u001b[0m \u001b[39m# Fetch more image URLs to avoid some images are invalid.\u001b[39;00m\n\u001b[0;32m     59\u001b[0m max_number \u001b[39m=\u001b[39m math\u001b[39m.\u001b[39mceil(limit\u001b[39m*\u001b[39m\u001b[39m1.5\u001b[39m)\n\u001b[1;32m---> 60\u001b[0m urls \u001b[39m=\u001b[39m fetch_image_urls(query, max_number, file_type, filters, extra_query_params\u001b[39m=\u001b[39;49mextra_query_params)\n\u001b[0;32m     61\u001b[0m entries \u001b[39m=\u001b[39m get_image_entries(urls, image_dir)\n\u001b[0;32m     63\u001b[0m \u001b[39mprint\u001b[39m(\u001b[39m\"\u001b[39m\u001b[39mDownloading images\u001b[39m\u001b[39m\"\u001b[39m)\n",
      "File \u001b[1;32mc:\\python\\lib\\site-packages\\bing_images\\bing.py:29\u001b[0m, in \u001b[0;36mfetch_image_urls\u001b[1;34m(query, limit, file_type, filters, extra_query_params)\u001b[0m\n\u001b[0;32m     27\u001b[0m \u001b[39mif\u001b[39;00m \u001b[39mlen\u001b[39m(file_type) \u001b[39m>\u001b[39m \u001b[39m0\u001b[39m:\n\u001b[0;32m     28\u001b[0m     keywords \u001b[39m=\u001b[39m query \u001b[39m+\u001b[39m \u001b[39m\"\u001b[39m\u001b[39m \u001b[39m\u001b[39m\"\u001b[39m \u001b[39m+\u001b[39m file_type\n\u001b[1;32m---> 29\u001b[0m urls \u001b[39m=\u001b[39m crawl_image_urls(keywords, filters, limit, extra_query_params\u001b[39m=\u001b[39;49mextra_query_params)\n\u001b[0;32m     30\u001b[0m \u001b[39mfor\u001b[39;00m url \u001b[39min\u001b[39;00m urls:\n\u001b[0;32m     31\u001b[0m     \u001b[39mif\u001b[39;00m isValidURL(url, file_type) \u001b[39mand\u001b[39;00m url \u001b[39mnot\u001b[39;00m \u001b[39min\u001b[39;00m result:\n",
      "File \u001b[1;32mc:\\python\\lib\\site-packages\\bing_images\\crawler.py:65\u001b[0m, in \u001b[0;36mcrawl_image_urls\u001b[1;34m(keywords, filters, max_number, proxy, proxy_type, extra_query_params)\u001b[0m\n\u001b[0;32m     61\u001b[0m driver\u001b[39m.\u001b[39mget(query_url)\n\u001b[0;32m     62\u001b[0m WebDriverWait(driver, timeout\u001b[39m=\u001b[39m\u001b[39m300\u001b[39m)\u001b[39m.\u001b[39muntil(\n\u001b[0;32m     63\u001b[0m     \u001b[39mlambda\u001b[39;00m d: \u001b[39mlen\u001b[39m(d\u001b[39m.\u001b[39mfind_elements(By\u001b[39m.\u001b[39mCLASS_NAME, \u001b[39m\"\u001b[39m\u001b[39miusc\u001b[39m\u001b[39m\"\u001b[39m)) \u001b[39m>\u001b[39m \u001b[39m5\u001b[39m)\n\u001b[1;32m---> 65\u001b[0m image_urls \u001b[39m=\u001b[39m image_url_from_webpage(driver, max_number)\n\u001b[0;32m     66\u001b[0m driver\u001b[39m.\u001b[39mclose()\n\u001b[0;32m     68\u001b[0m \u001b[39mif\u001b[39;00m max_number \u001b[39m>\u001b[39m \u001b[39mlen\u001b[39m(image_urls):\n",
      "File \u001b[1;32mc:\\python\\lib\\site-packages\\bing_images\\crawler.py:45\u001b[0m, in \u001b[0;36mimage_url_from_webpage\u001b[1;34m(driver, max_number)\u001b[0m\n\u001b[0;32m     43\u001b[0m \u001b[39mfor\u001b[39;00m image_element \u001b[39min\u001b[39;00m image_elements:\n\u001b[0;32m     44\u001b[0m     m_json_str \u001b[39m=\u001b[39m image_element\u001b[39m.\u001b[39mget_attribute(\u001b[39m\"\u001b[39m\u001b[39mm\u001b[39m\u001b[39m\"\u001b[39m)\n\u001b[1;32m---> 45\u001b[0m     m_json \u001b[39m=\u001b[39m json\u001b[39m.\u001b[39;49mloads(m_json_str)\n\u001b[0;32m     46\u001b[0m     image_urls\u001b[39m.\u001b[39mappend(m_json[\u001b[39m\"\u001b[39m\u001b[39mmurl\u001b[39m\u001b[39m\"\u001b[39m])\n\u001b[0;32m     47\u001b[0m \u001b[39mreturn\u001b[39;00m image_urls\n",
      "File \u001b[1;32mc:\\python\\lib\\json\\__init__.py:339\u001b[0m, in \u001b[0;36mloads\u001b[1;34m(s, cls, object_hook, parse_float, parse_int, parse_constant, object_pairs_hook, **kw)\u001b[0m\n\u001b[0;32m    337\u001b[0m \u001b[39melse\u001b[39;00m:\n\u001b[0;32m    338\u001b[0m     \u001b[39mif\u001b[39;00m \u001b[39mnot\u001b[39;00m \u001b[39misinstance\u001b[39m(s, (\u001b[39mbytes\u001b[39m, \u001b[39mbytearray\u001b[39m)):\n\u001b[1;32m--> 339\u001b[0m         \u001b[39mraise\u001b[39;00m \u001b[39mTypeError\u001b[39;00m(\u001b[39mf\u001b[39m\u001b[39m'\u001b[39m\u001b[39mthe JSON object must be str, bytes or bytearray, \u001b[39m\u001b[39m'\u001b[39m\n\u001b[0;32m    340\u001b[0m                         \u001b[39mf\u001b[39m\u001b[39m'\u001b[39m\u001b[39mnot \u001b[39m\u001b[39m{\u001b[39;00ms\u001b[39m.\u001b[39m\u001b[39m__class__\u001b[39m\u001b[39m.\u001b[39m\u001b[39m__name__\u001b[39m\u001b[39m}\u001b[39;00m\u001b[39m'\u001b[39m)\n\u001b[0;32m    341\u001b[0m     s \u001b[39m=\u001b[39m s\u001b[39m.\u001b[39mdecode(detect_encoding(s), \u001b[39m'\u001b[39m\u001b[39msurrogatepass\u001b[39m\u001b[39m'\u001b[39m)\n\u001b[0;32m    343\u001b[0m \u001b[39mif\u001b[39;00m (\u001b[39mcls\u001b[39m \u001b[39mis\u001b[39;00m \u001b[39mNone\u001b[39;00m \u001b[39mand\u001b[39;00m object_hook \u001b[39mis\u001b[39;00m \u001b[39mNone\u001b[39;00m \u001b[39mand\u001b[39;00m\n\u001b[0;32m    344\u001b[0m         parse_int \u001b[39mis\u001b[39;00m \u001b[39mNone\u001b[39;00m \u001b[39mand\u001b[39;00m parse_float \u001b[39mis\u001b[39;00m \u001b[39mNone\u001b[39;00m \u001b[39mand\u001b[39;00m\n\u001b[0;32m    345\u001b[0m         parse_constant \u001b[39mis\u001b[39;00m \u001b[39mNone\u001b[39;00m \u001b[39mand\u001b[39;00m object_pairs_hook \u001b[39mis\u001b[39;00m \u001b[39mNone\u001b[39;00m \u001b[39mand\u001b[39;00m \u001b[39mnot\u001b[39;00m kw):\n",
      "\u001b[1;31mTypeError\u001b[0m: the JSON object must be str, bytes or bytearray, not NoneType"
     ]
    }
   ],
   "source": [
    "from bing_images import bing\n",
    "\n",
    "bing.download_images(\"cat\",\n",
    "                      20,\n",
    "                      output_dir=\"/Users/catchzeng/Desktop/cat\",\n",
    "                      pool_size=10,\n",
    "                      file_type=\"png\",\n",
    "                      force_replace=True)"
   ]
  },
  {
   "cell_type": "code",
   "execution_count": null,
   "metadata": {},
   "outputs": [
    {
     "name": "stdout",
     "output_type": "stream",
     "text": [
      "            English Name (required)          Arabic Name (required)   \n",
      "0       Clear Report Cover A4 - Red   غلاف تقرير وجه شفاف A4 - أحمر  \\\n",
      "1      Clear Report Cover A4 - Grey  غلاف تقرير وجه شفاف A4 - رمادي   \n",
      "2     Clear Report Cover A4 - Green   غلاف تقرير وجه شفاف A4 - أخضر   \n",
      "3     Clear Report Cover A4 - Black   غلاف تقرير وجه شفاف A4 - أسود   \n",
      "4      Clear Report Cover A4 - Blue   غلاف تقرير وجه شفاف A4 - أزرق   \n",
      "...                             ...                             ...   \n",
      "2181                            NaN                             NaN   \n",
      "2182                            NaN                             NaN   \n",
      "2183                            NaN                             NaN   \n",
      "2184                            NaN                             NaN   \n",
      "2185                            NaN                             NaN   \n",
      "\n",
      "                                            Description SKU (required)   \n",
      "0     Box - Roco Clear Front Report Cover, A4, Slide...     GH-S-04020  \\\n",
      "1     Box - Roco Clear Front Report Cover, A4, Slide...     GH-S-04019   \n",
      "2     Box - Roco Clear Front Report Cover, A4, Slide...     GH-S-04018   \n",
      "3     Box - Roco Clear Front Report Cover, A4, Slide...     GH-S-04017   \n",
      "4     Box - Roco Clear Front Report Cover, A4, Slide...     GH-S-04016   \n",
      "...                                                 ...            ...   \n",
      "2181                                                NaN            NaN   \n",
      "2182                                                NaN            NaN   \n",
      "2183                                                NaN            NaN   \n",
      "2184                                                NaN            NaN   \n",
      "2185                                                NaN            NaN   \n",
      "\n",
      "            Model Brand Country   \n",
      "0     RQ-28051RED   NaN     NaN  \\\n",
      "1     RQ-28051GRY   NaN     NaN   \n",
      "2     RQ-28051GRN   NaN     NaN   \n",
      "3     RQ-28051BLK   NaN     NaN   \n",
      "4     RQ-28051BLE   NaN     NaN   \n",
      "...           ...   ...     ...   \n",
      "2181          NaN   NaN     NaN   \n",
      "2182          NaN   NaN     NaN   \n",
      "2183          NaN   NaN     NaN   \n",
      "2184          NaN   NaN     NaN   \n",
      "2185          NaN   NaN     NaN   \n",
      "\n",
      "                                            Image Links  Price  UOM ID   \n",
      "0     https://gaiat-urls.s3-eu-west-1.amazonaws.com/...    NaN     1.0  \\\n",
      "1     https://gaiat-urls.s3-eu-west-1.amazonaws.com/...    NaN     1.0   \n",
      "2     https://gaiat-urls.s3-eu-west-1.amazonaws.com/...    NaN     1.0   \n",
      "3     https://gaiat-urls.s3-eu-west-1.amazonaws.com/...    NaN     1.0   \n",
      "4     https://gaiat-urls.s3-eu-west-1.amazonaws.com/...    NaN     1.0   \n",
      "...                                                 ...    ...     ...   \n",
      "2181                                                NaN    NaN     NaN   \n",
      "2182                                                NaN    NaN     NaN   \n",
      "2183                                                NaN    NaN     NaN   \n",
      "2184                                                NaN    NaN     NaN   \n",
      "2185                                                NaN    NaN     NaN   \n",
      "\n",
      "     In Stock  Tax IDs      Category IDs       Catalog IDs  Vendor IDs   \n",
      "0         Yes      NaN  penint1-ctg-1087  penint1-cat-1009         NaN  \\\n",
      "1         Yes      NaN  penint1-ctg-1087  penint1-cat-1009         NaN   \n",
      "2         Yes      NaN  penint1-ctg-1087  penint1-cat-1009         NaN   \n",
      "3         Yes      NaN  penint1-ctg-1087  penint1-cat-1009         NaN   \n",
      "4         Yes      NaN  penint1-ctg-1087  penint1-cat-1009         NaN   \n",
      "...       ...      ...               ...               ...         ...   \n",
      "2181      NaN      NaN               NaN               NaN         NaN   \n",
      "2182      NaN      NaN               NaN               NaN         NaN   \n",
      "2183      NaN      NaN               NaN               NaN         NaN   \n",
      "2184      NaN      NaN               NaN               NaN         NaN   \n",
      "2185      NaN      NaN               NaN               NaN         NaN   \n",
      "\n",
      "      Delete Product  Attachment Links Category Names(readonly)   \n",
      "0                NaN               NaN                    Files  \\\n",
      "1                NaN               NaN                    Files   \n",
      "2                NaN               NaN                    Files   \n",
      "3                NaN               NaN                    Files   \n",
      "4                NaN               NaN                    Files   \n",
      "...              ...               ...                      ...   \n",
      "2181             NaN               NaN                      NaN   \n",
      "2182             NaN               NaN                      NaN   \n",
      "2183             NaN               NaN                      NaN   \n",
      "2184             NaN               NaN                      NaN   \n",
      "2185             NaN               NaN                      NaN   \n",
      "\n",
      "     Catalog Names(readonly)  Vendor Names(readonly)  \n",
      "0                 Stationery                     NaN  \n",
      "1                 Stationery                     NaN  \n",
      "2                 Stationery                     NaN  \n",
      "3                 Stationery                     NaN  \n",
      "4                 Stationery                     NaN  \n",
      "...                      ...                     ...  \n",
      "2181                     NaN                     NaN  \n",
      "2182                     NaN                     NaN  \n",
      "2183                     NaN                     NaN  \n",
      "2184                     NaN                     NaN  \n",
      "2185                     NaN                     NaN  \n",
      "\n",
      "[2186 rows x 20 columns]\n"
     ]
    }
   ],
   "source": [
    "print(df)"
   ]
  },
  {
   "cell_type": "code",
   "execution_count": null,
   "metadata": {},
   "outputs": [
    {
     "data": {
      "text/plain": [
       "Index(['Price', 'UOM ID', 'Tax IDs', 'Vendor IDs', 'Delete Product',\n",
       "       'Attachment Links', 'Vendor Names(readonly)'],\n",
       "      dtype='object')"
      ]
     },
     "execution_count": 108,
     "metadata": {},
     "output_type": "execute_result"
    }
   ],
   "source": [
    "num_columns = df.select_dtypes(include=np.number).columns\n",
    "num_columns"
   ]
  },
  {
   "cell_type": "code",
   "execution_count": null,
   "metadata": {},
   "outputs": [
    {
     "data": {
      "text/plain": [
       "['English Name (required)',\n",
       " 'Arabic Name (required)',\n",
       " 'Description',\n",
       " 'SKU (required)',\n",
       " 'Model',\n",
       " 'Brand',\n",
       " 'Country',\n",
       " 'Image Links',\n",
       " 'In Stock',\n",
       " 'Category IDs',\n",
       " 'Catalog IDs',\n",
       " 'Category Names(readonly)',\n",
       " 'Catalog Names(readonly)']"
      ]
     },
     "execution_count": 109,
     "metadata": {},
     "output_type": "execute_result"
    }
   ],
   "source": [
    "cat_columns = []\n",
    "for col in df.columns:\n",
    "    if col not in num_columns:\n",
    "        cat_columns.append(col)\n",
    "cat_columns"
   ]
  },
  {
   "cell_type": "code",
   "execution_count": null,
   "metadata": {},
   "outputs": [],
   "source": [
    "for cc in cat_columns:\n",
    "    df[cc] = pd.Categorical(df[cc])\n",
    "    df[cc] = df[cc].cat.codes"
   ]
  },
  {
   "cell_type": "code",
   "execution_count": 111,
   "metadata": {},
   "outputs": [],
   "source": [
    "train, test = train_test_split(df, test_size=0.2, random_state=2)\n",
    "train, val = train_test_split(train, test_size=0.2, random_state=23)"
   ]
  },
  {
   "cell_type": "code",
   "execution_count": 112,
   "metadata": {},
   "outputs": [],
   "source": [
    "def output_form(data):\n",
    "    catalog_name = data.pop('Catalog Names(readonly)')\n",
    "    catalog_name = np.array(catalog_name)\n",
    "    Category_name = data.pop('Category Names(readonly)')\n",
    "    Category_name = np.array(Category_name)\n",
    "    return (catalog_name, Category_name)"
   ]
  },
  {
   "cell_type": "code",
   "execution_count": 113,
   "metadata": {},
   "outputs": [
    {
     "name": "stdout",
     "output_type": "stream",
     "text": [
      "      English Name (required)  Arabic Name (required)  Description   \n",
      "0                         454                     934          258  \\\n",
      "1                         453                     941          257   \n",
      "2                         452                     936          256   \n",
      "3                         450                     940          254   \n",
      "4                         451                     938          255   \n",
      "...                       ...                     ...          ...   \n",
      "2181                       -1                      -1           -1   \n",
      "2182                       -1                      -1           -1   \n",
      "2183                       -1                      -1           -1   \n",
      "2184                       -1                      -1           -1   \n",
      "2185                       -1                      -1           -1   \n",
      "\n",
      "      SKU (required)  Model  Brand  Country  Image Links  Price  UOM ID   \n",
      "0               1731    485     -1       -1          112    NaN     1.0  \\\n",
      "1               1730    484     -1       -1          111    NaN     1.0   \n",
      "2               1729    483     -1       -1          110    NaN     1.0   \n",
      "3               1728    482     -1       -1          109    NaN     1.0   \n",
      "4               1727    481     -1       -1          108    NaN     1.0   \n",
      "...              ...    ...    ...      ...          ...    ...     ...   \n",
      "2181              -1     -1     -1       -1           -1    NaN     NaN   \n",
      "2182              -1     -1     -1       -1           -1    NaN     NaN   \n",
      "2183              -1     -1     -1       -1           -1    NaN     NaN   \n",
      "2184              -1     -1     -1       -1           -1    NaN     NaN   \n",
      "2185              -1     -1     -1       -1           -1    NaN     NaN   \n",
      "\n",
      "      In Stock  Tax IDs  Category IDs  Catalog IDs  Vendor IDs   \n",
      "0            0      NaN            36            4         NaN  \\\n",
      "1            0      NaN            36            4         NaN   \n",
      "2            0      NaN            36            4         NaN   \n",
      "3            0      NaN            36            4         NaN   \n",
      "4            0      NaN            36            4         NaN   \n",
      "...        ...      ...           ...          ...         ...   \n",
      "2181        -1      NaN            -1           -1         NaN   \n",
      "2182        -1      NaN            -1           -1         NaN   \n",
      "2183        -1      NaN            -1           -1         NaN   \n",
      "2184        -1      NaN            -1           -1         NaN   \n",
      "2185        -1      NaN            -1           -1         NaN   \n",
      "\n",
      "      Delete Product  Attachment Links  Category Names(readonly)   \n",
      "0                NaN               NaN                        33  \\\n",
      "1                NaN               NaN                        33   \n",
      "2                NaN               NaN                        33   \n",
      "3                NaN               NaN                        33   \n",
      "4                NaN               NaN                        33   \n",
      "...              ...               ...                       ...   \n",
      "2181             NaN               NaN                        -1   \n",
      "2182             NaN               NaN                        -1   \n",
      "2183             NaN               NaN                        -1   \n",
      "2184             NaN               NaN                        -1   \n",
      "2185             NaN               NaN                        -1   \n",
      "\n",
      "      Catalog Names(readonly)  Vendor Names(readonly)  \n",
      "0                          17                     NaN  \n",
      "1                          17                     NaN  \n",
      "2                          17                     NaN  \n",
      "3                          17                     NaN  \n",
      "4                          17                     NaN  \n",
      "...                       ...                     ...  \n",
      "2181                       -1                     NaN  \n",
      "2182                       -1                     NaN  \n",
      "2183                       -1                     NaN  \n",
      "2184                       -1                     NaN  \n",
      "2185                       -1                     NaN  \n",
      "\n",
      "[2186 rows x 20 columns]\n"
     ]
    }
   ],
   "source": [
    "print(df)"
   ]
  },
  {
   "cell_type": "code",
   "execution_count": 114,
   "metadata": {},
   "outputs": [],
   "source": [
    "# Get full column names\n",
    "cols = df.columns\n",
    "\n",
    "# Keep all columns when splitting\n",
    "train, test = train_test_split(df, test_size=0.2, random_state=2, shuffle=False)"
   ]
  },
  {
   "cell_type": "code",
   "execution_count": 115,
   "metadata": {},
   "outputs": [],
   "source": [
    "# pass train with all columns \n",
    "train_y = output_form(train)\n",
    "test_y = output_form(test)\n",
    "val_y = output_form(val)"
   ]
  },
  {
   "cell_type": "code",
   "execution_count": 116,
   "metadata": {},
   "outputs": [
    {
     "ename": "AttributeError",
     "evalue": "'dict' object has no attribute 'transpose'",
     "output_type": "error",
     "traceback": [
      "\u001b[1;31m---------------------------------------------------------------------------\u001b[0m",
      "\u001b[1;31mAttributeError\u001b[0m                            Traceback (most recent call last)",
      "\u001b[1;32mc:\\Users\\zainabosamah\\OneDrive - IMAM ABDULRAHMAN BIN FAISAL UNIVERSITY\\Desktop\\penny\\ML\\ML_penny.ipynb Cell 12\u001b[0m in \u001b[0;36m<cell line: 1>\u001b[1;34m()\u001b[0m\n\u001b[1;32m----> <a href='vscode-notebook-cell:/c%3A/Users/zainabosamah/OneDrive%20-%20IMAM%20ABDULRAHMAN%20BIN%20FAISAL%20UNIVERSITY/Desktop/penny/ML/ML_penny.ipynb#X22sZmlsZQ%3D%3D?line=0'>1</a>\u001b[0m train_stats \u001b[39m=\u001b[39m train_stats\u001b[39m.\u001b[39;49mtranspose()\n\u001b[0;32m      <a href='vscode-notebook-cell:/c%3A/Users/zainabosamah/OneDrive%20-%20IMAM%20ABDULRAHMAN%20BIN%20FAISAL%20UNIVERSITY/Desktop/penny/ML/ML_penny.ipynb#X22sZmlsZQ%3D%3D?line=1'>2</a>\u001b[0m \u001b[39mdef\u001b[39;00m \u001b[39mnorm\u001b[39m(x):\n\u001b[0;32m      <a href='vscode-notebook-cell:/c%3A/Users/zainabosamah/OneDrive%20-%20IMAM%20ABDULRAHMAN%20BIN%20FAISAL%20UNIVERSITY/Desktop/penny/ML/ML_penny.ipynb#X22sZmlsZQ%3D%3D?line=2'>3</a>\u001b[0m     \u001b[39mreturn\u001b[39;00m (x \u001b[39m-\u001b[39m train_stats[\u001b[39m'\u001b[39m\u001b[39mmean\u001b[39m\u001b[39m'\u001b[39m]) \u001b[39m/\u001b[39m train_stats[\u001b[39m'\u001b[39m\u001b[39mstd\u001b[39m\u001b[39m'\u001b[39m]\n",
      "\u001b[1;31mAttributeError\u001b[0m: 'dict' object has no attribute 'transpose'"
     ]
    }
   ],
   "source": [
    "train_stats = train_stats.transpose()\n",
    "def norm(x):\n",
    "    return (x - train_stats['mean']) / train_stats['std']"
   ]
  },
  {
   "cell_type": "code",
   "execution_count": 91,
   "metadata": {},
   "outputs": [
    {
     "ename": "TypeError",
     "evalue": "norm() missing 1 required positional argument: 'train_stats'",
     "output_type": "error",
     "traceback": [
      "\u001b[1;31m---------------------------------------------------------------------------\u001b[0m",
      "\u001b[1;31mTypeError\u001b[0m                                 Traceback (most recent call last)",
      "\u001b[1;32mc:\\Users\\zainabosamah\\OneDrive - IMAM ABDULRAHMAN BIN FAISAL UNIVERSITY\\Desktop\\penny\\ML\\ML_penny.ipynb Cell 12\u001b[0m in \u001b[0;36m<cell line: 1>\u001b[1;34m()\u001b[0m\n\u001b[1;32m----> <a href='vscode-notebook-cell:/c%3A/Users/zainabosamah/OneDrive%20-%20IMAM%20ABDULRAHMAN%20BIN%20FAISAL%20UNIVERSITY/Desktop/penny/ML/ML_penny.ipynb#X23sZmlsZQ%3D%3D?line=0'>1</a>\u001b[0m train_x \u001b[39m=\u001b[39m norm(train)\n\u001b[0;32m      <a href='vscode-notebook-cell:/c%3A/Users/zainabosamah/OneDrive%20-%20IMAM%20ABDULRAHMAN%20BIN%20FAISAL%20UNIVERSITY/Desktop/penny/ML/ML_penny.ipynb#X23sZmlsZQ%3D%3D?line=1'>2</a>\u001b[0m test_x \u001b[39m=\u001b[39m norm(test)\n\u001b[0;32m      <a href='vscode-notebook-cell:/c%3A/Users/zainabosamah/OneDrive%20-%20IMAM%20ABDULRAHMAN%20BIN%20FAISAL%20UNIVERSITY/Desktop/penny/ML/ML_penny.ipynb#X23sZmlsZQ%3D%3D?line=2'>3</a>\u001b[0m val_x \u001b[39m=\u001b[39m norm(val)\n",
      "\u001b[1;31mTypeError\u001b[0m: norm() missing 1 required positional argument: 'train_stats'"
     ]
    }
   ],
   "source": [
    "train_x = norm(train,train_stats)\n",
    "test_x = norm(test)\n",
    "val_x = norm(val)"
   ]
  },
  {
   "cell_type": "code",
   "execution_count": 90,
   "metadata": {},
   "outputs": [
    {
     "ename": "NameError",
     "evalue": "name 'train_x' is not defined",
     "output_type": "error",
     "traceback": [
      "\u001b[1;31m---------------------------------------------------------------------------\u001b[0m",
      "\u001b[1;31mNameError\u001b[0m                                 Traceback (most recent call last)",
      "\u001b[1;32mc:\\Users\\zainabosamah\\OneDrive - IMAM ABDULRAHMAN BIN FAISAL UNIVERSITY\\Desktop\\penny\\ML\\ML_penny.ipynb Cell 12\u001b[0m in \u001b[0;36m<cell line: 1>\u001b[1;34m()\u001b[0m\n\u001b[1;32m----> <a href='vscode-notebook-cell:/c%3A/Users/zainabosamah/OneDrive%20-%20IMAM%20ABDULRAHMAN%20BIN%20FAISAL%20UNIVERSITY/Desktop/penny/ML/ML_penny.ipynb#X20sZmlsZQ%3D%3D?line=0'>1</a>\u001b[0m train_x \u001b[39m=\u001b[39m train_x\u001b[39m.\u001b[39mdrop(columns\u001b[39m=\u001b[39m[\u001b[39m'\u001b[39m\u001b[39mCatalog Names(readonly)\u001b[39m\u001b[39m'\u001b[39m, \u001b[39m'\u001b[39m\u001b[39mCategory Names(readonly)\u001b[39m\u001b[39m'\u001b[39m])\n\u001b[0;32m      <a href='vscode-notebook-cell:/c%3A/Users/zainabosamah/OneDrive%20-%20IMAM%20ABDULRAHMAN%20BIN%20FAISAL%20UNIVERSITY/Desktop/penny/ML/ML_penny.ipynb#X20sZmlsZQ%3D%3D?line=1'>2</a>\u001b[0m test_x \u001b[39m=\u001b[39m test_x\u001b[39m.\u001b[39mdrop(columns\u001b[39m=\u001b[39m[\u001b[39m'\u001b[39m\u001b[39mCatalog Names(readonly)\u001b[39m\u001b[39m'\u001b[39m, \u001b[39m'\u001b[39m\u001b[39mCategory Names(readonly)\u001b[39m\u001b[39m'\u001b[39m])\n\u001b[0;32m      <a href='vscode-notebook-cell:/c%3A/Users/zainabosamah/OneDrive%20-%20IMAM%20ABDULRAHMAN%20BIN%20FAISAL%20UNIVERSITY/Desktop/penny/ML/ML_penny.ipynb#X20sZmlsZQ%3D%3D?line=2'>3</a>\u001b[0m val_x \u001b[39m=\u001b[39m val_x\u001b[39m.\u001b[39mdrop(columns\u001b[39m=\u001b[39m[\u001b[39m'\u001b[39m\u001b[39mCatalog Names(readonly)\u001b[39m\u001b[39m'\u001b[39m, \u001b[39m'\u001b[39m\u001b[39mCategory Names(readonly)\u001b[39m\u001b[39m'\u001b[39m])\n",
      "\u001b[1;31mNameError\u001b[0m: name 'train_x' is not defined"
     ]
    }
   ],
   "source": [
    "train_x = train_x.drop(columns=['Catalog Names(readonly)', 'Category Names(readonly)'])\n",
    "test_x = test_x.drop(columns=['Catalog Names(readonly)', 'Category Names(readonly)'])\n",
    "val_x = val_x.drop(columns=['Catalog Names(readonly)', 'Category Names(readonly)'])"
   ]
  }
 ],
 "metadata": {
  "kernelspec": {
   "display_name": "Python 3",
   "language": "python",
   "name": "python3"
  },
  "language_info": {
   "codemirror_mode": {
    "name": "ipython",
    "version": 3
   },
   "file_extension": ".py",
   "mimetype": "text/x-python",
   "name": "python",
   "nbconvert_exporter": "python",
   "pygments_lexer": "ipython3",
   "version": "3.10.6"
  },
  "orig_nbformat": 4
 },
 "nbformat": 4,
 "nbformat_minor": 2
}
