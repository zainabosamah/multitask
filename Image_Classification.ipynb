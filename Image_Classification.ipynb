{
 "cells": [
  {
   "cell_type": "code",
   "execution_count": 4,
   "metadata": {},
   "outputs": [
    {
     "name": "stderr",
     "output_type": "stream",
     "text": [
      "Downloading Images: 100%|██████████| 2186/2186 [02:14<00:00, 16.21it/s]\n"
     ]
    }
   ],
   "source": [
    "# Notebook Block 1: Importing Libraries\n",
    "import os\n",
    "import pandas as pd\n",
    "import requests\n",
    "from PIL import Image\n",
    "from io import BytesIO\n",
    "import concurrent.futures\n",
    "import tensorflow as tf\n",
    "from tqdm import tqdm\n",
    "\n",
    "# Step 1: Data Preprocessing\n",
    "def download_image(args):\n",
    "    url, image_folder, category, catalog = args\n",
    "    try:\n",
    "        response = requests.get(url)\n",
    "        img = Image.open(BytesIO(response.content))\n",
    "        folder_path = os.path.join(image_folder, catalog, category)\n",
    "        os.makedirs(folder_path, exist_ok=True)\n",
    "        filename = os.path.join(folder_path, os.path.basename(url))\n",
    "        img.save(filename)\n",
    "        return filename\n",
    "    except:\n",
    "        return None\n",
    "\n",
    "def preprocess_image(image_path, target_size=(224, 224)):\n",
    "    img = Image.open(image_path)\n",
    "    img = img.resize(target_size)\n",
    "    img_array = tf.keras.preprocessing.image.img_to_array(img)\n",
    "    return img_array / 255.0\n",
    "\n",
    "def preprocess_dataset(dataset_path, image_folder):\n",
    "    df = pd.read_csv(dataset_path)\n",
    "    \n",
    "    # Download images in parallel with ThreadPoolExecutor\n",
    "    with concurrent.futures.ThreadPoolExecutor() as executor:\n",
    "        args_list = [(url, image_folder, category, catalog) for url, category, catalog in zip(df[\"Image Links\"], df[\"Category Names(readonly)\"], df[\"Catalog Names(readonly)\"])]\n",
    "        with tqdm(total=len(args_list), desc=\"Downloading Images\") as pbar:\n",
    "            image_paths = list(executor.map(download_image, args_list))\n",
    "            pbar.update(len(image_paths))\n",
    "    \n",
    "    df[\"Image Paths\"] = image_paths\n",
    "    df = df.dropna(subset=[\"Image Paths\"])  # Drop rows with missing image paths\n",
    "    df[\"Category\"] = pd.Categorical(df[\"Category Names(readonly)\"]).codes\n",
    "    df[\"Catalog\"] = pd.Categorical(df[\"Catalog Names(readonly)\"]).codes\n",
    "    \n",
    "    # Save image labels to a file using 'utf-8' encoding\n",
    "    with open('image_labels.txt', 'w', encoding='utf-8') as f:\n",
    "        for idx, row in df.iterrows():\n",
    "            image_path = row[\"Image Paths\"]\n",
    "            category = row[\"Category Names(readonly)\"]\n",
    "            catalog = row[\"Catalog Names(readonly)\"]\n",
    "            f.write(f\"{image_path}\\t{category}\\t{catalog}\\n\")\n",
    "    \n",
    "    return df\n",
    "\n",
    "# Configuration\n",
    "dataset_path = r'D:\\PENNY\\Gaiat products.csv'\n",
    "image_folder = r'D:\\PENNY\\Gaiat products\\images'\n",
    "num_categories = 82  # Fill in the number of unique categories in your dataset\n",
    "num_catalogs = 18  # Fill in the number of unique catalogs in your dataset\n",
    "\n",
    "# Step 1: Data Preprocessing\n",
    "df = preprocess_dataset(dataset_path, image_folder)\n",
    "\n",
    "# Create a TensorFlow Dataset for efficient data loading and preprocessing\n",
    "image_paths = df[\"Image Paths\"].tolist()\n",
    "categories = df[\"Category\"].tolist()\n",
    "\n",
    "AUTOTUNE = tf.data.AUTOTUNE\n",
    "\n",
    "def load_and_preprocess_image(image_path, category):\n",
    "    img = tf.io.read_file(image_path)\n",
    "    img = tf.image.decode_jpeg(img, channels=3)\n",
    "    img = tf.image.resize(img, (224, 224))\n",
    "    img = tf.cast(img, tf.float32) / 255.0\n",
    "    return img, category\n",
    "\n",
    "dataset = tf.data.Dataset.from_tensor_slices((image_paths, categories))\n",
    "dataset = dataset.map(load_and_preprocess_image, num_parallel_calls=AUTOTUNE)\n"
   ]
  },
  {
   "cell_type": "code",
   "execution_count": 16,
   "metadata": {},
   "outputs": [
    {
     "name": "stderr",
     "output_type": "stream",
     "text": [
      "Downloading Images: 100%|██████████| 2186/2186 [02:17<00:00, 15.92it/s]\n",
      "Processing Catalog Cleaning & Disinfections Chemicals:   0%|          | 0/37 [00:00<?, ?it/s]\n"
     ]
    },
    {
     "ename": "AttributeError",
     "evalue": "'tuple' object has no attribute 'read'",
     "output_type": "error",
     "traceback": [
      "\u001b[1;31m---------------------------------------------------------------------------\u001b[0m",
      "\u001b[1;31mAttributeError\u001b[0m                            Traceback (most recent call last)",
      "File \u001b[1;32mc:\\python\\lib\\site-packages\\PIL\\Image.py:3096\u001b[0m, in \u001b[0;36mopen\u001b[1;34m(fp, mode, formats)\u001b[0m\n\u001b[0;32m   3095\u001b[0m \u001b[39mtry\u001b[39;00m:\n\u001b[1;32m-> 3096\u001b[0m     fp\u001b[39m.\u001b[39;49mseek(\u001b[39m0\u001b[39m)\n\u001b[0;32m   3097\u001b[0m \u001b[39mexcept\u001b[39;00m (\u001b[39mAttributeError\u001b[39;00m, io\u001b[39m.\u001b[39mUnsupportedOperation):\n",
      "\u001b[1;31mAttributeError\u001b[0m: 'tuple' object has no attribute 'seek'",
      "\nDuring handling of the above exception, another exception occurred:\n",
      "\u001b[1;31mAttributeError\u001b[0m                            Traceback (most recent call last)",
      "\u001b[1;32md:\\PENNY\\Image_Classification.ipynb Cell 2\u001b[0m in \u001b[0;36m<cell line: 87>\u001b[1;34m()\u001b[0m\n\u001b[0;32m     <a href='vscode-notebook-cell:/d%3A/PENNY/Image_Classification.ipynb#W1sZmlsZQ%3D%3D?line=83'>84</a>\u001b[0m num_catalogs \u001b[39m=\u001b[39m \u001b[39m18\u001b[39m  \u001b[39m# Fill in the number of unique catalogs in your dataset\u001b[39;00m\n\u001b[0;32m     <a href='vscode-notebook-cell:/d%3A/PENNY/Image_Classification.ipynb#W1sZmlsZQ%3D%3D?line=85'>86</a>\u001b[0m \u001b[39m# Step 1: Data Preprocessing\u001b[39;00m\n\u001b[1;32m---> <a href='vscode-notebook-cell:/d%3A/PENNY/Image_Classification.ipynb#W1sZmlsZQ%3D%3D?line=86'>87</a>\u001b[0m df \u001b[39m=\u001b[39m preprocess_dataset(dataset_path, image_folder)\n\u001b[0;32m     <a href='vscode-notebook-cell:/d%3A/PENNY/Image_Classification.ipynb#W1sZmlsZQ%3D%3D?line=88'>89</a>\u001b[0m \u001b[39m# Create a TensorFlow Dataset for efficient data loading and preprocessing\u001b[39;00m\n\u001b[0;32m     <a href='vscode-notebook-cell:/d%3A/PENNY/Image_Classification.ipynb#W1sZmlsZQ%3D%3D?line=89'>90</a>\u001b[0m image_paths \u001b[39m=\u001b[39m df[\u001b[39m\"\u001b[39m\u001b[39mImage Paths\u001b[39m\u001b[39m\"\u001b[39m]\u001b[39m.\u001b[39mtolist()\n",
      "\u001b[1;32md:\\PENNY\\Image_Classification.ipynb Cell 2\u001b[0m in \u001b[0;36mpreprocess_dataset\u001b[1;34m(dataset_path, image_folder)\u001b[0m\n\u001b[0;32m     <a href='vscode-notebook-cell:/d%3A/PENNY/Image_Classification.ipynb#W1sZmlsZQ%3D%3D?line=75'>76</a>\u001b[0m \u001b[39mfor\u001b[39;00m catalog \u001b[39min\u001b[39;00m catalog_folders:\n\u001b[0;32m     <a href='vscode-notebook-cell:/d%3A/PENNY/Image_Classification.ipynb#W1sZmlsZQ%3D%3D?line=76'>77</a>\u001b[0m     catalog_folder \u001b[39m=\u001b[39m os\u001b[39m.\u001b[39mpath\u001b[39m.\u001b[39mjoin(image_folder, catalog)\n\u001b[1;32m---> <a href='vscode-notebook-cell:/d%3A/PENNY/Image_Classification.ipynb#W1sZmlsZQ%3D%3D?line=77'>78</a>\u001b[0m     preprocess_catalog(catalog_folder, image_folder)\n",
      "\u001b[1;32md:\\PENNY\\Image_Classification.ipynb Cell 2\u001b[0m in \u001b[0;36mpreprocess_catalog\u001b[1;34m(catalog_folder, image_folder)\u001b[0m\n\u001b[0;32m     <a href='vscode-notebook-cell:/d%3A/PENNY/Image_Classification.ipynb#W1sZmlsZQ%3D%3D?line=48'>49</a>\u001b[0m \u001b[39mwith\u001b[39;00m concurrent\u001b[39m.\u001b[39mfutures\u001b[39m.\u001b[39mThreadPoolExecutor() \u001b[39mas\u001b[39;00m executor:\n\u001b[0;32m     <a href='vscode-notebook-cell:/d%3A/PENNY/Image_Classification.ipynb#W1sZmlsZQ%3D%3D?line=49'>50</a>\u001b[0m     args_list \u001b[39m=\u001b[39m [(os\u001b[39m.\u001b[39mpath\u001b[39m.\u001b[39mjoin(category_folder, image_file), (\u001b[39m224\u001b[39m, \u001b[39m224\u001b[39m), output_folder) \u001b[39mfor\u001b[39;00m image_file \u001b[39min\u001b[39;00m image_files]\n\u001b[1;32m---> <a href='vscode-notebook-cell:/d%3A/PENNY/Image_Classification.ipynb#W1sZmlsZQ%3D%3D?line=50'>51</a>\u001b[0m     \u001b[39mlist\u001b[39;49m(tqdm(executor\u001b[39m.\u001b[39;49mmap(preprocess_image, args_list), total\u001b[39m=\u001b[39;49m\u001b[39mlen\u001b[39;49m(args_list), desc\u001b[39m=\u001b[39;49m\u001b[39mf\u001b[39;49m\u001b[39m\"\u001b[39;49m\u001b[39mProcessing Catalog \u001b[39;49m\u001b[39m{\u001b[39;49;00mos\u001b[39m.\u001b[39;49mpath\u001b[39m.\u001b[39;49mbasename(catalog_folder)\u001b[39m}\u001b[39;49;00m\u001b[39m\"\u001b[39;49m))\n",
      "File \u001b[1;32mc:\\python\\lib\\site-packages\\tqdm\\std.py:1178\u001b[0m, in \u001b[0;36mtqdm.__iter__\u001b[1;34m(self)\u001b[0m\n\u001b[0;32m   1175\u001b[0m time \u001b[39m=\u001b[39m \u001b[39mself\u001b[39m\u001b[39m.\u001b[39m_time\n\u001b[0;32m   1177\u001b[0m \u001b[39mtry\u001b[39;00m:\n\u001b[1;32m-> 1178\u001b[0m     \u001b[39mfor\u001b[39;00m obj \u001b[39min\u001b[39;00m iterable:\n\u001b[0;32m   1179\u001b[0m         \u001b[39myield\u001b[39;00m obj\n\u001b[0;32m   1180\u001b[0m         \u001b[39m# Update and possibly print the progressbar.\u001b[39;00m\n\u001b[0;32m   1181\u001b[0m         \u001b[39m# Note: does not call self.update(1) for speed optimisation.\u001b[39;00m\n",
      "File \u001b[1;32mc:\\python\\lib\\concurrent\\futures\\_base.py:621\u001b[0m, in \u001b[0;36mExecutor.map.<locals>.result_iterator\u001b[1;34m()\u001b[0m\n\u001b[0;32m    618\u001b[0m \u001b[39mwhile\u001b[39;00m fs:\n\u001b[0;32m    619\u001b[0m     \u001b[39m# Careful not to keep a reference to the popped future\u001b[39;00m\n\u001b[0;32m    620\u001b[0m     \u001b[39mif\u001b[39;00m timeout \u001b[39mis\u001b[39;00m \u001b[39mNone\u001b[39;00m:\n\u001b[1;32m--> 621\u001b[0m         \u001b[39myield\u001b[39;00m _result_or_cancel(fs\u001b[39m.\u001b[39;49mpop())\n\u001b[0;32m    622\u001b[0m     \u001b[39melse\u001b[39;00m:\n\u001b[0;32m    623\u001b[0m         \u001b[39myield\u001b[39;00m _result_or_cancel(fs\u001b[39m.\u001b[39mpop(), end_time \u001b[39m-\u001b[39m time\u001b[39m.\u001b[39mmonotonic())\n",
      "File \u001b[1;32mc:\\python\\lib\\concurrent\\futures\\_base.py:319\u001b[0m, in \u001b[0;36m_result_or_cancel\u001b[1;34m(***failed resolving arguments***)\u001b[0m\n\u001b[0;32m    317\u001b[0m \u001b[39mtry\u001b[39;00m:\n\u001b[0;32m    318\u001b[0m     \u001b[39mtry\u001b[39;00m:\n\u001b[1;32m--> 319\u001b[0m         \u001b[39mreturn\u001b[39;00m fut\u001b[39m.\u001b[39;49mresult(timeout)\n\u001b[0;32m    320\u001b[0m     \u001b[39mfinally\u001b[39;00m:\n\u001b[0;32m    321\u001b[0m         fut\u001b[39m.\u001b[39mcancel()\n",
      "File \u001b[1;32mc:\\python\\lib\\concurrent\\futures\\_base.py:451\u001b[0m, in \u001b[0;36mFuture.result\u001b[1;34m(self, timeout)\u001b[0m\n\u001b[0;32m    449\u001b[0m     \u001b[39mraise\u001b[39;00m CancelledError()\n\u001b[0;32m    450\u001b[0m \u001b[39melif\u001b[39;00m \u001b[39mself\u001b[39m\u001b[39m.\u001b[39m_state \u001b[39m==\u001b[39m FINISHED:\n\u001b[1;32m--> 451\u001b[0m     \u001b[39mreturn\u001b[39;00m \u001b[39mself\u001b[39;49m\u001b[39m.\u001b[39;49m__get_result()\n\u001b[0;32m    453\u001b[0m \u001b[39mself\u001b[39m\u001b[39m.\u001b[39m_condition\u001b[39m.\u001b[39mwait(timeout)\n\u001b[0;32m    455\u001b[0m \u001b[39mif\u001b[39;00m \u001b[39mself\u001b[39m\u001b[39m.\u001b[39m_state \u001b[39min\u001b[39;00m [CANCELLED, CANCELLED_AND_NOTIFIED]:\n",
      "File \u001b[1;32mc:\\python\\lib\\concurrent\\futures\\_base.py:403\u001b[0m, in \u001b[0;36mFuture.__get_result\u001b[1;34m(self)\u001b[0m\n\u001b[0;32m    401\u001b[0m \u001b[39mif\u001b[39;00m \u001b[39mself\u001b[39m\u001b[39m.\u001b[39m_exception:\n\u001b[0;32m    402\u001b[0m     \u001b[39mtry\u001b[39;00m:\n\u001b[1;32m--> 403\u001b[0m         \u001b[39mraise\u001b[39;00m \u001b[39mself\u001b[39m\u001b[39m.\u001b[39m_exception\n\u001b[0;32m    404\u001b[0m     \u001b[39mfinally\u001b[39;00m:\n\u001b[0;32m    405\u001b[0m         \u001b[39m# Break a reference cycle with the exception in self._exception\u001b[39;00m\n\u001b[0;32m    406\u001b[0m         \u001b[39mself\u001b[39m \u001b[39m=\u001b[39m \u001b[39mNone\u001b[39;00m\n",
      "File \u001b[1;32mc:\\python\\lib\\concurrent\\futures\\thread.py:58\u001b[0m, in \u001b[0;36m_WorkItem.run\u001b[1;34m(self)\u001b[0m\n\u001b[0;32m     55\u001b[0m     \u001b[39mreturn\u001b[39;00m\n\u001b[0;32m     57\u001b[0m \u001b[39mtry\u001b[39;00m:\n\u001b[1;32m---> 58\u001b[0m     result \u001b[39m=\u001b[39m \u001b[39mself\u001b[39m\u001b[39m.\u001b[39mfn(\u001b[39m*\u001b[39m\u001b[39mself\u001b[39m\u001b[39m.\u001b[39margs, \u001b[39m*\u001b[39m\u001b[39m*\u001b[39m\u001b[39mself\u001b[39m\u001b[39m.\u001b[39mkwargs)\n\u001b[0;32m     59\u001b[0m \u001b[39mexcept\u001b[39;00m \u001b[39mBaseException\u001b[39;00m \u001b[39mas\u001b[39;00m exc:\n\u001b[0;32m     60\u001b[0m     \u001b[39mself\u001b[39m\u001b[39m.\u001b[39mfuture\u001b[39m.\u001b[39mset_exception(exc)\n",
      "\u001b[1;32md:\\PENNY\\Image_Classification.ipynb Cell 2\u001b[0m in \u001b[0;36mpreprocess_image\u001b[1;34m(image_path, target_size, output_folder)\u001b[0m\n\u001b[0;32m     <a href='vscode-notebook-cell:/d%3A/PENNY/Image_Classification.ipynb#W1sZmlsZQ%3D%3D?line=25'>26</a>\u001b[0m \u001b[39mdef\u001b[39;00m \u001b[39mpreprocess_image\u001b[39m(image_path, target_size\u001b[39m=\u001b[39m(\u001b[39m224\u001b[39m, \u001b[39m224\u001b[39m), output_folder\u001b[39m=\u001b[39m\u001b[39mNone\u001b[39;00m):\n\u001b[1;32m---> <a href='vscode-notebook-cell:/d%3A/PENNY/Image_Classification.ipynb#W1sZmlsZQ%3D%3D?line=26'>27</a>\u001b[0m     img \u001b[39m=\u001b[39m Image\u001b[39m.\u001b[39;49mopen(image_path)\n\u001b[0;32m     <a href='vscode-notebook-cell:/d%3A/PENNY/Image_Classification.ipynb#W1sZmlsZQ%3D%3D?line=27'>28</a>\u001b[0m     img \u001b[39m=\u001b[39m img\u001b[39m.\u001b[39mtranspose(Image\u001b[39m.\u001b[39mFLIP_LEFT_RIGHT)  \u001b[39m# Reverse the image\u001b[39;00m\n\u001b[0;32m     <a href='vscode-notebook-cell:/d%3A/PENNY/Image_Classification.ipynb#W1sZmlsZQ%3D%3D?line=28'>29</a>\u001b[0m     img \u001b[39m=\u001b[39m ImageOps\u001b[39m.\u001b[39mautocontrast(img)  \u001b[39m# Normalize the image\u001b[39;00m\n",
      "File \u001b[1;32mc:\\python\\lib\\site-packages\\PIL\\Image.py:3098\u001b[0m, in \u001b[0;36mopen\u001b[1;34m(fp, mode, formats)\u001b[0m\n\u001b[0;32m   3096\u001b[0m     fp\u001b[39m.\u001b[39mseek(\u001b[39m0\u001b[39m)\n\u001b[0;32m   3097\u001b[0m \u001b[39mexcept\u001b[39;00m (\u001b[39mAttributeError\u001b[39;00m, io\u001b[39m.\u001b[39mUnsupportedOperation):\n\u001b[1;32m-> 3098\u001b[0m     fp \u001b[39m=\u001b[39m io\u001b[39m.\u001b[39mBytesIO(fp\u001b[39m.\u001b[39;49mread())\n\u001b[0;32m   3099\u001b[0m     exclusive_fp \u001b[39m=\u001b[39m \u001b[39mTrue\u001b[39;00m\n\u001b[0;32m   3101\u001b[0m prefix \u001b[39m=\u001b[39m fp\u001b[39m.\u001b[39mread(\u001b[39m16\u001b[39m)\n",
      "\u001b[1;31mAttributeError\u001b[0m: 'tuple' object has no attribute 'read'"
     ]
    },
    {
     "ename": "",
     "evalue": "",
     "output_type": "error",
     "traceback": [
      "\u001b[1;31mThe Kernel crashed while executing code in the the current cell or a previous cell. Please review the code in the cell(s) to identify a possible cause of the failure. Click <a href='https://aka.ms/vscodeJupyterKernelCrash'>here</a> for more info. View Jupyter <a href='command:jupyter.viewOutput'>log</a> for further details."
     ]
    }
   ],
   "source": [
    "# Notebook Block 1: Importing Libraries\n",
    "\n",
    "import os\n",
    "import pandas as pd\n",
    "import requests\n",
    "from PIL import Image, ImageOps, ImageEnhance\n",
    "from io import BytesIO\n",
    "import concurrent.futures\n",
    "import tensorflow as tf\n",
    "from tqdm import tqdm\n",
    "\n",
    "# Step 1: Data Preprocessing\n",
    "def download_image(args):\n",
    "    url, image_folder, category, catalog = args\n",
    "    try:\n",
    "        response = requests.get(url)\n",
    "        img = Image.open(BytesIO(response.content))\n",
    "        folder_path = os.path.join(image_folder, catalog, category)\n",
    "        os.makedirs(folder_path, exist_ok=True)\n",
    "        filename = os.path.join(folder_path, os.path.basename(url))\n",
    "        img.save(filename)\n",
    "        return filename\n",
    "    except:\n",
    "        return None\n",
    "\n",
    "def preprocess_image(image_path, target_size=(224, 224), output_folder=None):\n",
    "    img = Image.open(image_path)\n",
    "    img = img.transpose(Image.FLIP_LEFT_RIGHT)  # Reverse the image\n",
    "    img = ImageOps.autocontrast(img)  # Normalize the image\n",
    "    enhancer = ImageEnhance.Sharpness(img)\n",
    "    img = enhancer.enhance(2.0)  # Increase sharpness\n",
    "    img = img.filter(ImageFilter.SHARPEN)  # Edge sharpening\n",
    "\n",
    "    if output_folder:\n",
    "        os.makedirs(output_folder, exist_ok=True)\n",
    "        filename = os.path.join(output_folder, os.path.basename(image_path))\n",
    "        img.save(filename)\n",
    "    else:\n",
    "        img_array = tf.keras.preprocessing.image.img_to_array(img)\n",
    "        return img_array / 255.0\n",
    "\n",
    "def preprocess_catalog(catalog_folder, image_folder):\n",
    "    category_folders = os.listdir(catalog_folder)\n",
    "    for category in category_folders:\n",
    "        category_folder = os.path.join(catalog_folder, category)\n",
    "        output_folder = os.path.join(image_folder, catalog, category + \"_processed\")\n",
    "        os.makedirs(output_folder, exist_ok=True)\n",
    "        image_files = os.listdir(category_folder)\n",
    "        with concurrent.futures.ThreadPoolExecutor() as executor:\n",
    "            args_list = [(os.path.join(category_folder, image_file), (224, 224), output_folder) for image_file in image_files]\n",
    "            list(tqdm(executor.map(preprocess_image, args_list), total=len(args_list), desc=f\"Processing Catalog {os.path.basename(catalog_folder)}\"))\n",
    "\n",
    "def preprocess_dataset(dataset_path, image_folder):\n",
    "    df = pd.read_csv(dataset_path)\n",
    "    \n",
    "    # Download images in parallel with ThreadPoolExecutor\n",
    "    with concurrent.futures.ThreadPoolExecutor() as executor:\n",
    "        args_list = [(url, image_folder, category, catalog) for url, category, catalog in zip(df[\"Image Links\"], df[\"Category Names(readonly)\"], df[\"Catalog Names(readonly)\"])]\n",
    "        image_paths = list(tqdm(executor.map(download_image, args_list), total=len(args_list), desc=\"Downloading Images\"))\n",
    "    \n",
    "    df[\"Image Paths\"] = image_paths\n",
    "    df = df.dropna(subset=[\"Image Paths\"])  # Drop rows with missing image paths\n",
    "    df[\"Category\"] = pd.Categorical(df[\"Category Names(readonly)\"]).codes\n",
    "    df[\"Catalog\"] = pd.Categorical(df[\"Catalog Names(readonly)\"]).codes\n",
    "    \n",
    "    # Save image labels to a file using 'utf-8' encoding\n",
    "    with open('image_labels.txt', 'w', encoding='utf-8') as f:\n",
    "        for idx, row in df.iterrows():\n",
    "            image_path = row[\"Image Paths\"]\n",
    "            category = row[\"Category Names(readonly)\"]\n",
    "            catalog = row[\"Catalog Names(readonly)\"]\n",
    "            f.write(f\"{image_path}\\t{category}\\t{catalog}\\n\")\n",
    "    \n",
    "    # Preprocess each catalog\n",
    "    catalog_folders = os.listdir(image_folder)\n",
    "    for catalog in catalog_folders:\n",
    "        catalog_folder = os.path.join(image_folder, catalog)\n",
    "        preprocess_catalog(catalog_folder, image_folder)\n",
    "\n",
    "# Configuration\n",
    "dataset_path = r'D:\\PENNY\\Gaiat products.csv'\n",
    "image_folder = r'D:\\PENNY\\Gaiat products\\images'  # Update to the correct image folder path\n",
    "num_categories = 82  # Fill in the number of unique categories in your dataset\n",
    "num_catalogs = 18  # Fill in the number of unique catalogs in your dataset\n",
    "\n",
    "# Step 1: Data Preprocessing\n",
    "df = preprocess_dataset(dataset_path, image_folder)\n",
    "\n",
    "# Create a TensorFlow Dataset for efficient data loading and preprocessing\n",
    "image_paths = df[\"Image Paths\"].tolist()\n",
    "categories = df[\"Category\"].tolist()\n",
    "\n",
    "AUTOTUNE = tf.data.AUTOTUNE\n",
    "\n",
    "def load_and_preprocess_image(image_path, category):\n",
    "    img = tf.io.read_file(image_path)\n",
    "    img = tf.image.decode_jpeg(img, channels=3)\n",
    "    img = tf.image.resize(img, (224, 224))\n",
    "    img = tf.cast(img, tf.float32) / 255.0\n",
    "    return img, category\n",
    "\n",
    "dataset = tf.data.Dataset.from_tensor_slices((image_paths, categories))\n",
    "dataset = dataset.map(load_and_preprocess_image, num_parallel_calls=AUTOTUNE)\n"
   ]
  },
  {
   "cell_type": "code",
   "execution_count": 7,
   "metadata": {},
   "outputs": [],
   "source": [
    "import os\n",
    "import cv2\n",
    "import numpy as np\n",
    "from tqdm import tqdm  # Import tqdm for the progress bar\n"
   ]
  },
  {
   "cell_type": "code",
   "execution_count": 8,
   "metadata": {},
   "outputs": [],
   "source": [
    "def normalize_image(image):\n",
    "    return cv2.normalize(image, None, alpha=0, beta=1, norm_type=cv2.NORM_MINMAX, dtype=cv2.CV_32F)\n",
    "\n",
    "def reverse_image(image):\n",
    "    return cv2.bitwise_not(image)\n",
    "\n",
    "def sharpen_edges(image):\n",
    "    kernel = np.array([[-1, -1, -1], [-1, 9, -1], [-1, -1, -1]])\n",
    "    return cv2.filter2D(image, -1, kernel)\n",
    "\n",
    "def enhance_image(image):\n",
    "    # Apply any other enhancement techniques here as needed.\n",
    "    # For example, histogram equalization, contrast adjustment, etc.\n",
    "    return image\n"
   ]
  },
  {
   "cell_type": "code",
   "execution_count": 11,
   "metadata": {},
   "outputs": [
    {
     "name": "stderr",
     "output_type": "stream",
     "text": [
      "Processing Office items/Office stationery:  75%|███████▌  | 3/4 [02:47<00:55, 55.97s/image]\n"
     ]
    },
    {
     "name": "stderr",
     "output_type": "stream",
     "text": [
      "Processing Cleaning & Disinfections Chemicals/Air Fresheners: 100%|██████████| 16/16 [00:04<00:00,  3.55image/s]\n",
      "Processing Cleaning & Disinfections Chemicals/Disinfections & General Cleaners: 100%|██████████| 22/22 [00:01<00:00, 15.44image/s]\n",
      "Processing Cleaning & Disinfections Chemicals/Drain Opener: 100%|██████████| 24/24 [00:03<00:00,  7.25image/s]\n",
      "Processing Cleaning & Disinfections Chemicals/Glass Cleaner: 100%|██████████| 6/6 [00:00<00:00, 13.13image/s]\n",
      "Processing Cleaning & Disinfections Chemicals/Hand Soap: 100%|██████████| 16/16 [00:02<00:00,  7.21image/s]\n",
      "Processing Cleaning & Disinfections Chemicals/Kitchen Cleaning Chemicals: 100%|██████████| 10/10 [00:00<00:00, 14.70image/s]\n",
      "Processing Cleaning & Disinfections Chemicals/Specialized Chemicals: 100%|██████████| 50/50 [00:08<00:00,  6.22image/s]\n",
      "Processing Cleaning & Disinfections Chemicals/Surface & Floor Cleaning: 100%|██████████| 10/10 [00:01<00:00,  9.67image/s]\n",
      "Processing Cleaning & Disinfections Chemicals/Toilet Cleaning: 100%|██████████| 4/4 [00:00<00:00, 28.05image/s]\n",
      "Processing Cleaning Equipment & Tools/Cleaning Power Equipment: 100%|██████████| 20/20 [00:04<00:00,  4.97image/s]\n",
      "Processing Cleaning Equipment & Tools/Cleaning Tools: 100%|██████████| 56/56 [00:09<00:00,  5.80image/s]\n",
      "Processing Cleaning Equipment & Tools/Containers & Wastebaskets: 100%|██████████| 84/84 [00:10<00:00,  8.30image/s]\n",
      "Processing Cleaning Equipment & Tools/Dispensers: 100%|██████████| 12/12 [00:01<00:00,  9.74image/s]\n",
      "Processing Decorations/Acoustic Panels: 100%|██████████| 42/42 [00:01<00:00, 27.41image/s]\n",
      "Processing Decorations/Frames: 0image [00:00, ?image/s]\n",
      "Processing Doors & Gates/Doors & Accessories: 100%|██████████| 38/38 [00:01<00:00, 23.61image/s]\n",
      "Processing Doors & Gates/Security Gates: 0image [00:00, ?image/s]\n",
      "Processing Flooring/Artificial Grass: 0image [00:00, ?image/s]\n",
      "Processing Flooring/Carpet: 100%|██████████| 180/180 [00:07<00:00, 24.49image/s]\n",
      "Processing Flooring/Ceramic Tiles: 100%|██████████| 4/4 [00:00<00:00, 55.19image/s]\n",
      "Processing Flooring/Outdoor Flooring: 0image [00:00, ?image/s]\n",
      "Processing Flooring/Parquet: 100%|██████████| 24/24 [00:03<00:00,  7.34image/s]\n",
      "Processing Flooring/Porcelain Tiles: 100%|██████████| 28/28 [00:00<00:00, 32.04image/s]\n",
      "Processing Flooring/Vinyl: 100%|██████████| 2/2 [00:00<00:00,  7.35image/s]\n",
      "Processing Groceries/Coffee & Coffee Mate: 100%|██████████| 48/48 [00:07<00:00,  6.10image/s]\n",
      "Processing Groceries/Dairy Products: 100%|██████████| 40/40 [00:03<00:00, 10.12image/s]\n",
      "Processing Groceries/Packed Bakery: 100%|██████████| 8/8 [00:00<00:00,  9.21image/s]\n",
      "Processing Industrial Maintenance & Cleaning Chemical/Cleaners: 0image [00:00, ?image/s]\n",
      "Processing IT Hardware & Accessories/Cables: 100%|██████████| 2/2 [00:00<00:00,  8.69image/s]\n",
      "Processing IT Hardware & Accessories/Data Server Cabinets & Materials: 100%|██████████| 8/8 [00:00<00:00, 15.28image/s]\n",
      "Processing IT Hardware & Accessories/Laptops & PC: 100%|██████████| 12/12 [00:01<00:00,  6.74image/s]\n",
      "Processing IT Hardware & Accessories/Monitors: 100%|██████████| 18/18 [00:03<00:00,  5.46image/s]\n",
      "Processing IT Hardware & Accessories/Networks Accessories: 100%|██████████| 22/22 [00:02<00:00,  8.79image/s]\n",
      "Processing IT Hardware & Accessories/Peripherals & Accessories: 100%|██████████| 2/2 [00:00<00:00, 21.17image/s]\n",
      "Processing IT Hardware & Accessories/Printers & Scanners: 100%|██████████| 4/4 [00:00<00:00, 31.52image/s]\n",
      "Processing IT Hardware & Accessories/Routers & Extenders: 100%|██████████| 68/68 [00:05<00:00, 12.86image/s]\n",
      "Processing IT Hardware & Accessories/Switches: 100%|██████████| 26/26 [00:02<00:00, 11.93image/s]\n",
      "Processing Office Furniture/Cabinets: 100%|██████████| 28/28 [00:00<00:00, 29.71image/s]\n",
      "Processing Office Furniture/Coffee & Side Tables: 100%|██████████| 30/30 [00:00<00:00, 37.54image/s]\n",
      "Processing Office Furniture/Coffee Stations: 100%|██████████| 24/24 [00:04<00:00,  5.54image/s]\n",
      "Processing Office Furniture/Meeting Tables: 100%|██████████| 10/10 [00:00<00:00, 26.70image/s]\n",
      "Processing Office Furniture/Silent Rooms: 100%|██████████| 4/4 [00:00<00:00, 26.10image/s]\n",
      "Processing Office Furniture/Storing Shelves: 0image [00:00, ?image/s]\n",
      "Processing Office Furniture/Workstations: 100%|██████████| 34/34 [00:02<00:00, 13.77image/s]\n",
      "Processing Office items/Anti-Virus: 0image [00:00, ?image/s]\n",
      "Processing Office items/Cleaning and Hygiene Supplies: 100%|██████████| 2/2 [00:00<00:00,  6.35image/s]\n",
      "Processing Office items/Furniture: 100%|██████████| 4/4 [00:00<00:00, 19.21image/s]\n",
      "Processing Office items/Office stationery:  86%|████████▌ | 6/7 [00:00<00:00, 22.99image/s]\n"
     ]
    },
    {
     "name": "stdout",
     "output_type": "stream",
     "text": [
      "Error: Unable to read image حامل_ادوات_مكتبية.jpg\n"
     ]
    },
    {
     "name": "stderr",
     "output_type": "stream",
     "text": [
      "Processing Office items/Printers - Desktop: 100%|██████████| 4/4 [00:00<00:00,  5.87image/s]\n",
      "Processing Office items/Software: 0image [00:00, ?image/s]\n",
      "Processing Packaging Materials/Aluminum Containers: 0image [00:00, ?image/s]\n",
      "Processing Packaging Materials/Paper Containers: 0image [00:00, ?image/s]\n",
      "Processing Packaging Materials/Plastic Containers: 0image [00:00, ?image/s]\n",
      "Processing Plastic, Tissues, & Paper Wares/Bags & Trash Bags: 100%|██████████| 7/7 [00:01<00:00,  4.91image/s]\n",
      "Processing Plastic, Tissues, & Paper Wares/Paper Bags: 100%|██████████| 9/9 [00:01<00:00,  4.65image/s]\n",
      "Processing Plastic, Tissues, & Paper Wares/Paper cups: 100%|██████████| 8/8 [00:01<00:00,  6.82image/s]\n",
      "Processing Plastic, Tissues, & Paper Wares/Plastic Cups: 100%|██████████| 6/6 [00:00<00:00,  8.66image/s]\n",
      "Processing Plastic, Tissues, & Paper Wares/Plastic Wares: 100%|██████████| 24/24 [00:05<00:00,  4.52image/s]\n",
      "Processing Plastic, Tissues, & Paper Wares/Tissues: 100%|██████████| 15/15 [00:03<00:00,  4.71image/s]\n",
      "Processing Plastic, Tissues, & Paper Wares/Wooden Wares: 100%|██████████| 3/3 [00:00<00:00,  9.17image/s]\n",
      "Processing processed_images/Cleaning & Disinfections Chemicals: 0image [00:00, ?image/s]\n",
      "Processing processed_images/Cleaning Equipment & Tools: 0image [00:00, ?image/s]\n",
      "Processing processed_images/Decorations: 0image [00:00, ?image/s]\n",
      "Processing processed_images/Doors & Gates: 0image [00:00, ?image/s]\n",
      "Processing processed_images/Flooring: 0image [00:00, ?image/s]\n",
      "Processing processed_images/Groceries: 0image [00:00, ?image/s]\n",
      "Processing processed_images/Industrial Maintenance & Cleaning Chemical: 0image [00:00, ?image/s]\n",
      "Processing processed_images/IT Hardware & Accessories: 0image [00:00, ?image/s]\n",
      "Processing processed_images/Office Furniture: 0image [00:00, ?image/s]\n",
      "Processing processed_images/Office items: 0image [00:00, ?image/s]\n",
      "Processing Safety Products/Emergency Lights: 100%|██████████| 3/3 [00:00<00:00, 30.82image/s]\n",
      "Processing Safety Products/Fire Alarm System: 100%|██████████| 1/1 [00:00<00:00, 35.76image/s]\n",
      "Processing Safety Products/Fire Extinguisher: 100%|██████████| 11/11 [00:00<00:00, 11.34image/s]\n",
      "Processing Safety Products/Personal Protection: 100%|██████████| 47/47 [00:02<00:00, 16.13image/s]\n",
      "Processing Safety Products/Safety Shoes: 0image [00:00, ?image/s]\n",
      "Processing Safety Products/Safety tools: 100%|██████████| 6/6 [00:00<00:00, 28.19image/s]\n",
      "Processing Sanitization & Personal Protection/Medical Masks: 100%|██████████| 2/2 [00:00<00:00,  7.01image/s]\n",
      "Processing Seating Furniture/Chairs & Accessories: 100%|██████████| 114/114 [00:20<00:00,  5.57image/s]\n",
      "Processing Seating Furniture/Cinema Sofas: 100%|██████████| 3/3 [00:00<00:00, 12.20image/s]\n",
      "Processing Seating Furniture/Office Chairs: 100%|██████████| 26/26 [00:01<00:00, 17.28image/s]\n",
      "Processing Seating Furniture/Recliner Chairs: 100%|██████████| 21/21 [00:04<00:00,  4.56image/s]\n",
      "Processing Seating Furniture/Sofas: 100%|██████████| 6/6 [00:01<00:00,  4.80image/s]\n",
      "Processing Seating Furniture/Theater Chairs: 100%|██████████| 11/11 [00:00<00:00, 13.02image/s]\n",
      "Processing Sinks & Sanitary Wares/Mixers: 100%|██████████| 3/3 [00:00<00:00,  8.76image/s]\n",
      "Processing Sinks & Sanitary Wares/Sanitary Ware: 100%|██████████| 6/6 [00:01<00:00,  4.07image/s]\n",
      "Processing Sinks & Sanitary Wares/Toilet accessories: 100%|██████████| 5/5 [00:00<00:00, 14.29image/s]\n",
      "Processing Sinks & Sanitary Wares/Water Heater: 100%|██████████| 3/3 [00:00<00:00,  8.74image/s]\n",
      "Processing Sports Equipment & Tools/Fitness Equipment & Tools: 0image [00:00, ?image/s]\n",
      "Processing Sports Equipment & Tools/Football Equipment & Tools: 100%|██████████| 2/2 [00:00<00:00,  9.19image/s]\n",
      "Processing Sports Equipment & Tools/Light Medical Equipment & Tools: 0image [00:00, ?image/s]\n",
      "Processing Stationery/Board Pens: 100%|██████████| 8/8 [00:00<00:00, 12.72image/s]\n",
      "Processing Stationery/Boards, Flipcharts & Tools: 100%|██████████| 3/3 [00:00<00:00, 10.08image/s]\n",
      "Processing Stationery/Calculators & Batteries: 100%|██████████| 4/4 [00:02<00:00,  1.36image/s]\n",
      "Processing Stationery/Clips: 100%|██████████| 13/13 [00:06<00:00,  1.90image/s]\n",
      "Processing Stationery/Envelopes: 100%|██████████| 5/5 [00:03<00:00,  1.66image/s]\n",
      "Processing Stationery/Erasers & Sharpeners: 100%|██████████| 4/4 [00:00<00:00,  6.49image/s]\n",
      "Processing Stationery/Files: 100%|██████████| 26/26 [00:10<00:00,  2.40image/s]\n",
      "Processing Stationery/Filling Tools & Machines: 100%|██████████| 12/12 [00:04<00:00,  2.41image/s]\n"
     ]
    }
   ],
   "source": [
    "import os\n",
    "import cv2\n",
    "import numpy as np\n",
    "from tqdm import tqdm\n",
    "\n",
    "def normalize_image(image):\n",
    "    return cv2.normalize(image, None, alpha=0, beta=1, norm_type=cv2.NORM_MINMAX, dtype=cv2.CV_32F)\n",
    "\n",
    "def reverse_image(image):\n",
    "    return cv2.bitwise_not(image)\n",
    "\n",
    "def sharpen_edges(image):\n",
    "    kernel = np.array([[-1, -1, -1], [-1, 9, -1], [-1, -1, -1]])\n",
    "    try:\n",
    "        return cv2.filter2D(image, -1, kernel)\n",
    "    except cv2.error as e:\n",
    "        print(f\"Error while applying sharpen_edges: {e}\")\n",
    "        return image\n",
    "\n",
    "def enhance_image(image):\n",
    "    # Apply any other enhancement techniques here as needed.\n",
    "    # For example, histogram equalization, contrast adjustment, etc.\n",
    "    return image\n",
    "\n",
    "input_dir = r'D:\\PENNY\\Gaiat products\\images'\n",
    "\n",
    "for catalog in os.listdir(input_dir):\n",
    "    catalog_path = os.path.join(input_dir, catalog)\n",
    "    if not os.path.isdir(catalog_path):\n",
    "        continue\n",
    "\n",
    "    for category in os.listdir(catalog_path):\n",
    "        category_path = os.path.join(catalog_path, category)\n",
    "        if not os.path.isdir(category_path):\n",
    "            continue\n",
    "\n",
    "        # Use tqdm to create a progress bar for the product images in the category\n",
    "        product_files = [f for f in os.listdir(category_path) if f.endswith('.jpg')]\n",
    "        progress_bar = tqdm(total=len(product_files), desc=f\"Processing {catalog}/{category}\", unit=\"image\")\n",
    "\n",
    "        for product_file in product_files:\n",
    "            product_path = os.path.join(category_path, product_file)\n",
    "\n",
    "            # Check if the image is read correctly\n",
    "            image = cv2.imread(product_path)\n",
    "            if image is None:\n",
    "                print(f\"Error: Unable to read image {product_file}\")\n",
    "                continue\n",
    "\n",
    "            # Apply image processing functions\n",
    "            processed_image = normalize_image(image)\n",
    "            processed_image = reverse_image(processed_image)\n",
    "            processed_image = sharpen_edges(processed_image)\n",
    "            processed_image = enhance_image(processed_image)\n",
    "\n",
    "            # Save the processed image in the same directory without deleting the original image\n",
    "            processed_path = os.path.join(category_path, f\"processed_{product_file}\")\n",
    "            cv2.imwrite(processed_path, processed_image)\n",
    "\n",
    "            progress_bar.update(1)  # Update the progress bar after processing each image\n",
    "\n",
    "        progress_bar.close()  # Close the progress bar for the current category\n"
   ]
  },
  {
   "cell_type": "code",
   "execution_count": 14,
   "metadata": {},
   "outputs": [
    {
     "name": "stderr",
     "output_type": "stream",
     "text": [
      "Processing Cleaning & Disinfections Chemicals/Air Fresheners:   0%|          | 0/32 [00:00<?, ?image/s]"
     ]
    },
    {
     "name": "stderr",
     "output_type": "stream",
     "text": [
      "Processing Cleaning & Disinfections Chemicals/Air Fresheners: 100%|██████████| 32/32 [00:10<00:00,  3.12image/s]\n",
      "Processing Cleaning & Disinfections Chemicals/Disinfections & General Cleaners: 100%|██████████| 44/44 [00:16<00:00,  2.73image/s]\n",
      "Processing Cleaning & Disinfections Chemicals/Drain Opener: 100%|██████████| 48/48 [00:19<00:00,  2.50image/s]\n",
      "Processing Cleaning & Disinfections Chemicals/Glass Cleaner: 100%|██████████| 12/12 [00:03<00:00,  3.04image/s]\n",
      "Processing Cleaning & Disinfections Chemicals/Hand Soap: 100%|██████████| 32/32 [00:10<00:00,  3.19image/s]\n",
      "Processing Cleaning & Disinfections Chemicals/Kitchen Cleaning Chemicals: 100%|██████████| 20/20 [00:07<00:00,  2.65image/s]\n",
      "Processing Cleaning & Disinfections Chemicals/Specialized Chemicals: 100%|██████████| 100/100 [00:41<00:00,  2.40image/s]\n",
      "Processing Cleaning & Disinfections Chemicals/Surface & Floor Cleaning: 100%|██████████| 20/20 [00:11<00:00,  1.73image/s]\n",
      "Processing Cleaning & Disinfections Chemicals/Toilet Cleaning: 100%|██████████| 8/8 [00:03<00:00,  2.33image/s]\n",
      "Processing Cleaning Equipment & Tools/Cleaning Power Equipment: 100%|██████████| 40/40 [00:17<00:00,  2.32image/s]\n",
      "Processing Cleaning Equipment & Tools/Cleaning Tools: 100%|██████████| 112/112 [01:08<00:00,  1.63image/s]\n",
      "Processing Cleaning Equipment & Tools/Containers & Wastebaskets: 100%|██████████| 168/168 [01:22<00:00,  2.03image/s]\n",
      "Processing Cleaning Equipment & Tools/Dispensers: 100%|██████████| 24/24 [00:07<00:00,  3.11image/s]\n",
      "Processing Decorations/Acoustic Panels: 100%|██████████| 84/84 [00:24<00:00,  3.42image/s]\n",
      "Processing Decorations/Frames: 0image [00:00, ?image/s]\n",
      "Processing Doors & Gates/Doors & Accessories: 100%|██████████| 76/76 [00:23<00:00,  3.25image/s]\n",
      "Processing Doors & Gates/Security Gates: 0image [00:00, ?image/s]\n",
      "Processing Flooring/Artificial Grass: 0image [00:00, ?image/s]\n",
      "Processing Flooring/Carpet: 100%|██████████| 360/360 [01:46<00:00,  3.37image/s]\n",
      "Processing Flooring/Ceramic Tiles: 100%|██████████| 8/8 [00:03<00:00,  2.44image/s]\n",
      "Processing Flooring/Outdoor Flooring: 0image [00:00, ?image/s]\n",
      "Processing Flooring/Parquet: 100%|██████████| 48/48 [00:26<00:00,  1.79image/s]\n",
      "Processing Flooring/Porcelain Tiles: 100%|██████████| 56/56 [00:25<00:00,  2.18image/s]\n",
      "Processing Flooring/Vinyl: 100%|██████████| 4/4 [00:01<00:00,  2.31image/s]\n",
      "Processing Groceries/Coffee & Coffee Mate: 100%|██████████| 96/96 [00:50<00:00,  1.90image/s]\n",
      "Processing Groceries/Dairy Products: 100%|██████████| 80/80 [00:34<00:00,  2.34image/s]\n",
      "Processing Groceries/Packed Bakery: 100%|██████████| 16/16 [00:04<00:00,  3.21image/s]\n",
      "Processing Industrial Maintenance & Cleaning Chemical/Cleaners: 0image [00:00, ?image/s]\n",
      "Processing IT Hardware & Accessories/Cables: 100%|██████████| 4/4 [00:01<00:00,  3.57image/s]\n",
      "Processing IT Hardware & Accessories/Data Server Cabinets & Materials: 100%|██████████| 16/16 [00:05<00:00,  3.12image/s]\n",
      "Processing IT Hardware & Accessories/Laptops & PC: 100%|██████████| 24/24 [00:07<00:00,  3.20image/s]\n",
      "Processing IT Hardware & Accessories/Monitors: 100%|██████████| 36/36 [00:10<00:00,  3.30image/s]\n",
      "Processing IT Hardware & Accessories/Networks Accessories: 100%|██████████| 44/44 [00:12<00:00,  3.54image/s]\n",
      "Processing IT Hardware & Accessories/Peripherals & Accessories: 100%|██████████| 4/4 [00:01<00:00,  3.26image/s]\n",
      "Processing IT Hardware & Accessories/Printers & Scanners: 100%|██████████| 8/8 [00:03<00:00,  2.42image/s]\n",
      "Processing IT Hardware & Accessories/Routers & Extenders: 100%|██████████| 136/136 [00:40<00:00,  3.38image/s]\n",
      "Processing IT Hardware & Accessories/Switches: 100%|██████████| 52/52 [00:18<00:00,  2.74image/s]\n",
      "Processing Office Furniture/Cabinets: 100%|██████████| 56/56 [00:18<00:00,  3.07image/s]\n",
      "Processing Office Furniture/Coffee & Side Tables: 100%|██████████| 60/60 [00:16<00:00,  3.57image/s]\n",
      "Processing Office Furniture/Coffee Stations: 100%|██████████| 48/48 [00:14<00:00,  3.28image/s]\n",
      "Processing Office Furniture/Meeting Tables: 100%|██████████| 20/20 [00:06<00:00,  3.07image/s]\n",
      "Processing Office Furniture/Silent Rooms: 100%|██████████| 8/8 [00:02<00:00,  3.78image/s]\n",
      "Processing Office Furniture/Storing Shelves: 0image [00:00, ?image/s]\n",
      "Processing Office Furniture/Workstations: 100%|██████████| 68/68 [00:20<00:00,  3.27image/s]\n",
      "Processing Office items/Anti-Virus: 0image [00:00, ?image/s]\n",
      "Processing Office items/Cleaning and Hygiene Supplies: 100%|██████████| 4/4 [00:01<00:00,  3.28image/s]\n",
      "Processing Office items/Furniture: 100%|██████████| 8/8 [00:02<00:00,  3.46image/s]\n",
      "Processing Office items/Office stationery:  92%|█████████▏| 12/13 [00:03<00:00,  3.62image/s]\n"
     ]
    },
    {
     "name": "stdout",
     "output_type": "stream",
     "text": [
      "Error: Unable to read image حامل_ادوات_مكتبية.jpg\n"
     ]
    },
    {
     "name": "stderr",
     "output_type": "stream",
     "text": [
      "Processing Office items/Printers - Desktop: 100%|██████████| 12/12 [00:03<00:00,  3.30image/s]\n",
      "Processing Office items/Software: 0image [00:00, ?image/s]\n",
      "Processing Packaging Materials/Aluminum Containers: 0image [00:00, ?image/s]\n",
      "Processing Packaging Materials/Paper Containers: 0image [00:00, ?image/s]\n",
      "Processing Packaging Materials/Plastic Containers: 0image [00:00, ?image/s]\n",
      "Processing Plastic, Tissues, & Paper Wares/Bags & Trash Bags: 100%|██████████| 21/21 [00:06<00:00,  3.28image/s]\n",
      "Processing Plastic, Tissues, & Paper Wares/Paper Bags: 100%|██████████| 27/27 [00:09<00:00,  2.87image/s]\n",
      "Processing Plastic, Tissues, & Paper Wares/Paper cups: 100%|██████████| 24/24 [00:08<00:00,  2.93image/s]\n",
      "Processing Plastic, Tissues, & Paper Wares/Plastic Cups: 100%|██████████| 18/18 [00:05<00:00,  3.12image/s]\n",
      "Processing Plastic, Tissues, & Paper Wares/Plastic Wares: 100%|██████████| 72/72 [00:38<00:00,  1.87image/s]\n",
      "Processing Plastic, Tissues, & Paper Wares/Tissues: 100%|██████████| 45/45 [00:33<00:00,  1.35image/s]\n",
      "Processing Plastic, Tissues, & Paper Wares/Wooden Wares: 100%|██████████| 9/9 [00:04<00:00,  2.22image/s]\n",
      "Processing processed_images/Cleaning & Disinfections Chemicals: 0image [00:00, ?image/s]\n",
      "Processing processed_images/Cleaning Equipment & Tools: 0image [00:00, ?image/s]\n",
      "Processing processed_images/Decorations: 0image [00:00, ?image/s]\n",
      "Processing processed_images/Doors & Gates: 0image [00:00, ?image/s]\n",
      "Processing processed_images/Flooring: 0image [00:00, ?image/s]\n",
      "Processing processed_images/Groceries: 0image [00:00, ?image/s]\n",
      "Processing processed_images/Industrial Maintenance & Cleaning Chemical: 0image [00:00, ?image/s]\n",
      "Processing processed_images/IT Hardware & Accessories: 0image [00:00, ?image/s]\n",
      "Processing processed_images/Office Furniture: 0image [00:00, ?image/s]\n",
      "Processing processed_images/Office items: 0image [00:00, ?image/s]\n",
      "Processing Safety Products/Emergency Lights: 100%|██████████| 9/9 [00:03<00:00,  2.83image/s]\n",
      "Processing Safety Products/Fire Alarm System: 100%|██████████| 3/3 [00:01<00:00,  1.66image/s]\n",
      "Processing Safety Products/Fire Extinguisher: 100%|██████████| 33/33 [00:13<00:00,  2.46image/s]\n",
      "Processing Safety Products/Personal Protection: 100%|██████████| 141/141 [00:59<00:00,  2.35image/s]\n",
      "Processing Safety Products/Safety Shoes: 0image [00:00, ?image/s]\n",
      "Processing Safety Products/Safety tools: 100%|██████████| 18/18 [00:05<00:00,  3.27image/s]\n",
      "Processing Sanitization & Personal Protection/Medical Masks: 100%|██████████| 6/6 [00:02<00:00,  2.78image/s]\n",
      "Processing Seating Furniture/Chairs & Accessories: 100%|██████████| 342/342 [01:32<00:00,  3.68image/s]\n",
      "Processing Seating Furniture/Cinema Sofas: 100%|██████████| 9/9 [00:02<00:00,  3.47image/s]\n",
      "Processing Seating Furniture/Office Chairs: 100%|██████████| 78/78 [00:20<00:00,  3.80image/s]\n",
      "Processing Seating Furniture/Recliner Chairs: 100%|██████████| 63/63 [00:16<00:00,  3.74image/s]\n",
      "Processing Seating Furniture/Sofas: 100%|██████████| 18/18 [00:04<00:00,  4.05image/s]\n",
      "Processing Seating Furniture/Theater Chairs: 100%|██████████| 33/33 [00:08<00:00,  4.09image/s]\n",
      "Processing Sinks & Sanitary Wares/Mixers: 100%|██████████| 9/9 [00:02<00:00,  3.79image/s]\n",
      "Processing Sinks & Sanitary Wares/Sanitary Ware: 100%|██████████| 18/18 [00:05<00:00,  3.46image/s]\n",
      "Processing Sinks & Sanitary Wares/Toilet accessories: 100%|██████████| 15/15 [00:03<00:00,  3.91image/s]\n",
      "Processing Sinks & Sanitary Wares/Water Heater: 100%|██████████| 9/9 [00:02<00:00,  3.86image/s]\n",
      "Processing Sports Equipment & Tools/Fitness Equipment & Tools: 0image [00:00, ?image/s]\n",
      "Processing Sports Equipment & Tools/Football Equipment & Tools: 100%|██████████| 6/6 [00:01<00:00,  3.85image/s]\n",
      "Processing Sports Equipment & Tools/Light Medical Equipment & Tools: 0image [00:00, ?image/s]\n",
      "Processing Stationery/Board Pens: 100%|██████████| 24/24 [00:06<00:00,  3.81image/s]\n",
      "Processing Stationery/Boards, Flipcharts & Tools: 100%|██████████| 9/9 [00:02<00:00,  3.80image/s]\n",
      "Processing Stationery/Calculators & Batteries: 100%|██████████| 12/12 [00:03<00:00,  3.19image/s]\n",
      "Processing Stationery/Clips: 100%|██████████| 39/39 [00:11<00:00,  3.47image/s]\n",
      "Processing Stationery/Envelopes: 100%|██████████| 15/15 [00:04<00:00,  3.74image/s]\n",
      "Processing Stationery/Erasers & Sharpeners: 100%|██████████| 12/12 [00:03<00:00,  3.84image/s]\n",
      "Processing Stationery/Files: 100%|██████████| 78/78 [00:20<00:00,  3.77image/s]\n",
      "Processing Stationery/Filling Tools & Machines: 100%|██████████| 36/36 [00:09<00:00,  3.82image/s]\n"
     ]
    }
   ],
   "source": [
    "for catalog in os.listdir(input_dir):\n",
    "    catalog_path = os.path.join(input_dir, catalog)\n",
    "    if not os.path.isdir(catalog_path):\n",
    "        continue\n",
    "\n",
    "    for category in os.listdir(catalog_path):\n",
    "        category_path = os.path.join(catalog_path, category)\n",
    "        if not os.path.isdir(category_path):\n",
    "            continue\n",
    "\n",
    "        # Use tqdm to create a progress bar for the product images in the category\n",
    "        product_files = [f for f in os.listdir(category_path) if f.endswith('.jpg')]\n",
    "        progress_bar = tqdm(total=len(product_files), desc=f\"Processing {catalog}/{category}\", unit=\"image\")\n",
    "\n",
    "        for product_file in product_files:\n",
    "            product_path = os.path.join(category_path, product_file)\n",
    "\n",
    "            # Check if the image is read correctly\n",
    "            image = cv2.imread(product_path)\n",
    "            if image is None:\n",
    "                print(f\"Error: Unable to read image {product_file}\")\n",
    "                continue\n",
    "\n",
    "            # Apply image processing functions\n",
    "            processed_image = reverse_image(processed_image)\n",
    "\n",
    "            # Save the processed image in the same directory without deleting the original image\n",
    "            processed_path = os.path.join(category_path, f\"processed_{product_file}\")\n",
    "            cv2.imwrite(processed_path, processed_image)\n",
    "\n",
    "            progress_bar.update(1)  # Update the progress bar after processing each image\n",
    "\n",
    "        progress_bar.close()  # Close the progress bar for the current category\n"
   ]
  },
  {
   "cell_type": "code",
   "execution_count": 15,
   "metadata": {},
   "outputs": [
    {
     "name": "stderr",
     "output_type": "stream",
     "text": [
      "Processing Cleaning & Disinfections Chemicals/Air Fresheners: 100%|██████████| 40/40 [00:18<00:00,  2.21image/s]\n",
      "Processing Cleaning & Disinfections Chemicals/Disinfections & General Cleaners: 100%|██████████| 55/55 [00:44<00:00,  1.24image/s]\n",
      "Processing Cleaning & Disinfections Chemicals/Drain Opener: 100%|██████████| 60/60 [00:30<00:00,  2.00image/s]\n",
      "Processing Cleaning & Disinfections Chemicals/Glass Cleaner: 100%|██████████| 15/15 [00:05<00:00,  2.92image/s]\n",
      "Processing Cleaning & Disinfections Chemicals/Hand Soap: 100%|██████████| 40/40 [00:15<00:00,  2.61image/s]\n",
      "Processing Cleaning & Disinfections Chemicals/Kitchen Cleaning Chemicals: 100%|██████████| 25/25 [00:09<00:00,  2.50image/s]\n",
      "Processing Cleaning & Disinfections Chemicals/Specialized Chemicals: 100%|██████████| 125/125 [00:54<00:00,  2.31image/s]\n",
      "Processing Cleaning & Disinfections Chemicals/Surface & Floor Cleaning: 100%|██████████| 25/25 [00:09<00:00,  2.66image/s]\n",
      "Processing Cleaning & Disinfections Chemicals/Toilet Cleaning: 100%|██████████| 10/10 [00:03<00:00,  2.70image/s]\n",
      "Processing Cleaning Equipment & Tools/Cleaning Power Equipment: 100%|██████████| 50/50 [00:19<00:00,  2.61image/s]\n",
      "Processing Cleaning Equipment & Tools/Cleaning Tools: 100%|██████████| 140/140 [01:02<00:00,  2.24image/s]\n",
      "Processing Cleaning Equipment & Tools/Containers & Wastebaskets: 100%|██████████| 210/210 [01:30<00:00,  2.32image/s]\n",
      "Processing Cleaning Equipment & Tools/Dispensers: 100%|██████████| 30/30 [00:19<00:00,  1.51image/s]\n",
      "Processing Decorations/Acoustic Panels: 100%|██████████| 105/105 [00:58<00:00,  1.79image/s]\n",
      "Processing Decorations/Frames: 0image [00:00, ?image/s]\n",
      "Processing Doors & Gates/Doors & Accessories: 100%|██████████| 95/95 [00:49<00:00,  1.94image/s]\n",
      "Processing Doors & Gates/Security Gates: 0image [00:00, ?image/s]\n",
      "Processing Flooring/Artificial Grass: 0image [00:00, ?image/s]\n",
      "Processing Flooring/Carpet: 100%|██████████| 450/450 [03:32<00:00,  2.12image/s]\n",
      "Processing Flooring/Ceramic Tiles: 100%|██████████| 10/10 [00:04<00:00,  2.37image/s]\n",
      "Processing Flooring/Outdoor Flooring: 0image [00:00, ?image/s]\n",
      "Processing Flooring/Parquet: 100%|██████████| 60/60 [00:25<00:00,  2.37image/s]\n",
      "Processing Flooring/Porcelain Tiles: 100%|██████████| 70/70 [00:29<00:00,  2.39image/s]\n",
      "Processing Flooring/Vinyl: 100%|██████████| 5/5 [00:02<00:00,  2.24image/s]\n",
      "Processing Groceries/Coffee & Coffee Mate: 100%|██████████| 120/120 [00:49<00:00,  2.45image/s]\n",
      "Processing Groceries/Dairy Products: 100%|██████████| 100/100 [00:41<00:00,  2.41image/s]\n",
      "Processing Groceries/Packed Bakery: 100%|██████████| 20/20 [00:09<00:00,  2.13image/s]\n",
      "Processing Industrial Maintenance & Cleaning Chemical/Cleaners: 0image [00:00, ?image/s]\n",
      "Processing IT Hardware & Accessories/Cables: 100%|██████████| 5/5 [00:02<00:00,  2.17image/s]\n",
      "Processing IT Hardware & Accessories/Data Server Cabinets & Materials: 100%|██████████| 20/20 [00:08<00:00,  2.32image/s]\n",
      "Processing IT Hardware & Accessories/Laptops & PC: 100%|██████████| 30/30 [00:13<00:00,  2.23image/s]\n",
      "Processing IT Hardware & Accessories/Monitors: 100%|██████████| 45/45 [00:20<00:00,  2.19image/s]\n",
      "Processing IT Hardware & Accessories/Networks Accessories: 100%|██████████| 55/55 [00:23<00:00,  2.32image/s]\n",
      "Processing IT Hardware & Accessories/Peripherals & Accessories: 100%|██████████| 5/5 [00:02<00:00,  2.19image/s]\n",
      "Processing IT Hardware & Accessories/Printers & Scanners: 100%|██████████| 10/10 [00:05<00:00,  1.98image/s]\n",
      "Processing IT Hardware & Accessories/Routers & Extenders: 100%|██████████| 170/170 [01:14<00:00,  2.27image/s]\n",
      "Processing IT Hardware & Accessories/Switches: 100%|██████████| 65/65 [00:31<00:00,  2.04image/s]\n",
      "Processing Office Furniture/Cabinets: 100%|██████████| 70/70 [00:29<00:00,  2.41image/s]\n",
      "Processing Office Furniture/Coffee & Side Tables: 100%|██████████| 75/75 [00:29<00:00,  2.53image/s]\n",
      "Processing Office Furniture/Coffee Stations: 100%|██████████| 60/60 [00:25<00:00,  2.35image/s]\n",
      "Processing Office Furniture/Meeting Tables: 100%|██████████| 25/25 [00:09<00:00,  2.60image/s]\n",
      "Processing Office Furniture/Silent Rooms: 100%|██████████| 10/10 [00:03<00:00,  2.58image/s]\n",
      "Processing Office Furniture/Storing Shelves: 0image [00:00, ?image/s]\n",
      "Processing Office Furniture/Workstations: 100%|██████████| 85/85 [00:41<00:00,  2.03image/s]\n",
      "Processing Office items/Anti-Virus: 0image [00:00, ?image/s]\n",
      "Processing Office items/Cleaning and Hygiene Supplies: 100%|██████████| 5/5 [00:01<00:00,  2.52image/s]\n",
      "Processing Office items/Furniture: 100%|██████████| 10/10 [00:04<00:00,  2.37image/s]\n",
      "Processing Office items/Office stationery:  94%|█████████▍| 15/16 [00:05<00:00,  2.53image/s]\n"
     ]
    },
    {
     "name": "stdout",
     "output_type": "stream",
     "text": [
      "Error: Unable to read image حامل_ادوات_مكتبية.jpg\n"
     ]
    },
    {
     "name": "stderr",
     "output_type": "stream",
     "text": [
      "Processing Office items/Printers - Desktop: 100%|██████████| 16/16 [00:07<00:00,  2.28image/s]\n",
      "Processing Office items/Software: 0image [00:00, ?image/s]\n",
      "Processing Packaging Materials/Aluminum Containers: 0image [00:00, ?image/s]\n",
      "Processing Packaging Materials/Paper Containers: 0image [00:00, ?image/s]\n",
      "Processing Packaging Materials/Plastic Containers: 0image [00:00, ?image/s]\n",
      "Processing Plastic, Tissues, & Paper Wares/Bags & Trash Bags: 100%|██████████| 28/28 [00:14<00:00,  1.87image/s]\n",
      "Processing Plastic, Tissues, & Paper Wares/Paper Bags: 100%|██████████| 36/36 [00:20<00:00,  1.77image/s]\n",
      "Processing Plastic, Tissues, & Paper Wares/Paper cups: 100%|██████████| 32/32 [00:12<00:00,  2.61image/s]\n",
      "Processing Plastic, Tissues, & Paper Wares/Plastic Cups: 100%|██████████| 24/24 [00:09<00:00,  2.64image/s]\n",
      "Processing Plastic, Tissues, & Paper Wares/Plastic Wares: 100%|██████████| 96/96 [00:37<00:00,  2.54image/s]\n",
      "Processing Plastic, Tissues, & Paper Wares/Tissues: 100%|██████████| 60/60 [00:23<00:00,  2.57image/s]\n",
      "Processing Plastic, Tissues, & Paper Wares/Wooden Wares: 100%|██████████| 12/12 [00:04<00:00,  2.79image/s]\n",
      "Processing processed_images/Cleaning & Disinfections Chemicals: 0image [00:00, ?image/s]\n",
      "Processing processed_images/Cleaning Equipment & Tools: 0image [00:00, ?image/s]\n",
      "Processing processed_images/Decorations: 0image [00:00, ?image/s]\n",
      "Processing processed_images/Doors & Gates: 0image [00:00, ?image/s]\n",
      "Processing processed_images/Flooring: 0image [00:00, ?image/s]\n",
      "Processing processed_images/Groceries: 0image [00:00, ?image/s]\n",
      "Processing processed_images/Industrial Maintenance & Cleaning Chemical: 0image [00:00, ?image/s]\n",
      "Processing processed_images/IT Hardware & Accessories: 0image [00:00, ?image/s]\n",
      "Processing processed_images/Office Furniture: 0image [00:00, ?image/s]\n",
      "Processing processed_images/Office items: 0image [00:00, ?image/s]\n",
      "Processing Safety Products/Emergency Lights: 100%|██████████| 12/12 [00:04<00:00,  2.85image/s]\n",
      "Processing Safety Products/Fire Alarm System: 100%|██████████| 4/4 [00:01<00:00,  2.61image/s]\n",
      "Processing Safety Products/Fire Extinguisher: 100%|██████████| 44/44 [00:15<00:00,  2.75image/s]\n",
      "Processing Safety Products/Personal Protection: 100%|██████████| 188/188 [01:08<00:00,  2.74image/s]\n",
      "Processing Safety Products/Safety Shoes: 0image [00:00, ?image/s]\n",
      "Processing Safety Products/Safety tools: 100%|██████████| 24/24 [00:09<00:00,  2.41image/s]\n",
      "Processing Sanitization & Personal Protection/Medical Masks: 100%|██████████| 8/8 [00:03<00:00,  2.17image/s]\n",
      "Processing Seating Furniture/Chairs & Accessories: 100%|██████████| 456/456 [03:04<00:00,  2.47image/s]\n",
      "Processing Seating Furniture/Cinema Sofas: 100%|██████████| 12/12 [00:04<00:00,  2.81image/s]\n",
      "Processing Seating Furniture/Office Chairs: 100%|██████████| 104/104 [00:36<00:00,  2.88image/s]\n",
      "Processing Seating Furniture/Recliner Chairs: 100%|██████████| 84/84 [00:31<00:00,  2.68image/s]\n",
      "Processing Seating Furniture/Sofas: 100%|██████████| 24/24 [00:10<00:00,  2.31image/s]\n",
      "Processing Seating Furniture/Theater Chairs: 100%|██████████| 44/44 [00:19<00:00,  2.22image/s]\n",
      "Processing Sinks & Sanitary Wares/Mixers: 100%|██████████| 12/12 [00:06<00:00,  1.88image/s]\n",
      "Processing Sinks & Sanitary Wares/Sanitary Ware: 100%|██████████| 24/24 [00:14<00:00,  1.70image/s]\n",
      "Processing Sinks & Sanitary Wares/Toilet accessories: 100%|██████████| 20/20 [00:07<00:00,  2.64image/s]\n",
      "Processing Sinks & Sanitary Wares/Water Heater: 100%|██████████| 12/12 [00:04<00:00,  2.60image/s]\n",
      "Processing Sports Equipment & Tools/Fitness Equipment & Tools: 0image [00:00, ?image/s]\n",
      "Processing Sports Equipment & Tools/Football Equipment & Tools: 100%|██████████| 8/8 [00:02<00:00,  2.70image/s]\n",
      "Processing Sports Equipment & Tools/Light Medical Equipment & Tools: 0image [00:00, ?image/s]\n",
      "Processing Stationery/Board Pens: 100%|██████████| 32/32 [00:11<00:00,  2.69image/s]\n",
      "Processing Stationery/Boards, Flipcharts & Tools: 100%|██████████| 12/12 [00:04<00:00,  2.72image/s]\n",
      "Processing Stationery/Calculators & Batteries: 100%|██████████| 16/16 [00:08<00:00,  1.97image/s]\n",
      "Processing Stationery/Clips: 100%|██████████| 52/52 [00:24<00:00,  2.13image/s]\n",
      "Processing Stationery/Envelopes: 100%|██████████| 20/20 [00:09<00:00,  2.11image/s]\n",
      "Processing Stationery/Erasers & Sharpeners: 100%|██████████| 16/16 [00:06<00:00,  2.44image/s]\n",
      "Processing Stationery/Files: 100%|██████████| 104/104 [00:45<00:00,  2.31image/s]\n",
      "Processing Stationery/Filling Tools & Machines: 100%|██████████| 48/48 [00:20<00:00,  2.32image/s]\n"
     ]
    }
   ],
   "source": [
    "import os\n",
    "import cv2\n",
    "import numpy as np\n",
    "from tqdm import tqdm\n",
    "\n",
    "def normalize_image(image):\n",
    "    return cv2.normalize(image, None, alpha=0, beta=1, norm_type=cv2.NORM_MINMAX, dtype=cv2.CV_32F)\n",
    "\n",
    "def reverse_image(image):\n",
    "    return cv2.bitwise_not(image)\n",
    "\n",
    "def sharpen_edges(image):\n",
    "    kernel = np.array([[-1, -1, -1], [-1, 9, -1], [-1, -1, -1]])\n",
    "    return cv2.filter2D(image, -1, kernel)\n",
    "\n",
    "def enhance_image(image):\n",
    "    # Apply any other enhancement techniques here as needed.\n",
    "    # For example, histogram equalization, contrast adjustment, etc.\n",
    "    return image\n",
    "\n",
    "def save_processed_image(image, output_path):\n",
    "    os.makedirs(os.path.dirname(output_path), exist_ok=True)\n",
    "    cv2.imwrite(output_path, image)\n",
    "\n",
    "input_dir = r'D:\\PENNY\\Gaiat products\\images'\n",
    "\n",
    "for catalog in os.listdir(input_dir):\n",
    "    catalog_path = os.path.join(input_dir, catalog)\n",
    "    if not os.path.isdir(catalog_path):\n",
    "        continue\n",
    "\n",
    "    for category in os.listdir(catalog_path):\n",
    "        category_path = os.path.join(catalog_path, category)\n",
    "        if not os.path.isdir(category_path):\n",
    "            continue\n",
    "\n",
    "        # Use tqdm to create a progress bar for the product images in the category\n",
    "        product_files = [f for f in os.listdir(category_path) if f.endswith('.jpg')]\n",
    "        progress_bar = tqdm(total=len(product_files), desc=f\"Processing {catalog}/{category}\", unit=\"image\")\n",
    "\n",
    "        for product_file in product_files:\n",
    "            product_path = os.path.join(category_path, product_file)\n",
    "\n",
    "            # Check if the image is read correctly\n",
    "            image = cv2.imread(product_path)\n",
    "            if image is None:\n",
    "                print(f\"Error: Unable to read image {product_file}\")\n",
    "                continue\n",
    "\n",
    "            # Apply image processing functions\n",
    "            processed_image = normalize_image(image)\n",
    "            processed_image = reverse_image(processed_image)\n",
    "            processed_image = sharpen_edges(processed_image)\n",
    "            processed_image = enhance_image(processed_image)\n",
    "\n",
    "            # Save the processed images as individual files\n",
    "            processed_base_name = os.path.splitext(product_file)[0]\n",
    "            save_processed_image(processed_image, os.path.join(category_path, f\"{processed_base_name}_normalized.jpg\"))\n",
    "            save_processed_image(reverse_image(image), os.path.join(category_path, f\"{processed_base_name}_reversed.jpg\"))\n",
    "            save_processed_image(sharpen_edges(image), os.path.join(category_path, f\"{processed_base_name}_sharpened.jpg\"))\n",
    "            save_processed_image(enhance_image(image), os.path.join(category_path, f\"{processed_base_name}_enhanced.jpg\"))\n",
    "\n",
    "            progress_bar.update(1)  # Update the progress bar after processing each image\n",
    "\n",
    "        progress_bar.close()  # Close the progress bar for the current category\n"
   ]
  },
  {
   "cell_type": "code",
   "execution_count": 16,
   "metadata": {},
   "outputs": [
    {
     "name": "stderr",
     "output_type": "stream",
     "text": [
      "Processing Cleaning & Disinfections Chemicals/Air Fresheners: 100%|██████████| 8/8 [00:02<00:00,  3.57image/s]\n",
      "Processing Cleaning & Disinfections Chemicals/Disinfections & General Cleaners: 100%|██████████| 11/11 [00:00<00:00, 73.12image/s]\n",
      "Processing Cleaning & Disinfections Chemicals/Drain Opener: 100%|██████████| 12/12 [00:00<00:00, 27.19image/s]\n",
      "Processing Cleaning & Disinfections Chemicals/Glass Cleaner: 100%|██████████| 3/3 [00:00<00:00, 22.89image/s]\n",
      "Processing Cleaning & Disinfections Chemicals/Hand Soap: 100%|██████████| 8/8 [00:00<00:00, 16.56image/s]\n",
      "Processing Cleaning & Disinfections Chemicals/Kitchen Cleaning Chemicals: 100%|██████████| 5/5 [00:00<00:00, 36.53image/s]\n",
      "Processing Cleaning & Disinfections Chemicals/Specialized Chemicals: 100%|██████████| 25/25 [00:01<00:00, 20.92image/s]\n",
      "Processing Cleaning & Disinfections Chemicals/Surface & Floor Cleaning: 100%|██████████| 5/5 [00:00<00:00, 12.58image/s]\n",
      "Processing Cleaning & Disinfections Chemicals/Toilet Cleaning: 100%|██████████| 2/2 [00:00<00:00, 45.46image/s]\n",
      "Processing Cleaning Equipment & Tools/Cleaning Power Equipment: 100%|██████████| 10/10 [00:00<00:00, 22.58image/s]\n",
      "Processing Cleaning Equipment & Tools/Cleaning Tools: 100%|██████████| 28/28 [00:01<00:00, 19.22image/s]\n",
      "Processing Cleaning Equipment & Tools/Containers & Wastebaskets: 100%|██████████| 42/42 [00:00<00:00, 44.59image/s]\n",
      "Processing Cleaning Equipment & Tools/Dispensers: 100%|██████████| 6/6 [00:00<00:00, 31.94image/s]\n",
      "Processing Decorations/Acoustic Panels: 100%|██████████| 21/21 [00:00<00:00, 106.24image/s]\n",
      "Processing Decorations/Frames: 0image [00:00, ?image/s]\n",
      "Processing Doors & Gates/Doors & Accessories: 100%|██████████| 19/19 [00:00<00:00, 97.57image/s]\n",
      "Processing Doors & Gates/Security Gates: 0image [00:00, ?image/s]\n",
      "Processing Flooring/Artificial Grass: 0image [00:00, ?image/s]\n",
      "Processing Flooring/Carpet: 100%|██████████| 90/90 [00:00<00:00, 125.80image/s]\n",
      "Processing Flooring/Ceramic Tiles: 100%|██████████| 2/2 [00:00<00:00, 43.59image/s]\n",
      "Processing Flooring/Outdoor Flooring: 0image [00:00, ?image/s]\n",
      "Processing Flooring/Parquet: 100%|██████████| 12/12 [00:00<00:00, 32.14image/s]\n",
      "Processing Flooring/Porcelain Tiles: 100%|██████████| 14/14 [00:00<00:00, 104.38image/s]\n",
      "Processing Flooring/Vinyl: 100%|██████████| 1/1 [00:00<00:00, 12.77image/s]\n",
      "Processing Groceries/Coffee & Coffee Mate: 100%|██████████| 24/24 [00:00<00:00, 24.70image/s]\n",
      "Processing Groceries/Dairy Products: 100%|██████████| 20/20 [00:00<00:00, 31.38image/s]\n",
      "Processing Groceries/Packed Bakery: 100%|██████████| 4/4 [00:00<00:00, 17.77image/s]\n",
      "Processing Industrial Maintenance & Cleaning Chemical/Cleaners: 0image [00:00, ?image/s]\n",
      "Processing IT Hardware & Accessories/Cables: 100%|██████████| 1/1 [00:00<00:00,  7.78image/s]\n",
      "Processing IT Hardware & Accessories/Data Server Cabinets & Materials: 100%|██████████| 4/4 [00:00<00:00, 29.40image/s]\n",
      "Processing IT Hardware & Accessories/Laptops & PC: 100%|██████████| 6/6 [00:00<00:00, 20.95image/s]\n",
      "Processing IT Hardware & Accessories/Monitors: 100%|██████████| 9/9 [00:00<00:00,  9.29image/s]\n",
      "Processing IT Hardware & Accessories/Networks Accessories: 100%|██████████| 11/11 [00:00<00:00, 42.04image/s]\n",
      "Processing IT Hardware & Accessories/Peripherals & Accessories: 100%|██████████| 1/1 [00:00<00:00, 25.51image/s]\n",
      "Processing IT Hardware & Accessories/Printers & Scanners: 100%|██████████| 2/2 [00:00<00:00, 31.00image/s]\n",
      "Processing IT Hardware & Accessories/Routers & Extenders: 100%|██████████| 34/34 [00:00<00:00, 39.22image/s]\n",
      "Processing IT Hardware & Accessories/Switches: 100%|██████████| 13/13 [00:00<00:00, 39.62image/s]\n",
      "Processing Office Furniture/Cabinets: 100%|██████████| 14/14 [00:00<00:00, 65.67image/s]\n",
      "Processing Office Furniture/Coffee & Side Tables: 100%|██████████| 15/15 [00:00<00:00, 111.49image/s]\n",
      "Processing Office Furniture/Coffee Stations: 100%|██████████| 12/12 [00:00<00:00, 18.11image/s]\n",
      "Processing Office Furniture/Meeting Tables: 100%|██████████| 5/5 [00:00<00:00, 52.89image/s]\n",
      "Processing Office Furniture/Silent Rooms: 100%|██████████| 2/2 [00:00<00:00, 28.75image/s]\n",
      "Processing Office Furniture/Storing Shelves: 0image [00:00, ?image/s]\n",
      "Processing Office Furniture/Workstations: 100%|██████████| 17/17 [00:00<00:00, 51.84image/s]\n",
      "Processing Office items/Anti-Virus: 0image [00:00, ?image/s]\n",
      "Processing Office items/Cleaning and Hygiene Supplies: 100%|██████████| 1/1 [00:00<00:00, 13.24image/s]\n",
      "Processing Office items/Furniture: 100%|██████████| 2/2 [00:00<00:00, 59.49image/s]\n",
      "Processing Office items/Office stationery: 100%|██████████| 4/4 [00:00<00:00, 76.98image/s]\n"
     ]
    },
    {
     "name": "stdout",
     "output_type": "stream",
     "text": [
      "Error: Unable to read image D:\\PENNY\\Gaiat products\\images\\Office items\\Office stationery\\حامل_ادوات_مكتبية.jpg\n"
     ]
    },
    {
     "name": "stderr",
     "output_type": "stream",
     "text": [
      "Processing Office items/Printers - Desktop: 100%|██████████| 4/4 [00:00<00:00, 29.31image/s]\n",
      "Processing Office items/Software: 0image [00:00, ?image/s]\n",
      "Processing Packaging Materials/Aluminum Containers: 0image [00:00, ?image/s]\n",
      "Processing Packaging Materials/Paper Containers: 0image [00:00, ?image/s]\n",
      "Processing Packaging Materials/Plastic Containers: 0image [00:00, ?image/s]\n",
      "Processing Plastic, Tissues, & Paper Wares/Bags & Trash Bags: 100%|██████████| 7/7 [00:00<00:00, 12.93image/s]\n",
      "Processing Plastic, Tissues, & Paper Wares/Paper Bags: 100%|██████████| 9/9 [00:00<00:00, 23.32image/s]\n",
      "Processing Plastic, Tissues, & Paper Wares/Paper cups: 100%|██████████| 8/8 [00:00<00:00, 35.24image/s]\n",
      "Processing Plastic, Tissues, & Paper Wares/Plastic Cups: 100%|██████████| 6/6 [00:00<00:00, 37.75image/s]\n",
      "Processing Plastic, Tissues, & Paper Wares/Plastic Wares: 100%|██████████| 24/24 [00:01<00:00, 19.00image/s]\n",
      "Processing Plastic, Tissues, & Paper Wares/Tissues: 100%|██████████| 15/15 [00:01<00:00,  8.42image/s]\n",
      "Processing Plastic, Tissues, & Paper Wares/Wooden Wares: 100%|██████████| 3/3 [00:00<00:00, 27.19image/s]\n",
      "Processing Safety Products/Emergency Lights: 100%|██████████| 3/3 [00:00<00:00, 26.42image/s]\n",
      "Processing Safety Products/Fire Alarm System: 100%|██████████| 1/1 [00:00<00:00, 58.86image/s]\n",
      "Processing Safety Products/Fire Extinguisher: 100%|██████████| 11/11 [00:00<00:00, 33.46image/s]\n",
      "Processing Safety Products/Personal Protection: 100%|██████████| 47/47 [00:00<00:00, 100.63image/s]\n",
      "Processing Safety Products/Safety Shoes: 0image [00:00, ?image/s]\n",
      "Processing Safety Products/Safety tools: 100%|██████████| 6/6 [00:00<00:00, 39.26image/s]\n",
      "Processing Sanitization & Personal Protection/Medical Masks: 100%|██████████| 2/2 [00:00<00:00,  8.47image/s]\n",
      "Processing Seating Furniture/Chairs & Accessories: 100%|██████████| 114/114 [00:03<00:00, 32.02image/s]\n",
      "Processing Seating Furniture/Cinema Sofas: 100%|██████████| 3/3 [00:00<00:00, 12.65image/s]\n",
      "Processing Seating Furniture/Office Chairs: 100%|██████████| 26/26 [00:00<00:00, 50.44image/s]\n",
      "Processing Seating Furniture/Recliner Chairs: 100%|██████████| 21/21 [00:00<00:00, 22.16image/s]\n",
      "Processing Seating Furniture/Sofas: 100%|██████████| 6/6 [00:00<00:00, 23.88image/s]\n",
      "Processing Seating Furniture/Theater Chairs: 100%|██████████| 11/11 [00:00<00:00, 78.71image/s]\n",
      "Processing Sinks & Sanitary Wares/Mixers: 100%|██████████| 3/3 [00:00<00:00, 25.96image/s]\n",
      "Processing Sinks & Sanitary Wares/Sanitary Ware: 100%|██████████| 6/6 [00:00<00:00, 16.28image/s]\n",
      "Processing Sinks & Sanitary Wares/Toilet accessories: 100%|██████████| 5/5 [00:00<00:00, 39.46image/s]\n",
      "Processing Sinks & Sanitary Wares/Water Heater: 100%|██████████| 3/3 [00:00<00:00, 31.39image/s]\n",
      "Processing Sports Equipment & Tools/Fitness Equipment & Tools: 0image [00:00, ?image/s]\n",
      "Processing Sports Equipment & Tools/Football Equipment & Tools: 100%|██████████| 2/2 [00:00<00:00, 30.79image/s]\n",
      "Processing Sports Equipment & Tools/Light Medical Equipment & Tools: 0image [00:00, ?image/s]\n",
      "Processing Stationery/Board Pens: 100%|██████████| 8/8 [00:00<00:00, 73.03image/s]\n",
      "Processing Stationery/Boards, Flipcharts & Tools: 100%|██████████| 3/3 [00:00<00:00, 43.38image/s]\n",
      "Processing Stationery/Calculators & Batteries: 100%|██████████| 4/4 [00:01<00:00,  2.93image/s]\n",
      "Processing Stationery/Clips: 100%|██████████| 13/13 [00:03<00:00,  3.57image/s]\n",
      "Processing Stationery/Envelopes: 100%|██████████| 5/5 [00:01<00:00,  3.19image/s]\n",
      "Processing Stationery/Erasers & Sharpeners: 100%|██████████| 4/4 [00:00<00:00, 12.13image/s]\n",
      "Processing Stationery/Files: 100%|██████████| 26/26 [00:02<00:00, 11.84image/s]\n",
      "Processing Stationery/Filling Tools & Machines: 100%|██████████| 12/12 [00:01<00:00,  9.28image/s]\n"
     ]
    }
   ],
   "source": [
    "import os\n",
    "import cv2\n",
    "import numpy as np\n",
    "from tqdm import tqdm\n",
    "from concurrent.futures import ThreadPoolExecutor\n",
    "\n",
    "def normalize_image(image):\n",
    "    return cv2.normalize(image, None, alpha=0, beta=1, norm_type=cv2.NORM_MINMAX, dtype=cv2.CV_32F)\n",
    "\n",
    "def reverse_image(image):\n",
    "    return cv2.bitwise_not(image)\n",
    "\n",
    "def sharpen_edges(image):\n",
    "    kernel = np.array([[-1, -1, -1], [-1, 9, -1], [-1, -1, -1]])\n",
    "    return cv2.filter2D(image, -1, kernel)\n",
    "\n",
    "def resize_image(image, new_size=(200, 200)):\n",
    "    return cv2.resize(image, new_size, interpolation=cv2.INTER_AREA)\n",
    "\n",
    "def process_image(image_path):\n",
    "    image = cv2.imread(image_path)\n",
    "    if image is None:\n",
    "        print(f\"Error: Unable to read image {image_path}\")\n",
    "        return\n",
    "\n",
    "    # Apply image processing functions\n",
    "    processed_image_normalized = normalize_image(image)\n",
    "    processed_image_reversed = reverse_image(image)\n",
    "    processed_image_resized = resize_image(image)\n",
    "    processed_image_sharpened = sharpen_edges(image)\n",
    "\n",
    "    # Save the processed images in the same directory with appropriate names\n",
    "    processed_base_name = os.path.splitext(os.path.basename(image_path))[0]\n",
    "\n",
    "    cv2.imwrite(os.path.join(os.path.dirname(image_path), f\"{processed_base_name}_normalized.jpg\"), processed_image_normalized)\n",
    "    cv2.imwrite(os.path.join(os.path.dirname(image_path), f\"{processed_base_name}_reversed.jpg\"), processed_image_reversed)\n",
    "    cv2.imwrite(os.path.join(os.path.dirname(image_path), f\"{processed_base_name}_resized.jpg\"), processed_image_resized)\n",
    "    cv2.imwrite(os.path.join(os.path.dirname(image_path), f\"{processed_base_name}_sharpened.jpg\"), processed_image_sharpened)\n",
    "\n",
    "input_dir = r'D:\\PENNY\\Gaiat products\\images'\n",
    "\n",
    "for catalog in os.listdir(input_dir):\n",
    "    catalog_path = os.path.join(input_dir, catalog)\n",
    "    if not os.path.isdir(catalog_path):\n",
    "        continue\n",
    "\n",
    "    for category in os.listdir(catalog_path):\n",
    "        category_path = os.path.join(catalog_path, category)\n",
    "        if not os.path.isdir(category_path):\n",
    "            continue\n",
    "\n",
    "        # Use tqdm to create a progress bar for the product images in the category\n",
    "        product_files = [os.path.join(category_path, f) for f in os.listdir(category_path) if f.endswith('.jpg')]\n",
    "        progress_bar = tqdm(total=len(product_files), desc=f\"Processing {catalog}/{category}\", unit=\"image\")\n",
    "\n",
    "        # Use ThreadPoolExecutor for parallel processing\n",
    "        with ThreadPoolExecutor() as executor:\n",
    "            futures = [executor.submit(process_image, image_path) for image_path in product_files]\n",
    "\n",
    "            for _ in futures:\n",
    "                progress_bar.update(1)  # Update the progress bar for each processed image\n",
    "\n",
    "        progress_bar.close()  # Close the progress bar for the current category\n"
   ]
  },
  {
   "cell_type": "code",
   "execution_count": 17,
   "metadata": {},
   "outputs": [
    {
     "name": "stderr",
     "output_type": "stream",
     "text": [
      "Processing D:\\PENNY\\Gaiat products\\images: 0image [00:00, ?image/s]\n",
      "Processing D:\\PENNY\\Gaiat products\\images\\Cleaning & Disinfections Chemicals: 0image [00:00, ?image/s]\n",
      "Processing D:\\PENNY\\Gaiat products\\images\\Cleaning & Disinfections Chemicals\\Air Fresheners: 100%|██████████| 69/69 [00:04<00:00, 16.87image/s]\n",
      "Processing D:\\PENNY\\Gaiat products\\images\\Cleaning & Disinfections Chemicals\\Disinfections & General Cleaners:   0%|          | 0/80 [00:00<?, ?image/s]"
     ]
    },
    {
     "name": "stdout",
     "output_type": "stream",
     "text": [
      "Error: Unable to read image D:\\PENNY\\Gaiat products\\images\\Cleaning & Disinfections Chemicals\\Disinfections & General Cleaners\\nebKblK_reversed.jpg\n",
      "Error: Unable to read image D:\\PENNY\\Gaiat products\\images\\Cleaning & Disinfections Chemicals\\Disinfections & General Cleaners\\nebKblK_sharpened.jpg\n",
      "Error: Unable to read image D:\\PENNY\\Gaiat products\\images\\Cleaning & Disinfections Chemicals\\Disinfections & General Cleaners\\V5ltJNm_normalized.jpg\n",
      "Error: Unable to read image D:\\PENNY\\Gaiat products\\images\\Cleaning & Disinfections Chemicals\\Disinfections & General Cleaners\\V5ltJNm_resized.jpg\n",
      "Error: Unable to read image D:\\PENNY\\Gaiat products\\images\\Cleaning & Disinfections Chemicals\\Disinfections & General Cleaners\\V5ltJNm_sharpened.jpg\n",
      "Error: Unable to read image D:\\PENNY\\Gaiat products\\images\\Cleaning & Disinfections Chemicals\\Disinfections & General Cleaners\\yJMoyhZ_resized.jpg\n"
     ]
    },
    {
     "name": "stderr",
     "output_type": "stream",
     "text": [
      "Processing D:\\PENNY\\Gaiat products\\images\\Cleaning & Disinfections Chemicals\\Disinfections & General Cleaners: 100%|██████████| 80/80 [00:01<00:00, 42.53image/s]\n",
      "Processing D:\\PENNY\\Gaiat products\\images\\Cleaning & Disinfections Chemicals\\Drain Opener: 100%|██████████| 61/61 [00:01<00:00, 44.58image/s]\n",
      "Processing D:\\PENNY\\Gaiat products\\images\\Cleaning & Disinfections Chemicals\\Glass Cleaner:   0%|          | 0/17 [00:00<?, ?image/s]"
     ]
    },
    {
     "name": "stdout",
     "output_type": "stream",
     "text": [
      "Error: Unable to read image D:\\PENNY\\Gaiat products\\images\\Cleaning & Disinfections Chemicals\\Glass Cleaner\\QNX5Ba2_resized.jpg\n",
      "Error: Unable to read image D:\\PENNY\\Gaiat products\\images\\Cleaning & Disinfections Chemicals\\Glass Cleaner\\QNX5Ba2_sharpened.jpg\n"
     ]
    },
    {
     "name": "stderr",
     "output_type": "stream",
     "text": [
      "Processing D:\\PENNY\\Gaiat products\\images\\Cleaning & Disinfections Chemicals\\Glass Cleaner: 100%|██████████| 17/17 [00:00<00:00, 45.33image/s]\n",
      "Processing D:\\PENNY\\Gaiat products\\images\\Cleaning & Disinfections Chemicals\\Hand Soap:   0%|          | 0/69 [00:00<?, ?image/s]"
     ]
    },
    {
     "name": "stdout",
     "output_type": "stream",
     "text": [
      "Error: Unable to read image D:\\PENNY\\Gaiat products\\images\\Cleaning & Disinfections Chemicals\\Hand Soap\\KbaP6aN_normalized.jpg\n",
      "Error: Unable to read image D:\\PENNY\\Gaiat products\\images\\Cleaning & Disinfections Chemicals\\Hand Soap\\KbaP6aN_reversed.jpg\n"
     ]
    },
    {
     "name": "stderr",
     "output_type": "stream",
     "text": [
      "Processing D:\\PENNY\\Gaiat products\\images\\Cleaning & Disinfections Chemicals\\Hand Soap: 100%|██████████| 69/69 [00:02<00:00, 34.02image/s]\n",
      "Processing D:\\PENNY\\Gaiat products\\images\\Cleaning & Disinfections Chemicals\\Kitchen Cleaning Chemicals: 100%|██████████| 46/46 [00:00<00:00, 56.95image/s]\n",
      "Processing D:\\PENNY\\Gaiat products\\images\\Cleaning & Disinfections Chemicals\\Specialized Chemicals:   1%|          | 1/131 [00:00<00:22,  5.76image/s]"
     ]
    },
    {
     "name": "stdout",
     "output_type": "stream",
     "text": [
      "Error: Unable to read image D:\\PENNY\\Gaiat products\\images\\Cleaning & Disinfections Chemicals\\Specialized Chemicals\\9u0x3bT_reversed.jpg\n"
     ]
    },
    {
     "name": "stderr",
     "output_type": "stream",
     "text": [
      "Processing D:\\PENNY\\Gaiat products\\images\\Cleaning & Disinfections Chemicals\\Specialized Chemicals: 100%|██████████| 131/131 [00:03<00:00, 35.45image/s]\n",
      "Processing D:\\PENNY\\Gaiat products\\images\\Cleaning & Disinfections Chemicals\\Surface & Floor Cleaning:   0%|          | 0/33 [00:00<?, ?image/s]"
     ]
    },
    {
     "name": "stdout",
     "output_type": "stream",
     "text": [
      "Error: Unable to read image D:\\PENNY\\Gaiat products\\images\\Cleaning & Disinfections Chemicals\\Surface & Floor Cleaning\\GEwvR6L_normalized.jpg\n",
      "Error: Unable to read image D:\\PENNY\\Gaiat products\\images\\Cleaning & Disinfections Chemicals\\Surface & Floor Cleaning\\gK457QQ_normalized.jpg\n",
      "Error: Unable to read image D:\\PENNY\\Gaiat products\\images\\Cleaning & Disinfections Chemicals\\Surface & Floor Cleaning\\GEwvR6L_reversed.jpg\n",
      "Error: Unable to read image D:\\PENNY\\Gaiat products\\images\\Cleaning & Disinfections Chemicals\\Surface & Floor Cleaning\\sCv9vrc_reversed.jpg\n",
      "Error: Unable to read image D:\\PENNY\\Gaiat products\\images\\Cleaning & Disinfections Chemicals\\Surface & Floor Cleaning\\sCv9vrc_resized.jpg\n"
     ]
    },
    {
     "name": "stderr",
     "output_type": "stream",
     "text": [
      "Processing D:\\PENNY\\Gaiat products\\images\\Cleaning & Disinfections Chemicals\\Surface & Floor Cleaning: 100%|██████████| 33/33 [00:00<00:00, 40.14image/s]\n",
      "Processing D:\\PENNY\\Gaiat products\\images\\Cleaning & Disinfections Chemicals\\Toilet Cleaning: 100%|██████████| 17/17 [00:00<00:00, 120.09image/s]\n",
      "Processing D:\\PENNY\\Gaiat products\\images\\Cleaning Equipment & Tools: 0image [00:00, ?image/s]\n",
      "Processing D:\\PENNY\\Gaiat products\\images\\Cleaning Equipment & Tools\\Cleaning Power Equipment:   2%|▏         | 1/52 [00:00<00:13,  3.65image/s]"
     ]
    },
    {
     "name": "stdout",
     "output_type": "stream",
     "text": [
      "Error: Unable to read image D:\\PENNY\\Gaiat products\\images\\Cleaning Equipment & Tools\\Cleaning Power Equipment\\prod-20201004140228_resized.jpg\n"
     ]
    },
    {
     "name": "stderr",
     "output_type": "stream",
     "text": [
      "Processing D:\\PENNY\\Gaiat products\\images\\Cleaning Equipment & Tools\\Cleaning Power Equipment: 100%|██████████| 52/52 [00:01<00:00, 36.54image/s]\n",
      "Processing D:\\PENNY\\Gaiat products\\images\\Cleaning Equipment & Tools\\Cleaning Tools:   1%|          | 1/172 [00:00<00:25,  6.73image/s]"
     ]
    },
    {
     "name": "stdout",
     "output_type": "stream",
     "text": [
      "Error: Unable to read image D:\\PENNY\\Gaiat products\\images\\Cleaning Equipment & Tools\\Cleaning Tools\\CE30089_normalized.jpg\n",
      "Error: Unable to read image D:\\PENNY\\Gaiat products\\images\\Cleaning Equipment & Tools\\Cleaning Tools\\prod-20201004140605_reversed.jpg\n",
      "Error: Unable to read image D:\\PENNY\\Gaiat products\\images\\Cleaning Equipment & Tools\\Cleaning Tools\\subcat-20201001040332_normalized.jpg\n"
     ]
    },
    {
     "name": "stderr",
     "output_type": "stream",
     "text": [
      "Processing D:\\PENNY\\Gaiat products\\images\\Cleaning Equipment & Tools\\Cleaning Tools: 100%|██████████| 172/172 [00:04<00:00, 42.03image/s]\n",
      "Processing D:\\PENNY\\Gaiat products\\images\\Cleaning Equipment & Tools\\Containers & Wastebaskets:   0%|          | 0/241 [00:00<?, ?image/s]"
     ]
    },
    {
     "name": "stdout",
     "output_type": "stream",
     "text": [
      "Error: Unable to read image D:\\PENNY\\Gaiat products\\images\\Cleaning Equipment & Tools\\Containers & Wastebaskets\\1WKRlR1_normalized.jpg\n",
      "Error: Unable to read image D:\\PENNY\\Gaiat products\\images\\Cleaning Equipment & Tools\\Containers & Wastebaskets\\1WKRlR1_reversed.jpg\n",
      "Error: Unable to read image D:\\PENNY\\Gaiat products\\images\\Cleaning Equipment & Tools\\Containers & Wastebaskets\\wXyOvcK_reversed.jpg\n"
     ]
    },
    {
     "name": "stderr",
     "output_type": "stream",
     "text": [
      "Processing D:\\PENNY\\Gaiat products\\images\\Cleaning Equipment & Tools\\Containers & Wastebaskets: 100%|██████████| 241/241 [00:04<00:00, 56.65image/s]\n",
      "Processing D:\\PENNY\\Gaiat products\\images\\Cleaning Equipment & Tools\\Dispensers:   0%|          | 0/30 [00:00<?, ?image/s]"
     ]
    },
    {
     "name": "stdout",
     "output_type": "stream",
     "text": [
      "Error: Unable to read image D:\\PENNY\\Gaiat products\\images\\Cleaning Equipment & Tools\\Dispensers\\3v8U1Ms_normalized.jpg\n",
      "Error: Unable to read image D:\\PENNY\\Gaiat products\\images\\Cleaning Equipment & Tools\\Dispensers\\cQ5X8i4_normalized.jpg\n",
      "Error: Unable to read image D:\\PENNY\\Gaiat products\\images\\Cleaning Equipment & Tools\\Dispensers\\Cu3xlbn_normalized.jpg\n",
      "Error: Unable to read image D:\\PENNY\\Gaiat products\\images\\Cleaning Equipment & Tools\\Dispensers\\3v8U1Ms_reversed.jpg\n",
      "Error: Unable to read image D:\\PENNY\\Gaiat products\\images\\Cleaning Equipment & Tools\\Dispensers\\cQ5X8i4_resized.jpg\n",
      "Error: Unable to read image D:\\PENNY\\Gaiat products\\images\\Cleaning Equipment & Tools\\Dispensers\\cQ5X8i4_sharpened.jpg\n"
     ]
    },
    {
     "name": "stderr",
     "output_type": "stream",
     "text": [
      "Processing D:\\PENNY\\Gaiat products\\images\\Cleaning Equipment & Tools\\Dispensers: 100%|██████████| 30/30 [00:00<00:00, 56.79image/s]\n",
      "Processing D:\\PENNY\\Gaiat products\\images\\Decorations: 0image [00:00, ?image/s]\n",
      "Processing D:\\PENNY\\Gaiat products\\images\\Decorations\\Acoustic Panels:   0%|          | 0/105 [00:00<?, ?image/s]"
     ]
    },
    {
     "name": "stdout",
     "output_type": "stream",
     "text": [
      "Error: Unable to read image D:\\PENNY\\Gaiat products\\images\\Decorations\\Acoustic Panels\\AQ1000H_sharpened.jpgError: Unable to read image D:\\PENNY\\Gaiat products\\images\\Decorations\\Acoustic Panels\\AQ1000M_reversed.jpg\n",
      "\n",
      "Error: Unable to read image D:\\PENNY\\Gaiat products\\images\\Decorations\\Acoustic Panels\\AQ1000S_reversed.jpg\n",
      "Error: Unable to read image D:\\PENNY\\Gaiat products\\images\\Decorations\\Acoustic Panels\\ARC300W_normalized.jpg\n",
      "Error: Unable to read image D:\\PENNY\\Gaiat products\\images\\Decorations\\Acoustic Panels\\AQ1000S_sharpened.jpg\n",
      "Error: Unable to read image D:\\PENNY\\Gaiat products\\images\\Decorations\\Acoustic Panels\\ARC300W_reversed.jpg\n",
      "Error: Unable to read image D:\\PENNY\\Gaiat products\\images\\Decorations\\Acoustic Panels\\ARC300W_sharpened.jpg\n",
      "Error: Unable to read image D:\\PENNY\\Gaiat products\\images\\Decorations\\Acoustic Panels\\ARC300_resized.jpg\n",
      "Error: Unable to read image D:\\PENNY\\Gaiat products\\images\\Decorations\\Acoustic Panels\\ARC300_sharpened.jpg\n",
      "Error: Unable to read image D:\\PENNY\\Gaiat products\\images\\Decorations\\Acoustic Panels\\CK-16_normalized.jpg\n",
      "Error: Unable to read image D:\\PENNY\\Gaiat products\\images\\Decorations\\Acoustic Panels\\CK1_normalized.jpg\n",
      "Error: Unable to read image D:\\PENNY\\Gaiat products\\images\\Decorations\\Acoustic Panels\\CK1_reversed.jpg\n",
      "Error: Unable to read image D:\\PENNY\\Gaiat products\\images\\Decorations\\Acoustic Panels\\CK2_normalized.jpg\n",
      "Error: Unable to read image D:\\PENNY\\Gaiat products\\images\\Decorations\\Acoustic Panels\\CK2_reversed.jpg\n",
      "Error: Unable to read image D:\\PENNY\\Gaiat products\\images\\Decorations\\Acoustic Panels\\CK3_normalized.jpg\n",
      "Error: Unable to read image D:\\PENNY\\Gaiat products\\images\\Decorations\\Acoustic Panels\\CK3_reversed.jpg\n",
      "Error: Unable to read image D:\\PENNY\\Gaiat products\\images\\Decorations\\Acoustic Panels\\CK4_reversed.jpg\n",
      "Error: Unable to read image D:\\PENNY\\Gaiat products\\images\\Decorations\\Acoustic Panels\\CK3_resized.jpg\n",
      "Error: Unable to read image D:\\PENNY\\Gaiat products\\images\\Decorations\\Acoustic Panels\\CK3_sharpened.jpg\n",
      "Error: Unable to read image D:\\PENNY\\Gaiat products\\images\\Decorations\\Acoustic Panels\\CK4_resized.jpg\n",
      "Error: Unable to read image D:\\PENNY\\Gaiat products\\images\\Decorations\\Acoustic Panels\\CLOUD2C_normalized.jpg\n",
      "Error: Unable to read image D:\\PENNY\\Gaiat products\\images\\Decorations\\Acoustic Panels\\CM30E_normalized.jpg\n",
      "Error: Unable to read image D:\\PENNY\\Gaiat products\\images\\Decorations\\Acoustic Panels\\D60W_normalized.jpg\n",
      "Error: Unable to read image D:\\PENNY\\Gaiat products\\images\\Decorations\\Acoustic Panels\\D60W_reversed.jpg\n",
      "Error: Unable to read image D:\\PENNY\\Gaiat products\\images\\Decorations\\Acoustic Panels\\D80_resized.jpg\n",
      "Error: Unable to read image D:\\PENNY\\Gaiat products\\images\\Decorations\\Acoustic Panels\\D80W_resized.jpg\n",
      "Error: Unable to read image D:\\PENNY\\Gaiat products\\images\\Decorations\\Acoustic Panels\\D80W_sharpened.jpg\n",
      "Error: Unable to read image D:\\PENNY\\Gaiat products\\images\\Decorations\\Acoustic Panels\\D80_sharpened.jpg\n"
     ]
    },
    {
     "name": "stderr",
     "output_type": "stream",
     "text": [
      "Processing D:\\PENNY\\Gaiat products\\images\\Decorations\\Acoustic Panels: 100%|██████████| 105/105 [00:01<00:00, 54.73image/s]\n",
      "Processing D:\\PENNY\\Gaiat products\\images\\Decorations\\Frames: 100%|██████████| 12/12 [00:00<00:00, 74.03image/s]\n",
      "Processing D:\\PENNY\\Gaiat products\\images\\Doors & Gates: 0image [00:00, ?image/s]\n",
      "Processing D:\\PENNY\\Gaiat products\\images\\Doors & Gates\\Doors & Accessories:   0%|          | 0/95 [00:00<?, ?image/s]"
     ]
    },
    {
     "name": "stdout",
     "output_type": "stream",
     "text": [
      "Error: Unable to read image D:\\PENNY\\Gaiat products\\images\\Doors & Gates\\Doors & Accessories\\bh6zWJD_normalized.jpg\n",
      "Error: Unable to read image D:\\PENNY\\Gaiat products\\images\\Doors & Gates\\Doors & Accessories\\BrbH8c1_normalized.jpg\n",
      "Error: Unable to read image D:\\PENNY\\Gaiat products\\images\\Doors & Gates\\Doors & Accessories\\bh6zWJD_reversed.jpg\n",
      "Error: Unable to read image D:\\PENNY\\Gaiat products\\images\\Doors & Gates\\Doors & Accessories\\CbXod3h_normalized.jpg\n",
      "Error: Unable to read image D:\\PENNY\\Gaiat products\\images\\Doors & Gates\\Doors & Accessories\\BrbH8c1_reversed.jpg\n",
      "Error: Unable to read image D:\\PENNY\\Gaiat products\\images\\Doors & Gates\\Doors & Accessories\\bh6zWJD_resized.jpg\n",
      "Error: Unable to read image D:\\PENNY\\Gaiat products\\images\\Doors & Gates\\Doors & Accessories\\CbXod3h_reversed.jpg\n",
      "Error: Unable to read image D:\\PENNY\\Gaiat products\\images\\Doors & Gates\\Doors & Accessories\\HlJchIF_normalized.jpg\n",
      "Error: Unable to read image D:\\PENNY\\Gaiat products\\images\\Doors & Gates\\Doors & Accessories\\BrbH8c1_resized.jpg\n",
      "Error: Unable to read image D:\\PENNY\\Gaiat products\\images\\Doors & Gates\\Doors & Accessories\\HlJchIF_reversed.jpg\n",
      "Error: Unable to read image D:\\PENNY\\Gaiat products\\images\\Doors & Gates\\Doors & Accessories\\HlJchIF_resized.jpg\n",
      "Error: Unable to read image D:\\PENNY\\Gaiat products\\images\\Doors & Gates\\Doors & Accessories\\HRIfj1P_normalized.jpg\n",
      "Error: Unable to read image D:\\PENNY\\Gaiat products\\images\\Doors & Gates\\Doors & Accessories\\BrbH8c1_sharpened.jpg\n",
      "Error: Unable to read image D:\\PENNY\\Gaiat products\\images\\Doors & Gates\\Doors & Accessories\\ICkDqIL_normalized.jpg\n",
      "Error: Unable to read image D:\\PENNY\\Gaiat products\\images\\Doors & Gates\\Doors & Accessories\\HlJchIF_sharpened.jpg\n",
      "Error: Unable to read image D:\\PENNY\\Gaiat products\\images\\Doors & Gates\\Doors & Accessories\\kGUqwCS_normalized.jpg\n",
      "Error: Unable to read image D:\\PENNY\\Gaiat products\\images\\Doors & Gates\\Doors & Accessories\\CbXod3h_sharpened.jpg\n",
      "Error: Unable to read image D:\\PENNY\\Gaiat products\\images\\Doors & Gates\\Doors & Accessories\\kGUqwCS_reversed.jpg\n",
      "Error: Unable to read image D:\\PENNY\\Gaiat products\\images\\Doors & Gates\\Doors & Accessories\\KnGIBex_normalized.jpg\n",
      "Error: Unable to read image D:\\PENNY\\Gaiat products\\images\\Doors & Gates\\Doors & Accessories\\kGUqwCS_sharpened.jpg\n",
      "Error: Unable to read image D:\\PENNY\\Gaiat products\\images\\Doors & Gates\\Doors & Accessories\\ICkDqIL_reversed.jpg\n",
      "Error: Unable to read image D:\\PENNY\\Gaiat products\\images\\Doors & Gates\\Doors & Accessories\\KnGIBex_reversed.jpg\n",
      "Error: Unable to read image D:\\PENNY\\Gaiat products\\images\\Doors & Gates\\Doors & Accessories\\ICkDqIL_sharpened.jpg\n",
      "Error: Unable to read image D:\\PENNY\\Gaiat products\\images\\Doors & Gates\\Doors & Accessories\\HRIfj1P_reversed.jpg\n",
      "Error: Unable to read image D:\\PENNY\\Gaiat products\\images\\Doors & Gates\\Doors & Accessories\\kqiJLa1_normalized.jpg\n",
      "Error: Unable to read image D:\\PENNY\\Gaiat products\\images\\Doors & Gates\\Doors & Accessories\\tczxbA3_reversed.jpg\n",
      "Error: Unable to read image D:\\PENNY\\Gaiat products\\images\\Doors & Gates\\Doors & Accessories\\tczxbA3_resized.jpg\n",
      "Error: Unable to read image D:\\PENNY\\Gaiat products\\images\\Doors & Gates\\Doors & Accessories\\Tk6fmLy_reversed.jpg\n",
      "Error: Unable to read image D:\\PENNY\\Gaiat products\\images\\Doors & Gates\\Doors & Accessories\\uydIN9b_normalized.jpg\n",
      "Error: Unable to read image D:\\PENNY\\Gaiat products\\images\\Doors & Gates\\Doors & Accessories\\WGOX91y_resized.jpg\n",
      "Error: Unable to read image D:\\PENNY\\Gaiat products\\images\\Doors & Gates\\Doors & Accessories\\WGOX91y_sharpened.jpg\n",
      "Error: Unable to read image D:\\PENNY\\Gaiat products\\images\\Doors & Gates\\Doors & Accessories\\uydIN9b_resized.jpg\n",
      "Error: Unable to read image D:\\PENNY\\Gaiat products\\images\\Doors & Gates\\Doors & Accessories\\xvoiKUt_normalized.jpg\n",
      "Error: Unable to read image D:\\PENNY\\Gaiat products\\images\\Doors & Gates\\Doors & Accessories\\xvoiKUt_reversed.jpg\n",
      "Error: Unable to read image D:\\PENNY\\Gaiat products\\images\\Doors & Gates\\Doors & Accessories\\ytag0ub_resized.jpg\n",
      "Error: Unable to read image D:\\PENNY\\Gaiat products\\images\\Doors & Gates\\Doors & Accessories\\ytag0ub_sharpened.jpg\n",
      "Error: Unable to read image D:\\PENNY\\Gaiat products\\images\\Doors & Gates\\Doors & Accessories\\tczxbA3_sharpened.jpg\n",
      "Error: Unable to read image D:\\PENNY\\Gaiat products\\images\\Doors & Gates\\Doors & Accessories\\uydIN9b_sharpened.jpg\n",
      "Error: Unable to read image D:\\PENNY\\Gaiat products\\images\\Doors & Gates\\Doors & Accessories\\Tk6fmLy_sharpened.jpg\n",
      "Error: Unable to read image D:\\PENNY\\Gaiat products\\images\\Doors & Gates\\Doors & Accessories\\zdM5Bfy_normalized.jpg\n"
     ]
    },
    {
     "name": "stderr",
     "output_type": "stream",
     "text": [
      "Processing D:\\PENNY\\Gaiat products\\images\\Doors & Gates\\Doors & Accessories: 100%|██████████| 95/95 [00:00<00:00, 110.43image/s]\n",
      "Processing D:\\PENNY\\Gaiat products\\images\\Doors & Gates\\Security Gates: 100%|██████████| 3/3 [00:00<00:00, 96.76image/s]\n",
      "Processing D:\\PENNY\\Gaiat products\\images\\Flooring: 0image [00:00, ?image/s]\n",
      "Processing D:\\PENNY\\Gaiat products\\images\\Flooring\\Artificial Grass: 100%|██████████| 2/2 [00:00<00:00,  6.59image/s]\n",
      "Processing D:\\PENNY\\Gaiat products\\images\\Flooring\\Carpet:   0%|          | 0/450 [00:00<?, ?image/s]"
     ]
    },
    {
     "name": "stdout",
     "output_type": "stream",
     "text": [
      "Error: Unable to read image D:\\PENNY\\Gaiat products\\images\\Flooring\\Carpet\\0aCo8jH_normalized.jpg\n",
      "Error: Unable to read image D:\\PENNY\\Gaiat products\\images\\Flooring\\Carpet\\0IvRp3t_reversed.jpg\n",
      "Error: Unable to read image D:\\PENNY\\Gaiat products\\images\\Flooring\\Carpet\\0IvRp3t_resized.jpg\n",
      "Error: Unable to read image D:\\PENNY\\Gaiat products\\images\\Flooring\\Carpet\\2heQKLY_normalized.jpg\n",
      "Error: Unable to read image D:\\PENNY\\Gaiat products\\images\\Flooring\\Carpet\\2heQKLY_sharpened.jpg\n",
      "Error: Unable to read image D:\\PENNY\\Gaiat products\\images\\Flooring\\Carpet\\2U1le7q_normalized.jpg\n",
      "Error: Unable to read image D:\\PENNY\\Gaiat products\\images\\Flooring\\Carpet\\35FrIrn_normalized.jpg\n",
      "Error: Unable to read image D:\\PENNY\\Gaiat products\\images\\Flooring\\Carpet\\3GvEMky_resized.jpg\n",
      "Error: Unable to read image D:\\PENNY\\Gaiat products\\images\\Flooring\\Carpet\\35FrIrn_reversed.jpg\n",
      "Error: Unable to read image D:\\PENNY\\Gaiat products\\images\\Flooring\\Carpet\\35FrIrn_resized.jpg\n",
      "Error: Unable to read image D:\\PENNY\\Gaiat products\\images\\Flooring\\Carpet\\35FrIrn_sharpened.jpg\n",
      "Error: Unable to read image D:\\PENNY\\Gaiat products\\images\\Flooring\\Carpet\\90eENCD_normalized.jpg\n",
      "Error: Unable to read image D:\\PENNY\\Gaiat products\\images\\Flooring\\Carpet\\89NBkDI_sharpened.jpg\n",
      "Error: Unable to read image D:\\PENNY\\Gaiat products\\images\\Flooring\\Carpet\\9dX3s0y_sharpened.jpg\n",
      "Error: Unable to read image D:\\PENNY\\Gaiat products\\images\\Flooring\\Carpet\\90eENCD_reversed.jpg\n",
      "Error: Unable to read image D:\\PENNY\\Gaiat products\\images\\Flooring\\Carpet\\a8uDmJv_normalized.jpg\n",
      "Error: Unable to read image D:\\PENNY\\Gaiat products\\images\\Flooring\\Carpet\\a8uDmJv_reversed.jpg\n",
      "Error: Unable to read image D:\\PENNY\\Gaiat products\\images\\Flooring\\Carpet\\BSfEApG_resized.jpg\n",
      "Error: Unable to read image D:\\PENNY\\Gaiat products\\images\\Flooring\\Carpet\\cHTt0Ni_normalized.jpg\n",
      "Error: Unable to read image D:\\PENNY\\Gaiat products\\images\\Flooring\\Carpet\\CddMYTV_resized.jpg\n",
      "Error: Unable to read image D:\\PENNY\\Gaiat products\\images\\Flooring\\Carpet\\Cf3Rsr0_normalized.jpg\n",
      "Error: Unable to read image D:\\PENNY\\Gaiat products\\images\\Flooring\\Carpet\\kg8ERWq_normalized.jpg\n",
      "Error: Unable to read image D:\\PENNY\\Gaiat products\\images\\Flooring\\Carpet\\LGCyfH4_sharpened.jpg\n",
      "Error: Unable to read image D:\\PENNY\\Gaiat products\\images\\Flooring\\Carpet\\nOmHGNB_normalized.jpg\n",
      "Error: Unable to read image D:\\PENNY\\Gaiat products\\images\\Flooring\\Carpet\\qn6Z9JG_normalized.jpg\n",
      "Error: Unable to read image D:\\PENNY\\Gaiat products\\images\\Flooring\\Carpet\\SWq8qrU_normalized.jpg\n",
      "Error: Unable to read image D:\\PENNY\\Gaiat products\\images\\Flooring\\Carpet\\yDvAlEa_normalized.jpg\n",
      "Error: Unable to read image D:\\PENNY\\Gaiat products\\images\\Flooring\\Carpet\\YE6siwP_sharpened.jpg\n",
      "Error: Unable to read image D:\\PENNY\\Gaiat products\\images\\Flooring\\Carpet\\zGZibIK_normalized.jpg\n",
      "Error: Unable to read image D:\\PENNY\\Gaiat products\\images\\Flooring\\Carpet\\zPObBvJ_normalized.jpg\n"
     ]
    },
    {
     "name": "stderr",
     "output_type": "stream",
     "text": [
      "Processing D:\\PENNY\\Gaiat products\\images\\Flooring\\Carpet: 100%|██████████| 450/450 [00:04<00:00, 109.13image/s]"
     ]
    },
    {
     "name": "stdout",
     "output_type": "stream",
     "text": [
      "Error: Unable to read image D:\\PENNY\\Gaiat products\\images\\Flooring\\Carpet\\zGZibIK_reversed.jpg\n",
      "Error: Unable to read image D:\\PENNY\\Gaiat products\\images\\Flooring\\Carpet\\zPObBvJ_reversed.jpg\n"
     ]
    },
    {
     "name": "stderr",
     "output_type": "stream",
     "text": [
      "\n",
      "Processing D:\\PENNY\\Gaiat products\\images\\Flooring\\Ceramic Tiles: 100%|██████████| 10/10 [00:00<00:00, 108.61image/s]\n"
     ]
    },
    {
     "name": "stdout",
     "output_type": "stream",
     "text": [
      "Error: Unable to read image D:\\PENNY\\Gaiat products\\images\\Flooring\\Ceramic Tiles\\generated_8-ARB45BAIDIVOZMSNLR-BRAID.jpg.380x380_q85_normalized.jpg\n",
      "Error: Unable to read image D:\\PENNY\\Gaiat products\\images\\Flooring\\Ceramic Tiles\\generated_8-ARB45BAIDIVOZMSNLR-BRAID.jpg.380x380_q85_resized.jpg\n"
     ]
    },
    {
     "name": "stderr",
     "output_type": "stream",
     "text": [
      "Processing D:\\PENNY\\Gaiat products\\images\\Flooring\\Outdoor Flooring: 100%|██████████| 3/3 [00:00<00:00,  9.13image/s]\n",
      "Processing D:\\PENNY\\Gaiat products\\images\\Flooring\\Parquet: 100%|██████████| 68/68 [00:02<00:00, 30.35image/s]\n",
      "Processing D:\\PENNY\\Gaiat products\\images\\Flooring\\Porcelain Tiles:   0%|          | 0/70 [00:00<?, ?image/s]"
     ]
    },
    {
     "name": "stdout",
     "output_type": "stream",
     "text": [
      "Error: Unable to read image D:\\PENNY\\Gaiat products\\images\\Flooring\\Porcelain Tiles\\A2qyKjj_reversed.jpg\n",
      "Error: Unable to read image D:\\PENNY\\Gaiat products\\images\\Flooring\\Porcelain Tiles\\FCCxnWj_normalized.jpg\n"
     ]
    },
    {
     "name": "stderr",
     "output_type": "stream",
     "text": [
      "Processing D:\\PENNY\\Gaiat products\\images\\Flooring\\Porcelain Tiles: 100%|██████████| 70/70 [00:00<00:00, 97.93image/s]\n",
      "Processing D:\\PENNY\\Gaiat products\\images\\Flooring\\Vinyl: 100%|██████████| 5/5 [00:00<00:00, 12.14image/s]\n",
      "Processing D:\\PENNY\\Gaiat products\\images\\Groceries: 0image [00:00, ?image/s]\n",
      "Processing D:\\PENNY\\Gaiat products\\images\\Groceries\\Coffee & Coffee Mate:   1%|          | 1/144 [00:00<00:18,  7.84image/s]"
     ]
    },
    {
     "name": "stdout",
     "output_type": "stream",
     "text": [
      "Error: Unable to read image D:\\PENNY\\Gaiat products\\images\\Groceries\\Coffee & Coffee Mate\\IL20181112222103873.jpg_600x800x80_resized.jpg\n",
      "Error: Unable to read image D:\\PENNY\\Gaiat products\\images\\Groceries\\Coffee & Coffee Mate\\IL20181112222103873.jpg_600x800x80_sharpened.jpg\n",
      "Error: Unable to read image D:\\PENNY\\Gaiat products\\images\\Groceries\\Coffee & Coffee Mate\\item_XL_24399661_35681881_469x_normalized.jpg\n",
      "Error: Unable to read image D:\\PENNY\\Gaiat products\\images\\Groceries\\Coffee & Coffee Mate\\nes-12083813-nescafe-red-mug-instant-coffee-50g-1588474247_reversed.jpg\n"
     ]
    },
    {
     "name": "stderr",
     "output_type": "stream",
     "text": [
      "Processing D:\\PENNY\\Gaiat products\\images\\Groceries\\Coffee & Coffee Mate: 100%|██████████| 144/144 [00:05<00:00, 26.61image/s]\n",
      "Processing D:\\PENNY\\Gaiat products\\images\\Groceries\\Dairy Products:   0%|          | 0/106 [00:00<?, ?image/s]"
     ]
    },
    {
     "name": "stdout",
     "output_type": "stream",
     "text": [
      "Error: Unable to read image D:\\PENNY\\Gaiat products\\images\\Groceries\\Dairy Products\\1NXmCC6_normalized.jpg\n",
      "Error: Unable to read image D:\\PENNY\\Gaiat products\\images\\Groceries\\Dairy Products\\1NXmCC6_reversed.jpg\n",
      "Error: Unable to read image D:\\PENNY\\Gaiat products\\images\\Groceries\\Dairy Products\\98ff6d66ed999115f9fff55b6a9c49331330b74d_normalized.jpg\n",
      "Error: Unable to read image D:\\PENNY\\Gaiat products\\images\\Groceries\\Dairy Products\\hHbJMUV_resized.jpg\n"
     ]
    },
    {
     "name": "stderr",
     "output_type": "stream",
     "text": [
      "Processing D:\\PENNY\\Gaiat products\\images\\Groceries\\Dairy Products: 100%|██████████| 106/106 [00:02<00:00, 45.78image/s]\n",
      "Processing D:\\PENNY\\Gaiat products\\images\\Groceries\\Packed Bakery: 100%|██████████| 33/33 [00:00<00:00, 40.35image/s]\n",
      "Processing D:\\PENNY\\Gaiat products\\images\\Industrial Maintenance & Cleaning Chemical: 0image [00:00, ?image/s]\n",
      "Processing D:\\PENNY\\Gaiat products\\images\\Industrial Maintenance & Cleaning Chemical\\Cleaners: 100%|██████████| 28/28 [00:00<00:00, 71.31image/s]\n",
      "Processing D:\\PENNY\\Gaiat products\\images\\IT Hardware & Accessories: 0image [00:00, ?image/s]\n",
      "Processing D:\\PENNY\\Gaiat products\\images\\IT Hardware & Accessories\\Cables: 100%|██████████| 5/5 [00:00<00:00, 29.26image/s]\n"
     ]
    },
    {
     "name": "stdout",
     "output_type": "stream",
     "text": [
      "Error: Unable to read image D:\\PENNY\\Gaiat products\\images\\IT Hardware & Accessories\\Cables\\61kGhLRC5sL._AC_SL1000__normalized.jpg\n"
     ]
    },
    {
     "name": "stderr",
     "output_type": "stream",
     "text": [
      "Processing D:\\PENNY\\Gaiat products\\images\\IT Hardware & Accessories\\Data Server Cabinets & Materials: 100%|██████████| 20/20 [00:00<00:00, 54.51image/s]\n",
      "Processing D:\\PENNY\\Gaiat products\\images\\IT Hardware & Accessories\\Laptops & PC:   3%|▎         | 1/33 [00:00<00:18,  1.69image/s]"
     ]
    },
    {
     "name": "stdout",
     "output_type": "stream",
     "text": [
      "Error: Unable to read image D:\\PENNY\\Gaiat products\\images\\IT Hardware & Accessories\\Laptops & PC\\download_reversed.jpg\n"
     ]
    },
    {
     "name": "stderr",
     "output_type": "stream",
     "text": [
      "Processing D:\\PENNY\\Gaiat products\\images\\IT Hardware & Accessories\\Laptops & PC: 100%|██████████| 33/33 [00:00<00:00, 37.04image/s]\n",
      "Processing D:\\PENNY\\Gaiat products\\images\\IT Hardware & Accessories\\Monitors:   2%|▏         | 1/45 [00:00<00:06,  6.87image/s]"
     ]
    },
    {
     "name": "stdout",
     "output_type": "stream",
     "text": [
      "Error: Unable to read image D:\\PENNY\\Gaiat products\\images\\IT Hardware & Accessories\\Monitors\\1606131980_IMG_1449830_normalized.jpg\n",
      "Error: Unable to read image D:\\PENNY\\Gaiat products\\images\\IT Hardware & Accessories\\Monitors\\210-AKSZ_v6_normalized.jpg\n",
      "Error: Unable to read image D:\\PENNY\\Gaiat products\\images\\IT Hardware & Accessories\\Monitors\\210-AKSZ_v6_reversed.jpg\n"
     ]
    },
    {
     "name": "stderr",
     "output_type": "stream",
     "text": [
      "Processing D:\\PENNY\\Gaiat products\\images\\IT Hardware & Accessories\\Monitors: 100%|██████████| 45/45 [00:02<00:00, 15.97image/s]\n",
      "Processing D:\\PENNY\\Gaiat products\\images\\IT Hardware & Accessories\\Networks Accessories:   2%|▏         | 1/56 [00:00<00:26,  2.04image/s]"
     ]
    },
    {
     "name": "stdout",
     "output_type": "stream",
     "text": [
      "Error: Unable to read image D:\\PENNY\\Gaiat products\\images\\IT Hardware & Accessories\\Networks Accessories\\localTest_Halo-S3_EU_1.0_03_large20200512094241_reversed.jpg\n",
      "Error: Unable to read image D:\\PENNY\\Gaiat products\\images\\IT Hardware & Accessories\\Networks Accessories\\Tapo-P100_UK_1.0_1909_English_01_normal_1569563931592c_normalized.jpg\n"
     ]
    },
    {
     "name": "stderr",
     "output_type": "stream",
     "text": [
      "Processing D:\\PENNY\\Gaiat products\\images\\IT Hardware & Accessories\\Networks Accessories: 100%|██████████| 56/56 [00:01<00:00, 53.42image/s]\n",
      "Processing D:\\PENNY\\Gaiat products\\images\\IT Hardware & Accessories\\Peripherals & Accessories: 100%|██████████| 5/5 [00:00<00:00, 25.62image/s]\n",
      "Processing D:\\PENNY\\Gaiat products\\images\\IT Hardware & Accessories\\Printers & Scanners:   9%|▉         | 1/11 [00:00<00:01,  7.37image/s]"
     ]
    },
    {
     "name": "stdout",
     "output_type": "stream",
     "text": [
      "Error: Unable to read image D:\\PENNY\\Gaiat products\\images\\IT Hardware & Accessories\\Printers & Scanners\\c04826289_500x367_normalized.jpg\n",
      "Error: Unable to read image D:\\PENNY\\Gaiat products\\images\\IT Hardware & Accessories\\Printers & Scanners\\c04826289_500x367_reversed.jpg\n",
      "Error: Unable to read image D:\\PENNY\\Gaiat products\\images\\IT Hardware & Accessories\\Printers & Scanners\\c04826289_500x367_sharpened.jpg\n",
      "Error: Unable to read image D:\\PENNY\\Gaiat products\\images\\IT Hardware & Accessories\\Printers & Scanners\\PSCNZZNP1ZQWZBVLT2_2_normalized.jpg\n"
     ]
    },
    {
     "name": "stderr",
     "output_type": "stream",
     "text": [
      "Processing D:\\PENNY\\Gaiat products\\images\\IT Hardware & Accessories\\Printers & Scanners: 100%|██████████| 11/11 [00:00<00:00, 38.86image/s]\n",
      "Processing D:\\PENNY\\Gaiat products\\images\\IT Hardware & Accessories\\Routers & Extenders:   1%|          | 1/171 [00:00<00:39,  4.26image/s]"
     ]
    },
    {
     "name": "stdout",
     "output_type": "stream",
     "text": [
      "Error: Unable to read image D:\\PENNY\\Gaiat products\\images\\IT Hardware & Accessories\\Routers & Extenders\\1_large_1565685514126h_normalized.jpg\n",
      "Error: Unable to read image D:\\PENNY\\Gaiat products\\images\\IT Hardware & Accessories\\Routers & Extenders\\1_large_1565685514126h_reversed.jpg\n",
      "Error: Unable to read image D:\\PENNY\\Gaiat products\\images\\IT Hardware & Accessories\\Routers & Extenders\\1_normal20201216011933_normalized.jpg\n",
      "Error: Unable to read image D:\\PENNY\\Gaiat products\\images\\IT Hardware & Accessories\\Routers & Extenders\\1_normal20201216011933_reversed.jpg\n",
      "Error: Unable to read image D:\\PENNY\\Gaiat products\\images\\IT Hardware & Accessories\\Routers & Extenders\\Archer-C50_6.0_01_large_1599645459727c_reversed.jpg\n",
      "Error: Unable to read image D:\\PENNY\\Gaiat products\\images\\IT Hardware & Accessories\\Routers & Extenders\\Archer_C60_EU_3.0_F_large_1551765571907k_reversed.jpg\n",
      "Error: Unable to read image D:\\PENNY\\Gaiat products\\images\\IT Hardware & Accessories\\Routers & Extenders\\Deco_X60_02_large_1619488815542b_normalized.jpg\n",
      "Error: Unable to read image D:\\PENNY\\Gaiat products\\images\\IT Hardware & Accessories\\Routers & Extenders\\Deco_X60_02_large_1619488815542b_reversed.jpg\n",
      "Error: Unable to read image D:\\PENNY\\Gaiat products\\images\\IT Hardware & Accessories\\Routers & Extenders\\Deco_X60_02_large_1619488815542b_sharpened.jpg\n",
      "Error: Unable to read image D:\\PENNY\\Gaiat products\\images\\IT Hardware & Accessories\\Routers & Extenders\\EAP110_Outdoor_EU_3.0_01_large_1511488690843s_normalized.jpg\n",
      "Error: Unable to read image D:\\PENNY\\Gaiat products\\images\\IT Hardware & Accessories\\Routers & Extenders\\EAP245_EU_3.0_01_large_1533284008713q_normalized.jpg\n",
      "Error: Unable to read image D:\\PENNY\\Gaiat products\\images\\IT Hardware & Accessories\\Routers & Extenders\\EAP660-HD_1_normal_1605748648703j_normalized.jpg\n"
     ]
    },
    {
     "name": "stderr",
     "output_type": "stream",
     "text": [
      "Processing D:\\PENNY\\Gaiat products\\images\\IT Hardware & Accessories\\Routers & Extenders: 100%|██████████| 171/171 [00:04<00:00, 38.30image/s]\n",
      "Processing D:\\PENNY\\Gaiat products\\images\\IT Hardware & Accessories\\Switches:   0%|          | 0/65 [00:00<?, ?image/s]"
     ]
    },
    {
     "name": "stdout",
     "output_type": "stream",
     "text": [
      "Error: Unable to read image D:\\PENNY\\Gaiat products\\images\\IT Hardware & Accessories\\Switches\\TL-SG1016D_01_large_1569467908396z_normalized.jpg\n",
      "Error: Unable to read image D:\\PENNY\\Gaiat products\\images\\IT Hardware & Accessories\\Switches\\TL-SG1016D_01_large_1569467908396z_reversed.jpg\n"
     ]
    },
    {
     "name": "stderr",
     "output_type": "stream",
     "text": [
      "Processing D:\\PENNY\\Gaiat products\\images\\IT Hardware & Accessories\\Switches: 100%|██████████| 65/65 [00:01<00:00, 39.23image/s]\n",
      "Processing D:\\PENNY\\Gaiat products\\images\\Office Furniture: 0image [00:00, ?image/s]\n",
      "Processing D:\\PENNY\\Gaiat products\\images\\Office Furniture\\Cabinets:   0%|          | 0/71 [00:00<?, ?image/s]"
     ]
    },
    {
     "name": "stdout",
     "output_type": "stream",
     "text": [
      "Error: Unable to read image D:\\PENNY\\Gaiat products\\images\\Office Furniture\\Cabinets\\24vM5kV_normalized.jpg\n",
      "Error: Unable to read image D:\\PENNY\\Gaiat products\\images\\Office Furniture\\Cabinets\\3rZZzqY_normalized.jpg\n",
      "Error: Unable to read image D:\\PENNY\\Gaiat products\\images\\Office Furniture\\Cabinets\\24vM5kV_reversed.jpg\n",
      "Error: Unable to read image D:\\PENNY\\Gaiat products\\images\\Office Furniture\\Cabinets\\3rZZzqY_reversed.jpg\n",
      "Error: Unable to read image D:\\PENNY\\Gaiat products\\images\\Office Furniture\\Cabinets\\24vM5kV_sharpened.jpg\n",
      "Error: Unable to read image D:\\PENNY\\Gaiat products\\images\\Office Furniture\\Cabinets\\3rZZzqY_resized.jpg\n",
      "Error: Unable to read image D:\\PENNY\\Gaiat products\\images\\Office Furniture\\Cabinets\\3rZZzqY_sharpened.jpg\n",
      "Error: Unable to read image D:\\PENNY\\Gaiat products\\images\\Office Furniture\\Cabinets\\4PVF3QI_normalized.jpg\n",
      "Error: Unable to read image D:\\PENNY\\Gaiat products\\images\\Office Furniture\\Cabinets\\4PVF3QI_reversed.jpg\n",
      "Error: Unable to read image D:\\PENNY\\Gaiat products\\images\\Office Furniture\\Cabinets\\cW5RSuQ_sharpened.jpg\n",
      "Error: Unable to read image D:\\PENNY\\Gaiat products\\images\\Office Furniture\\Cabinets\\QsmMFZG_sharpened.jpg\n",
      "Error: Unable to read image D:\\PENNY\\Gaiat products\\images\\Office Furniture\\Cabinets\\XlgiDYS_normalized.jpg\n",
      "Error: Unable to read image D:\\PENNY\\Gaiat products\\images\\Office Furniture\\Cabinets\\XlgiDYS_resized.jpg\n",
      "Error: Unable to read image D:\\PENNY\\Gaiat products\\images\\Office Furniture\\Cabinets\\uM0Yi0s_sharpened.jpg\n",
      "Error: Unable to read image D:\\PENNY\\Gaiat products\\images\\Office Furniture\\Cabinets\\V0BoBKP_normalized.jpg\n",
      "Error: Unable to read image D:\\PENNY\\Gaiat products\\images\\Office Furniture\\Cabinets\\XlgiDYS_sharpened.jpg\n",
      "Error: Unable to read image D:\\PENNY\\Gaiat products\\images\\Office Furniture\\Cabinets\\V0BoBKP_sharpened.jpg\n",
      "Error: Unable to read image D:\\PENNY\\Gaiat products\\images\\Office Furniture\\Cabinets\\Zh4wUJS_normalized.jpg\n",
      "Error: Unable to read image D:\\PENNY\\Gaiat products\\images\\Office Furniture\\Cabinets\\Zh4wUJS_reversed.jpg\n"
     ]
    },
    {
     "name": "stderr",
     "output_type": "stream",
     "text": [
      "Processing D:\\PENNY\\Gaiat products\\images\\Office Furniture\\Cabinets: 100%|██████████| 71/71 [00:00<00:00, 95.47image/s]\n",
      "Processing D:\\PENNY\\Gaiat products\\images\\Office Furniture\\Coffee & Side Tables:   0%|          | 0/77 [00:00<?, ?image/s]"
     ]
    },
    {
     "name": "stdout",
     "output_type": "stream",
     "text": [
      "Error: Unable to read image D:\\PENNY\\Gaiat products\\images\\Office Furniture\\Coffee & Side Tables\\41LbWhX_normalized.jpg\n",
      "Error: Unable to read image D:\\PENNY\\Gaiat products\\images\\Office Furniture\\Coffee & Side Tables\\41LbWhX_reversed.jpg\n",
      "Error: Unable to read image D:\\PENNY\\Gaiat products\\images\\Office Furniture\\Coffee & Side Tables\\41LbWhX_resized.jpg\n",
      "Error: Unable to read image D:\\PENNY\\Gaiat products\\images\\Office Furniture\\Coffee & Side Tables\\4f2kaAC_normalized.jpg\n",
      "Error: Unable to read image D:\\PENNY\\Gaiat products\\images\\Office Furniture\\Coffee & Side Tables\\4ane2z0_normalized.jpg\n",
      "Error: Unable to read image D:\\PENNY\\Gaiat products\\images\\Office Furniture\\Coffee & Side Tables\\4f2kaAC_reversed.jpg\n",
      "Error: Unable to read image D:\\PENNY\\Gaiat products\\images\\Office Furniture\\Coffee & Side Tables\\DwXdDWK_sharpened.jpg\n",
      "Error: Unable to read image D:\\PENNY\\Gaiat products\\images\\Office Furniture\\Coffee & Side Tables\\HPooxqz_normalized.jpg\n",
      "Error: Unable to read image D:\\PENNY\\Gaiat products\\images\\Office Furniture\\Coffee & Side Tables\\HPooxqz_reversed.jpg\n",
      "Error: Unable to read image D:\\PENNY\\Gaiat products\\images\\Office Furniture\\Coffee & Side Tables\\IDVZLii_reversed.jpg\n"
     ]
    },
    {
     "name": "stderr",
     "output_type": "stream",
     "text": [
      "Processing D:\\PENNY\\Gaiat products\\images\\Office Furniture\\Coffee & Side Tables: 100%|██████████| 77/77 [00:01<00:00, 54.01image/s]\n"
     ]
    },
    {
     "name": "stdout",
     "output_type": "stream",
     "text": [
      "Error: Unable to read image D:\\PENNY\\Gaiat products\\images\\Office Furniture\\Coffee & Side Tables\\u1GjpNn_resized.jpg\n",
      "Error: Unable to read image D:\\PENNY\\Gaiat products\\images\\Office Furniture\\Coffee & Side Tables\\u1GjpNn_sharpened.jpg\n"
     ]
    },
    {
     "name": "stderr",
     "output_type": "stream",
     "text": [
      "Processing D:\\PENNY\\Gaiat products\\images\\Office Furniture\\Coffee Stations:   0%|          | 0/60 [00:00<?, ?image/s]"
     ]
    },
    {
     "name": "stdout",
     "output_type": "stream",
     "text": [
      "Error: Unable to read image D:\\PENNY\\Gaiat products\\images\\Office Furniture\\Coffee Stations\\1qGUOPU_reversed.jpg\n",
      "Error: Unable to read image D:\\PENNY\\Gaiat products\\images\\Office Furniture\\Coffee Stations\\4toWp9Q_normalized.jpg\n"
     ]
    },
    {
     "name": "stderr",
     "output_type": "stream",
     "text": [
      "Processing D:\\PENNY\\Gaiat products\\images\\Office Furniture\\Coffee Stations: 100%|██████████| 60/60 [00:02<00:00, 23.92image/s]\n",
      "Processing D:\\PENNY\\Gaiat products\\images\\Office Furniture\\Meeting Tables:   0%|          | 0/25 [00:00<?, ?image/s]"
     ]
    },
    {
     "name": "stdout",
     "output_type": "stream",
     "text": [
      "Error: Unable to read image D:\\PENNY\\Gaiat products\\images\\Office Furniture\\Meeting Tables\\0qNVKBx_normalized.jpg\n",
      "Error: Unable to read image D:\\PENNY\\Gaiat products\\images\\Office Furniture\\Meeting Tables\\OSln6iX_normalized.jpg\n",
      "Error: Unable to read image D:\\PENNY\\Gaiat products\\images\\Office Furniture\\Meeting Tables\\OSln6iX_reversed.jpg\n"
     ]
    },
    {
     "name": "stderr",
     "output_type": "stream",
     "text": [
      "Processing D:\\PENNY\\Gaiat products\\images\\Office Furniture\\Meeting Tables: 100%|██████████| 25/25 [00:00<00:00, 74.92image/s]\n",
      "Processing D:\\PENNY\\Gaiat products\\images\\Office Furniture\\Silent Rooms: 100%|██████████| 14/14 [00:00<00:00, 54.45image/s]\n",
      "Processing D:\\PENNY\\Gaiat products\\images\\Office Furniture\\Storing Shelves: 100%|██████████| 12/12 [00:00<00:00, 67.57image/s]\n",
      "Processing D:\\PENNY\\Gaiat products\\images\\Office Furniture\\Workstations:   0%|          | 0/89 [00:00<?, ?image/s]"
     ]
    },
    {
     "name": "stdout",
     "output_type": "stream",
     "text": [
      "Error: Unable to read image D:\\PENNY\\Gaiat products\\images\\Office Furniture\\Workstations\\4pBVjZI_normalized.jpg\n",
      "Error: Unable to read image D:\\PENNY\\Gaiat products\\images\\Office Furniture\\Workstations\\aaoUBOI_reversed.jpg\n",
      "Error: Unable to read image D:\\PENNY\\Gaiat products\\images\\Office Furniture\\Workstations\\aaoUBOI_sharpened.jpg\n",
      "Error: Unable to read image D:\\PENNY\\Gaiat products\\images\\Office Furniture\\Workstations\\BycqZYh_normalized.jpg\n",
      "Error: Unable to read image D:\\PENNY\\Gaiat products\\images\\Office Furniture\\Workstations\\BycqZYh_reversed.jpg\n",
      "Error: Unable to read image D:\\PENNY\\Gaiat products\\images\\Office Furniture\\Workstations\\ce0LuFl_resized.jpg\n",
      "Error: Unable to read image D:\\PENNY\\Gaiat products\\images\\Office Furniture\\Workstations\\ECVgucb_normalized.jpg\n",
      "Error: Unable to read image D:\\PENNY\\Gaiat products\\images\\Office Furniture\\Workstations\\ECVgucb_sharpened.jpg\n",
      "Error: Unable to read image D:\\PENNY\\Gaiat products\\images\\Office Furniture\\Workstations\\Lfy1WrQ_normalized.jpg\n",
      "Error: Unable to read image D:\\PENNY\\Gaiat products\\images\\Office Furniture\\Workstations\\Lfy1WrQ_reversed.jpg\n",
      "Error: Unable to read image D:\\PENNY\\Gaiat products\\images\\Office Furniture\\Workstations\\Lfy1WrQ_sharpened.jpg\n",
      "Error: Unable to read image D:\\PENNY\\Gaiat products\\images\\Office Furniture\\Workstations\\MlRFul1_normalized.jpg\n",
      "Error: Unable to read image D:\\PENNY\\Gaiat products\\images\\Office Furniture\\Workstations\\MlRFul1_reversed.jpg\n",
      "Error: Unable to read image D:\\PENNY\\Gaiat products\\images\\Office Furniture\\Workstations\\trzkLpG_sharpened.jpg\n"
     ]
    },
    {
     "name": "stderr",
     "output_type": "stream",
     "text": [
      "Processing D:\\PENNY\\Gaiat products\\images\\Office Furniture\\Workstations: 100%|██████████| 89/89 [00:00<00:00, 91.72image/s]\n",
      "Processing D:\\PENNY\\Gaiat products\\images\\Office items: 0image [00:00, ?image/s]\n",
      "Processing D:\\PENNY\\Gaiat products\\images\\Office items\\Anti-Virus: 100%|██████████| 2/2 [00:00<00:00, 102.32image/s]\n",
      "Processing D:\\PENNY\\Gaiat products\\images\\Office items\\Cleaning and Hygiene Supplies: 100%|██████████| 10/10 [00:00<00:00, 21.22image/s]\n",
      "Processing D:\\PENNY\\Gaiat products\\images\\Office items\\Furniture: 100%|██████████| 13/13 [00:00<00:00, 66.63image/s]\n"
     ]
    },
    {
     "name": "stdout",
     "output_type": "stream",
     "text": [
      "Error: Unable to read image D:\\PENNY\\Gaiat products\\images\\Office items\\Furniture\\focus-cluster-of-4x-cubicle-workstation_sharpened.jpg\n"
     ]
    },
    {
     "name": "stderr",
     "output_type": "stream",
     "text": [
      "Processing D:\\PENNY\\Gaiat products\\images\\Office items\\Office stationery: 100%|██████████| 19/19 [00:00<00:00, 102.63image/s]\n"
     ]
    },
    {
     "name": "stdout",
     "output_type": "stream",
     "text": [
      "Error: Unable to read image D:\\PENNY\\Gaiat products\\images\\Office items\\Office stationery\\حامل_ادوات_مكتبية.jpg\n"
     ]
    },
    {
     "name": "stderr",
     "output_type": "stream",
     "text": [
      "Processing D:\\PENNY\\Gaiat products\\images\\Office items\\Printers - Desktop: 100%|██████████| 23/23 [00:00<00:00, 51.59image/s]\n",
      "Processing D:\\PENNY\\Gaiat products\\images\\Office items\\Software: 100%|██████████| 9/9 [00:00<00:00, 79.91image/s]\n",
      "Processing D:\\PENNY\\Gaiat products\\images\\Packaging Materials: 0image [00:00, ?image/s]\n",
      "Processing D:\\PENNY\\Gaiat products\\images\\Packaging Materials\\Aluminum Containers: 100%|██████████| 19/19 [00:00<00:00, 43.97image/s]\n",
      "Processing D:\\PENNY\\Gaiat products\\images\\Packaging Materials\\Paper Containers: 100%|██████████| 1/1 [00:00<00:00,  4.23image/s]\n",
      "Processing D:\\PENNY\\Gaiat products\\images\\Packaging Materials\\Plastic Containers: 100%|██████████| 19/19 [00:00<00:00, 50.35image/s]\n",
      "Processing D:\\PENNY\\Gaiat products\\images\\Plastic, Tissues, & Paper Wares: 0image [00:00, ?image/s]\n",
      "Processing D:\\PENNY\\Gaiat products\\images\\Plastic, Tissues, & Paper Wares\\Bags & Trash Bags:   0%|          | 0/50 [00:00<?, ?image/s]"
     ]
    },
    {
     "name": "stdout",
     "output_type": "stream",
     "text": [
      "Error: Unable to read image D:\\PENNY\\Gaiat products\\images\\Plastic, Tissues, & Paper Wares\\Bags & Trash Bags\\71OIT3-vcYL._AC_SY879__normalized.jpg\n"
     ]
    },
    {
     "name": "stderr",
     "output_type": "stream",
     "text": [
      "Processing D:\\PENNY\\Gaiat products\\images\\Plastic, Tissues, & Paper Wares\\Bags & Trash Bags: 100%|██████████| 50/50 [00:01<00:00, 49.97image/s]\n"
     ]
    },
    {
     "name": "stdout",
     "output_type": "stream",
     "text": [
      "Error: Unable to read image D:\\PENNY\\Gaiat products\\images\\Plastic, Tissues, & Paper Wares\\Bags & Trash Bags\\WGLvfvK_normalized.jpg\n",
      "Error: Unable to read image D:\\PENNY\\Gaiat products\\images\\Plastic, Tissues, & Paper Wares\\Bags & Trash Bags\\WGLvfvK_reversed.jpg\n"
     ]
    },
    {
     "name": "stderr",
     "output_type": "stream",
     "text": [
      "Processing D:\\PENNY\\Gaiat products\\images\\Plastic, Tissues, & Paper Wares\\Paper Bags: 100%|██████████| 48/48 [00:02<00:00, 23.66image/s]\n",
      "Processing D:\\PENNY\\Gaiat products\\images\\Plastic, Tissues, & Paper Wares\\Paper cups:   0%|          | 0/94 [00:00<?, ?image/s]"
     ]
    },
    {
     "name": "stdout",
     "output_type": "stream",
     "text": [
      "Error: Unable to read image D:\\PENNY\\Gaiat products\\images\\Plastic, Tissues, & Paper Wares\\Paper cups\\product-coaster-637117592759153222_resized.jpg\n",
      "Error: Unable to read image D:\\PENNY\\Gaiat products\\images\\Plastic, Tissues, & Paper Wares\\Paper cups\\product-coaster-637117592759153222_sharpened.jpg\n"
     ]
    },
    {
     "name": "stderr",
     "output_type": "stream",
     "text": [
      "Processing D:\\PENNY\\Gaiat products\\images\\Plastic, Tissues, & Paper Wares\\Paper cups: 100%|██████████| 94/94 [00:02<00:00, 39.33image/s]\n",
      "Processing D:\\PENNY\\Gaiat products\\images\\Plastic, Tissues, & Paper Wares\\Plastic Cups:   0%|          | 0/55 [00:00<?, ?image/s]"
     ]
    },
    {
     "name": "stdout",
     "output_type": "stream",
     "text": [
      "Error: Unable to read image D:\\PENNY\\Gaiat products\\images\\Plastic, Tissues, & Paper Wares\\Plastic Cups\\F2Q77kK_normalized.jpg\n"
     ]
    },
    {
     "name": "stderr",
     "output_type": "stream",
     "text": [
      "Processing D:\\PENNY\\Gaiat products\\images\\Plastic, Tissues, & Paper Wares\\Plastic Cups: 100%|██████████| 55/55 [00:00<00:00, 70.48image/s]\n",
      "Processing D:\\PENNY\\Gaiat products\\images\\Plastic, Tissues, & Paper Wares\\Plastic Wares:   1%|          | 1/168 [00:00<00:53,  3.15image/s]"
     ]
    },
    {
     "name": "stdout",
     "output_type": "stream",
     "text": [
      "Error: Unable to read image D:\\PENNY\\Gaiat products\\images\\Plastic, Tissues, & Paper Wares\\Plastic Wares\\VPzqU0B_normalized.jpg\n",
      "Error: Unable to read image D:\\PENNY\\Gaiat products\\images\\Plastic, Tissues, & Paper Wares\\Plastic Wares\\VPzqU0B_reversed.jpg\n"
     ]
    },
    {
     "name": "stderr",
     "output_type": "stream",
     "text": [
      "Processing D:\\PENNY\\Gaiat products\\images\\Plastic, Tissues, & Paper Wares\\Plastic Wares: 100%|██████████| 168/168 [00:06<00:00, 26.16image/s]\n",
      "Processing D:\\PENNY\\Gaiat products\\images\\Plastic, Tissues, & Paper Wares\\Tissues:   0%|          | 0/90 [00:00<?, ?image/s]"
     ]
    },
    {
     "name": "stdout",
     "output_type": "stream",
     "text": [
      "Error: Unable to read image D:\\PENNY\\Gaiat products\\images\\Plastic, Tissues, & Paper Wares\\Tissues\\1685534303-GH-PTP-07209_sharpened.jpg\n",
      "Error: Unable to read image D:\\PENNY\\Gaiat products\\images\\Plastic, Tissues, & Paper Wares\\Tissues\\CPQ6Sls_normalized.jpg\n",
      "Error: Unable to read image D:\\PENNY\\Gaiat products\\images\\Plastic, Tissues, & Paper Wares\\Tissues\\CPQ6Sls_reversed.jpg\n",
      "Error: Unable to read image D:\\PENNY\\Gaiat products\\images\\Plastic, Tissues, & Paper Wares\\Tissues\\CPQ6Sls_sharpened.jpg\n",
      "Error: Unable to read image D:\\PENNY\\Gaiat products\\images\\Plastic, Tissues, & Paper Wares\\Tissues\\ddqCNL9_normalized.jpg\n",
      "Error: Unable to read image D:\\PENNY\\Gaiat products\\images\\Plastic, Tissues, & Paper Wares\\Tissues\\ddqCNL9_reversed.jpg\n",
      "Error: Unable to read image D:\\PENNY\\Gaiat products\\images\\Plastic, Tissues, & Paper Wares\\Tissues\\product-fluffy-150-637205792436137853_normalized.jpg\n"
     ]
    },
    {
     "name": "stderr",
     "output_type": "stream",
     "text": [
      "Processing D:\\PENNY\\Gaiat products\\images\\Plastic, Tissues, & Paper Wares\\Tissues: 100%|██████████| 90/90 [00:03<00:00, 26.82image/s]\n",
      "Processing D:\\PENNY\\Gaiat products\\images\\Plastic, Tissues, & Paper Wares\\Wooden Wares:   4%|▎         | 1/28 [00:00<00:03,  7.49image/s]"
     ]
    },
    {
     "name": "stdout",
     "output_type": "stream",
     "text": [
      "Error: Unable to read image D:\\PENNY\\Gaiat products\\images\\Plastic, Tissues, & Paper Wares\\Wooden Wares\\JlGzVLe_reversed.jpg\n",
      "Error: Unable to read image D:\\PENNY\\Gaiat products\\images\\Plastic, Tissues, & Paper Wares\\Wooden Wares\\JlGzVLe_sharpened.jpg\n"
     ]
    },
    {
     "name": "stderr",
     "output_type": "stream",
     "text": [
      "Processing D:\\PENNY\\Gaiat products\\images\\Plastic, Tissues, & Paper Wares\\Wooden Wares: 100%|██████████| 28/28 [00:00<00:00, 31.47image/s]\n",
      "Processing D:\\PENNY\\Gaiat products\\images\\Safety Products: 0image [00:00, ?image/s]\n",
      "Processing D:\\PENNY\\Gaiat products\\images\\Safety Products\\Emergency Lights:   0%|          | 0/16 [00:00<?, ?image/s]"
     ]
    },
    {
     "name": "stdout",
     "output_type": "stream",
     "text": [
      "Error: Unable to read image D:\\PENNY\\Gaiat products\\images\\Safety Products\\Emergency Lights\\28_reversed.jpg\n",
      "Error: Unable to read image D:\\PENNY\\Gaiat products\\images\\Safety Products\\Emergency Lights\\28_sharpened.jpg\n",
      "Error: Unable to read image D:\\PENNY\\Gaiat products\\images\\Safety Products\\Emergency Lights\\318fClIb91L._AC__normalized.jpg\n",
      "Error: Unable to read image D:\\PENNY\\Gaiat products\\images\\Safety Products\\Emergency Lights\\318fClIb91L._AC__reversed.jpg\n",
      "Error: Unable to read image D:\\PENNY\\Gaiat products\\images\\Safety Products\\Emergency Lights\\318fClIb91L._AC__sharpened.jpg\n",
      "Error: Unable to read image D:\\PENNY\\Gaiat products\\images\\Safety Products\\Emergency Lights\\EM2004G_cover_KOL_WH-600x600_0_normalized.jpg\n"
     ]
    },
    {
     "name": "stderr",
     "output_type": "stream",
     "text": [
      "Processing D:\\PENNY\\Gaiat products\\images\\Safety Products\\Emergency Lights: 100%|██████████| 16/16 [00:00<00:00, 42.13image/s]\n"
     ]
    },
    {
     "name": "stdout",
     "output_type": "stream",
     "text": [
      "Error: Unable to read image D:\\PENNY\\Gaiat products\\images\\Safety Products\\Emergency Lights\\EM2004G_cover_KOL_WH-600x600_0_reversed.jpg\n",
      "Error: Unable to read image D:\\PENNY\\Gaiat products\\images\\Safety Products\\Emergency Lights\\EM2004G_cover_KOL_WH-600x600_0_sharpened.jpg\n"
     ]
    },
    {
     "name": "stderr",
     "output_type": "stream",
     "text": [
      "Processing D:\\PENNY\\Gaiat products\\images\\Safety Products\\Fire Alarm System:   0%|          | 0/5 [00:00<?, ?image/s]"
     ]
    },
    {
     "name": "stdout",
     "output_type": "stream",
     "text": [
      "Error: Unable to read image D:\\PENNY\\Gaiat products\\images\\Safety Products\\Fire Alarm System\\26_normalized.jpg\n",
      "Error: Unable to read image D:\\PENNY\\Gaiat products\\images\\Safety Products\\Fire Alarm System\\26_reversed.jpg\n",
      "Error: Unable to read image D:\\PENNY\\Gaiat products\\images\\Safety Products\\Fire Alarm System\\26_resized.jpg\n",
      "Error: Unable to read image D:\\PENNY\\Gaiat products\\images\\Safety Products\\Fire Alarm System\\26_sharpened.jpg\n"
     ]
    },
    {
     "name": "stderr",
     "output_type": "stream",
     "text": [
      "Processing D:\\PENNY\\Gaiat products\\images\\Safety Products\\Fire Alarm System: 100%|██████████| 5/5 [00:00<00:00, 21.22image/s]\n",
      "Processing D:\\PENNY\\Gaiat products\\images\\Safety Products\\Fire Extinguisher:   0%|          | 0/55 [00:00<?, ?image/s]"
     ]
    },
    {
     "name": "stdout",
     "output_type": "stream",
     "text": [
      "Error: Unable to read image D:\\PENNY\\Gaiat products\\images\\Safety Products\\Fire Extinguisher\\b7b3f49a-b362-49a6-b7ed-092f0d32a60d_sharpened.jpg\n",
      "Error: Unable to read image D:\\PENNY\\Gaiat products\\images\\Safety Products\\Fire Extinguisher\\dab77f1f-b334-4293-922c-cdb0aa3e5b93_reversed.jpg\n"
     ]
    },
    {
     "name": "stderr",
     "output_type": "stream",
     "text": [
      "Processing D:\\PENNY\\Gaiat products\\images\\Safety Products\\Fire Extinguisher: 100%|██████████| 55/55 [00:01<00:00, 51.41image/s]\n",
      "Processing D:\\PENNY\\Gaiat products\\images\\Safety Products\\Personal Protection:   0%|          | 0/239 [00:00<?, ?image/s]"
     ]
    },
    {
     "name": "stdout",
     "output_type": "stream",
     "text": [
      "Error: Unable to read image D:\\PENNY\\Gaiat products\\images\\Safety Products\\Personal Protection\\05xqkyo_normalized.jpgError: Unable to read image D:\\PENNY\\Gaiat products\\images\\Safety Products\\Personal Protection\\10_normalized.jpg\n",
      "\n",
      "Error: Unable to read image D:\\PENNY\\Gaiat products\\images\\Safety Products\\Personal Protection\\10_reversed.jpg\n",
      "Error: Unable to read image D:\\PENNY\\Gaiat products\\images\\Safety Products\\Personal Protection\\12_normalized.jpg\n",
      "Error: Unable to read image D:\\PENNY\\Gaiat products\\images\\Safety Products\\Personal Protection\\10_resized.jpg\n",
      "Error: Unable to read image D:\\PENNY\\Gaiat products\\images\\Safety Products\\Personal Protection\\14_normalized.jpg\n",
      "Error: Unable to read image D:\\PENNY\\Gaiat products\\images\\Safety Products\\Personal Protection\\14_reversed.jpg\n",
      "Error: Unable to read image D:\\PENNY\\Gaiat products\\images\\Safety Products\\Personal Protection\\14_resized.jpg\n",
      "Error: Unable to read image D:\\PENNY\\Gaiat products\\images\\Safety Products\\Personal Protection\\12_resized.jpg\n",
      "Error: Unable to read image D:\\PENNY\\Gaiat products\\images\\Safety Products\\Personal Protection\\14_sharpened.jpg\n",
      "Error: Unable to read image D:\\PENNY\\Gaiat products\\images\\Safety Products\\Personal Protection\\15_normalized.jpg\n",
      "Error: Unable to read image D:\\PENNY\\Gaiat products\\images\\Safety Products\\Personal Protection\\05xqkyo_reversed.jpg\n",
      "Error: Unable to read image D:\\PENNY\\Gaiat products\\images\\Safety Products\\Personal Protection\\15_reversed.jpg\n",
      "Error: Unable to read image D:\\PENNY\\Gaiat products\\images\\Safety Products\\Personal Protection\\12_sharpened.jpg\n",
      "Error: Unable to read image D:\\PENNY\\Gaiat products\\images\\Safety Products\\Personal Protection\\17_normalized.jpg\n",
      "Error: Unable to read image D:\\PENNY\\Gaiat products\\images\\Safety Products\\Personal Protection\\16_resized.jpg\n",
      "Error: Unable to read image D:\\PENNY\\Gaiat products\\images\\Safety Products\\Personal Protection\\15_resized.jpg\n",
      "Error: Unable to read image D:\\PENNY\\Gaiat products\\images\\Safety Products\\Personal Protection\\16_sharpened.jpg\n",
      "Error: Unable to read image D:\\PENNY\\Gaiat products\\images\\Safety Products\\Personal Protection\\4_normalized.jpg\n",
      "Error: Unable to read image D:\\PENNY\\Gaiat products\\images\\Safety Products\\Personal Protection\\18_normalized.jpg\n",
      "Error: Unable to read image D:\\PENNY\\Gaiat products\\images\\Safety Products\\Personal Protection\\17_reversed.jpg\n",
      "Error: Unable to read image D:\\PENNY\\Gaiat products\\images\\Safety Products\\Personal Protection\\4_reversed.jpg\n",
      "Error: Unable to read image D:\\PENNY\\Gaiat products\\images\\Safety Products\\Personal Protection\\8lAcvkJ_normalized.jpg\n",
      "Error: Unable to read image D:\\PENNY\\Gaiat products\\images\\Safety Products\\Personal Protection\\8lAcvkJ_reversed.jpg\n",
      "Error: Unable to read image D:\\PENNY\\Gaiat products\\images\\Safety Products\\Personal Protection\\9DjxpfC_normalized.jpg\n",
      "Error: Unable to read image D:\\PENNY\\Gaiat products\\images\\Safety Products\\Personal Protection\\d9T4tmq_normalized.jpg\n",
      "Error: Unable to read image D:\\PENNY\\Gaiat products\\images\\Safety Products\\Personal Protection\\CWiHRM4_reversed.jpg\n",
      "Error: Unable to read image D:\\PENNY\\Gaiat products\\images\\Safety Products\\Personal Protection\\d9T4tmq_resized.jpg\n",
      "Error: Unable to read image D:\\PENNY\\Gaiat products\\images\\Safety Products\\Personal Protection\\d9T4tmq_sharpened.jpg\n",
      "Error: Unable to read image D:\\PENNY\\Gaiat products\\images\\Safety Products\\Personal Protection\\CWiHRM4_sharpened.jpg\n",
      "Error: Unable to read image D:\\PENNY\\Gaiat products\\images\\Safety Products\\Personal Protection\\dIO0dpC_normalized.jpg\n",
      "Error: Unable to read image D:\\PENNY\\Gaiat products\\images\\Safety Products\\Personal Protection\\EwO7sP1_normalized.jpg\n",
      "Error: Unable to read image D:\\PENNY\\Gaiat products\\images\\Safety Products\\Personal Protection\\dB2DwOf_normalized.jpg\n",
      "Error: Unable to read image D:\\PENNY\\Gaiat products\\images\\Safety Products\\Personal Protection\\dIO0dpC_reversed.jpg\n",
      "Error: Unable to read image D:\\PENNY\\Gaiat products\\images\\Safety Products\\Personal Protection\\EwO7sP1_reversed.jpg\n",
      "Error: Unable to read image D:\\PENNY\\Gaiat products\\images\\Safety Products\\Personal Protection\\dB2DwOf_reversed.jpg\n",
      "Error: Unable to read image D:\\PENNY\\Gaiat products\\images\\Safety Products\\Personal Protection\\EwO7sP1_sharpened.jpg\n",
      "Error: Unable to read image D:\\PENNY\\Gaiat products\\images\\Safety Products\\Personal Protection\\GaQqyze_reversed.jpg\n",
      "Error: Unable to read image D:\\PENNY\\Gaiat products\\images\\Safety Products\\Personal Protection\\dB2DwOf_resized.jpg\n",
      "Error: Unable to read image D:\\PENNY\\Gaiat products\\images\\Safety Products\\Personal Protection\\QuAx3Ea_normalized.jpg\n",
      "Error: Unable to read image D:\\PENNY\\Gaiat products\\images\\Safety Products\\Personal Protection\\QuAx3Ea_resized.jpg\n",
      "Error: Unable to read image D:\\PENNY\\Gaiat products\\images\\Safety Products\\Personal Protection\\RZScG9H_reversed.jpg\n",
      "Error: Unable to read image D:\\PENNY\\Gaiat products\\images\\Safety Products\\Personal Protection\\tQUDBZF_reversed.jpg\n",
      "Error: Unable to read image D:\\PENNY\\Gaiat products\\images\\Safety Products\\Personal Protection\\tQUDBZF_resized.jpg\n",
      "Error: Unable to read image D:\\PENNY\\Gaiat products\\images\\Safety Products\\Personal Protection\\TSP2612_normalized.jpg\n",
      "Error: Unable to read image D:\\PENNY\\Gaiat products\\images\\Safety Products\\Personal Protection\\TSP303_reversed.jpg\n",
      "Error: Unable to read image D:\\PENNY\\Gaiat products\\images\\Safety Products\\Personal Protection\\TSP2612_reversed.jpg\n",
      "Error: Unable to read image D:\\PENNY\\Gaiat products\\images\\Safety Products\\Personal Protection\\TSP304_resized.jpg\n",
      "Error: Unable to read image D:\\PENNY\\Gaiat products\\images\\Safety Products\\Personal Protection\\TSP701_reversed.jpg\n",
      "Error: Unable to read image D:\\PENNY\\Gaiat products\\images\\Safety Products\\Personal Protection\\TSP701_sharpened.jpg\n",
      "Error: Unable to read image D:\\PENNY\\Gaiat products\\images\\Safety Products\\Personal Protection\\TSP9102_normalized.jpg\n",
      "Error: Unable to read image D:\\PENNY\\Gaiat products\\images\\Safety Products\\Personal Protection\\TSP9102_resized.jpg\n",
      "Error: Unable to read image D:\\PENNY\\Gaiat products\\images\\Safety Products\\Personal Protection\\TSP9201_reversed.jpg\n",
      "Error: Unable to read image D:\\PENNY\\Gaiat products\\images\\Safety Products\\Personal Protection\\TSP9306_normalized.jpg\n",
      "Error: Unable to read image D:\\PENNY\\Gaiat products\\images\\Safety Products\\Personal Protection\\TSP9306_reversed.jpg\n",
      "Error: Unable to read image D:\\PENNY\\Gaiat products\\images\\Safety Products\\Personal Protection\\TSP9306_sharpened.jpg\n",
      "Error: Unable to read image D:\\PENNY\\Gaiat products\\images\\Safety Products\\Personal Protection\\TSP9201_sharpened.jpg\n",
      "Error: Unable to read image D:\\PENNY\\Gaiat products\\images\\Safety Products\\Personal Protection\\TSP9402_normalized.jpg\n",
      "Error: Unable to read image D:\\PENNY\\Gaiat products\\images\\Safety Products\\Personal Protection\\TSP9402_reversed.jpg\n"
     ]
    },
    {
     "name": "stderr",
     "output_type": "stream",
     "text": [
      "Processing D:\\PENNY\\Gaiat products\\images\\Safety Products\\Personal Protection: 100%|██████████| 239/239 [00:02<00:00, 98.39image/s]\n",
      "Processing D:\\PENNY\\Gaiat products\\images\\Safety Products\\Safety Shoes: 100%|██████████| 6/6 [00:00<00:00, 32.05image/s]\n",
      "Processing D:\\PENNY\\Gaiat products\\images\\Safety Products\\Safety tools:   2%|▏         | 1/54 [00:00<00:08,  6.44image/s]"
     ]
    },
    {
     "name": "stdout",
     "output_type": "stream",
     "text": [
      "Error: Unable to read image D:\\PENNY\\Gaiat products\\images\\Safety Products\\Safety tools\\20_normalized.jpg\n",
      "Error: Unable to read image D:\\PENNY\\Gaiat products\\images\\Safety Products\\Safety tools\\30_normalized.jpg\n",
      "Error: Unable to read image D:\\PENNY\\Gaiat products\\images\\Safety Products\\Safety tools\\31_normalized.jpg\n",
      "Error: Unable to read image D:\\PENNY\\Gaiat products\\images\\Safety Products\\Safety tools\\31_reversed.jpg\n",
      "Error: Unable to read image D:\\PENNY\\Gaiat products\\images\\Safety Products\\Safety tools\\33_normalized.jpg\n",
      "Error: Unable to read image D:\\PENNY\\Gaiat products\\images\\Safety Products\\Safety tools\\32_normalized.jpg\n"
     ]
    },
    {
     "name": "stderr",
     "output_type": "stream",
     "text": [
      "Processing D:\\PENNY\\Gaiat products\\images\\Safety Products\\Safety tools: 100%|██████████| 54/54 [00:01<00:00, 44.22image/s]\n",
      "Processing D:\\PENNY\\Gaiat products\\images\\Sanitization & Personal Protection: 0image [00:00, ?image/s]\n",
      "Processing D:\\PENNY\\Gaiat products\\images\\Sanitization & Personal Protection\\Medical Masks:   0%|          | 0/14 [00:00<?, ?image/s]"
     ]
    },
    {
     "name": "stdout",
     "output_type": "stream",
     "text": [
      "Error: Unable to read image D:\\PENNY\\Gaiat products\\images\\Sanitization & Personal Protection\\Medical Masks\\HTJdN9q_normalized.jpg\n"
     ]
    },
    {
     "name": "stderr",
     "output_type": "stream",
     "text": [
      "Processing D:\\PENNY\\Gaiat products\\images\\Sanitization & Personal Protection\\Medical Masks: 100%|██████████| 14/14 [00:00<00:00, 41.44image/s]\n",
      "Processing D:\\PENNY\\Gaiat products\\images\\Seating Furniture: 0image [00:00, ?image/s]\n",
      "Processing D:\\PENNY\\Gaiat products\\images\\Seating Furniture\\Chairs & Accessories:   0%|          | 1/590 [00:00<01:32,  6.36image/s]"
     ]
    },
    {
     "name": "stdout",
     "output_type": "stream",
     "text": [
      "Error: Unable to read image D:\\PENNY\\Gaiat products\\images\\Seating Furniture\\Chairs & Accessories\\740R0ng_normalized.jpg\n",
      "Error: Unable to read image D:\\PENNY\\Gaiat products\\images\\Seating Furniture\\Chairs & Accessories\\aiGBLOD_sharpened.jpg\n",
      "Error: Unable to read image D:\\PENNY\\Gaiat products\\images\\Seating Furniture\\Chairs & Accessories\\anXHfIR_reversed.jpg\n",
      "Error: Unable to read image D:\\PENNY\\Gaiat products\\images\\Seating Furniture\\Chairs & Accessories\\AqhgzQz_reversed.jpg\n",
      "Error: Unable to read image D:\\PENNY\\Gaiat products\\images\\Seating Furniture\\Chairs & Accessories\\AUyK8fE_reversed.jpg\n",
      "Error: Unable to read image D:\\PENNY\\Gaiat products\\images\\Seating Furniture\\Chairs & Accessories\\bJpNGnC_reversed.jpg\n",
      "Error: Unable to read image D:\\PENNY\\Gaiat products\\images\\Seating Furniture\\Chairs & Accessories\\cazbml4_normalized.jpg\n",
      "Error: Unable to read image D:\\PENNY\\Gaiat products\\images\\Seating Furniture\\Chairs & Accessories\\eAM5lIp_reversed.jpg\n",
      "Error: Unable to read image D:\\PENNY\\Gaiat products\\images\\Seating Furniture\\Chairs & Accessories\\EtsqcWu_normalized.jpg\n",
      "Error: Unable to read image D:\\PENNY\\Gaiat products\\images\\Seating Furniture\\Chairs & Accessories\\GESgAiQ_normalized.jpg\n",
      "Error: Unable to read image D:\\PENNY\\Gaiat products\\images\\Seating Furniture\\Chairs & Accessories\\GESgAiQ_sharpened.jpg\n",
      "Error: Unable to read image D:\\PENNY\\Gaiat products\\images\\Seating Furniture\\Chairs & Accessories\\GmtSsZO_reversed.jpg\n",
      "Error: Unable to read image D:\\PENNY\\Gaiat products\\images\\Seating Furniture\\Chairs & Accessories\\GmtSsZO_sharpened.jpg\n",
      "Error: Unable to read image D:\\PENNY\\Gaiat products\\images\\Seating Furniture\\Chairs & Accessories\\IgrN627_sharpened.jpg\n",
      "Error: Unable to read image D:\\PENNY\\Gaiat products\\images\\Seating Furniture\\Chairs & Accessories\\ityASsj_normalized.jpg\n",
      "Error: Unable to read image D:\\PENNY\\Gaiat products\\images\\Seating Furniture\\Chairs & Accessories\\MqKsBtv_normalized.jpg\n",
      "Error: Unable to read image D:\\PENNY\\Gaiat products\\images\\Seating Furniture\\Chairs & Accessories\\pOqqRTX_reversed.jpg\n",
      "Error: Unable to read image D:\\PENNY\\Gaiat products\\images\\Seating Furniture\\Chairs & Accessories\\Ut9C2XY_normalized.jpg\n",
      "Error: Unable to read image D:\\PENNY\\Gaiat products\\images\\Seating Furniture\\Chairs & Accessories\\V4xOj8b_reversed.jpg\n",
      "Error: Unable to read image D:\\PENNY\\Gaiat products\\images\\Seating Furniture\\Chairs & Accessories\\ylwQPWb_reversed.jpg\n"
     ]
    },
    {
     "name": "stderr",
     "output_type": "stream",
     "text": [
      "Processing D:\\PENNY\\Gaiat products\\images\\Seating Furniture\\Chairs & Accessories: 100%|██████████| 590/590 [00:15<00:00, 39.19image/s]\n",
      "Processing D:\\PENNY\\Gaiat products\\images\\Seating Furniture\\Cinema Sofas: 100%|██████████| 15/15 [00:00<00:00, 75.53image/s]\n"
     ]
    },
    {
     "name": "stdout",
     "output_type": "stream",
     "text": [
      "Error: Unable to read image D:\\PENNY\\Gaiat products\\images\\Seating Furniture\\Cinema Sofas\\NMC-013-A_normalized.jpg\n"
     ]
    },
    {
     "name": "stderr",
     "output_type": "stream",
     "text": [
      "Processing D:\\PENNY\\Gaiat products\\images\\Seating Furniture\\Office Chairs:   0%|          | 0/132 [00:00<?, ?image/s]"
     ]
    },
    {
     "name": "stdout",
     "output_type": "stream",
     "text": [
      "Error: Unable to read image D:\\PENNY\\Gaiat products\\images\\Seating Furniture\\Office Chairs\\0MqpN9n_reversed.jpg\n",
      "Error: Unable to read image D:\\PENNY\\Gaiat products\\images\\Seating Furniture\\Office Chairs\\0MqpN9n_sharpened.jpg\n",
      "Error: Unable to read image D:\\PENNY\\Gaiat products\\images\\Seating Furniture\\Office Chairs\\1YQdpvI_normalized.jpg\n",
      "Error: Unable to read image D:\\PENNY\\Gaiat products\\images\\Seating Furniture\\Office Chairs\\C67luMk_normalized.jpg\n",
      "Error: Unable to read image D:\\PENNY\\Gaiat products\\images\\Seating Furniture\\Office Chairs\\fP9zvhT_normalized.jpg\n",
      "Error: Unable to read image D:\\PENNY\\Gaiat products\\images\\Seating Furniture\\Office Chairs\\fP9zvhT_reversed.jpg\n",
      "Error: Unable to read image D:\\PENNY\\Gaiat products\\images\\Seating Furniture\\Office Chairs\\IfyWpjp_sharpened.jpg\n",
      "Error: Unable to read image D:\\PENNY\\Gaiat products\\images\\Seating Furniture\\Office Chairs\\tuiDccZ_resized.jpg\n"
     ]
    },
    {
     "name": "stderr",
     "output_type": "stream",
     "text": [
      "Processing D:\\PENNY\\Gaiat products\\images\\Seating Furniture\\Office Chairs: 100%|██████████| 132/132 [00:01<00:00, 124.51image/s]\n",
      "Processing D:\\PENNY\\Gaiat products\\images\\Seating Furniture\\Recliner Chairs:   0%|          | 0/128 [00:00<?, ?image/s]"
     ]
    },
    {
     "name": "stdout",
     "output_type": "stream",
     "text": [
      "Error: Unable to read image D:\\PENNY\\Gaiat products\\images\\Seating Furniture\\Recliner Chairs\\p_20563oowl1_sharpened.jpg\n",
      "Error: Unable to read image D:\\PENNY\\Gaiat products\\images\\Seating Furniture\\Recliner Chairs\\p_20565hpng1_resized.jpg\n",
      "Error: Unable to read image D:\\PENNY\\Gaiat products\\images\\Seating Furniture\\Recliner Chairs\\p_20565hpng1_sharpened.jpg\n",
      "Error: Unable to read image D:\\PENNY\\Gaiat products\\images\\Seating Furniture\\Recliner Chairs\\p_20569ns4j2_resized.jpg\n",
      "Error: Unable to read image D:\\PENNY\\Gaiat products\\images\\Seating Furniture\\Recliner Chairs\\p_2056bo7vf1_normalized.jpg\n",
      "Error: Unable to read image D:\\PENNY\\Gaiat products\\images\\Seating Furniture\\Recliner Chairs\\p_2056bo7vf1_sharpened.jpg\n",
      "Error: Unable to read image D:\\PENNY\\Gaiat products\\images\\Seating Furniture\\Recliner Chairs\\p_2056bxfjl1_sharpened.jpg\n",
      "Error: Unable to read image D:\\PENNY\\Gaiat products\\images\\Seating Furniture\\Recliner Chairs\\p_2056hotkx1_sharpened.jpg\n",
      "Error: Unable to read image D:\\PENNY\\Gaiat products\\images\\Seating Furniture\\Recliner Chairs\\p_2056l9j9a1_reversed.jpg\n",
      "Error: Unable to read image D:\\PENNY\\Gaiat products\\images\\Seating Furniture\\Recliner Chairs\\p_2056l9j9a1_resized.jpg\n"
     ]
    },
    {
     "name": "stderr",
     "output_type": "stream",
     "text": [
      "Processing D:\\PENNY\\Gaiat products\\images\\Seating Furniture\\Recliner Chairs: 100%|██████████| 128/128 [00:03<00:00, 38.12image/s]\n",
      "Processing D:\\PENNY\\Gaiat products\\images\\Seating Furniture\\Sofas:   0%|          | 0/35 [00:00<?, ?image/s]"
     ]
    },
    {
     "name": "stdout",
     "output_type": "stream",
     "text": [
      "Error: Unable to read image D:\\PENNY\\Gaiat products\\images\\Seating Furniture\\Sofas\\IMIZm7m_normalized.jpg\n",
      "Error: Unable to read image D:\\PENNY\\Gaiat products\\images\\Seating Furniture\\Sofas\\ji2xIDY_sharpened.jpg\n"
     ]
    },
    {
     "name": "stderr",
     "output_type": "stream",
     "text": [
      "Processing D:\\PENNY\\Gaiat products\\images\\Seating Furniture\\Sofas: 100%|██████████| 35/35 [00:00<00:00, 35.72image/s]\n",
      "Processing D:\\PENNY\\Gaiat products\\images\\Seating Furniture\\Theater Chairs:   0%|          | 0/55 [00:00<?, ?image/s]"
     ]
    },
    {
     "name": "stdout",
     "output_type": "stream",
     "text": [
      "Error: Unable to read image D:\\PENNY\\Gaiat products\\images\\Seating Furniture\\Theater Chairs\\NMC-005-A_normalized.jpg\n",
      "Error: Unable to read image D:\\PENNY\\Gaiat products\\images\\Seating Furniture\\Theater Chairs\\NMC-001-A_sharpened.jpg\n",
      "Error: Unable to read image D:\\PENNY\\Gaiat products\\images\\Seating Furniture\\Theater Chairs\\NMC-005-A_reversed.jpg\n",
      "Error: Unable to read image D:\\PENNY\\Gaiat products\\images\\Seating Furniture\\Theater Chairs\\NMC-004-A_sharpened.jpg\n",
      "Error: Unable to read image D:\\PENNY\\Gaiat products\\images\\Seating Furniture\\Theater Chairs\\NMC002-A_reversed.jpg\n"
     ]
    },
    {
     "name": "stderr",
     "output_type": "stream",
     "text": [
      "Processing D:\\PENNY\\Gaiat products\\images\\Seating Furniture\\Theater Chairs: 100%|██████████| 55/55 [00:00<00:00, 152.52image/s]\n"
     ]
    },
    {
     "name": "stdout",
     "output_type": "stream",
     "text": [
      "Error: Unable to read image D:\\PENNY\\Gaiat products\\images\\Seating Furniture\\Theater Chairs\\NMC16-A_reversed.jpg\n"
     ]
    },
    {
     "name": "stderr",
     "output_type": "stream",
     "text": [
      "Processing D:\\PENNY\\Gaiat products\\images\\Sinks & Sanitary Wares: 0image [00:00, ?image/s]\n",
      "Processing D:\\PENNY\\Gaiat products\\images\\Sinks & Sanitary Wares\\Mixers:   0%|          | 0/16 [00:00<?, ?image/s]"
     ]
    },
    {
     "name": "stdout",
     "output_type": "stream",
     "text": [
      "Error: Unable to read image D:\\PENNY\\Gaiat products\\images\\Sinks & Sanitary Wares\\Mixers\\grohe-eurosmart-single-lever-bath-mixer-with-shower-set-wall-mounted--fg-3330220a_0_reversed.jpg\n",
      "Error: Unable to read image D:\\PENNY\\Gaiat products\\images\\Sinks & Sanitary Wares\\Mixers\\grohe-eurosmart-single-lever-bath-mixer-with-shower-set-wall-mounted--fg-3330220a_0_resized.jpg\n",
      "Error: Unable to read image D:\\PENNY\\Gaiat products\\images\\Sinks & Sanitary Wares\\Mixers\\FeOP1qo_reversed.jpg\n",
      "Error: Unable to read image D:\\PENNY\\Gaiat products\\images\\Sinks & Sanitary Wares\\Mixers\\grohe-eurosmart-single-lever-bath-mixer-with-shower-set-wall-mounted--fg-3330220a_0_sharpened.jpg\n"
     ]
    },
    {
     "name": "stderr",
     "output_type": "stream",
     "text": [
      "Processing D:\\PENNY\\Gaiat products\\images\\Sinks & Sanitary Wares\\Mixers: 100%|██████████| 16/16 [00:00<00:00, 51.24image/s]\n",
      "Processing D:\\PENNY\\Gaiat products\\images\\Sinks & Sanitary Wares\\Sanitary Ware:   0%|          | 0/32 [00:00<?, ?image/s]"
     ]
    },
    {
     "name": "stdout",
     "output_type": "stream",
     "text": [
      "Error: Unable to read image D:\\PENNY\\Gaiat products\\images\\Sinks & Sanitary Wares\\Sanitary Ware\\item_XL_7724073_6627090_normalized.jpg\n",
      "Error: Unable to read image D:\\PENNY\\Gaiat products\\images\\Sinks & Sanitary Wares\\Sanitary Ware\\item_XL_7724073_6627090_reversed.jpg\n",
      "Error: Unable to read image D:\\PENNY\\Gaiat products\\images\\Sinks & Sanitary Wares\\Sanitary Ware\\item_XL_7724073_6627090_resized.jpg\n",
      "Error: Unable to read image D:\\PENNY\\Gaiat products\\images\\Sinks & Sanitary Wares\\Sanitary Ware\\item_XL_7724073_6627090_sharpened.jpg\n"
     ]
    },
    {
     "name": "stderr",
     "output_type": "stream",
     "text": [
      "Processing D:\\PENNY\\Gaiat products\\images\\Sinks & Sanitary Wares\\Sanitary Ware: 100%|██████████| 32/32 [00:00<00:00, 32.77image/s]\n",
      "Processing D:\\PENNY\\Gaiat products\\images\\Sinks & Sanitary Wares\\Toilet accessories:   0%|          | 0/31 [00:00<?, ?image/s]"
     ]
    },
    {
     "name": "stdout",
     "output_type": "stream",
     "text": [
      "Error: Unable to read image D:\\PENNY\\Gaiat products\\images\\Sinks & Sanitary Wares\\Toilet accessories\\51euZ2nqhlL._AC_SY355__normalized.jpg\n",
      "Error: Unable to read image D:\\PENNY\\Gaiat products\\images\\Sinks & Sanitary Wares\\Toilet accessories\\31hD8EtJFaL._AC_SY1000__normalized.jpg\n",
      "Error: Unable to read image D:\\PENNY\\Gaiat products\\images\\Sinks & Sanitary Wares\\Toilet accessories\\gaboli_-_sax_1201_1_reversed.jpg\n",
      "Error: Unable to read image D:\\PENNY\\Gaiat products\\images\\Sinks & Sanitary Wares\\Toilet accessories\\gaboli_-_sax_1201_1_sharpened.jpg\n"
     ]
    },
    {
     "name": "stderr",
     "output_type": "stream",
     "text": [
      "Processing D:\\PENNY\\Gaiat products\\images\\Sinks & Sanitary Wares\\Toilet accessories: 100%|██████████| 31/31 [00:00<00:00, 72.11image/s]\n",
      "Processing D:\\PENNY\\Gaiat products\\images\\Sinks & Sanitary Wares\\Water Heater:   0%|          | 0/16 [00:00<?, ?image/s]"
     ]
    },
    {
     "name": "stdout",
     "output_type": "stream",
     "text": [
      "Error: Unable to read image D:\\PENNY\\Gaiat products\\images\\Sinks & Sanitary Wares\\Water Heater\\315CdFN9fSL._AC_SY1000__normalized.jpg\n",
      "Error: Unable to read image D:\\PENNY\\Gaiat products\\images\\Sinks & Sanitary Wares\\Water Heater\\315CdFN9fSL._AC_SY1000__sharpened.jpg\n",
      "Error: Unable to read image D:\\PENNY\\Gaiat products\\images\\Sinks & Sanitary Wares\\Water Heater\\ariston-50-liters-superglass-sgr-50_sharpened.jpg\n"
     ]
    },
    {
     "name": "stderr",
     "output_type": "stream",
     "text": [
      "Processing D:\\PENNY\\Gaiat products\\images\\Sinks & Sanitary Wares\\Water Heater: 100%|██████████| 16/16 [00:00<00:00, 53.30image/s]\n",
      "Processing D:\\PENNY\\Gaiat products\\images\\Sports Equipment & Tools: 0image [00:00, ?image/s]\n",
      "Processing D:\\PENNY\\Gaiat products\\images\\Sports Equipment & Tools\\Fitness Equipment & Tools: 100%|██████████| 27/27 [00:00<00:00, 57.95image/s]\n",
      "Processing D:\\PENNY\\Gaiat products\\images\\Sports Equipment & Tools\\Football Equipment & Tools: 100%|██████████| 34/34 [00:00<00:00, 50.77image/s]\n"
     ]
    },
    {
     "name": "stdout",
     "output_type": "stream",
     "text": [
      "Error: Unable to read image D:\\PENNY\\Gaiat products\\images\\Sports Equipment & Tools\\Football Equipment & Tools\\ZILGJJq_normalized.jpg\n",
      "Error: Unable to read image D:\\PENNY\\Gaiat products\\images\\Sports Equipment & Tools\\Football Equipment & Tools\\ZILGJJq_reversed.jpg\n",
      "Error: Unable to read image D:\\PENNY\\Gaiat products\\images\\Sports Equipment & Tools\\Football Equipment & Tools\\ZILGJJq_sharpened.jpg\n"
     ]
    },
    {
     "name": "stderr",
     "output_type": "stream",
     "text": [
      "Processing D:\\PENNY\\Gaiat products\\images\\Sports Equipment & Tools\\Light Medical Equipment & Tools: 100%|██████████| 1/1 [00:00<00:00,  6.84image/s]\n",
      "Processing D:\\PENNY\\Gaiat products\\images\\Stationery: 0image [00:00, ?image/s]\n",
      "Processing D:\\PENNY\\Gaiat products\\images\\Stationery\\Board Pens:   0%|          | 0/40 [00:00<?, ?image/s]"
     ]
    },
    {
     "name": "stdout",
     "output_type": "stream",
     "text": [
      "Error: Unable to read image D:\\PENNY\\Gaiat products\\images\\Stationery\\Board Pens\\31547_normalized.jpgError: Unable to read image D:\\PENNY\\Gaiat products\\images\\Stationery\\Board Pens\\31546_normalized.jpg\n",
      "\n",
      "Error: Unable to read image D:\\PENNY\\Gaiat products\\images\\Stationery\\Board Pens\\31547_reversed.jpg\n",
      "Error: Unable to read image D:\\PENNY\\Gaiat products\\images\\Stationery\\Board Pens\\31548_normalized.jpg\n",
      "Error: Unable to read image D:\\PENNY\\Gaiat products\\images\\Stationery\\Board Pens\\31546_reversed.jpg\n",
      "Error: Unable to read image D:\\PENNY\\Gaiat products\\images\\Stationery\\Board Pens\\31548_resized.jpg\n",
      "Error: Unable to read image D:\\PENNY\\Gaiat products\\images\\Stationery\\Board Pens\\31548_sharpened.jpg\n",
      "Error: Unable to read image D:\\PENNY\\Gaiat products\\images\\Stationery\\Board Pens\\31545_normalized.jpg\n",
      "Error: Unable to read image D:\\PENNY\\Gaiat products\\images\\Stationery\\Board Pens\\31552_normalized.jpg\n",
      "Error: Unable to read image D:\\PENNY\\Gaiat products\\images\\Stationery\\Board Pens\\31551_normalized.jpg\n",
      "Error: Unable to read image D:\\PENNY\\Gaiat products\\images\\Stationery\\Board Pens\\31545_reversed.jpg\n",
      "Error: Unable to read image D:\\PENNY\\Gaiat products\\images\\Stationery\\Board Pens\\31551_reversed.jpg\n"
     ]
    },
    {
     "name": "stderr",
     "output_type": "stream",
     "text": [
      "Processing D:\\PENNY\\Gaiat products\\images\\Stationery\\Board Pens: 100%|██████████| 40/40 [00:00<00:00, 89.87image/s]\n"
     ]
    },
    {
     "name": "stdout",
     "output_type": "stream",
     "text": [
      "Error: Unable to read image D:\\PENNY\\Gaiat products\\images\\Stationery\\Board Pens\\31552_reversed.jpg\n",
      "Error: Unable to read image D:\\PENNY\\Gaiat products\\images\\Stationery\\Board Pens\\31551_resized.jpg\n",
      "Error: Unable to read image D:\\PENNY\\Gaiat products\\images\\Stationery\\Board Pens\\31551_sharpened.jpg\n",
      "Error: Unable to read image D:\\PENNY\\Gaiat products\\images\\Stationery\\Board Pens\\31553_normalized.jpg\n",
      "Error: Unable to read image D:\\PENNY\\Gaiat products\\images\\Stationery\\Board Pens\\31552_resized.jpg\n",
      "Error: Unable to read image D:\\PENNY\\Gaiat products\\images\\Stationery\\Board Pens\\31554_sharpened.jpg\n"
     ]
    },
    {
     "name": "stderr",
     "output_type": "stream",
     "text": [
      "Processing D:\\PENNY\\Gaiat products\\images\\Stationery\\Boards, Flipcharts & Tools:   0%|          | 0/15 [00:00<?, ?image/s]"
     ]
    },
    {
     "name": "stdout",
     "output_type": "stream",
     "text": [
      "Error: Unable to read image D:\\PENNY\\Gaiat products\\images\\Stationery\\Boards, Flipcharts & Tools\\31467_normalized.jpg\n",
      "Error: Unable to read image D:\\PENNY\\Gaiat products\\images\\Stationery\\Boards, Flipcharts & Tools\\31467_reversed.jpg\n",
      "Error: Unable to read image D:\\PENNY\\Gaiat products\\images\\Stationery\\Boards, Flipcharts & Tools\\442615_normalized.jpg\n",
      "Error: Unable to read image D:\\PENNY\\Gaiat products\\images\\Stationery\\Boards, Flipcharts & Tools\\31467_resized.jpg\n",
      "Error: Unable to read image D:\\PENNY\\Gaiat products\\images\\Stationery\\Boards, Flipcharts & Tools\\31467_sharpened.jpg\n",
      "Error: Unable to read image D:\\PENNY\\Gaiat products\\images\\Stationery\\Boards, Flipcharts & Tools\\442617_normalized.jpg\n",
      "Error: Unable to read image D:\\PENNY\\Gaiat products\\images\\Stationery\\Boards, Flipcharts & Tools\\442615_reversed.jpg\n"
     ]
    },
    {
     "name": "stderr",
     "output_type": "stream",
     "text": [
      "Processing D:\\PENNY\\Gaiat products\\images\\Stationery\\Boards, Flipcharts & Tools: 100%|██████████| 15/15 [00:00<00:00, 55.32image/s]\n",
      "Processing D:\\PENNY\\Gaiat products\\images\\Stationery\\Calculators & Batteries:   0%|          | 0/20 [00:00<?, ?image/s]"
     ]
    },
    {
     "name": "stdout",
     "output_type": "stream",
     "text": [
      "Error: Unable to read image D:\\PENNY\\Gaiat products\\images\\Stationery\\Calculators & Batteries\\460175_normalized.jpg\n",
      "Error: Unable to read image D:\\PENNY\\Gaiat products\\images\\Stationery\\Calculators & Batteries\\460175_resized.jpg\n"
     ]
    },
    {
     "name": "stderr",
     "output_type": "stream",
     "text": [
      "Processing D:\\PENNY\\Gaiat products\\images\\Stationery\\Calculators & Batteries: 100%|██████████| 20/20 [00:03<00:00,  6.66image/s]\n",
      "Processing D:\\PENNY\\Gaiat products\\images\\Stationery\\Clips:   0%|          | 0/65 [00:00<?, ?image/s]"
     ]
    },
    {
     "name": "stdout",
     "output_type": "stream",
     "text": [
      "Error: Unable to read image D:\\PENNY\\Gaiat products\\images\\Stationery\\Clips\\194492_normalized.jpg\n"
     ]
    },
    {
     "name": "stderr",
     "output_type": "stream",
     "text": [
      "Processing D:\\PENNY\\Gaiat products\\images\\Stationery\\Clips: 100%|██████████| 65/65 [00:07<00:00,  8.62image/s]\n",
      "Processing D:\\PENNY\\Gaiat products\\images\\Stationery\\Envelopes:   0%|          | 0/25 [00:00<?, ?image/s]"
     ]
    },
    {
     "name": "stdout",
     "output_type": "stream",
     "text": [
      "Error: Unable to read image D:\\PENNY\\Gaiat products\\images\\Stationery\\Envelopes\\133704_sharpened.jpg\n"
     ]
    },
    {
     "name": "stderr",
     "output_type": "stream",
     "text": [
      "Processing D:\\PENNY\\Gaiat products\\images\\Stationery\\Envelopes: 100%|██████████| 25/25 [00:03<00:00,  7.73image/s]\n",
      "Processing D:\\PENNY\\Gaiat products\\images\\Stationery\\Erasers & Sharpeners:   0%|          | 0/20 [00:00<?, ?image/s]"
     ]
    },
    {
     "name": "stdout",
     "output_type": "stream",
     "text": [
      "Error: Unable to read image D:\\PENNY\\Gaiat products\\images\\Stationery\\Erasers & Sharpeners\\31440_normalized.jpg\n",
      "Error: Unable to read image D:\\PENNY\\Gaiat products\\images\\Stationery\\Erasers & Sharpeners\\31440_reversed.jpg\n",
      "Error: Unable to read image D:\\PENNY\\Gaiat products\\images\\Stationery\\Erasers & Sharpeners\\31440_sharpened.jpg\n"
     ]
    },
    {
     "name": "stderr",
     "output_type": "stream",
     "text": [
      "Processing D:\\PENNY\\Gaiat products\\images\\Stationery\\Erasers & Sharpeners: 100%|██████████| 20/20 [00:00<00:00, 23.00image/s]\n",
      "Processing D:\\PENNY\\Gaiat products\\images\\Stationery\\Files:   0%|          | 0/130 [00:00<?, ?image/s]"
     ]
    },
    {
     "name": "stdout",
     "output_type": "stream",
     "text": [
      "Error: Unable to read image D:\\PENNY\\Gaiat products\\images\\Stationery\\Files\\118476_resized.jpg\n",
      "Error: Unable to read image D:\\PENNY\\Gaiat products\\images\\Stationery\\Files\\119488_reversed.jpg\n",
      "Error: Unable to read image D:\\PENNY\\Gaiat products\\images\\Stationery\\Files\\188913_reversed.jpg\n",
      "Error: Unable to read image D:\\PENNY\\Gaiat products\\images\\Stationery\\Files\\218010_reversed.jpg\n",
      "Error: Unable to read image D:\\PENNY\\Gaiat products\\images\\Stationery\\Files\\218011_resized.jpg\n",
      "Error: Unable to read image D:\\PENNY\\Gaiat products\\images\\Stationery\\Files\\293100_normalized.jpg\n",
      "Error: Unable to read image D:\\PENNY\\Gaiat products\\images\\Stationery\\Files\\293100_reversed.jpg\n"
     ]
    },
    {
     "name": "stderr",
     "output_type": "stream",
     "text": [
      "Processing D:\\PENNY\\Gaiat products\\images\\Stationery\\Files: 100%|██████████| 130/130 [00:08<00:00, 14.67image/s]\n",
      "Processing D:\\PENNY\\Gaiat products\\images\\Stationery\\Filling Tools & Machines:   0%|          | 0/60 [00:00<?, ?image/s]"
     ]
    },
    {
     "name": "stdout",
     "output_type": "stream",
     "text": [
      "Error: Unable to read image D:\\PENNY\\Gaiat products\\images\\Stationery\\Filling Tools & Machines\\260130_normalized.jpg\n",
      "Error: Unable to read image D:\\PENNY\\Gaiat products\\images\\Stationery\\Filling Tools & Machines\\65416_reversed.jpg\n",
      "Error: Unable to read image D:\\PENNY\\Gaiat products\\images\\Stationery\\Filling Tools & Machines\\65421_normalized.jpg\n",
      "Error: Unable to read image D:\\PENNY\\Gaiat products\\images\\Stationery\\Filling Tools & Machines\\65421_reversed.jpg\n",
      "Error: Unable to read image D:\\PENNY\\Gaiat products\\images\\Stationery\\Filling Tools & Machines\\65421_resized.jpg\n",
      "Error: Unable to read image D:\\PENNY\\Gaiat products\\images\\Stationery\\Filling Tools & Machines\\65421_sharpened.jpg\n"
     ]
    },
    {
     "name": "stderr",
     "output_type": "stream",
     "text": [
      "Processing D:\\PENNY\\Gaiat products\\images\\Stationery\\Filling Tools & Machines: 100%|██████████| 60/60 [00:04<00:00, 13.36image/s]\n"
     ]
    }
   ],
   "source": [
    "import os\n",
    "import cv2\n",
    "import numpy as np\n",
    "from tqdm import tqdm\n",
    "from concurrent.futures import ThreadPoolExecutor\n",
    "\n",
    "def normalize_image(image):\n",
    "    return cv2.normalize(image, None, alpha=0, beta=1, norm_type=cv2.NORM_MINMAX, dtype=cv2.CV_32F)\n",
    "\n",
    "def reverse_image(image):\n",
    "    return cv2.bitwise_not(image)\n",
    "\n",
    "def sharpen_edges(image):\n",
    "    kernel = np.array([[-1, -1, -1], [-1, 9, -1], [-1, -1, -1]])\n",
    "    return cv2.filter2D(image, -1, kernel)\n",
    "\n",
    "def resize_image(image, new_size=(200, 200)):\n",
    "    return cv2.resize(image, new_size, interpolation=cv2.INTER_AREA)\n",
    "\n",
    "def process_image(image_path):\n",
    "    image = cv2.imread(image_path)\n",
    "    if image is None:\n",
    "        print(f\"Error: Unable to read image {image_path}\")\n",
    "        return\n",
    "\n",
    "    # Apply image processing functions\n",
    "    processed_image_normalized = normalize_image(image)\n",
    "    processed_image_reversed = reverse_image(image)\n",
    "    processed_image_resized = resize_image(image)\n",
    "    processed_image_sharpened = sharpen_edges(image)\n",
    "\n",
    "    # Save the processed images in the same directory with appropriate names\n",
    "    processed_base_name = os.path.splitext(os.path.basename(image_path))[0]\n",
    "\n",
    "    cv2.imwrite(os.path.join(os.path.dirname(image_path), f\"{processed_base_name}_normalized.jpg\"), processed_image_normalized)\n",
    "    cv2.imwrite(os.path.join(os.path.dirname(image_path), f\"{processed_base_name}_reversed.jpg\"), processed_image_reversed)\n",
    "    cv2.imwrite(os.path.join(os.path.dirname(image_path), f\"{processed_base_name}_resized.jpg\"), processed_image_resized)\n",
    "    cv2.imwrite(os.path.join(os.path.dirname(image_path), f\"{processed_base_name}_sharpened.jpg\"), processed_image_sharpened)\n",
    "\n",
    "input_dir = r'D:\\PENNY\\Gaiat products\\images'\n",
    "\n",
    "for root, _, files in os.walk(input_dir):\n",
    "    # Use tqdm to create a progress bar for the images in each directory\n",
    "    progress_bar = tqdm(total=len(files), desc=f\"Processing {root}\", unit=\"image\")\n",
    "\n",
    "    # Use ThreadPoolExecutor for parallel processing\n",
    "    with ThreadPoolExecutor() as executor:\n",
    "        futures = [executor.submit(process_image, os.path.join(root, file)) for file in files]\n",
    "\n",
    "        for _ in futures:\n",
    "            progress_bar.update(1)  # Update the progress bar for each processed image\n",
    "\n",
    "    progress_bar.close()  # Close the progress bar for the current directory\n"
   ]
  },
  {
   "cell_type": "code",
   "execution_count": 18,
   "metadata": {},
   "outputs": [],
   "source": [
    "import os\n",
    "import cv2\n",
    "import numpy as np\n",
    "from tqdm import tqdm\n",
    "from concurrent.futures import ThreadPoolExecutor\n",
    "from multiprocessing import Pool\n",
    "from sklearn.model_selection import train_test_split\n",
    "from tensorflow.keras import layers, models, optimizers, utils\n",
    "\n",
    "# Constants\n",
    "input_dir = r'D:\\PENNY\\Gaiat products\\images'\n",
    "image_size = (200, 200)\n",
    "batch_size = 32\n",
    "epochs_parent = 10\n",
    "epochs_category = 10\n",
    "num_processes = 4  # Adjust the number of processes based on your CPU capacity\n",
    "\n",
    "# Preprocess the images and load the data for parent classification\n",
    "def preprocess_image_parent(image_path):\n",
    "    image = cv2.imread(image_path)\n",
    "    image = cv2.cvtColor(image, cv2.COLOR_BGR2RGB)  # Convert BGR to RGB\n",
    "    image = cv2.resize(image, image_size)\n",
    "    image = image.astype('float32') / 255.0  # Normalize to [0, 1]\n",
    "    return image\n",
    "\n",
    "def load_data_parent():\n",
    "    images = []\n",
    "    catalogs = []\n",
    "    for root, _, files in os.walk(input_dir):\n",
    "        catalog = os.path.basename(root)\n",
    "        for file in files:\n",
    "            if file.endswith('.jpg'):\n",
    "                image_path = os.path.join(root, file)\n",
    "                images.append(image_path)\n",
    "                catalogs.append(catalog)\n",
    "\n",
    "    return images, catalogs\n",
    "\n",
    "def preprocess_and_predict_parent(image_path):\n",
    "    image = preprocess_image_parent(image_path)\n",
    "    return image, model_parent.predict(np.expand_dims(image, axis=0))\n",
    "\n",
    "# Load the data for parent classification\n",
    "images, catalogs = load_data_parent()\n"
   ]
  },
  {
   "cell_type": "code",
   "execution_count": 20,
   "metadata": {},
   "outputs": [],
   "source": [
    "import os\n",
    "import cv2\n",
    "import numpy as np\n",
    "from tqdm import tqdm\n",
    "from concurrent.futures import ThreadPoolExecutor\n",
    "from multiprocessing import Pool\n",
    "from sklearn.model_selection import train_test_split\n",
    "from tensorflow.keras import layers, models, optimizers, utils\n",
    "\n",
    "# Constants\n",
    "input_dir = r'D:\\PENNY\\Gaiat products\\images'\n",
    "image_size = (200, 200)\n",
    "batch_size = 32\n",
    "epochs_parent = 10\n",
    "epochs_category = 10\n",
    "num_processes = 4  # Adjust the number of processes based on your CPU capacity\n",
    "\n",
    "# Preprocess the images and load the data for parent classification\n",
    "def preprocess_image_parent(image_path):\n",
    "    image = cv2.imread(image_path)\n",
    "    image = cv2.cvtColor(image, cv2.COLOR_BGR2RGB)  # Convert BGR to RGB\n",
    "    image = cv2.resize(image, image_size)\n",
    "    image = image.astype('float32') / 255.0  # Normalize to [0, 1]\n",
    "    return image\n",
    "\n",
    "def load_data_parent():\n",
    "    images = []\n",
    "    catalogs = []\n",
    "    for root, _, files in os.walk(input_dir):\n",
    "        catalog = os.path.basename(root)\n",
    "        for file in files:\n",
    "            if file.endswith('.jpg'):\n",
    "                image_path = os.path.join(root, file)\n",
    "                images.append(image_path)\n",
    "                catalogs.append(catalog)\n",
    "\n",
    "    return images, catalogs\n",
    "\n",
    "def preprocess_and_predict_parent(image_path):\n",
    "    image = preprocess_image_parent(image_path)\n",
    "    return image, model_parent.predict(np.expand_dims(image, axis=0))\n",
    "\n",
    "# Load the data for parent classification\n",
    "images, catalogs = load_data_parent()\n"
   ]
  },
  {
   "cell_type": "code",
   "execution_count": null,
   "metadata": {},
   "outputs": [],
   "source": [
    "import tensorflow as tf\n"
   ]
  },
  {
   "cell_type": "code",
   "execution_count": null,
   "metadata": {},
   "outputs": [],
   "source": [
    "# Build the CNN model for parent classification\n",
    "model_parent = models.Sequential([\n",
    "    layers.Conv2D(32, (3, 3), activation='relu', input_shape=(image_size[0], image_size[1], 3)),\n",
    "    layers.MaxPooling2D((2, 2)),\n",
    "    layers.Conv2D(64, (3, 3), activation='relu'),\n",
    "    layers.MaxPooling2D((2, 2)),\n",
    "    layers.Conv2D(128, (3, 3), activation='relu'),\n",
    "    layers.MaxPooling2D((2, 2)),\n",
    "    layers.Flatten(),\n",
    "    layers.Dense(128, activation='relu'),\n",
    "    layers.Dense(len(np.unique(catalogs)), activation='softmax')\n",
    "])\n",
    "\n",
    "# Compile the model for parent classification\n",
    "model_parent.compile(optimizer='adam', loss='sparse_categorical_crossentropy', metrics=['accuracy'])\n",
    "\n",
    "# Parallelize image processing for parent classification\n",
    "with Pool(num_processes) as pool:\n",
    "    results = list(tqdm(pool.imap(preprocess_and_predict_parent, images), total=len(images), desc=\"Processing Images\", colour='pink'))\n",
    "\n",
    "# Train the model for parent classification\n",
    "model_parent.fit(np.array([result[0] for result in results]), np.array([result[1] for result in results]),\n",
    "                 batch_size=batch_size, epochs=epochs_parent)\n"
   ]
  },
  {
   "cell_type": "code",
   "execution_count": null,
   "metadata": {},
   "outputs": [],
   "source": [
    "# Preprocess the images and load the data for category classification\n",
    "def preprocess_image_category(image_path):\n",
    "    image = cv2.imread(image_path)\n",
    "    image = cv2.cvtColor(image, cv2.COLOR_BGR2RGB)  # Convert BGR to RGB\n",
    "    image = cv2.resize(image, image_size)\n",
    "    image = image.astype('float32') / 255.0  # Normalize to [0, 1]\n",
    "    return image\n",
    "\n",
    "def load_data_category(images, catalogs):\n",
    "    images_category = []\n",
    "    categories = []\n",
    "\n",
    "    for image_path, catalog in zip(images, catalogs):\n",
    "        image = preprocess_image_category(image_path)\n",
    "        images_category.append(image)\n",
    "        categories.append(catalog_to_category[catalog])\n",
    "\n",
    "    return np.array(images_category), np.array(categories)\n",
    "\n",
    "# Prepare data for category classification using the predictions from the parent model\n",
    "catalog_to_category = {catalog: idx for idx, catalog in enumerate(np.unique(catalogs))}\n",
    "x_category, y_category = load_data_category([result[0] for result in results], catalogs)\n"
   ]
  },
  {
   "cell_type": "code",
   "execution_count": null,
   "metadata": {},
   "outputs": [],
   "source": [
    "# Build the CNN model for category classification\n",
    "model_category = models.Sequential([\n",
    "    layers.Conv2D(32, (3, 3), activation='relu', input_shape=(image_size[0], image_size[1], 3)),\n",
    "    layers.MaxPooling2D((2, 2)),\n",
    "    layers.Conv2D(64, (3, 3), activation='relu'),\n",
    "    layers.MaxPooling2D((2, 2)),\n",
    "    layers.Conv2D(128, (3, 3), activation='relu'),\n",
    "    layers.MaxPooling2D((2, 2)),\n",
    "    layers.Flatten(),\n",
    "    layers.Dense(128, activation='relu'),\n",
    "    layers.Dense(len(np.unique(y_category)), activation='softmax')\n",
    "])\n",
    "\n",
    "# Compile the model for category classification\n",
    "model_category.compile\n"
   ]
  }
 ],
 "metadata": {
  "kernelspec": {
   "display_name": "Python 3",
   "language": "python",
   "name": "python3"
  },
  "language_info": {
   "codemirror_mode": {
    "name": "ipython",
    "version": 3
   },
   "file_extension": ".py",
   "mimetype": "text/x-python",
   "name": "python",
   "nbconvert_exporter": "python",
   "pygments_lexer": "ipython3",
   "version": "3.10.6"
  },
  "orig_nbformat": 4
 },
 "nbformat": 4,
 "nbformat_minor": 2
}
