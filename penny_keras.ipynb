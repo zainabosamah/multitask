{
 "cells": [
  {
   "cell_type": "markdown",
   "metadata": {},
   "source": [
    "import all libraries used"
   ]
  },
  {
   "cell_type": "code",
   "execution_count": 1,
   "metadata": {},
   "outputs": [],
   "source": [
    "import pandas as pd\n",
    "import aiohttp\n",
    "import asyncio\n",
    "import os\n",
    "import re\n",
    "\n",
    "async def download_image(session, url, filename, index, total_rows, stats):\n",
    "    full_path = os.path.join(output_folder, filename)\n",
    "    try:\n",
    "        async with session.get(url) as response:\n",
    "            response.raise_for_status()\n",
    "            with open(full_path, 'wb') as f:\n",
    "                while chunk := await response.content.read(32768):\n",
    "                    f.write(chunk)\n",
    "            stats['downloaded'] += 1\n",
    "    except aiohttp.ClientError as err:\n",
    "        # print(f\"Something went wrong: {err}\")\n",
    "        stats['errors'] += 1\n",
    "\n",
    "output_folder = 'Gaiat products'\n",
    "os.makedirs(output_folder, exist_ok=True)\n",
    "pattern = re.compile(r'[^\\w\\s-]')\n",
    "df = pd.read_csv('D:\\PENNY\\Gaiat products.csv')\n",
    "total_rows = len(df)\n",
    "\n",
    "async def main():\n",
    "    stats = {'downloaded': 0, 'skipped': 0, 'errors': 0}\n",
    "    async with aiohttp.ClientSession() as session:\n",
    "        tasks = []\n",
    "        for index, row in df.iterrows():\n",
    "            url = row['Image Links']\n",
    "            filename = row['English Name (required)']\n",
    "            # Skip if URL or filename is missing or not a string\n",
    "            if not isinstance(url, str) or pd.isna(url) or not isinstance(filename, str) or pd.isna(filename):\n",
    "                stats['skipped'] += 1\n",
    "                continue\n",
    "            filename = pattern.sub('', filename).replace(' ', '_') + '.jpg'\n",
    "            task = download_image(session, url, filename, index, total_rows, stats)\n",
    "            tasks.append(task)\n",
    "        await asyncio.gather(*tasks)\n",
    "        \n",
    "    print(f\"Summary: Downloaded {stats['downloaded']} images, skipped {stats['skipped']} images, encountered {stats['errors']} errors.\")\n"
   ]
  },
  {
   "cell_type": "code",
   "execution_count": 2,
   "metadata": {},
   "outputs": [
    {
     "name": "stdout",
     "output_type": "stream",
     "text": [
      "D:\\PENNY\\Gaiat products\\AirbodyDummy_Junior.jpg is broken and will be skipped.\n",
      "D:\\PENNY\\Gaiat products\\AirbodyDummy_Senior.jpg is broken and will be skipped.\n",
      "D:\\PENNY\\Gaiat products\\AI_Builder_Capacity_add-on_for_GCC_Microsoft.jpg is broken and will be skipped.\n",
      "D:\\PENNY\\Gaiat products\\AI_Builder_Capacity_add-on_for_Faculty_Microsoft.jpg is broken and will be skipped.\n",
      "D:\\PENNY\\Gaiat products\\Air_Freshener_Bottle_-_XD353N.jpg is broken and will be skipped.\n",
      "D:\\PENNY\\Gaiat products\\App_-_Almas_Containers_20L_-_12_Pcs_Multiple_colors.jpg is broken and will be skipped.\n",
      "D:\\PENNY\\Gaiat products\\App_-_Almas_Containers_5L_-_30_Pcs_Multiple_colors.jpg is broken and will be skipped.\n",
      "D:\\PENNY\\Gaiat products\\App_-_Almas_Containers_45L_-_12_Pcs_Multiple_colors.jpg is broken and will be skipped.\n",
      "D:\\PENNY\\Gaiat products\\App_-_Almas_Containers_10L_-_24_Pcs_Multiple_colors.jpg is broken and will be skipped.\n",
      "D:\\PENNY\\Gaiat products\\App_-_Altaj_Baby_Chair_-_12_Pcs_Multiple_colors.jpg is broken and will be skipped.\n",
      "D:\\PENNY\\Gaiat products\\App_-_Bab_Toilet_Seat_-_48_Pcs_Multiple_colors.jpg is broken and will be skipped.\n",
      "D:\\PENNY\\Gaiat products\\App_-_Baby_Bath_Tub_-_12_Pcs_Multiple_colors.jpg is broken and will be skipped.\n",
      "D:\\PENNY\\Gaiat products\\App_-_Alnajum_Rack_-_24_Pcs_Multiple_colors.jpg is broken and will be skipped.\n",
      "D:\\PENNY\\Gaiat products\\App_-_Almas_Containers_30L_-_12_Pcs_Multiple_colors.jpg is broken and will be skipped.\n",
      "D:\\PENNY\\Gaiat products\\App_-_Bab_Toilet_Seat_-_60_Pcs_Multiple_colors.jpg is broken and will be skipped.\n",
      "D:\\PENNY\\Gaiat products\\App_-_Beep_Baby_Chair_-_12_Pcs_Multiple_colors.jpg is broken and will be skipped.\n",
      "D:\\PENNY\\Gaiat products\\App_-_Bubble_Basket_45_Ltr_-_24_Pcs_Multiple_colors.jpg is broken and will be skipped.\n",
      "D:\\PENNY\\Gaiat products\\App_-_Almas_Containers_85L_-_12_Pcs_Multiple_colors.jpg is broken and will be skipped.\n",
      "D:\\PENNY\\Gaiat products\\App_-_Bubble_Basket_60_Ltr_-_24_Pcs_Multiple_colors.jpg is broken and will be skipped.\n",
      "D:\\PENNY\\Gaiat products\\App_-_Buckets_15L_-_24_Pcs_Multiple_colors.jpg is broken and will be skipped.\n",
      "D:\\PENNY\\Gaiat products\\App_-_Buckets_3L_-_48_Pcs_Multiple_colors.jpg is broken and will be skipped.\n",
      "D:\\PENNY\\Gaiat products\\App_-_Chair_Classic_-_12_Pcs_Multiple_colors.jpg is broken and will be skipped.\n",
      "D:\\PENNY\\Gaiat products\\App_-_Buckets_20L_-_18_Pcs_Multiple_colors.jpg is broken and will be skipped.\n",
      "D:\\PENNY\\Gaiat products\\App_-_Chair_Cadera_-_12_Pcs_Multiple_colors.jpg is broken and will be skipped.\n",
      "D:\\PENNY\\Gaiat products\\App_-_Chair_Aurora_-_12_Pcs_Multiple_colors.jpg is broken and will be skipped.\n",
      "D:\\PENNY\\Gaiat products\\App_-_Chair_Floral_-_12_Pcs_Multiple_colors.jpg is broken and will be skipped.\n",
      "D:\\PENNY\\Gaiat products\\App_-_Chair_Style_-_12_Pcs_Multiple_colors.jpg is broken and will be skipped.\n",
      "D:\\PENNY\\Gaiat products\\App_-_Cone_Stool_-_10_Pcs_Multiple_colors.jpg is broken and will be skipped.\n",
      "D:\\PENNY\\Gaiat products\\App_-_Food_Container_Box_5L_-_24_Pcs_Multiple_colors.jpg is broken and will be skipped.\n",
      "D:\\PENNY\\Gaiat products\\App_-_Food_Container_Box_14L_-_20_Pcs_Multiple_colors.jpg is broken and will be skipped.\n",
      "D:\\PENNY\\Gaiat products\\App_-_Food_Container_Box_8L_-_30_Pcs_Multiple_colors.jpg is broken and will be skipped.\n",
      "D:\\PENNY\\Gaiat products\\App_-_Italian_WArms_Chair_-_12_Pcs_Multiple_colors.jpg is broken and will be skipped.\n",
      "D:\\PENNY\\Gaiat products\\App_-_Italian_Chair_-_12_Pcs_Multiple_colors.jpg is broken and will be skipped.\n",
      "D:\\PENNY\\Gaiat products\\App_-_Italian_Bins_-_16_Pcs_Multiple_colors.jpg is broken and will be skipped.\n",
      "D:\\PENNY\\Gaiat products\\App_-_Marina_Basket_-_24_Pcs_Multiple_colors.jpg is broken and will be skipped.\n",
      "D:\\PENNY\\Gaiat products\\App_-_Kleena_45L_-_12_Pcs_Multiple_colors.jpg is broken and will be skipped.\n",
      "D:\\PENNY\\Gaiat products\\App_-_Mobellia_Chair_-_12_Pcs_Multiple_colors.jpg is broken and will be skipped.\n",
      "D:\\PENNY\\Gaiat products\\App_-_Palstic_Wasin_WCover_10_inch_-_48_Pcs_Multiple_colors.jpg is broken and will be skipped.\n",
      "D:\\PENNY\\Gaiat products\\App_-_Picnic_Basket_-_12_Pcs_Multiple_colors.jpg is broken and will be skipped.\n",
      "D:\\PENNY\\Gaiat products\\App_-_Palstic_Wasin_WCover_12_inch_-_36_Pcs_Multiple_colors.jpg is broken and will be skipped.\n",
      "D:\\PENNY\\Gaiat products\\App_-_Plage_Folding_Chair_-_6_Pcs_Multiple_colors.jpg is broken and will be skipped.\n",
      "D:\\PENNY\\Gaiat products\\App_-_Plastic_Tubs_10_-_72_Pcs_Multiple_colors.jpg is broken and will be skipped.\n",
      "D:\\PENNY\\Gaiat products\\App_-_Plastic_Tubs_16_-_60_Pcs_Multiple_colors.jpg is broken and will be skipped.\n",
      "D:\\PENNY\\Gaiat products\\App_-_Plastic_Tubs_27_-_12_Pcs_Multiple_colors.jpg is broken and will be skipped.\n",
      "D:\\PENNY\\Gaiat products\\App_-_Plastic_Tubs_12_-_90_Pcs_Multiple_colors.jpg is broken and will be skipped.D:\\PENNY\\Gaiat products\\App_-_Plastic_Tubs_22_-_36_Pcs_Multiple_colors.jpg is broken and will be skipped.\n",
      "\n",
      "D:\\PENNY\\Gaiat products\\App_-_Rectangular_Basket_-_20_Pcs_Multiple_colors.jpg is broken and will be skipped.\n",
      "D:\\PENNY\\Gaiat products\\App_-_Stainers_-_24_Pcs_Multiple_colors.jpg is broken and will be skipped.\n",
      "D:\\PENNY\\Gaiat products\\App_-_Storage_Containers_40L_-_12_Pcs_Multiple_colors.jpg is broken and will be skipped.\n",
      "D:\\PENNY\\Gaiat products\\App_-_Square_Bins_-_12_Pcs_Multiple_colors.jpg is broken and will be skipped.\n",
      "D:\\PENNY\\Gaiat products\\App_-_Super_Market_Basket_-_12_Pcs_Multiple_colors.jpg is broken and will be skipped.\n",
      "D:\\PENNY\\Gaiat products\\App_-_Taj_Chair_Waves_-_12_Pcs_Multiple_colors.jpg is broken and will be skipped.\n",
      "D:\\PENNY\\Gaiat products\\App_-_Sweeto_Care_Saver_Container_WBowls_-_18_Pcs_Multiple_colors.jpg is broken and will be skipped.\n",
      "D:\\PENNY\\Gaiat products\\App_-_Taj_Chair_Flower_-_12_Pcs_Multiple_colors.jpg is broken and will be skipped.\n",
      "D:\\PENNY\\Gaiat products\\App_-_Sweeto_Care_Saver_Container_-_18_Pcs_Multiple_colors.jpg is broken and will be skipped.\n",
      "D:\\PENNY\\Gaiat products\\App_-_Waste_Bins_Swing_S_-_22_Pcs_Multiple_colors.jpg is broken and will be skipped.\n",
      "D:\\PENNY\\Gaiat products\\App_-_Waste_Bins_Swing_M_-_16_Pcs_Multiple_colors.jpg is broken and will be skipped.\n",
      "D:\\PENNY\\Gaiat products\\App_-_Waste_Bins_Swing_L_-_12_Pcs_Multiple_colors.jpg is broken and will be skipped.\n",
      "D:\\PENNY\\Gaiat products\\App_-_Waste_Baskets_S_-_108_Pcs_Multiple_colors.jpg is broken and will be skipped.\n",
      "D:\\PENNY\\Gaiat products\\Aruba_10G_SFP_to_SFP_1m_Direct_Attach_Copper_Cable.jpg is broken and will be skipped.\n",
      "D:\\PENNY\\Gaiat products\\Automatic_Detergent_Powder_Lavender_Bag_-_3_KG.jpg is broken and will be skipped.\n",
      "D:\\PENNY\\Gaiat products\\Automatic_Detergent_Powder_Lavender_Bag_-_5_KG.jpg is broken and will be skipped.\n",
      "D:\\PENNY\\Gaiat products\\Automatic_Detergent_Powder_Lavender_Bag_-_10_KG.jpg is broken and will be skipped.\n",
      "D:\\PENNY\\Gaiat products\\Automatic_Detergent_Powder_Lavender_Bag_-_7_KG.jpg is broken and will be skipped.\n",
      "D:\\PENNY\\Gaiat products\\Automatic_Detergent_Powder_Pearl_Bag_-_7_KG.jpg is broken and will be skipped.\n",
      "D:\\PENNY\\Gaiat products\\Automatic_Detergent_Powder_Lavender_Box_4_x_25_KG.jpg is broken and will be skipped.\n",
      "D:\\PENNY\\Gaiat products\\Automatic_Detergent_Powder_Pearl_Bag_2_x_7_KG.jpg is broken and will be skipped.\n",
      "D:\\PENNY\\Gaiat products\\Automatic_Detergent_Powder_Lavender_Bag_4_x_3_KG.jpg is broken and will be skipped.D:\\PENNY\\Gaiat products\\Automatic_Detergent_Powder_Lavender_Bag_2_x_7_KG.jpg is broken and will be skipped.\n",
      "\n",
      "D:\\PENNY\\Gaiat products\\Automatic_Detergent_Powder_Pearl_Bag_-_3_KG.jpg is broken and will be skipped.\n",
      "D:\\PENNY\\Gaiat products\\Automatic_Detergent_Powder_Pearl_Bag_3_x_5_KG.jpg is broken and will be skipped.\n",
      "D:\\PENNY\\Gaiat products\\Automatic_Detergent_Powder_Pearl_Bag_-_5_KG.jpg is broken and will be skipped.\n",
      "D:\\PENNY\\Gaiat products\\Automatic_Detergent_Powder_Pearl_Box_-_25_KG.jpg is broken and will be skipped.\n",
      "D:\\PENNY\\Gaiat products\\Automatic_Detergent_Powder_Lavender_Box_-_25_KG.jpg is broken and will be skipped.\n",
      "D:\\PENNY\\Gaiat products\\Automatic_Detergent_Powder_Pearl_Box_4_x_25_KG.jpg is broken and will be skipped.\n",
      "D:\\PENNY\\Gaiat products\\Automatic_Detergent_Powder_Lavender_Bag_3_x_5_KG.jpg is broken and will be skipped.\n",
      "D:\\PENNY\\Gaiat products\\Automatic_Detergent_Powder_Pearl_Bag_4_x_3_KG.jpg is broken and will be skipped.\n",
      "D:\\PENNY\\Gaiat products\\Automatic_Detergent_Powder_Spring_Breeze_Bag_-_5_KG.jpg is broken and will be skipped.\n",
      "D:\\PENNY\\Gaiat products\\Automatic_Detergent_Powder_Spring_Breeze_Bag_-_3_KG.jpg is broken and will be skipped.\n",
      "D:\\PENNY\\Gaiat products\\Automatic_Detergent_Powder_Spring_Breeze_Bag_-_10_KG.jpg is broken and will be skipped.\n",
      "D:\\PENNY\\Gaiat products\\Automatic_Mini_Combination_Scrubber_Dryer.jpg is broken and will be skipped.\n",
      "D:\\PENNY\\Gaiat products\\Automatic_Detergent_Powder_Spring_Breeze_Bag_-_7_KG.jpg is broken and will be skipped.\n",
      "D:\\PENNY\\Gaiat products\\Automatic_Detergent_Powder_Spring_Breeze_Bag_2_x_7_KG.jpg is broken and will be skipped.\n",
      "D:\\PENNY\\Gaiat products\\Automatic_Detergent_Powder_Spring_Breeze_Box_4_x_25_KG.jpg is broken and will be skipped.\n",
      "D:\\PENNY\\Gaiat products\\Automatic_Detergent_Powder_Spring_Breeze_Bag_4_x_3_KG.jpg is broken and will be skipped.\n",
      "D:\\PENNY\\Gaiat products\\Automatic_Detergent_Powder_Spring_Breeze_Bag_3_x_5_KG.jpg is broken and will be skipped.\n",
      "D:\\PENNY\\Gaiat products\\Auto_Pop_Up_Water_Spray_Waste_Silver_9x18_cm.jpg is broken and will be skipped.\n",
      "D:\\PENNY\\Gaiat products\\Automatic_Detergent_Powder_Spring_Breeze_Box_-_25_KG.jpg is broken and will be skipped.\n",
      "D:\\PENNY\\Gaiat products\\Ball_On_Rope.jpg is broken and will be skipped.\n",
      "D:\\PENNY\\Gaiat products\\Azure_Information_Protection_Premium_P1_for_Government_Microsoft.jpg is broken and will be skipped.\n",
      "D:\\PENNY\\Gaiat products\\Azure_Active_Directory_Basic_for_Faculty_Microsoft.jpg is broken and will be skipped.\n",
      "D:\\PENNY\\Gaiat products\\Azure_Information_Protection_Premium_P1_for_Faculty_Microsoft.jpg is broken and will be skipped.\n",
      "D:\\PENNY\\Gaiat products\\Bamboo_Paper_Cup_2Oz_-_Ledari_20_Pack.jpg is broken and will be skipped.\n",
      "D:\\PENNY\\Gaiat products\\Bamboo_Paper_Cup_3Oz_-_Ledari_20_Pack.jpg is broken and will be skipped.\n",
      "D:\\PENNY\\Gaiat products\\Bamboo_Paper_Cup_7Oz_-_Ledari_30_Pack.jpg is broken and will be skipped.\n",
      "D:\\PENNY\\Gaiat products\\Bamboo_Paper_Cup_4oz.jpg is broken and will be skipped.\n",
      "D:\\PENNY\\Gaiat products\\Bamboo_Paper_Cup_9Oz_-_Ledari_30_Pack.jpg is broken and will be skipped.\n",
      "D:\\PENNY\\Gaiat products\\Bathroom_Cleaner_Lavender_Pink_-_12_x1L.jpg is broken and will be skipped.D:\\PENNY\\Gaiat products\\Bathroom_Cleaner_Kiwi_-_12_x1L.jpg is broken and will be skipped.\n",
      "\n",
      "D:\\PENNY\\Gaiat products\\Bathroom_Cleaner_Lavender_Blue_-_12_x1L.jpg is broken and will be skipped.\n",
      "D:\\PENNY\\Gaiat products\\Big_Cones_-_Set_Of_10.jpg is broken and will be skipped.\n",
      "D:\\PENNY\\Gaiat products\\Black_Straw__10000_Pcs.jpg is broken and will be skipped.\n",
      "D:\\PENNY\\Gaiat products\\Career_Coach_for_students_Microsoft.jpg is broken and will be skipped.\n",
      "D:\\PENNY\\Gaiat products\\Caution_Sign_Board.jpg is broken and will be skipped.\n",
      "D:\\PENNY\\Gaiat products\\Class_Small_Calculator_Without_Case_24_cl-855.jpg is broken and will be skipped.\n",
      "D:\\PENNY\\Gaiat products\\Chat_session_for_Virtual_Agent_Microsoft.jpg is broken and will be skipped.\n",
      "D:\\PENNY\\Gaiat products\\Chair_with_mesh_back_and_headrest_Black_velvet.jpg is broken and will be skipped.\n",
      "D:\\PENNY\\Gaiat products\\Clear_Spoon_-_165Mm_-_Ledari_20_Pack.jpg is broken and will be skipped.\n",
      "D:\\PENNY\\Gaiat products\\Clorox_Bathroom_Cleaner_Spray_750ml.jpg is broken and will be skipped.\n",
      "D:\\PENNY\\Gaiat products\\Coffee_Spices_Mix_Moderate_-_12Pcs_-120g.jpg is broken and will be skipped.\n",
      "D:\\PENNY\\Gaiat products\\Cover_cup__1000_Pcs.jpg is broken and will be skipped.\n",
      "D:\\PENNY\\Gaiat products\\Cutlery_Set__500_Pcs.jpg is broken and will be skipped.\n",
      "D:\\PENNY\\Gaiat products\\Dell_Alienware_m15_R4.jpg is broken and will be skipped.\n",
      "D:\\PENNY\\Gaiat products\\Dell_Inspiron_7306_i7_2_in_1.jpg is broken and will be skipped.\n",
      "D:\\PENNY\\Gaiat products\\Desk_-_with_Extention_-_DG01-D0118.jpg is broken and will be skipped.\n",
      "D:\\PENNY\\Gaiat products\\Desk_-_with_Extention_-_DG01-D0114.jpg is broken and will be skipped.\n",
      "D:\\PENNY\\Gaiat products\\Device_To_Measure_Isometric_Strength_Of_Different_Body_Locations.jpg is broken and will be skipped.\n",
      "D:\\PENNY\\Gaiat products\\Device_To_Measure_Hamstring_Eccentric_Strength_And_Asymmetries.jpg is broken and will be skipped.\n",
      "D:\\PENNY\\Gaiat products\\Device_To_Measure_Heart_Rate_And_Heart_Rate_Variability_In_Athletes.jpg is broken and will be skipped.\n",
      "D:\\PENNY\\Gaiat products\\Device_To_Evaluate_Punching_Power.jpg is broken and will be skipped.\n",
      "D:\\PENNY\\Gaiat products\\Device_To_Measure_Movement_Deficiencies_With_An_Automated_Computer_Vision_Technology.jpg is broken and will be skipped.\n",
      "D:\\PENNY\\Gaiat products\\Device_To_Measure_Ground_Reaction_Forces.jpg is broken and will be skipped.\n",
      "D:\\PENNY\\Gaiat products\\Devices_To_Measure_Throwing_Speed.jpg is broken and will be skipped.\n",
      "D:\\PENNY\\Gaiat products\\Device_To_Measure_Running_Speed_And_Upload_Data_To_Cloud.jpg is broken and will be skipped.\n",
      "D:\\PENNY\\Gaiat products\\Device_To_Measure_Barbell_Velocity_In_The_Weight_Room.jpg is broken and will be skipped.\n",
      "D:\\PENNY\\Gaiat products\\Double_Paper_Cup_-_9_Oz_1000_Pcs.jpg is broken and will be skipped.\n",
      "D:\\PENNY\\Gaiat products\\Disposable_Paper_Cup_Holder__500_Pcs.jpg is broken and will be skipped.\n",
      "D:\\PENNY\\Gaiat products\\Double_Paper_Cup_-_12_Oz_1000_Pcs.jpg is broken and will be skipped.\n",
      "D:\\PENNY\\Gaiat products\\Dust_Bin_Pedal_70_Ltr.jpg is broken and will be skipped.\n",
      "D:\\PENNY\\Gaiat products\\Dust_Bin_Pedal_100_Ltr_New_MCE_China.jpg is broken and will be skipped.\n",
      "D:\\PENNY\\Gaiat products\\Dust_Bin_Pedal_Plasticana_70_Ltr.jpg is broken and will be skipped.\n",
      "D:\\PENNY\\Gaiat products\\Dynamics_365_Business_Central_Database_Capacity_Microsoft.jpg is broken and will be skipped.\n",
      "D:\\PENNY\\Gaiat products\\Dynamics_365_Commerce_36_mo_Microsoft.jpg is broken and will be skipped.\n",
      "D:\\PENNY\\Gaiat products\\Dynamics_365_Business_Central_Database_Capacity_100GB_Microsoft.jpg is broken and will be skipped.\n",
      "D:\\PENNY\\Gaiat products\\Dynamics_365_Commerce_Attach_to_Qualifying_Dynamics_365_Base_Offer_36_mo_Microsoft.jpg is broken and will be skipped.\n",
      "D:\\PENNY\\Gaiat products\\EcoTank_Printer_L1300__EPSON.jpg is broken and will be skipped.\n",
      "D:\\PENNY\\Gaiat products\\Dynamics_365_Commerce_Attach_to_Qualifying_Dynamics_365_Base_Offer_Microsoft.jpg is broken and will be skipped.\n",
      "D:\\PENNY\\Gaiat products\\Elastic_Bands_Small_For_Stretching_Different_Sizes_And_Strength.jpg is broken and will be skipped.\n",
      "D:\\PENNY\\Gaiat products\\Espresso_Coffee_Capsules_Arpeggio_-_12_Boxes_-10Pcs_in_each_box.jpg is broken and will be skipped.\n",
      "D:\\PENNY\\Gaiat products\\Education_Insights_Premium_Microsoft.jpg is broken and will be skipped.\n",
      "D:\\PENNY\\Gaiat products\\Espresso_Coffee_Capsules_Ristretto_-_10_Boxes_-10Pcs_in_each_box.jpg is broken and will be skipped.\n",
      "D:\\PENNY\\Gaiat products\\Extra_White_Det_Powder_Low_Foam_-_10Kg.jpg is broken and will be skipped.\n",
      "D:\\PENNY\\Gaiat products\\Extra_White_Det_Powder_Flower_-_10Kg.jpg is broken and will be skipped.\n",
      "D:\\PENNY\\Gaiat products\\Fixed_mesh_back_chair_with_chrome_structure.jpg is broken and will be skipped.\n",
      "D:\\PENNY\\Gaiat products\\Food_Packing_Bag_No08.jpg is broken and will be skipped.\n",
      "D:\\PENNY\\Gaiat products\\Food_Packing_Bag_No12.jpg is broken and will be skipped.\n",
      "D:\\PENNY\\Gaiat products\\Food_Packing_Bag_No10.jpg is broken and will be skipped.\n",
      "D:\\PENNY\\Gaiat products\\Football_Balls_-_Size_4.jpg is broken and will be skipped.\n",
      "D:\\PENNY\\Gaiat products\\Flat_Markers.jpg is broken and will be skipped.\n",
      "D:\\PENNY\\Gaiat products\\Football_Balls_-_Size_5.jpg is broken and will be skipped.\n",
      "D:\\PENNY\\Gaiat products\\Football_Equipment_Cart.jpg is broken and will be skipped.\n",
      "D:\\PENNY\\Gaiat products\\Football_Balls_-_Size_3.jpg is broken and will be skipped.\n",
      "D:\\PENNY\\Gaiat products\\Football_Storage_Bags.jpg is broken and will be skipped.\n",
      "D:\\PENNY\\Gaiat products\\Footvolley_Net_And_Stands_High_-_2_Meter.jpg is broken and will be skipped.\n",
      "D:\\PENNY\\Gaiat products\\Foot_Volley_Net_And_Stands_Low_-_1_Meter.jpg is broken and will be skipped.\n",
      "D:\\PENNY\\Gaiat products\\Furniture_Cleaner__Polisher_-_700_ml_x12.jpg is broken and will be skipped.\n",
      "D:\\PENNY\\Gaiat products\\Garbage_Can_With_Pedal_30_Ltr.jpg is broken and will be skipped.\n",
      "D:\\PENNY\\Gaiat products\\Garbage_Can_With_Pedal_68_Ltr.jpg is broken and will be skipped.\n",
      "D:\\PENNY\\Gaiat products\\Gento_Amber_Rose_Disinfectant_-_3L_-_6_Psc.jpg is broken and will be skipped.\n",
      "D:\\PENNY\\Gaiat products\\French_Coffee_Hazelnut-10Pcs.jpg is broken and will be skipped.\n",
      "D:\\PENNY\\Gaiat products\\French_Coffee_Plain_-10Pcs.jpg is broken and will be skipped.\n",
      "D:\\PENNY\\Gaiat products\\Gento_Anticbacterial_Red_H_Soap_-_500ml_-_12_Psc.jpg is broken and will be skipped.\n",
      "D:\\PENNY\\Gaiat products\\Gento_Lemon_Dishwashing_Liquid_-_1L_-_12_Psc.jpg is broken and will be skipped.\n",
      "D:\\PENNY\\Gaiat products\\Gento_Anticbacterial_Gren_HSoap_-_500ml_-_12_Psc.jpg is broken and will be skipped.\n",
      "D:\\PENNY\\Gaiat products\\Garbage_Can_55_Ltr.jpg is broken and will be skipped.\n",
      "D:\\PENNY\\Gaiat products\\Glass_Cleaner_-_4x4L.jpg is broken and will be skipped.\n",
      "D:\\PENNY\\Gaiat products\\gound_Beans_Without_Cardamom_-6Pcs.jpg is broken and will be skipped.\n",
      "D:\\PENNY\\Gaiat products\\gound_Beans_With_Cardamom_-6Pcs.jpg is broken and will be skipped.\n",
      "D:\\PENNY\\Gaiat products\\gound_Gold_Beans_Cardamom_-10Pcs.jpg is broken and will be skipped.\n",
      "D:\\PENNY\\Gaiat products\\gound_Gold_Beans_Plain_-10Pcs.jpg is broken and will be skipped.\n",
      "D:\\PENNY\\Gaiat products\\Granules_soap_-_30_Packs_5Kg.jpg is broken and will be skipped.\n",
      "D:\\PENNY\\Gaiat products\\Hands_Best_Mandarin_Twist_Germ_Protection_-__12_Pcs_x_450ml.jpg is broken and will be skipped.\n",
      "D:\\PENNY\\Gaiat products\\Hands_Best_Cool__Clean_Germ_Protection_-__12_Pcs_x_450ml.jpg is broken and will be skipped.\n",
      "D:\\PENNY\\Gaiat products\\Hands_Best_Nature_Fresness_Grem_Protection_-__12_Pcs_x_450ml.jpg is broken and will be skipped.\n",
      "D:\\PENNY\\Gaiat products\\Hands_Best_Crystal_Clean_Grem_Protection_-__12_Pcs_x_450ml.jpg is broken and will be skipped.\n",
      "D:\\PENNY\\Gaiat products\\Gulf_Plastic_Cup_7_Oz.jpg is broken and will be skipped.\n",
      "D:\\PENNY\\Gaiat products\\Harness_And_Resistance_Band_For_Speed_And_Agility_For_Running_And_Sprinting_Sprinting.jpg is broken and will be skipped.\n",
      "D:\\PENNY\\Gaiat products\\Hintz_Pot_Cleaners_Coloured_10_x_5_Pcs.jpg is broken and will be skipped.\n",
      "D:\\PENNY\\Gaiat products\\Hand_Soap_Anti-Bacterial__-_SP21.jpg is broken and will be skipped.\n",
      "D:\\PENNY\\Gaiat products\\Hand_Foam_-_SP20.jpg is broken and will be skipped.D:\\PENNY\\Gaiat products\\Hintz_Pot_Cleaners_Coloured_12_x_3_Pcs.jpg is broken and will be skipped.\n",
      "\n",
      "D:\\PENNY\\Gaiat products\\Hintz_Pot_Cleaners_Copper_12_x_3_Pcs.jpg is broken and will be skipped.\n",
      "D:\\PENNY\\Gaiat products\\Hintz_Pot_Cleaners_Silver_12_x_3_Pcs.jpg is broken and will be skipped.\n",
      "D:\\PENNY\\Gaiat products\\Hp_Printer_LaserJet_MFP_M141A_7MD73A.jpg is broken and will be skipped.\n",
      "D:\\PENNY\\Gaiat products\\HP_Printer_LaserJet_Color_MFP_178nw_4ZB96A.jpg is broken and will be skipped.\n",
      "D:\\PENNY\\Gaiat products\\Instant_Saudi_Coffee_Cardamom_-2Pack.jpg is broken and will be skipped.\n",
      "D:\\PENNY\\Gaiat products\\Instant_Saudi_Coffee_Cloves_-_2Pack.jpg is broken and will be skipped.\n",
      "D:\\PENNY\\Gaiat products\\Instant_Saudi_Coffee_Moderate_-2Pack.jpg is broken and will be skipped.\n",
      "D:\\PENNY\\Gaiat products\\Instant_Saudi_Coffee_Cardamom_-_6_Boxes_-20Pcs_in_each_box.jpg is broken and will be skipped.\n",
      "D:\\PENNY\\Gaiat products\\Interior_Foam_Frames_-_Z0120.jpg is broken and will be skipped.\n",
      "D:\\PENNY\\Gaiat products\\Interior_Foam_Frames_-_Z0120_108_Pcs.jpg is broken and will be skipped.\n",
      "D:\\PENNY\\Gaiat products\\Interior_Foam_Frames_-_Z0110.jpg is broken and will be skipped.\n",
      "D:\\PENNY\\Gaiat products\\Interior_Foam_Frames_-_Z0110_84_Pcs.jpg is broken and will be skipped.\n",
      "D:\\PENNY\\Gaiat products\\Interior_Foam_Frames_-_Z0240.jpg is broken and will be skipped.\n",
      "D:\\PENNY\\Gaiat products\\Interior_Foam_Frames_-_Z030.jpg is broken and will be skipped.\n",
      "D:\\PENNY\\Gaiat products\\Interior_Foam_Frames_-_Z20.jpg is broken and will be skipped.\n",
      "D:\\PENNY\\Gaiat products\\Interior_Foam_Frames_-_Z0240_108_Pcs.jpg is broken and will be skipped.\n",
      "D:\\PENNY\\Gaiat products\\Interior_Foam_Frames_-_Z30_150_Pcs.jpg is broken and will be skipped.\n",
      "D:\\PENNY\\Gaiat products\\Interior_Foam_Frames_-_Z40.jpg is broken and will be skipped.\n",
      "D:\\PENNY\\Gaiat products\\Interior_Foam_Frames_-_Z70.jpg is broken and will be skipped.\n",
      "D:\\PENNY\\Gaiat products\\Instant_Saudi_Coffee_Moderate_-_6_Boxes_-20Pcs_in_each_box.jpg is broken and will be skipped.\n",
      "D:\\PENNY\\Gaiat products\\Interior_Foam_Frames_-_ZZ07.jpg is broken and will be skipped.\n",
      "D:\\PENNY\\Gaiat products\\Interior_Foam_Frames_-_Z40_132_Pcs.jpg is broken and will be skipped.\n",
      "D:\\PENNY\\Gaiat products\\Interior_Foam_Frames_-_Z20_140_Pcs.jpg is broken and will be skipped.\n",
      "D:\\PENNY\\Gaiat products\\Interior_Foam_Frames_-_Z70_48_Pcs.jpg is broken and will be skipped.\n",
      "D:\\PENNY\\Gaiat products\\Interior_Foam_Frames_-_ZZ20.jpg is broken and will be skipped.\n",
      "D:\\PENNY\\Gaiat products\\Interior_Foam_Frames_-_ZZ07__48_Pcs.jpg is broken and will be skipped.\n",
      "D:\\PENNY\\Gaiat products\\Interior_Foam_Frames_-_ZZH15.jpg is broken and will be skipped.\n",
      "D:\\PENNY\\Gaiat products\\Interior_Foam_Frames_-_Z30.jpg is broken and will be skipped.\n",
      "D:\\PENNY\\Gaiat products\\Instant_Saudi_Coffee_Cloves_Box_-20_Pieces.jpg is broken and will be skipped.\n",
      "D:\\PENNY\\Gaiat products\\Interior_Foam_Frames_-_ZZ20_14_Pcs.jpg is broken and will be skipped.\n",
      "D:\\PENNY\\Gaiat products\\Interior_Foam_Frames_-_ZZH15_20_Pcs.jpg is broken and will be skipped.\n",
      "D:\\PENNY\\Gaiat products\\Interior_Foam_Frames_-_ZZS15_28_Pcs.jpg is broken and will be skipped.\n",
      "D:\\PENNY\\Gaiat products\\Interior_Foam_Frames_-_ZZS15.jpg is broken and will be skipped.\n",
      "D:\\PENNY\\Gaiat products\\Interfold_Toilet_200_Sheets_X_30_Packets.jpg is broken and will be skipped.\n",
      "D:\\PENNY\\Gaiat products\\Jumping_Rope.jpg is broken and will be skipped.\n",
      "D:\\PENNY\\Gaiat products\\Instant_Saudi_Coffee_Saffron_-2Pack.jpg is broken and will be skipped.\n",
      "D:\\PENNY\\Gaiat products\\Large_Traffic_Cones_-_Set_Of_10.jpg is broken and will be skipped.\n",
      "D:\\PENNY\\Gaiat products\\Leather_Shoes_Heavy_Duty_24646.jpg is broken and will be skipped.\n",
      "D:\\PENNY\\Gaiat products\\Leather_Shoes_Heavy_Duty_24645.jpg is broken and will be skipped.\n",
      "D:\\PENNY\\Gaiat products\\Leather_Shoes_Heavy_Duty_5168.jpg is broken and will be skipped.\n",
      "D:\\PENNY\\Gaiat products\\Leather_Shoes_Heavy_Duty_5268.jpg is broken and will be skipped.\n",
      "D:\\PENNY\\Gaiat products\\Leather_Shoes_Heavy_Duty_53110.jpg is broken and will be skipped.\n",
      "D:\\PENNY\\Gaiat products\\Leather_Shoes_Heavy_Duty_53788.jpg is broken and will be skipped.\n",
      "D:\\PENNY\\Gaiat products\\Lenovo_NBK_P14S.jpg is broken and will be skipped.\n",
      "D:\\PENNY\\Gaiat products\\Lenovo_ThinkPad_T14.jpg is broken and will be skipped.\n",
      "D:\\PENNY\\Gaiat products\\Lenovo_ThinkPad_X1_Yoga_6th_Gen_Touch.jpg is broken and will be skipped.\n",
      "D:\\PENNY\\Gaiat products\\Lenovo_ThinkPad_E15.jpg is broken and will be skipped.\n",
      "D:\\PENNY\\Gaiat products\\Lenovo_ThinkPad_E14.jpg is broken and will be skipped.\n",
      "D:\\PENNY\\Gaiat products\\Le_Cottage_Jasmine_Air_Freshener_-_300ml_-_48_Psc.jpg is broken and will be skipped.\n",
      "D:\\PENNY\\Gaiat products\\MannequinsFootball_Dummy_Height_-_180cm.jpg is broken and will be skipped.\n",
      "D:\\PENNY\\Gaiat products\\MannequinsFootball_Dummy_Size_-_Height_-_180cm.jpg is broken and will be skipped.\n",
      "D:\\PENNY\\Gaiat products\\Medium_Size_Football_Goals.jpg is broken and will be skipped.\n",
      "D:\\PENNY\\Gaiat products\\MCE_Pedal_Dust_Bin_70_Ltr_Plastic_Gray.jpg is broken and will be skipped.\n",
      "D:\\PENNY\\Gaiat products\\Microsoft_365_F5_Compliance_Add-on_GCC_Microsoft.jpg is broken and will be skipped.\n",
      "D:\\PENNY\\Gaiat products\\Multi_Purpose_Freshener_Basil_12__750_ML.jpg is broken and will be skipped.\n",
      "D:\\PENNY\\Gaiat products\\Multi_Purpose_Freshener_Tropical_Flowers_-_750_ML.jpg is broken and will be skipped.\n",
      "D:\\PENNY\\Gaiat products\\Multi_Purpose_Freshener_Basil_-_750_ML.jpg is broken and will be skipped.\n",
      "D:\\PENNY\\Gaiat products\\Multi_Purpose_Freshener_Jasmine_12__750_ML.jpg is broken and will be skipped.\n",
      "D:\\PENNY\\Gaiat products\\Movable_Silence_Booth_-_1-2_Person.jpg is broken and will be skipped.\n",
      "D:\\PENNY\\Gaiat products\\Multi_Purpose_Freshener_Tropical_Flowers_12__750_ML.jpg is broken and will be skipped.\n",
      "D:\\PENNY\\Gaiat products\\Movable_Silence_Booth_-_4_Person.jpg is broken and will be skipped.\n",
      "D:\\PENNY\\Gaiat products\\Movable_Silence_Booth_-_1_Person.jpg is broken and will be skipped.\n",
      "D:\\PENNY\\Gaiat products\\Nescafé_Classic_Instant_Coffee_-_24_Bottles.jpg is broken and will be skipped.\n",
      "D:\\PENNY\\Gaiat products\\Nets_For_Small_Size_Goals.jpg is broken and will be skipped.\n",
      "D:\\PENNY\\Gaiat products\\Orinex_Aluminum_Baking_Cups_2195_24_Packs_x_24_Pcs_x_66mm.jpg is broken and will be skipped.\n",
      "D:\\PENNY\\Gaiat products\\Non-Woven_Wipes_Roll_475_Sheets.jpg is broken and will be skipped.\n",
      "D:\\PENNY\\Gaiat products\\Orinex_Aluminum_Pan_With_Plastic_Lid_819_435Mmx75Mm_12_Packs_x_1pcs.jpg is broken and will be skipped.\n",
      "D:\\PENNY\\Gaiat products\\Orinex_Anti_Rust_Stainless_Steel_Scourer_24_Packs_x_1pcs.jpg is broken and will be skipped.\n",
      "D:\\PENNY\\Gaiat products\\Orinex_Aluminum_Baking_Cups_Gold_2188_24_Packs24_Pcs68mm.jpg is broken and will be skipped.\n",
      "D:\\PENNY\\Gaiat products\\Orinex_Black_Vinyl_Gloves_Powder_Free_M__10_Packs_x_40Pcs.jpg is broken and will be skipped.\n",
      "D:\\PENNY\\Gaiat products\\Orinex_Cookies__Biscuit_Pan_1990_12_Packs_X_1Pc.jpg is broken and will be skipped.\n",
      "D:\\PENNY\\Gaiat products\\Orinex_Deep_Pie_Pans__1938_12_Packs_X_3Pcs.jpg is broken and will be skipped.\n",
      "D:\\PENNY\\Gaiat products\\Orinex_Decorated_Bowls_12_Packs_24_Pcs_12oz.jpg is broken and will be skipped.\n",
      "D:\\PENNY\\Gaiat products\\Orinex_Ez_Clean_Sponge_Scourer_1228_36_Packs_x_3pcs.jpg is broken and will be skipped.\n",
      "D:\\PENNY\\Gaiat products\\Orinex_Decorated_Bowls_10_Packs_24_Pcs_20oz.jpg is broken and will be skipped.\n",
      "D:\\PENNY\\Gaiat products\\Orinex_Ez_Clean_Spray_Scourer_1280_36_Packs_x_4pcs.jpg is broken and will be skipped.\n",
      "D:\\PENNY\\Gaiat products\\Orinex_Face_Mask_40_Packs_x_50pcs.jpg is broken and will be skipped.\n",
      "D:\\PENNY\\Gaiat products\\Orinex_Ez_Clean_Sponge_Scourer_3Pcs_066_24_Packs_x_3pcs.jpg is broken and will be skipped.\n",
      "D:\\PENNY\\Gaiat products\\Orinex_Gloves_Clear_Powder_Free_L__10_Packs_x_100pcs.jpg is broken and will be skipped.\n",
      "D:\\PENNY\\Gaiat products\\Orinex_Gloves_Clear_Powder_Free_M__10_Packs_x_100pcs.jpg is broken and will be skipped.\n",
      "D:\\PENNY\\Gaiat products\\Orinex_Loaf_Pans__1983_12_Packs_X_3Pcs.jpg is broken and will be skipped.\n",
      "D:\\PENNY\\Gaiat products\\Orinex_Microwave_Aluminum_Pans_20A_12_Packs_x_3_pcs_x_42G.jpg is broken and will be skipped.\n",
      "D:\\PENNY\\Gaiat products\\Orinex_Non_Woven_Cloth_Rolls__12_Packs_x_1pcs.jpg is broken and will be skipped.\n",
      "D:\\PENNY\\Gaiat products\\Orinex_Party_Aluminum_Pans_918300X185X30Mm_12_Packs_x_3pcs.jpg is broken and will be skipped.\n",
      "D:\\PENNY\\Gaiat products\\Orinex_Party_Aluminum_Pans895_12_Packs_x_6pcs.jpg is broken and will be skipped.\n",
      "D:\\PENNY\\Gaiat products\\Orinex_Pan_Scourer_48_Packs_x_3pcs.jpg is broken and will be skipped.\n",
      "D:\\PENNY\\Gaiat products\\Orinex_Paper_Towel_Two-_Ply_12_Packs_x_2_pcs_12_Packs_x_2_pcs.jpg is broken and will be skipped.\n",
      "D:\\PENNY\\Gaiat products\\Orinex_Party_Aluminum_Pans_901_319X25945Mm_12_Packs_x_2pcs.jpg is broken and will be skipped.\n",
      "D:\\PENNY\\Gaiat products\\Orinex_Paper_Towel_Two-_Ply_24_Packs_x_1_pc_24_Packs_x_1_pc.jpg is broken and will be skipped.\n",
      "D:\\PENNY\\Gaiat products\\Orinex_Round_Aluminum_Pans_With_Plastic_Lid_826406Mmx20Mm_12_Packs_x_2pcs.jpg is broken and will be skipped.\n",
      "D:\\PENNY\\Gaiat products\\Orinex_Plastic_Cups_With_Lid_24_Packs_X_320G.jpg is broken and will be skipped.\n",
      "D:\\PENNY\\Gaiat products\\Orinex_Party_Plastic_Cups_2478_12_Packs24_Pcs.jpg is broken and will be skipped.\n",
      "D:\\PENNY\\Gaiat products\\Orinex_Sponge_Scourer_24_Packs_x_1pc.jpg is broken and will be skipped.\n",
      "D:\\PENNY\\Gaiat products\\Orinex_Vinyl_Gloves_Clear_Large_10_Packs_x_100pcs.jpg is broken and will be skipped.\n",
      "D:\\PENNY\\Gaiat products\\Orinex_Vinyl_Gloves_Powder_Free_Black_Glove_L_10_Packs_x_100pcs.jpg is broken and will be skipped.\n",
      "D:\\PENNY\\Gaiat products\\Orinex_Vinyl_Gloves_Powder_Free_Black_Glove_M_10_Packs_x_100pcs.jpg is broken and will be skipped.\n",
      "D:\\PENNY\\Gaiat products\\Orinex_Sponge_Scourer__24_Packs_x_3pcs.jpg is broken and will be skipped.\n",
      "D:\\PENNY\\Gaiat products\\Orinex_Vinyl_Gloves_Powder_Free_Blue_Glove_L_10_Packs_x_100pcs.jpg is broken and will be skipped.\n",
      "D:\\PENNY\\Gaiat products\\Orinex_Vinyl_Hand_Gloves_Powderfree_Large_28_Packs_x_20pcs.jpg is broken and will be skipped.\n",
      "D:\\PENNY\\Gaiat products\\Orinex_Vinyl_Gloves_Powder_Free_Black_Glove_Xl_10_Packs_x_100pcs.jpg is broken and will be skipped.\n",
      "D:\\PENNY\\Gaiat products\\Orinex_Vinyl_Hand_Gloves_Powderfree_Xl_28_Packs_x_20pcs.jpg is broken and will be skipped.\n",
      "D:\\PENNY\\Gaiat products\\Orinex_Vinyl_Gloves_Clear_X-Large_10_Packs_x_100pcs.jpg is broken and will be skipped.\n",
      "D:\\PENNY\\Gaiat products\\Ovens_Deep_Fryers_Grill_Cleaner_-_12x1L.jpg is broken and will be skipped.\n",
      "D:\\PENNY\\Gaiat products\\Ovens_Deep_Fryers_Grill_Cleaner_-_4x4L.jpg is broken and will be skipped.\n",
      "D:\\PENNY\\Gaiat products\\Orinex_Silver_Plastic_Square_Plate_2744_-_6_Pcs_9_Inches.jpg is broken and will be skipped.\n",
      "D:\\PENNY\\Gaiat products\\Paper_Bag_-_Medium_200_Pcs.jpg is broken and will be skipped.\n",
      "D:\\PENNY\\Gaiat products\\Paper_Bag_-_Large_200_Pcs.jpg is broken and will be skipped.\n",
      "D:\\PENNY\\Gaiat products\\Papaya_Soap_Freshly_135g_50_Pcs.jpg is broken and will be skipped.\n",
      "D:\\PENNY\\Gaiat products\\Paper_Cup_-_25_Oz_1000_Pcs.jpg is broken and will be skipped.\n",
      "D:\\PENNY\\Gaiat products\\Paper_Cup_9Oz80Mm_-_Brown_Kraft20_Pack.jpg is broken and will be skipped.\n",
      "D:\\PENNY\\Gaiat products\\Plastic_Black_Fork_1000_Pcs.jpg is broken and will be skipped.\n",
      "D:\\PENNY\\Gaiat products\\Pine_Disinfectant_-_SH39.jpg is broken and will be skipped.\n",
      "D:\\PENNY\\Gaiat products\\Plastic_Black_knife_1000_Pcs.jpg is broken and will be skipped.\n",
      "D:\\PENNY\\Gaiat products\\Plastic_Box_Bin_Container.jpg is broken and will be skipped.\n",
      "D:\\PENNY\\Gaiat products\\Plastic_Black_Spoon_1000_Pcs.jpg is broken and will be skipped.\n",
      "D:\\PENNY\\Gaiat products\\Perfumed_Hand_Soap_-_SP24.jpg is broken and will be skipped.\n",
      "D:\\PENNY\\Gaiat products\\Performance_Data_Management_Software.jpg is broken and will be skipped.\n",
      "D:\\PENNY\\Gaiat products\\Plastic_Cup_-_12_Oz_1000_Pcs.jpg is broken and will be skipped.\n",
      "D:\\PENNY\\Gaiat products\\Plastic_Cup_-_10_Oz_1000_Pcs.jpg is broken and will be skipped.\n",
      "D:\\PENNY\\Gaiat products\\Plastic_Box_Bin_Container_-_Grey.jpg is broken and will be skipped.\n",
      "D:\\PENNY\\Gaiat products\\Plastic_Box_Bin_Container_-_Blue.jpg is broken and will be skipped.\n",
      "D:\\PENNY\\Gaiat products\\Plastic_Cup_-_14_Oz_1000_Pcs.jpg is broken and will be skipped.\n",
      "D:\\PENNY\\Gaiat products\\Plastic_Cup_-_16_Oz_1000_Pcs.jpg is broken and will be skipped.\n",
      "D:\\PENNY\\Gaiat products\\Plastic_Stacking_Bin.jpg is broken and will be skipped.\n",
      "D:\\PENNY\\Gaiat products\\Plastic_Cup_-_18_Oz_1000_Pcs.jpg is broken and will be skipped.\n",
      "D:\\PENNY\\Gaiat products\\Plastic_Stacking_Bin_Dark_Grey.jpg is broken and will be skipped.\n",
      "D:\\PENNY\\Gaiat products\\Plastic_Stacking_Bin_Yellow.jpg is broken and will be skipped.\n",
      "D:\\PENNY\\Gaiat products\\Plastic_White_Fork_1000_Pcs.jpg is broken and will be skipped.\n",
      "D:\\PENNY\\Gaiat products\\Plastic_White_Spoon_1000_Pcs.jpg is broken and will be skipped.\n",
      "D:\\PENNY\\Gaiat products\\Plastic_White_knife_1000_Pcs.jpg is broken and will be skipped.\n",
      "D:\\PENNY\\Gaiat products\\Plastic_Stacking_Bin__Stand_.jpg is broken and will be skipped.\n",
      "D:\\PENNY\\Gaiat products\\Portable_Trampolines.jpg is broken and will be skipped.\n",
      "D:\\PENNY\\Gaiat products\\Prime_Interfold_Hand_Towels_21X24_Cm__200_Sheets_X_20_Packets.jpg is broken and will be skipped.\n",
      "D:\\PENNY\\Gaiat products\\processed_AirbodyDummy_Senior.jpg is broken and will be skipped.\n",
      "D:\\PENNY\\Gaiat products\\processed_Air_Freshener_Bottle_-_XD353N.jpg is broken and will be skipped.\n",
      "D:\\PENNY\\Gaiat products\\processed_AirbodyDummy_Junior.jpg is broken and will be skipped.\n",
      "D:\\PENNY\\Gaiat products\\processed_AI_Builder_Capacity_add-on_for_Faculty_Microsoft.jpg is broken and will be skipped.\n",
      "D:\\PENNY\\Gaiat products\\processed_AI_Builder_Capacity_add-on_for_GCC_Microsoft.jpg is broken and will be skipped.\n",
      "D:\\PENNY\\Gaiat products\\processed_App_-_Almas_Containers_10L_-_24_Pcs_Multiple_colors.jpg is broken and will be skipped.\n",
      "D:\\PENNY\\Gaiat products\\processed_App_-_Almas_Containers_20L_-_12_Pcs_Multiple_colors.jpg is broken and will be skipped.\n",
      "D:\\PENNY\\Gaiat products\\processed_App_-_Almas_Containers_30L_-_12_Pcs_Multiple_colors.jpg is broken and will be skipped.\n",
      "D:\\PENNY\\Gaiat products\\processed_App_-_Almas_Containers_45L_-_12_Pcs_Multiple_colors.jpg is broken and will be skipped.\n",
      "D:\\PENNY\\Gaiat products\\processed_App_-_Almas_Containers_5L_-_30_Pcs_Multiple_colors.jpg is broken and will be skipped.\n",
      "D:\\PENNY\\Gaiat products\\processed_App_-_Almas_Containers_85L_-_12_Pcs_Multiple_colors.jpg is broken and will be skipped.\n"
     ]
    }
   ],
   "source": [
    "import os\n",
    "import concurrent.futures\n",
    "from PIL import Image, ImageFilter\n",
    "\n",
    "def process_image(filename):\n",
    "    try:\n",
    "        img = Image.open(filename)\n",
    "        img_filtered = img.filter(ImageFilter.EDGE_ENHANCE)\n",
    "        processed_filename = 'processed_' + os.path.basename(filename)\n",
    "        img_filtered.save(os.path.join(folder_path, processed_filename))\n",
    "    except (OSError, IOError):\n",
    "        print(f\"{filename} is broken and will be skipped.\")\n",
    "\n",
    "if __name__ == \"__main__\":\n",
    "    # Folder path\n",
    "    folder_path = r'D:\\PENNY\\Gaiat products' \n",
    "\n",
    "    # List all image files in the folder\n",
    "    image_files = [os.path.join(folder_path, filename) for filename in os.listdir(folder_path) if filename.endswith('.jpg')]\n",
    "\n",
    "    with concurrent.futures.ThreadPoolExecutor() as executor:\n",
    "        executor.map(process_image, image_files)\n"
   ]
  },
  {
   "cell_type": "code",
   "execution_count": 2,
   "metadata": {},
   "outputs": [
    {
     "name": "stdout",
     "output_type": "stream",
     "text": [
      "Collecting tqdmNote: you may need to restart the kernel to use updated packages.\n"
     ]
    },
    {
     "name": "stderr",
     "output_type": "stream",
     "text": [
      "\n",
      "[notice] A new release of pip is available: 23.1.2 -> 23.2.1\n",
      "[notice] To update, run: python.exe -m pip install --upgrade pip\n"
     ]
    },
    {
     "name": "stdout",
     "output_type": "stream",
     "text": [
      "\n",
      "  Downloading tqdm-4.65.0-py3-none-any.whl (77 kB)\n",
      "     ---------------------------------------- 77.1/77.1 kB 1.4 MB/s eta 0:00:00\n",
      "Requirement already satisfied: colorama in c:\\users\\zainabosamah\\appdata\\roaming\\python\\python310\\site-packages (from tqdm) (0.4.5)\n",
      "Installing collected packages: tqdm\n",
      "Successfully installed tqdm-4.65.0\n"
     ]
    }
   ],
   "source": [
    "pip install tqdm "
   ]
  },
  {
   "cell_type": "code",
   "execution_count": 3,
   "metadata": {},
   "outputs": [
    {
     "name": "stderr",
     "output_type": "stream",
     "text": [
      "Processing Images:   1%|          | 64/10286 [00:01<04:01, 42.38images/s]"
     ]
    },
    {
     "name": "stdout",
     "output_type": "stream",
     "text": [
      "Error processing D:\\PENNY\\Gaiat products\\Ali_Café_3_In_1_Classic_Instant_Coffee_-_22_Sticks.jpg: OpenCV(4.6.0) D:\\a\\opencv-python\\opencv-python\\opencv\\modules\\imgproc\\src\\color.cpp:182: error: (-215:Assertion failed) !_src.empty() in function 'cv::cvtColor'\n",
      "\n",
      "Error processing D:\\PENNY\\Gaiat products\\Ali_Café_3_In_1_Instant_French_Coffee_-_20Packs_-24_Sticks.jpg: OpenCV(4.6.0) D:\\a\\opencv-python\\opencv-python\\opencv\\modules\\imgproc\\src\\color.cpp:182: error: (-215:Assertion failed) !_src.empty() in function 'cv::cvtColor'\n",
      "\n"
     ]
    },
    {
     "name": "stderr",
     "output_type": "stream",
     "text": [
      "Processing Images:   3%|▎         | 286/10286 [00:05<03:18, 50.38images/s]"
     ]
    },
    {
     "name": "stdout",
     "output_type": "stream",
     "text": [
      "Error processing D:\\PENNY\\Gaiat products\\Bn130_Brown_Paper_Napkin_-_30Cm _40_Packs.jpg: OpenCV(4.6.0) D:\\a\\opencv-python\\opencv-python\\opencv\\modules\\imgproc\\src\\color.cpp:182: error: (-215:Assertion failed) !_src.empty() in function 'cv::cvtColor'\n",
      "\n"
     ]
    },
    {
     "name": "stderr",
     "output_type": "stream",
     "text": [
      "Processing Images:   5%|▍         | 509/10286 [00:12<06:29, 25.12images/s]"
     ]
    },
    {
     "name": "stdout",
     "output_type": "stream",
     "text": [
      "Error processing D:\\PENNY\\Gaiat products\\Crème_Caramel_-_72_Pcs_-100g.jpg: OpenCV(4.6.0) D:\\a\\opencv-python\\opencv-python\\opencv\\modules\\imgproc\\src\\color.cpp:182: error: (-215:Assertion failed) !_src.empty() in function 'cv::cvtColor'\n",
      "\n"
     ]
    },
    {
     "name": "stderr",
     "output_type": "stream",
     "text": [
      "Processing Images:   7%|▋         | 730/10286 [00:17<03:16, 48.51images/s]"
     ]
    },
    {
     "name": "stdout",
     "output_type": "stream",
     "text": [
      "Error processing D:\\PENNY\\Gaiat products\\Edged_Ali_Café_3_In_1_Classic_Instant_Coffee_-_22_Sticks.jpg: OpenCV(4.6.0) D:\\a\\opencv-python\\opencv-python\\opencv\\modules\\imgproc\\src\\color.cpp:182: error: (-215:Assertion failed) !_src.empty() in function 'cv::cvtColor'\n",
      "\n",
      "Error processing D:\\PENNY\\Gaiat products\\Edged_Ali_Café_3_In_1_Instant_French_Coffee_-_20Packs_-24_Sticks.jpg: OpenCV(4.6.0) D:\\a\\opencv-python\\opencv-python\\opencv\\modules\\imgproc\\src\\color.cpp:182: error: (-215:Assertion failed) !_src.empty() in function 'cv::cvtColor'\n",
      "\n"
     ]
    },
    {
     "name": "stderr",
     "output_type": "stream",
     "text": [
      "Processing Images:   9%|▉         | 922/10286 [00:20<02:43, 57.37images/s]"
     ]
    },
    {
     "name": "stdout",
     "output_type": "stream",
     "text": [
      "Error processing D:\\PENNY\\Gaiat products\\Edged_Bn130_Brown_Paper_Napkin_-_30Cm _40_Packs.jpg: OpenCV(4.6.0) D:\\a\\opencv-python\\opencv-python\\opencv\\modules\\imgproc\\src\\color.cpp:182: error: (-215:Assertion failed) !_src.empty() in function 'cv::cvtColor'\n",
      "\n"
     ]
    },
    {
     "name": "stderr",
     "output_type": "stream",
     "text": [
      "Processing Images:  11%|█▏        | 1176/10286 [00:25<03:31, 43.15images/s]"
     ]
    },
    {
     "name": "stdout",
     "output_type": "stream",
     "text": [
      "Error processing D:\\PENNY\\Gaiat products\\Edged_Crème_Caramel_-_72_Pcs_-100g.jpg: OpenCV(4.6.0) D:\\a\\opencv-python\\opencv-python\\opencv\\modules\\imgproc\\src\\color.cpp:182: error: (-215:Assertion failed) !_src.empty() in function 'cv::cvtColor'\n",
      "\n"
     ]
    },
    {
     "name": "stderr",
     "output_type": "stream",
     "text": [
      "Processing Images:  18%|█▊        | 1814/10286 [00:36<02:06, 66.71images/s]"
     ]
    },
    {
     "name": "stdout",
     "output_type": "stream",
     "text": [
      "Error processing D:\\PENNY\\Gaiat products\\Edged_Nescafé_Classic_3_In1_Instant_Coffee_-_12Packs_-28_Sticks.jpg: OpenCV(4.6.0) D:\\a\\opencv-python\\opencv-python\\opencv\\modules\\imgproc\\src\\color.cpp:182: error: (-215:Assertion failed) !_src.empty() in function 'cv::cvtColor'\n",
      "\n",
      "Error processing D:\\PENNY\\Gaiat products\\Edged_Nescafé_Classic_Instant_Coffee_-_12_Bottles.jpg: OpenCV(4.6.0) D:\\a\\opencv-python\\opencv-python\\opencv\\modules\\imgproc\\src\\color.cpp:182: error: (-215:Assertion failed) !_src.empty() in function 'cv::cvtColor'\n",
      "\n"
     ]
    },
    {
     "name": "stderr",
     "output_type": "stream",
     "text": [
      "Processing Images:  22%|██▏       | 2262/10286 [00:46<02:29, 53.52images/s]"
     ]
    },
    {
     "name": "stdout",
     "output_type": "stream",
     "text": [
      "Error processing D:\\PENNY\\Gaiat products\\Nescafé_Classic_3_In1_Instant_Coffee_-_12Packs_-28_Sticks.jpg: OpenCV(4.6.0) D:\\a\\opencv-python\\opencv-python\\opencv\\modules\\imgproc\\src\\color.cpp:182: error: (-215:Assertion failed) !_src.empty() in function 'cv::cvtColor'\n",
      "\n",
      "Error processing D:\\PENNY\\Gaiat products\\Nescafé_Classic_Instant_Coffee_-_12_Bottles.jpg: OpenCV(4.6.0) D:\\a\\opencv-python\\opencv-python\\opencv\\modules\\imgproc\\src\\color.cpp:182: error: (-215:Assertion failed) !_src.empty() in function 'cv::cvtColor'\n",
      "\n",
      "Error processing D:\\PENNY\\Gaiat products\\Nescafé_Classic_Instant_Coffee_-_24_Bottles.jpg: OpenCV(4.6.0) D:\\a\\opencv-python\\opencv-python\\opencv\\modules\\imgproc\\src\\color.cpp:182: error: (-215:Assertion failed) !_src.empty() in function 'cv::cvtColor'\n",
      "\n",
      "Error processing D:\\PENNY\\Gaiat products\\Nescafé_Gold_Instant_Coffee_-6Pcs.jpg: OpenCV(4.6.0) D:\\a\\opencv-python\\opencv-python\\opencv\\modules\\imgproc\\src\\color.cpp:182: error: (-215:Assertion failed) !_src.empty() in function 'cv::cvtColor'\n",
      "\n",
      "Error processing D:\\PENNY\\Gaiat products\\Nescafé_Gold_Instant_Coffee_-_12_Bottles.jpg: OpenCV(4.6.0) D:\\a\\opencv-python\\opencv-python\\opencv\\modules\\imgproc\\src\\color.cpp:182: error: (-215:Assertion failed) !_src.empty() in function 'cv::cvtColor'\n",
      "\n",
      "Error processing D:\\PENNY\\Gaiat products\\Nescafé_Red_Mug_Instant_Coffee_-_12_Bottles.jpg: OpenCV(4.6.0) D:\\a\\opencv-python\\opencv-python\\opencv\\modules\\imgproc\\src\\color.cpp:182: error: (-215:Assertion failed) !_src.empty() in function 'cv::cvtColor'\n",
      "\n",
      "Error processing D:\\PENNY\\Gaiat products\\Nescafé_Red_Mug_Instant_Coffee_-_24_Bottles.jpg: OpenCV(4.6.0) D:\\a\\opencv-python\\opencv-python\\opencv\\modules\\imgproc\\src\\color.cpp:182: error: (-215:Assertion failed) !_src.empty() in function 'cv::cvtColor'\n",
      "\n"
     ]
    },
    {
     "name": "stderr",
     "output_type": "stream",
     "text": [
      "Processing Images:  23%|██▎       | 2413/10286 [00:49<02:14, 58.59images/s]"
     ]
    },
    {
     "name": "stdout",
     "output_type": "stream",
     "text": [
      "Error processing D:\\PENNY\\Gaiat products\\Paper_Cup_3Oz_-_Café_20_Pack.jpg: OpenCV(4.6.0) D:\\a\\opencv-python\\opencv-python\\opencv\\modules\\imgproc\\src\\color.cpp:182: error: (-215:Assertion failed) !_src.empty() in function 'cv::cvtColor'\n",
      "\n",
      "Error processing D:\\PENNY\\Gaiat products\\Paper_Cup_9Oz80Mm_-_Café_20_Pack.jpg: OpenCV(4.6.0) D:\\a\\opencv-python\\opencv-python\\opencv\\modules\\imgproc\\src\\color.cpp:182: error: (-215:Assertion failed) !_src.empty() in function 'cv::cvtColor'\n",
      "\n",
      "Error processing D:\\PENNY\\Gaiat products\\PC AIO ACER I51135G7 4G 1TB 238  NO TOUCH Black.jpg: OpenCV(4.6.0) D:\\a\\opencv-python\\opencv-python\\opencv\\modules\\imgproc\\src\\color.cpp:182: error: (-215:Assertion failed) !_src.empty() in function 'cv::cvtColor'\n",
      "\n"
     ]
    },
    {
     "name": "stderr",
     "output_type": "stream",
     "text": [
      "Processing Images:  24%|██▍       | 2443/10286 [00:49<02:07, 61.40images/s]"
     ]
    },
    {
     "name": "stdout",
     "output_type": "stream",
     "text": [
      "Error processing D:\\PENNY\\Gaiat products\\Plastic_Box_Bin_Container.jpg: OpenCV(4.6.0) D:\\a\\opencv-python\\opencv-python\\opencv\\modules\\imgproc\\src\\color.cpp:182: error: (-215:Assertion failed) !_src.empty() in function 'cv::cvtColor'\n",
      "\n",
      "Error processing D:\\PENNY\\Gaiat products\\Plastic_Stacking_Bin.jpg: OpenCV(4.6.0) D:\\a\\opencv-python\\opencv-python\\opencv\\modules\\imgproc\\src\\color.cpp:182: error: (-215:Assertion failed) !_src.empty() in function 'cv::cvtColor'\n",
      "\n"
     ]
    },
    {
     "name": "stderr",
     "output_type": "stream",
     "text": [
      "Processing Images:  25%|██▍       | 2538/10286 [00:52<02:43, 47.25images/s]"
     ]
    },
    {
     "name": "stdout",
     "output_type": "stream",
     "text": [
      "Error processing D:\\PENNY\\Gaiat products\\processed_AirbodyDummy_Junior.jpg: OpenCV(4.6.0) D:\\a\\opencv-python\\opencv-python\\opencv\\modules\\imgproc\\src\\color.cpp:182: error: (-215:Assertion failed) !_src.empty() in function 'cv::cvtColor'\n",
      "\n",
      "Error processing D:\\PENNY\\Gaiat products\\processed_AirbodyDummy_Senior.jpg: OpenCV(4.6.0) D:\\a\\opencv-python\\opencv-python\\opencv\\modules\\imgproc\\src\\color.cpp:182: error: (-215:Assertion failed) !_src.empty() in function 'cv::cvtColor'\n",
      "\n",
      "Error processing D:\\PENNY\\Gaiat products\\processed_Air_Freshener_Bottle_-_XD353N.jpg: OpenCV(4.6.0) D:\\a\\opencv-python\\opencv-python\\opencv\\modules\\imgproc\\src\\color.cpp:182: error: (-215:Assertion failed) !_src.empty() in function 'cv::cvtColor'\n",
      "\n",
      "Error processing D:\\PENNY\\Gaiat products\\processed_AI_Builder_Capacity_add-on_for_Faculty_Microsoft.jpg: OpenCV(4.6.0) D:\\a\\opencv-python\\opencv-python\\opencv\\modules\\imgproc\\src\\color.cpp:182: error: (-215:Assertion failed) !_src.empty() in function 'cv::cvtColor'\n",
      "\n",
      "Error processing D:\\PENNY\\Gaiat products\\processed_AI_Builder_Capacity_add-on_for_GCC_Microsoft.jpg: OpenCV(4.6.0) D:\\a\\opencv-python\\opencv-python\\opencv\\modules\\imgproc\\src\\color.cpp:182: error: (-215:Assertion failed) !_src.empty() in function 'cv::cvtColor'\n",
      "\n",
      "Error processing D:\\PENNY\\Gaiat products\\processed_Ali_Café_3_In_1_Classic_Instant_Coffee_-_22_Sticks.jpg: OpenCV(4.6.0) D:\\a\\opencv-python\\opencv-python\\opencv\\modules\\imgproc\\src\\color.cpp:182: error: (-215:Assertion failed) !_src.empty() in function 'cv::cvtColor'\n",
      "\n",
      "Error processing D:\\PENNY\\Gaiat products\\processed_Ali_Café_3_In_1_Instant_French_Coffee_-_20Packs_-24_Sticks.jpg: OpenCV(4.6.0) D:\\a\\opencv-python\\opencv-python\\opencv\\modules\\imgproc\\src\\color.cpp:182: error: (-215:Assertion failed) !_src.empty() in function 'cv::cvtColor'\n",
      "\n"
     ]
    },
    {
     "name": "stderr",
     "output_type": "stream",
     "text": [
      "Processing Images:  25%|██▍       | 2562/10286 [00:52<02:56, 43.78images/s]"
     ]
    },
    {
     "name": "stdout",
     "output_type": "stream",
     "text": [
      "Error processing D:\\PENNY\\Gaiat products\\processed_App_-_Almas_Containers_10L_-_24_Pcs_Multiple_colors.jpg: OpenCV(4.6.0) D:\\a\\opencv-python\\opencv-python\\opencv\\modules\\imgproc\\src\\color.cpp:182: error: (-215:Assertion failed) !_src.empty() in function 'cv::cvtColor'\n",
      "\n",
      "Error processing D:\\PENNY\\Gaiat products\\processed_App_-_Almas_Containers_20L_-_12_Pcs_Multiple_colors.jpg: OpenCV(4.6.0) D:\\a\\opencv-python\\opencv-python\\opencv\\modules\\imgproc\\src\\color.cpp:182: error: (-215:Assertion failed) !_src.empty() in function 'cv::cvtColor'\n",
      "\n",
      "Error processing D:\\PENNY\\Gaiat products\\processed_App_-_Almas_Containers_30L_-_12_Pcs_Multiple_colors.jpg: OpenCV(4.6.0) D:\\a\\opencv-python\\opencv-python\\opencv\\modules\\imgproc\\src\\color.cpp:182: error: (-215:Assertion failed) !_src.empty() in function 'cv::cvtColor'\n",
      "\n",
      "Error processing D:\\PENNY\\Gaiat products\\processed_App_-_Almas_Containers_45L_-_12_Pcs_Multiple_colors.jpg: OpenCV(4.6.0) D:\\a\\opencv-python\\opencv-python\\opencv\\modules\\imgproc\\src\\color.cpp:182: error: (-215:Assertion failed) !_src.empty() in function 'cv::cvtColor'\n",
      "\n",
      "Error processing D:\\PENNY\\Gaiat products\\processed_App_-_Almas_Containers_5L_-_30_Pcs_Multiple_colors.jpg: OpenCV(4.6.0) D:\\a\\opencv-python\\opencv-python\\opencv\\modules\\imgproc\\src\\color.cpp:182: error: (-215:Assertion failed) !_src.empty() in function 'cv::cvtColor'\n",
      "\n",
      "Error processing D:\\PENNY\\Gaiat products\\processed_App_-_Almas_Containers_85L_-_12_Pcs_Multiple_colors.jpg: OpenCV(4.6.0) D:\\a\\opencv-python\\opencv-python\\opencv\\modules\\imgproc\\src\\color.cpp:182: error: (-215:Assertion failed) !_src.empty() in function 'cv::cvtColor'\n",
      "\n"
     ]
    },
    {
     "name": "stderr",
     "output_type": "stream",
     "text": [
      "Processing Images:  26%|██▌       | 2653/10286 [00:55<03:25, 37.15images/s]"
     ]
    },
    {
     "name": "stdout",
     "output_type": "stream",
     "text": [
      "Error processing D:\\PENNY\\Gaiat products\\processed_Bn130_Brown_Paper_Napkin_-_30Cm _40_Packs.jpg: OpenCV(4.6.0) D:\\a\\opencv-python\\opencv-python\\opencv\\modules\\imgproc\\src\\color.cpp:182: error: (-215:Assertion failed) !_src.empty() in function 'cv::cvtColor'\n",
      "\n"
     ]
    },
    {
     "name": "stderr",
     "output_type": "stream",
     "text": [
      "Processing Images:  28%|██▊       | 2876/10286 [01:03<04:44, 26.03images/s]"
     ]
    },
    {
     "name": "stdout",
     "output_type": "stream",
     "text": [
      "Error processing D:\\PENNY\\Gaiat products\\processed_Crème_Caramel_-_72_Pcs_-100g.jpg: OpenCV(4.6.0) D:\\a\\opencv-python\\opencv-python\\opencv\\modules\\imgproc\\src\\color.cpp:182: error: (-215:Assertion failed) !_src.empty() in function 'cv::cvtColor'\n",
      "\n"
     ]
    },
    {
     "name": "stderr",
     "output_type": "stream",
     "text": [
      "Processing Images:  30%|██▉       | 3065/10286 [01:07<02:57, 40.57images/s]"
     ]
    },
    {
     "name": "stdout",
     "output_type": "stream",
     "text": [
      "Error processing D:\\PENNY\\Gaiat products\\processed_Edged_Ali_Café_3_In_1_Classic_Instant_Coffee_-_22_Sticks.jpg: OpenCV(4.6.0) D:\\a\\opencv-python\\opencv-python\\opencv\\modules\\imgproc\\src\\color.cpp:182: error: (-215:Assertion failed) !_src.empty() in function 'cv::cvtColor'\n",
      "\n",
      "Error processing D:\\PENNY\\Gaiat products\\processed_Edged_Ali_Café_3_In_1_Instant_French_Coffee_-_20Packs_-24_Sticks.jpg: OpenCV(4.6.0) D:\\a\\opencv-python\\opencv-python\\opencv\\modules\\imgproc\\src\\color.cpp:182: error: (-215:Assertion failed) !_src.empty() in function 'cv::cvtColor'\n",
      "\n"
     ]
    },
    {
     "name": "stderr",
     "output_type": "stream",
     "text": [
      "Processing Images:  32%|███▏      | 3288/10286 [01:13<03:19, 35.11images/s]"
     ]
    },
    {
     "name": "stdout",
     "output_type": "stream",
     "text": [
      "Error processing D:\\PENNY\\Gaiat products\\processed_Edged_Bn130_Brown_Paper_Napkin_-_30Cm _40_Packs.jpg: OpenCV(4.6.0) D:\\a\\opencv-python\\opencv-python\\opencv\\modules\\imgproc\\src\\color.cpp:182: error: (-215:Assertion failed) !_src.empty() in function 'cv::cvtColor'\n",
      "\n"
     ]
    },
    {
     "name": "stderr",
     "output_type": "stream",
     "text": [
      "Processing Images:  34%|███▍      | 3511/10286 [01:20<03:57, 28.48images/s]"
     ]
    },
    {
     "name": "stdout",
     "output_type": "stream",
     "text": [
      "Error processing D:\\PENNY\\Gaiat products\\processed_Edged_Crème_Caramel_-_72_Pcs_-100g.jpg: OpenCV(4.6.0) D:\\a\\opencv-python\\opencv-python\\opencv\\modules\\imgproc\\src\\color.cpp:182: error: (-215:Assertion failed) !_src.empty() in function 'cv::cvtColor'\n",
      "\n"
     ]
    },
    {
     "name": "stderr",
     "output_type": "stream",
     "text": [
      "Processing Images:  40%|████      | 4151/10286 [01:39<02:31, 40.58images/s]"
     ]
    },
    {
     "name": "stdout",
     "output_type": "stream",
     "text": [
      "Error processing D:\\PENNY\\Gaiat products\\processed_Edged_Nescafé_Classic_3_In1_Instant_Coffee_-_12Packs_-28_Sticks.jpg: OpenCV(4.6.0) D:\\a\\opencv-python\\opencv-python\\opencv\\modules\\imgproc\\src\\color.cpp:182: error: (-215:Assertion failed) !_src.empty() in function 'cv::cvtColor'\n",
      "\n",
      "Error processing D:\\PENNY\\Gaiat products\\processed_Edged_Nescafé_Classic_Instant_Coffee_-_12_Bottles.jpg: OpenCV(4.6.0) D:\\a\\opencv-python\\opencv-python\\opencv\\modules\\imgproc\\src\\color.cpp:182: error: (-215:Assertion failed) !_src.empty() in function 'cv::cvtColor'\n",
      "\n"
     ]
    },
    {
     "name": "stderr",
     "output_type": "stream",
     "text": [
      "Processing Images:  43%|████▎     | 4469/10286 [01:47<02:29, 39.01images/s]"
     ]
    },
    {
     "name": "stdout",
     "output_type": "stream",
     "text": [
      "Error processing D:\\PENNY\\Gaiat products\\processed_Nescafé_Classic_3_In1_Instant_Coffee_-_12Packs_-28_Sticks.jpg: OpenCV(4.6.0) D:\\a\\opencv-python\\opencv-python\\opencv\\modules\\imgproc\\src\\color.cpp:182: error: (-215:Assertion failed) !_src.empty() in function 'cv::cvtColor'\n",
      "\n",
      "Error processing D:\\PENNY\\Gaiat products\\processed_Nescafé_Classic_Instant_Coffee_-_12_Bottles.jpg: OpenCV(4.6.0) D:\\a\\opencv-python\\opencv-python\\opencv\\modules\\imgproc\\src\\color.cpp:182: error: (-215:Assertion failed) !_src.empty() in function 'cv::cvtColor'\n",
      "\n",
      "Error processing D:\\PENNY\\Gaiat products\\processed_Nescafé_Gold_Instant_Coffee_-6Pcs.jpg: OpenCV(4.6.0) D:\\a\\opencv-python\\opencv-python\\opencv\\modules\\imgproc\\src\\color.cpp:182: error: (-215:Assertion failed) !_src.empty() in function 'cv::cvtColor'\n",
      "\n",
      "Error processing D:\\PENNY\\Gaiat products\\processed_Nescafé_Gold_Instant_Coffee_-_12_Bottles.jpg: OpenCV(4.6.0) D:\\a\\opencv-python\\opencv-python\\opencv\\modules\\imgproc\\src\\color.cpp:182: error: (-215:Assertion failed) !_src.empty() in function 'cv::cvtColor'\n",
      "\n",
      "Error processing D:\\PENNY\\Gaiat products\\processed_Nescafé_Red_Mug_Instant_Coffee_-_12_Bottles.jpg: OpenCV(4.6.0) D:\\a\\opencv-python\\opencv-python\\opencv\\modules\\imgproc\\src\\color.cpp:182: error: (-215:Assertion failed) !_src.empty() in function 'cv::cvtColor'\n",
      "\n",
      "Error processing D:\\PENNY\\Gaiat products\\processed_Nescafé_Red_Mug_Instant_Coffee_-_24_Bottles.jpg: OpenCV(4.6.0) D:\\a\\opencv-python\\opencv-python\\opencv\\modules\\imgproc\\src\\color.cpp:182: error: (-215:Assertion failed) !_src.empty() in function 'cv::cvtColor'\n",
      "\n"
     ]
    },
    {
     "name": "stderr",
     "output_type": "stream",
     "text": [
      "Processing Images:  44%|████▍     | 4559/10286 [01:50<02:49, 33.86images/s]"
     ]
    },
    {
     "name": "stdout",
     "output_type": "stream",
     "text": [
      "Error processing D:\\PENNY\\Gaiat products\\processed_Paper_Cup_3Oz_-_Café_20_Pack.jpg: OpenCV(4.6.0) D:\\a\\opencv-python\\opencv-python\\opencv\\modules\\imgproc\\src\\color.cpp:182: error: (-215:Assertion failed) !_src.empty() in function 'cv::cvtColor'\n",
      "\n",
      "Error processing D:\\PENNY\\Gaiat products\\processed_Paper_Cup_9Oz80Mm_-_Café_20_Pack.jpg: OpenCV(4.6.0) D:\\a\\opencv-python\\opencv-python\\opencv\\modules\\imgproc\\src\\color.cpp:182: error: (-215:Assertion failed) !_src.empty() in function 'cv::cvtColor'\n",
      "\n",
      "Error processing D:\\PENNY\\Gaiat products\\processed_PC AIO ACER I51135G7 4G 1TB 238  NO TOUCH Black.jpg: OpenCV(4.6.0) D:\\a\\opencv-python\\opencv-python\\opencv\\modules\\imgproc\\src\\color.cpp:182: error: (-215:Assertion failed) !_src.empty() in function 'cv::cvtColor'\n",
      "\n"
     ]
    },
    {
     "name": "stderr",
     "output_type": "stream",
     "text": [
      "Processing Images:  46%|████▌     | 4684/10286 [01:54<02:39, 35.19images/s]"
     ]
    },
    {
     "name": "stdout",
     "output_type": "stream",
     "text": [
      "Error processing D:\\PENNY\\Gaiat products\\processed_processed_Ali_Café_3_In_1_Classic_Instant_Coffee_-_22_Sticks.jpg: OpenCV(4.6.0) D:\\a\\opencv-python\\opencv-python\\opencv\\modules\\imgproc\\src\\color.cpp:182: error: (-215:Assertion failed) !_src.empty() in function 'cv::cvtColor'\n",
      "\n",
      "Error processing D:\\PENNY\\Gaiat products\\processed_processed_Ali_Café_3_In_1_Instant_French_Coffee_-_20Packs_-24_Sticks.jpg: OpenCV(4.6.0) D:\\a\\opencv-python\\opencv-python\\opencv\\modules\\imgproc\\src\\color.cpp:182: error: (-215:Assertion failed) !_src.empty() in function 'cv::cvtColor'\n",
      "\n"
     ]
    },
    {
     "name": "stderr",
     "output_type": "stream",
     "text": [
      "Processing Images:  47%|████▋     | 4810/10286 [01:58<03:17, 27.79images/s]"
     ]
    },
    {
     "name": "stdout",
     "output_type": "stream",
     "text": [
      "Error processing D:\\PENNY\\Gaiat products\\processed_processed_Bn130_Brown_Paper_Napkin_-_30Cm _40_Packs.jpg: OpenCV(4.6.0) D:\\a\\opencv-python\\opencv-python\\opencv\\modules\\imgproc\\src\\color.cpp:182: error: (-215:Assertion failed) !_src.empty() in function 'cv::cvtColor'\n",
      "\n"
     ]
    },
    {
     "name": "stderr",
     "output_type": "stream",
     "text": [
      "Processing Images:  49%|████▉     | 5032/10286 [02:06<03:25, 25.62images/s]"
     ]
    },
    {
     "name": "stdout",
     "output_type": "stream",
     "text": [
      "Error processing D:\\PENNY\\Gaiat products\\processed_processed_Crème_Caramel_-_72_Pcs_-100g.jpg: OpenCV(4.6.0) D:\\a\\opencv-python\\opencv-python\\opencv\\modules\\imgproc\\src\\color.cpp:182: error: (-215:Assertion failed) !_src.empty() in function 'cv::cvtColor'\n",
      "\n"
     ]
    },
    {
     "name": "stderr",
     "output_type": "stream",
     "text": [
      "Processing Images:  50%|█████     | 5192/10286 [02:11<02:21, 35.94images/s]"
     ]
    },
    {
     "name": "stdout",
     "output_type": "stream",
     "text": [
      "Error processing D:\\PENNY\\Gaiat products\\processed_processed_Edged_Ali_Café_3_In_1_Classic_Instant_Coffee_-_22_Sticks.jpg: OpenCV(4.6.0) D:\\a\\opencv-python\\opencv-python\\opencv\\modules\\imgproc\\src\\color.cpp:182: error: (-215:Assertion failed) !_src.empty() in function 'cv::cvtColor'\n",
      "\n",
      "Error processing D:\\PENNY\\Gaiat products\\processed_processed_Edged_Ali_Café_3_In_1_Instant_French_Coffee_-_20Packs_-24_Sticks.jpg: OpenCV(4.6.0) D:\\a\\opencv-python\\opencv-python\\opencv\\modules\\imgproc\\src\\color.cpp:182: error: (-215:Assertion failed) !_src.empty() in function 'cv::cvtColor'\n",
      "\n"
     ]
    },
    {
     "name": "stderr",
     "output_type": "stream",
     "text": [
      "Processing Images:  53%|█████▎    | 5414/10286 [02:16<02:23, 33.97images/s]"
     ]
    },
    {
     "name": "stdout",
     "output_type": "stream",
     "text": [
      "Error processing D:\\PENNY\\Gaiat products\\processed_processed_Edged_Bn130_Brown_Paper_Napkin_-_30Cm _40_Packs.jpg: OpenCV(4.6.0) D:\\a\\opencv-python\\opencv-python\\opencv\\modules\\imgproc\\src\\color.cpp:182: error: (-215:Assertion failed) !_src.empty() in function 'cv::cvtColor'\n",
      "\n"
     ]
    },
    {
     "name": "stderr",
     "output_type": "stream",
     "text": [
      "Processing Images:  55%|█████▍    | 5637/10286 [02:25<03:12, 24.19images/s]"
     ]
    },
    {
     "name": "stdout",
     "output_type": "stream",
     "text": [
      "Error processing D:\\PENNY\\Gaiat products\\processed_processed_Edged_Crème_Caramel_-_72_Pcs_-100g.jpg: OpenCV(4.6.0) D:\\a\\opencv-python\\opencv-python\\opencv\\modules\\imgproc\\src\\color.cpp:182: error: (-215:Assertion failed) !_src.empty() in function 'cv::cvtColor'\n",
      "\n"
     ]
    },
    {
     "name": "stderr",
     "output_type": "stream",
     "text": [
      "Processing Images:  61%|██████    | 6276/10286 [02:46<02:21, 28.30images/s]"
     ]
    },
    {
     "name": "stdout",
     "output_type": "stream",
     "text": [
      "Error processing D:\\PENNY\\Gaiat products\\processed_processed_Edged_Nescafé_Classic_3_In1_Instant_Coffee_-_12Packs_-28_Sticks.jpg: OpenCV(4.6.0) D:\\a\\opencv-python\\opencv-python\\opencv\\modules\\imgproc\\src\\color.cpp:182: error: (-215:Assertion failed) !_src.empty() in function 'cv::cvtColor'\n",
      "\n",
      "Error processing D:\\PENNY\\Gaiat products\\processed_processed_Edged_Nescafé_Classic_Instant_Coffee_-_12_Bottles.jpg: OpenCV(4.6.0) D:\\a\\opencv-python\\opencv-python\\opencv\\modules\\imgproc\\src\\color.cpp:182: error: (-215:Assertion failed) !_src.empty() in function 'cv::cvtColor'\n",
      "\n"
     ]
    },
    {
     "name": "stderr",
     "output_type": "stream",
     "text": [
      "Processing Images:  64%|██████▍   | 6620/10286 [02:58<01:55, 31.86images/s]"
     ]
    },
    {
     "name": "stdout",
     "output_type": "stream",
     "text": [
      "Error processing D:\\PENNY\\Gaiat products\\processed_processed_Nescafé_Classic_3_In1_Instant_Coffee_-_12Packs_-28_Sticks.jpg: OpenCV(4.6.0) D:\\a\\opencv-python\\opencv-python\\opencv\\modules\\imgproc\\src\\color.cpp:182: error: (-215:Assertion failed) !_src.empty() in function 'cv::cvtColor'\n",
      "\n",
      "Error processing D:\\PENNY\\Gaiat products\\processed_processed_Nescafé_Classic_Instant_Coffee_-_12_Bottles.jpg: OpenCV(4.6.0) D:\\a\\opencv-python\\opencv-python\\opencv\\modules\\imgproc\\src\\color.cpp:182: error: (-215:Assertion failed) !_src.empty() in function 'cv::cvtColor'\n",
      "\n",
      "Error processing D:\\PENNY\\Gaiat products\\processed_processed_Nescafé_Gold_Instant_Coffee_-6Pcs.jpg: OpenCV(4.6.0) D:\\a\\opencv-python\\opencv-python\\opencv\\modules\\imgproc\\src\\color.cpp:182: error: (-215:Assertion failed) !_src.empty() in function 'cv::cvtColor'\n",
      "\n",
      "Error processing D:\\PENNY\\Gaiat products\\processed_processed_Nescafé_Gold_Instant_Coffee_-_12_Bottles.jpg: OpenCV(4.6.0) D:\\a\\opencv-python\\opencv-python\\opencv\\modules\\imgproc\\src\\color.cpp:182: error: (-215:Assertion failed) !_src.empty() in function 'cv::cvtColor'\n",
      "\n",
      "Error processing D:\\PENNY\\Gaiat products\\processed_processed_Nescafé_Red_Mug_Instant_Coffee_-_12_Bottles.jpg: OpenCV(4.6.0) D:\\a\\opencv-python\\opencv-python\\opencv\\modules\\imgproc\\src\\color.cpp:182: error: (-215:Assertion failed) !_src.empty() in function 'cv::cvtColor'\n",
      "\n",
      "Error processing D:\\PENNY\\Gaiat products\\processed_processed_Nescafé_Red_Mug_Instant_Coffee_-_24_Bottles.jpg: OpenCV(4.6.0) D:\\a\\opencv-python\\opencv-python\\opencv\\modules\\imgproc\\src\\color.cpp:182: error: (-215:Assertion failed) !_src.empty() in function 'cv::cvtColor'\n",
      "\n"
     ]
    },
    {
     "name": "stderr",
     "output_type": "stream",
     "text": [
      "Processing Images:  65%|██████▍   | 6684/10286 [03:00<02:02, 29.46images/s]"
     ]
    },
    {
     "name": "stdout",
     "output_type": "stream",
     "text": [
      "Error processing D:\\PENNY\\Gaiat products\\processed_processed_Paper_Cup_3Oz_-_Café_20_Pack.jpg: OpenCV(4.6.0) D:\\a\\opencv-python\\opencv-python\\opencv\\modules\\imgproc\\src\\color.cpp:182: error: (-215:Assertion failed) !_src.empty() in function 'cv::cvtColor'\n",
      "\n",
      "Error processing D:\\PENNY\\Gaiat products\\processed_processed_Paper_Cup_9Oz80Mm_-_Café_20_Pack.jpg: OpenCV(4.6.0) D:\\a\\opencv-python\\opencv-python\\opencv\\modules\\imgproc\\src\\color.cpp:182: error: (-215:Assertion failed) !_src.empty() in function 'cv::cvtColor'\n",
      "\n"
     ]
    },
    {
     "name": "stderr",
     "output_type": "stream",
     "text": [
      "Processing Images:  65%|██████▌   | 6713/10286 [03:01<02:07, 28.03images/s]"
     ]
    },
    {
     "name": "stdout",
     "output_type": "stream",
     "text": [
      "Error processing D:\\PENNY\\Gaiat products\\processed_processed_PC AIO ACER I51135G7 4G 1TB 238  NO TOUCH Black.jpg: OpenCV(4.6.0) D:\\a\\opencv-python\\opencv-python\\opencv\\modules\\imgproc\\src\\color.cpp:182: error: (-215:Assertion failed) !_src.empty() in function 'cv::cvtColor'\n",
      "\n"
     ]
    },
    {
     "name": "stderr",
     "output_type": "stream",
     "text": [
      "Processing Images:  66%|██████▌   | 6809/10286 [03:05<01:57, 29.69images/s]"
     ]
    },
    {
     "name": "stdout",
     "output_type": "stream",
     "text": [
      "Error processing D:\\PENNY\\Gaiat products\\processed_processed_processed_Ali_Café_3_In_1_Classic_Instant_Coffee_-_22_Sticks.jpg: OpenCV(4.6.0) D:\\a\\opencv-python\\opencv-python\\opencv\\modules\\imgproc\\src\\color.cpp:182: error: (-215:Assertion failed) !_src.empty() in function 'cv::cvtColor'\n",
      "\n",
      "Error processing D:\\PENNY\\Gaiat products\\processed_processed_processed_Ali_Café_3_In_1_Instant_French_Coffee_-_20Packs_-24_Sticks.jpg: OpenCV(4.6.0) D:\\a\\opencv-python\\opencv-python\\opencv\\modules\\imgproc\\src\\color.cpp:182: error: (-215:Assertion failed) !_src.empty() in function 'cv::cvtColor'\n",
      "\n"
     ]
    },
    {
     "name": "stderr",
     "output_type": "stream",
     "text": [
      "Processing Images:  68%|██████▊   | 7031/10286 [03:12<01:45, 30.75images/s]"
     ]
    },
    {
     "name": "stdout",
     "output_type": "stream",
     "text": [
      "Error processing D:\\PENNY\\Gaiat products\\processed_processed_Sharpened_Acoustic_Panels_-_120030060_mm.jpg: OpenCV(4.6.0) D:\\a\\opencv-python\\opencv-python\\opencv\\modules\\imgproc\\src\\color.cpp:182: error: (-215:Assertion failed) !_src.empty() in function 'cv::cvtColor'\n",
      "\n",
      "Error processing D:\\PENNY\\Gaiat products\\processed_processed_Sharpened_Acoustic_Panels_-_120060030_mm.jpg: OpenCV(4.6.0) D:\\a\\opencv-python\\opencv-python\\opencv\\modules\\imgproc\\src\\color.cpp:182: error: (-215:Assertion failed) !_src.empty() in function 'cv::cvtColor'\n",
      "\n",
      "Error processing D:\\PENNY\\Gaiat products\\processed_processed_Sharpened_Acoustic_Panels_-_120060060_mm.jpg: OpenCV(4.6.0) D:\\a\\opencv-python\\opencv-python\\opencv\\modules\\imgproc\\src\\color.cpp:182: error: (-215:Assertion failed) !_src.empty() in function 'cv::cvtColor'\n",
      "\n",
      "Error processing D:\\PENNY\\Gaiat products\\processed_processed_Sharpened_Acoustic_Panels_-_30030030_mm.jpg: OpenCV(4.6.0) D:\\a\\opencv-python\\opencv-python\\opencv\\modules\\imgproc\\src\\color.cpp:182: error: (-215:Assertion failed) !_src.empty() in function 'cv::cvtColor'\n",
      "\n"
     ]
    },
    {
     "name": "stderr",
     "output_type": "stream",
     "text": [
      "Processing Images:  70%|███████   | 7251/10286 [03:17<01:08, 44.50images/s]"
     ]
    },
    {
     "name": "stdout",
     "output_type": "stream",
     "text": [
      "Error processing D:\\PENNY\\Gaiat products\\processed_Sharpened_Ali_Café_3_In_1_Classic_Instant_Coffee_-_22_Sticks.jpg: OpenCV(4.6.0) D:\\a\\opencv-python\\opencv-python\\opencv\\modules\\imgproc\\src\\color.cpp:182: error: (-215:Assertion failed) !_src.empty() in function 'cv::cvtColor'\n",
      "\n",
      "Error processing D:\\PENNY\\Gaiat products\\processed_Sharpened_Ali_Café_3_In_1_Instant_French_Coffee_-_20Packs_-24_Sticks.jpg: OpenCV(4.6.0) D:\\a\\opencv-python\\opencv-python\\opencv\\modules\\imgproc\\src\\color.cpp:182: error: (-215:Assertion failed) !_src.empty() in function 'cv::cvtColor'\n",
      "\n"
     ]
    },
    {
     "name": "stderr",
     "output_type": "stream",
     "text": [
      "Processing Images:  73%|███████▎  | 7473/10286 [03:21<00:53, 52.37images/s]"
     ]
    },
    {
     "name": "stdout",
     "output_type": "stream",
     "text": [
      "Error processing D:\\PENNY\\Gaiat products\\processed_Sharpened_Bn130_Brown_Paper_Napkin_-_30Cm _40_Packs.jpg: OpenCV(4.6.0) D:\\a\\opencv-python\\opencv-python\\opencv\\modules\\imgproc\\src\\color.cpp:182: error: (-215:Assertion failed) !_src.empty() in function 'cv::cvtColor'\n",
      "\n"
     ]
    },
    {
     "name": "stderr",
     "output_type": "stream",
     "text": [
      "Processing Images:  75%|███████▍  | 7696/10286 [03:26<01:10, 36.96images/s]"
     ]
    },
    {
     "name": "stdout",
     "output_type": "stream",
     "text": [
      "Error processing D:\\PENNY\\Gaiat products\\processed_Sharpened_Crème_Caramel_-_72_Pcs_-100g.jpg: OpenCV(4.6.0) D:\\a\\opencv-python\\opencv-python\\opencv\\modules\\imgproc\\src\\color.cpp:182: error: (-215:Assertion failed) !_src.empty() in function 'cv::cvtColor'\n",
      "\n"
     ]
    },
    {
     "name": "stderr",
     "output_type": "stream",
     "text": [
      "Processing Images:  81%|████████  | 8335/10286 [03:41<00:52, 37.20images/s]"
     ]
    },
    {
     "name": "stdout",
     "output_type": "stream",
     "text": [
      "Error processing D:\\PENNY\\Gaiat products\\processed_Sharpened_Nescafé_Classic_3_In1_Instant_Coffee_-_12Packs_-28_Sticks.jpg: OpenCV(4.6.0) D:\\a\\opencv-python\\opencv-python\\opencv\\modules\\imgproc\\src\\color.cpp:182: error: (-215:Assertion failed) !_src.empty() in function 'cv::cvtColor'\n",
      "\n",
      "Error processing D:\\PENNY\\Gaiat products\\processed_Sharpened_Nescafé_Classic_Instant_Coffee_-_12_Bottles.jpg: OpenCV(4.6.0) D:\\a\\opencv-python\\opencv-python\\opencv\\modules\\imgproc\\src\\color.cpp:182: error: (-215:Assertion failed) !_src.empty() in function 'cv::cvtColor'\n",
      "\n"
     ]
    },
    {
     "name": "stderr",
     "output_type": "stream",
     "text": [
      "Processing Images:  86%|████████▌ | 8843/10286 [03:53<00:23, 60.36images/s]"
     ]
    },
    {
     "name": "stdout",
     "output_type": "stream",
     "text": [
      "Error processing D:\\PENNY\\Gaiat products\\Sharpened_Ali_Café_3_In_1_Classic_Instant_Coffee_-_22_Sticks.jpg: OpenCV(4.6.0) D:\\a\\opencv-python\\opencv-python\\opencv\\modules\\imgproc\\src\\color.cpp:182: error: (-215:Assertion failed) !_src.empty() in function 'cv::cvtColor'\n",
      "\n",
      "Error processing D:\\PENNY\\Gaiat products\\Sharpened_Ali_Café_3_In_1_Instant_French_Coffee_-_20Packs_-24_Sticks.jpg: OpenCV(4.6.0) D:\\a\\opencv-python\\opencv-python\\opencv\\modules\\imgproc\\src\\color.cpp:182: error: (-215:Assertion failed) !_src.empty() in function 'cv::cvtColor'\n",
      "\n"
     ]
    },
    {
     "name": "stderr",
     "output_type": "stream",
     "text": [
      "Processing Images:  88%|████████▊ | 9066/10286 [03:56<00:21, 55.97images/s]"
     ]
    },
    {
     "name": "stdout",
     "output_type": "stream",
     "text": [
      "Error processing D:\\PENNY\\Gaiat products\\Sharpened_Bn130_Brown_Paper_Napkin_-_30Cm _40_Packs.jpg: OpenCV(4.6.0) D:\\a\\opencv-python\\opencv-python\\opencv\\modules\\imgproc\\src\\color.cpp:182: error: (-215:Assertion failed) !_src.empty() in function 'cv::cvtColor'\n",
      "\n"
     ]
    },
    {
     "name": "stderr",
     "output_type": "stream",
     "text": [
      "Processing Images:  90%|█████████ | 9289/10286 [04:02<00:27, 36.57images/s]"
     ]
    },
    {
     "name": "stdout",
     "output_type": "stream",
     "text": [
      "Error processing D:\\PENNY\\Gaiat products\\Sharpened_Crème_Caramel_-_72_Pcs_-100g.jpg: OpenCV(4.6.0) D:\\a\\opencv-python\\opencv-python\\opencv\\modules\\imgproc\\src\\color.cpp:182: error: (-215:Assertion failed) !_src.empty() in function 'cv::cvtColor'\n",
      "\n"
     ]
    },
    {
     "name": "stderr",
     "output_type": "stream",
     "text": [
      "Processing Images:  97%|█████████▋| 9927/10286 [04:13<00:05, 63.50images/s]"
     ]
    },
    {
     "name": "stdout",
     "output_type": "stream",
     "text": [
      "Error processing D:\\PENNY\\Gaiat products\\Sharpened_Nescafé_Classic_3_In1_Instant_Coffee_-_12Packs_-28_Sticks.jpg: OpenCV(4.6.0) D:\\a\\opencv-python\\opencv-python\\opencv\\modules\\imgproc\\src\\color.cpp:182: error: (-215:Assertion failed) !_src.empty() in function 'cv::cvtColor'\n",
      "\n",
      "Error processing D:\\PENNY\\Gaiat products\\Sharpened_Nescafé_Classic_Instant_Coffee_-_12_Bottles.jpg: OpenCV(4.6.0) D:\\a\\opencv-python\\opencv-python\\opencv\\modules\\imgproc\\src\\color.cpp:182: error: (-215:Assertion failed) !_src.empty() in function 'cv::cvtColor'\n",
      "\n"
     ]
    },
    {
     "name": "stderr",
     "output_type": "stream",
     "text": [
      "Processing Images:  99%|█████████▉| 10197/10286 [04:19<00:02, 39.23images/s]\n"
     ]
    }
   ],
   "source": [
    "import os\n",
    "import concurrent.futures\n",
    "import cv2\n",
    "import numpy as np\n",
    "from sklearn.model_selection import train_test_split\n",
    "from tqdm import tqdm  # Import tqdm for the progress bar\n",
    "\n",
    "def process_batch(image_files, target_size=(224, 224)):\n",
    "    batch_images = []\n",
    "    for filename in image_files:\n",
    "        try:\n",
    "            img = cv2.imread(filename)\n",
    "            img_rgb = cv2.cvtColor(img, cv2.COLOR_BGR2RGB)\n",
    "            img_filtered = cv2.filter2D(img_rgb, -1, np.array([[-1, -1, -1], [-1, 9, -1], [-1, -1, -1]]))\n",
    "            img_resized = cv2.resize(img_filtered, target_size)\n",
    "            batch_images.append(img_resized)\n",
    "        except (OSError, IOError, Exception) as e:\n",
    "            print(f\"Error processing {filename}: {e}\")\n",
    "    return batch_images\n",
    "\n",
    "if __name__ == \"__main__\":\n",
    "    # Folder path\n",
    "    folder_path = r'D:\\PENNY\\Gaiat products' \n",
    "\n",
    "    # List all image files in the folder\n",
    "    image_files = [os.path.join(folder_path, filename) for filename in os.listdir(folder_path) if filename.endswith('.jpg')]\n",
    "\n",
    "    batch_size = 32\n",
    "    num_images = len(image_files)\n",
    "\n",
    "    with concurrent.futures.ProcessPoolExecutor() as executor:\n",
    "        image_arrays = []\n",
    "        with tqdm(total=num_images, desc=\"Processing Images\", unit=\"images\") as pbar:\n",
    "            for i in range(0, num_images, batch_size):\n",
    "                batch_images = process_batch(image_files[i:i + batch_size])\n",
    "                image_arrays.extend(batch_images)\n",
    "                pbar.update(len(batch_images))  # Update the progress bar\n",
    "\n",
    "    # Remove any None elements (corresponding to broken images)\n",
    "    image_arrays = [img_array for img_array in image_arrays if img_array is not None]\n",
    "\n",
    "    # Prepare the dataset for classification\n",
    "    X = np.stack(image_arrays)  # Convert list of arrays to numpy array\n",
    "    y = np.ones(X.shape[0])  # Assuming all images belong to the same class (label 1)\n",
    "\n",
    "    # Split the dataset into training and testing sets\n",
    "    X_train, X_test, y_train, y_test = train_test_split(X, y, test_size=0.2, random_state=42)\n",
    "\n",
    "    # Now you have X_train, y_train, X_test, and y_test ready for training your machine learning model.\n",
    "    # You can use these arrays to train and evaluate your classification model.\n"
   ]
  },
  {
   "cell_type": "code",
   "execution_count": 18,
   "metadata": {},
   "outputs": [
    {
     "name": "stderr",
     "output_type": "stream",
     "text": [
      "Processing Images:   0%|          | 0/10286 [00:00<?, ?images/s]"
     ]
    },
    {
     "name": "stderr",
     "output_type": "stream",
     "text": [
      "Processing Images:   1%|          | 61/10286 [00:06<10:15, 16.62images/s]  "
     ]
    },
    {
     "name": "stdout",
     "output_type": "stream",
     "text": [
      "Error processing D:\\PENNY\\Gaiat products\\Ali_Café_3_In_1_Classic_Instant_Coffee_-_22_Sticks.jpg: OpenCV(4.6.0) D:\\a\\opencv-python\\opencv-python\\opencv\\modules\\imgproc\\src\\color.cpp:182: error: (-215:Assertion failed) !_src.empty() in function 'cv::cvtColor'\n",
      "\n",
      "Error processing D:\\PENNY\\Gaiat products\\Ali_Café_3_In_1_Instant_French_Coffee_-_20Packs_-24_Sticks.jpg: OpenCV(4.6.0) D:\\a\\opencv-python\\opencv-python\\opencv\\modules\\imgproc\\src\\color.cpp:182: error: (-215:Assertion failed) !_src.empty() in function 'cv::cvtColor'\n",
      "\n"
     ]
    },
    {
     "name": "stderr",
     "output_type": "stream",
     "text": [
      "Processing Images:   3%|▎         | 282/10286 [00:07<01:25, 117.40images/s]"
     ]
    },
    {
     "name": "stdout",
     "output_type": "stream",
     "text": [
      "Error processing D:\\PENNY\\Gaiat products\\Bn130_Brown_Paper_Napkin_-_30Cm _40_Packs.jpg: OpenCV(4.6.0) D:\\a\\opencv-python\\opencv-python\\opencv\\modules\\imgproc\\src\\color.cpp:182: error: (-215:Assertion failed) !_src.empty() in function 'cv::cvtColor'\n",
      "\n"
     ]
    },
    {
     "name": "stderr",
     "output_type": "stream",
     "text": [
      "Processing Images:   4%|▍         | 433/10286 [00:08<01:22, 118.71images/s]"
     ]
    },
    {
     "name": "stdout",
     "output_type": "stream",
     "text": [
      "Error processing D:\\PENNY\\Gaiat products\\Crème_Caramel_-_72_Pcs_-100g.jpg: OpenCV(4.6.0) D:\\a\\opencv-python\\opencv-python\\opencv\\modules\\imgproc\\src\\color.cpp:182: error: (-215:Assertion failed) !_src.empty() in function 'cv::cvtColor'\n",
      "\n"
     ]
    },
    {
     "name": "stderr",
     "output_type": "stream",
     "text": [
      "Processing Images:   5%|▍         | 507/10286 [00:09<01:43, 94.84images/s] "
     ]
    },
    {
     "name": "stdout",
     "output_type": "stream",
     "text": [
      "Error processing D:\\PENNY\\Gaiat products\\Edged_Ali_Café_3_In_1_Instant_French_Coffee_-_20Packs_-24_Sticks.jpg: OpenCV(4.6.0) D:\\a\\opencv-python\\opencv-python\\opencv\\modules\\imgproc\\src\\color.cpp:182: error: (-215:Assertion failed) !_src.empty() in function 'cv::cvtColor'\n",
      "\n",
      "Error processing D:\\PENNY\\Gaiat products\\Edged_Ali_Café_3_In_1_Classic_Instant_Coffee_-_22_Sticks.jpg: OpenCV(4.6.0) D:\\a\\opencv-python\\opencv-python\\opencv\\modules\\imgproc\\src\\color.cpp:182: error: (-215:Assertion failed) !_src.empty() in function 'cv::cvtColor'\n",
      "\n"
     ]
    },
    {
     "name": "stderr",
     "output_type": "stream",
     "text": [
      "Processing Images:   9%|▉         | 913/10286 [00:11<00:42, 219.72images/s]"
     ]
    },
    {
     "name": "stdout",
     "output_type": "stream",
     "text": [
      "Error processing D:\\PENNY\\Gaiat products\\Edged_Bn130_Brown_Paper_Napkin_-_30Cm _40_Packs.jpg: OpenCV(4.6.0) D:\\a\\opencv-python\\opencv-python\\opencv\\modules\\imgproc\\src\\color.cpp:182: error: (-215:Assertion failed) !_src.empty() in function 'cv::cvtColor'\n",
      "\n"
     ]
    },
    {
     "name": "stderr",
     "output_type": "stream",
     "text": [
      "Processing Images:  11%|█         | 1153/10286 [00:13<00:57, 158.45images/s]"
     ]
    },
    {
     "name": "stdout",
     "output_type": "stream",
     "text": [
      "Error processing D:\\PENNY\\Gaiat products\\Edged_Crème_Caramel_-_72_Pcs_-100g.jpg: OpenCV(4.6.0) D:\\a\\opencv-python\\opencv-python\\opencv\\modules\\imgproc\\src\\color.cpp:182: error: (-215:Assertion failed) !_src.empty() in function 'cv::cvtColor'\n",
      "\n"
     ]
    },
    {
     "name": "stderr",
     "output_type": "stream",
     "text": [
      "Processing Images:  17%|█▋        | 1800/10286 [00:18<00:55, 152.59images/s]"
     ]
    },
    {
     "name": "stdout",
     "output_type": "stream",
     "text": [
      "Error processing D:\\PENNY\\Gaiat products\\Edged_Nescafé_Classic_3_In1_Instant_Coffee_-_12Packs_-28_Sticks.jpg: OpenCV(4.6.0) D:\\a\\opencv-python\\opencv-python\\opencv\\modules\\imgproc\\src\\color.cpp:182: error: (-215:Assertion failed) !_src.empty() in function 'cv::cvtColor'\n",
      "\n",
      "Error processing D:\\PENNY\\Gaiat products\\Edged_Nescafé_Classic_Instant_Coffee_-_12_Bottles.jpg: OpenCV(4.6.0) D:\\a\\opencv-python\\opencv-python\\opencv\\modules\\imgproc\\src\\color.cpp:182: error: (-215:Assertion failed) !_src.empty() in function 'cv::cvtColor'\n",
      "\n"
     ]
    },
    {
     "name": "stderr",
     "output_type": "stream",
     "text": [
      "Processing Images:  22%|██▏       | 2257/10286 [00:22<00:58, 137.83images/s]"
     ]
    },
    {
     "name": "stdout",
     "output_type": "stream",
     "text": [
      "Error processing D:\\PENNY\\Gaiat products\\Nescafé_Classic_3_In1_Instant_Coffee_-_12Packs_-28_Sticks.jpg: OpenCV(4.6.0) D:\\a\\opencv-python\\opencv-python\\opencv\\modules\\imgproc\\src\\color.cpp:182: error: (-215:Assertion failed) !_src.empty() in function 'cv::cvtColor'\n",
      "\n",
      "Error processing D:\\PENNY\\Gaiat products\\Nescafé_Classic_Instant_Coffee_-_24_Bottles.jpg: OpenCV(4.6.0) D:\\a\\opencv-python\\opencv-python\\opencv\\modules\\imgproc\\src\\color.cpp:182: error: (-215:Assertion failed) !_src.empty() in function 'cv::cvtColor'\n",
      "\n",
      "Error processing D:\\PENNY\\Gaiat products\\Nescafé_Classic_Instant_Coffee_-_12_Bottles.jpg: OpenCV(4.6.0) D:\\a\\opencv-python\\opencv-python\\opencv\\modules\\imgproc\\src\\color.cpp:182: error: (-215:Assertion failed) !_src.empty() in function 'cv::cvtColor'\n",
      "\n",
      "Error processing D:\\PENNY\\Gaiat products\\Nescafé_Gold_Instant_Coffee_-6Pcs.jpg: OpenCV(4.6.0) D:\\a\\opencv-python\\opencv-python\\opencv\\modules\\imgproc\\src\\color.cpp:182: error: (-215:Assertion failed) !_src.empty() in function 'cv::cvtColor'\n",
      "\n",
      "Error processing D:\\PENNY\\Gaiat products\\Nescafé_Gold_Instant_Coffee_-_12_Bottles.jpg: OpenCV(4.6.0) D:\\a\\opencv-python\\opencv-python\\opencv\\modules\\imgproc\\src\\color.cpp:182: error: (-215:Assertion failed) !_src.empty() in function 'cv::cvtColor'\n",
      "\n",
      "Error processing D:\\PENNY\\Gaiat products\\Nescafé_Red_Mug_Instant_Coffee_-_12_Bottles.jpg: OpenCV(4.6.0) D:\\a\\opencv-python\\opencv-python\\opencv\\modules\\imgproc\\src\\color.cpp:182: error: (-215:Assertion failed) !_src.empty() in function 'cv::cvtColor'\n",
      "\n",
      "Error processing D:\\PENNY\\Gaiat products\\Nescafé_Red_Mug_Instant_Coffee_-_24_Bottles.jpg: OpenCV(4.6.0) D:\\a\\opencv-python\\opencv-python\\opencv\\modules\\imgproc\\src\\color.cpp:182: error: (-215:Assertion failed) !_src.empty() in function 'cv::cvtColor'\n",
      "\n"
     ]
    },
    {
     "name": "stderr",
     "output_type": "stream",
     "text": [
      "Processing Images:  23%|██▎       | 2394/10286 [00:23<00:52, 149.88images/s]"
     ]
    },
    {
     "name": "stdout",
     "output_type": "stream",
     "text": [
      "Error processing D:\\PENNY\\Gaiat products\\Paper_Cup_3Oz_-_Café_20_Pack.jpg: OpenCV(4.6.0) D:\\a\\opencv-python\\opencv-python\\opencv\\modules\\imgproc\\src\\color.cpp:182: error: (-215:Assertion failed) !_src.empty() in function 'cv::cvtColor'\n",
      "\n",
      "Error processing D:\\PENNY\\Gaiat products\\Paper_Cup_9Oz80Mm_-_Café_20_Pack.jpg: OpenCV(4.6.0) D:\\a\\opencv-python\\opencv-python\\opencv\\modules\\imgproc\\src\\color.cpp:182: error: (-215:Assertion failed) !_src.empty() in function 'cv::cvtColor'\n",
      "\n",
      "Error processing D:\\PENNY\\Gaiat products\\PC AIO ACER I51135G7 4G 1TB 238  NO TOUCH Black.jpg: OpenCV(4.6.0) D:\\a\\opencv-python\\opencv-python\\opencv\\modules\\imgproc\\src\\color.cpp:182: error: (-215:Assertion failed) !_src.empty() in function 'cv::cvtColor'\n",
      "\n"
     ]
    },
    {
     "name": "stderr",
     "output_type": "stream",
     "text": [
      "Processing Images:  24%|██▍       | 2472/10286 [00:23<00:38, 200.38images/s]"
     ]
    },
    {
     "name": "stdout",
     "output_type": "stream",
     "text": [
      "Error processing D:\\PENNY\\Gaiat products\\Plastic_Box_Bin_Container.jpg: OpenCV(4.6.0) D:\\a\\opencv-python\\opencv-python\\opencv\\modules\\imgproc\\src\\color.cpp:182: error: (-215:Assertion failed) !_src.empty() in function 'cv::cvtColor'\n",
      "\n",
      "Error processing D:\\PENNY\\Gaiat products\\Plastic_Stacking_Bin.jpg: OpenCV(4.6.0) D:\\a\\opencv-python\\opencv-python\\opencv\\modules\\imgproc\\src\\color.cpp:182: error: (-215:Assertion failed) !_src.empty() in function 'cv::cvtColor'\n",
      "\n"
     ]
    },
    {
     "name": "stderr",
     "output_type": "stream",
     "text": [
      "Processing Images:  25%|██▍       | 2552/10286 [00:24<00:48, 159.96images/s]"
     ]
    },
    {
     "name": "stdout",
     "output_type": "stream",
     "text": [
      "Error processing D:\\PENNY\\Gaiat products\\processed_AirbodyDummy_Junior.jpg: OpenCV(4.6.0) D:\\a\\opencv-python\\opencv-python\\opencv\\modules\\imgproc\\src\\color.cpp:182: error: (-215:Assertion failed) !_src.empty() in function 'cv::cvtColor'\n",
      "\n",
      "Error processing D:\\PENNY\\Gaiat products\\processed_AirbodyDummy_Senior.jpg: OpenCV(4.6.0) D:\\a\\opencv-python\\opencv-python\\opencv\\modules\\imgproc\\src\\color.cpp:182: error: (-215:Assertion failed) !_src.empty() in function 'cv::cvtColor'\n",
      "\n",
      "Error processing D:\\PENNY\\Gaiat products\\processed_Air_Freshener_Bottle_-_XD353N.jpg: OpenCV(4.6.0) D:\\a\\opencv-python\\opencv-python\\opencv\\modules\\imgproc\\src\\color.cpp:182: error: (-215:Assertion failed) !_src.empty() in function 'cv::cvtColor'\n",
      "\n",
      "Error processing D:\\PENNY\\Gaiat products\\processed_AI_Builder_Capacity_add-on_for_Faculty_Microsoft.jpg: OpenCV(4.6.0) D:\\a\\opencv-python\\opencv-python\\opencv\\modules\\imgproc\\src\\color.cpp:182: error: (-215:Assertion failed) !_src.empty() in function 'cv::cvtColor'\n",
      "\n",
      "Error processing D:\\PENNY\\Gaiat products\\processed_AI_Builder_Capacity_add-on_for_GCC_Microsoft.jpg: OpenCV(4.6.0) D:\\a\\opencv-python\\opencv-python\\opencv\\modules\\imgproc\\src\\color.cpp:182: error: (-215:Assertion failed) !_src.empty() in function 'cv::cvtColor'\n",
      "\n",
      "Error processing D:\\PENNY\\Gaiat products\\processed_Ali_Café_3_In_1_Classic_Instant_Coffee_-_22_Sticks.jpg: OpenCV(4.6.0) D:\\a\\opencv-python\\opencv-python\\opencv\\modules\\imgproc\\src\\color.cpp:182: error: (-215:Assertion failed) !_src.empty() in function 'cv::cvtColor'\n",
      "\n",
      "Error processing D:\\PENNY\\Gaiat products\\processed_Ali_Café_3_In_1_Instant_French_Coffee_-_20Packs_-24_Sticks.jpg: OpenCV(4.6.0) D:\\a\\opencv-python\\opencv-python\\opencv\\modules\\imgproc\\src\\color.cpp:182: error: (-215:Assertion failed) !_src.empty() in function 'cv::cvtColor'\n",
      "\n",
      "Error processing D:\\PENNY\\Gaiat products\\processed_App_-_Almas_Containers_10L_-_24_Pcs_Multiple_colors.jpg: OpenCV(4.6.0) D:\\a\\opencv-python\\opencv-python\\opencv\\modules\\imgproc\\src\\color.cpp:182: error: (-215:Assertion failed) !_src.empty() in function 'cv::cvtColor'\n",
      "\n",
      "Error processing D:\\PENNY\\Gaiat products\\processed_App_-_Almas_Containers_20L_-_12_Pcs_Multiple_colors.jpg: OpenCV(4.6.0) D:\\a\\opencv-python\\opencv-python\\opencv\\modules\\imgproc\\src\\color.cpp:182: error: (-215:Assertion failed) !_src.empty() in function 'cv::cvtColor'\n",
      "\n",
      "Error processing D:\\PENNY\\Gaiat products\\processed_App_-_Almas_Containers_30L_-_12_Pcs_Multiple_colors.jpg: OpenCV(4.6.0) D:\\a\\opencv-python\\opencv-python\\opencv\\modules\\imgproc\\src\\color.cpp:182: error: (-215:Assertion failed) !_src.empty() in function 'cv::cvtColor'\n",
      "\n",
      "Error processing D:\\PENNY\\Gaiat products\\processed_App_-_Almas_Containers_45L_-_12_Pcs_Multiple_colors.jpg: OpenCV(4.6.0) D:\\a\\opencv-python\\opencv-python\\opencv\\modules\\imgproc\\src\\color.cpp:182: error: (-215:Assertion failed) !_src.empty() in function 'cv::cvtColor'\n",
      "\n",
      "Error processing D:\\PENNY\\Gaiat products\\processed_App_-_Almas_Containers_5L_-_30_Pcs_Multiple_colors.jpg: OpenCV(4.6.0) D:\\a\\opencv-python\\opencv-python\\opencv\\modules\\imgproc\\src\\color.cpp:182: error: (-215:Assertion failed) !_src.empty() in function 'cv::cvtColor'\n",
      "\n",
      "Error processing D:\\PENNY\\Gaiat products\\processed_App_-_Almas_Containers_85L_-_12_Pcs_Multiple_colors.jpg: OpenCV(4.6.0) D:\\a\\opencv-python\\opencv-python\\opencv\\modules\\imgproc\\src\\color.cpp:182: error: (-215:Assertion failed) !_src.empty() in function 'cv::cvtColor'\n",
      "\n"
     ]
    },
    {
     "name": "stderr",
     "output_type": "stream",
     "text": [
      "Processing Images:  26%|██▌       | 2693/10286 [00:25<00:54, 140.29images/s]"
     ]
    },
    {
     "name": "stdout",
     "output_type": "stream",
     "text": [
      "Error processing D:\\PENNY\\Gaiat products\\processed_Bn130_Brown_Paper_Napkin_-_30Cm _40_Packs.jpg: OpenCV(4.6.0) D:\\a\\opencv-python\\opencv-python\\opencv\\modules\\imgproc\\src\\color.cpp:182: error: (-215:Assertion failed) !_src.empty() in function 'cv::cvtColor'\n",
      "\n"
     ]
    },
    {
     "name": "stderr",
     "output_type": "stream",
     "text": [
      "Processing Images:  28%|██▊       | 2846/10286 [00:27<01:34, 78.50images/s] "
     ]
    },
    {
     "name": "stdout",
     "output_type": "stream",
     "text": [
      "Error processing D:\\PENNY\\Gaiat products\\processed_Crème_Caramel_-_72_Pcs_-100g.jpg: OpenCV(4.6.0) D:\\a\\opencv-python\\opencv-python\\opencv\\modules\\imgproc\\src\\color.cpp:182: error: (-215:Assertion failed) !_src.empty() in function 'cv::cvtColor'\n",
      "\n"
     ]
    },
    {
     "name": "stderr",
     "output_type": "stream",
     "text": [
      "Processing Images:  30%|███       | 3088/10286 [00:28<00:52, 138.23images/s]"
     ]
    },
    {
     "name": "stdout",
     "output_type": "stream",
     "text": [
      "Error processing D:\\PENNY\\Gaiat products\\processed_Edged_Ali_Café_3_In_1_Classic_Instant_Coffee_-_22_Sticks.jpg: OpenCV(4.6.0) D:\\a\\opencv-python\\opencv-python\\opencv\\modules\\imgproc\\src\\color.cpp:182: error: (-215:Assertion failed) !_src.empty() in function 'cv::cvtColor'\n",
      "\n",
      "Error processing D:\\PENNY\\Gaiat products\\processed_Edged_Ali_Café_3_In_1_Instant_French_Coffee_-_20Packs_-24_Sticks.jpg: OpenCV(4.6.0) D:\\a\\opencv-python\\opencv-python\\opencv\\modules\\imgproc\\src\\color.cpp:182: error: (-215:Assertion failed) !_src.empty() in function 'cv::cvtColor'\n",
      "\n"
     ]
    },
    {
     "name": "stderr",
     "output_type": "stream",
     "text": [
      "Processing Images:  32%|███▏      | 3299/10286 [00:30<00:47, 146.53images/s]"
     ]
    },
    {
     "name": "stdout",
     "output_type": "stream",
     "text": [
      "Error processing D:\\PENNY\\Gaiat products\\processed_Edged_Bn130_Brown_Paper_Napkin_-_30Cm _40_Packs.jpg: OpenCV(4.6.0) D:\\a\\opencv-python\\opencv-python\\opencv\\modules\\imgproc\\src\\color.cpp:182: error: (-215:Assertion failed) !_src.empty() in function 'cv::cvtColor'\n",
      "\n"
     ]
    },
    {
     "name": "stderr",
     "output_type": "stream",
     "text": [
      "Processing Images:  34%|███▍      | 3485/10286 [00:32<01:32, 73.69images/s] "
     ]
    },
    {
     "name": "stdout",
     "output_type": "stream",
     "text": [
      "Error processing D:\\PENNY\\Gaiat products\\processed_Edged_Crème_Caramel_-_72_Pcs_-100g.jpg: OpenCV(4.6.0) D:\\a\\opencv-python\\opencv-python\\opencv\\modules\\imgproc\\src\\color.cpp:182: error: (-215:Assertion failed) !_src.empty() in function 'cv::cvtColor'\n",
      "\n"
     ]
    },
    {
     "name": "stderr",
     "output_type": "stream",
     "text": [
      "Processing Images:  40%|████      | 4149/10286 [00:39<00:39, 156.04images/s]"
     ]
    },
    {
     "name": "stdout",
     "output_type": "stream",
     "text": [
      "Error processing D:\\PENNY\\Gaiat products\\processed_Edged_Nescafé_Classic_3_In1_Instant_Coffee_-_12Packs_-28_Sticks.jpg: OpenCV(4.6.0) D:\\a\\opencv-python\\opencv-python\\opencv\\modules\\imgproc\\src\\color.cpp:182: error: (-215:Assertion failed) !_src.empty() in function 'cv::cvtColor'\n",
      "\n",
      "Error processing D:\\PENNY\\Gaiat products\\processed_Edged_Nescafé_Classic_Instant_Coffee_-_12_Bottles.jpg: OpenCV(4.6.0) D:\\a\\opencv-python\\opencv-python\\opencv\\modules\\imgproc\\src\\color.cpp:182: error: (-215:Assertion failed) !_src.empty() in function 'cv::cvtColor'\n",
      "\n"
     ]
    },
    {
     "name": "stderr",
     "output_type": "stream",
     "text": [
      "Processing Images:  44%|████▍     | 4511/10286 [00:42<00:47, 121.49images/s]"
     ]
    },
    {
     "name": "stdout",
     "output_type": "stream",
     "text": [
      "Error processing D:\\PENNY\\Gaiat products\\processed_Nescafé_Classic_3_In1_Instant_Coffee_-_12Packs_-28_Sticks.jpg: OpenCV(4.6.0) D:\\a\\opencv-python\\opencv-python\\opencv\\modules\\imgproc\\src\\color.cpp:182: error: (-215:Assertion failed) !_src.empty() in function 'cv::cvtColor'\n",
      "\n",
      "Error processing D:\\PENNY\\Gaiat products\\processed_Nescafé_Classic_Instant_Coffee_-_12_Bottles.jpg: OpenCV(4.6.0) D:\\a\\opencv-python\\opencv-python\\opencv\\modules\\imgproc\\src\\color.cpp:182: error: (-215:Assertion failed) !_src.empty() in function 'cv::cvtColor'\n",
      "\n",
      "Error processing D:\\PENNY\\Gaiat products\\processed_Nescafé_Gold_Instant_Coffee_-6Pcs.jpg: OpenCV(4.6.0) D:\\a\\opencv-python\\opencv-python\\opencv\\modules\\imgproc\\src\\color.cpp:182: error: (-215:Assertion failed) !_src.empty() in function 'cv::cvtColor'\n",
      "\n",
      "Error processing D:\\PENNY\\Gaiat products\\processed_Nescafé_Gold_Instant_Coffee_-_12_Bottles.jpg: OpenCV(4.6.0) D:\\a\\opencv-python\\opencv-python\\opencv\\modules\\imgproc\\src\\color.cpp:182: error: (-215:Assertion failed) !_src.empty() in function 'cv::cvtColor'\n",
      "\n",
      "Error processing D:\\PENNY\\Gaiat products\\processed_Nescafé_Red_Mug_Instant_Coffee_-_24_Bottles.jpg: OpenCV(4.6.0) D:\\a\\opencv-python\\opencv-python\\opencv\\modules\\imgproc\\src\\color.cpp:182: error: (-215:Assertion failed) !_src.empty() in function 'cv::cvtColor'\n",
      "\n",
      "Error processing D:\\PENNY\\Gaiat products\\processed_Nescafé_Red_Mug_Instant_Coffee_-_12_Bottles.jpg: OpenCV(4.6.0) D:\\a\\opencv-python\\opencv-python\\opencv\\modules\\imgproc\\src\\color.cpp:182: error: (-215:Assertion failed) !_src.empty() in function 'cv::cvtColor'\n",
      "\n"
     ]
    },
    {
     "name": "stderr",
     "output_type": "stream",
     "text": [
      "Processing Images:  44%|████▍     | 4563/10286 [00:43<01:18, 72.77images/s] "
     ]
    },
    {
     "name": "stdout",
     "output_type": "stream",
     "text": [
      "Error processing D:\\PENNY\\Gaiat products\\processed_Paper_Cup_3Oz_-_Café_20_Pack.jpg: OpenCV(4.6.0) D:\\a\\opencv-python\\opencv-python\\opencv\\modules\\imgproc\\src\\color.cpp:182: error: (-215:Assertion failed) !_src.empty() in function 'cv::cvtColor'\n",
      "\n",
      "Error processing D:\\PENNY\\Gaiat products\\processed_Paper_Cup_9Oz80Mm_-_Café_20_Pack.jpg: OpenCV(4.6.0) D:\\a\\opencv-python\\opencv-python\\opencv\\modules\\imgproc\\src\\color.cpp:182: error: (-215:Assertion failed) !_src.empty() in function 'cv::cvtColor'\n",
      "\n",
      "Error processing D:\\PENNY\\Gaiat products\\processed_PC AIO ACER I51135G7 4G 1TB 238  NO TOUCH Black.jpg: OpenCV(4.6.0) D:\\a\\opencv-python\\opencv-python\\opencv\\modules\\imgproc\\src\\color.cpp:182: error: (-215:Assertion failed) !_src.empty() in function 'cv::cvtColor'\n",
      "\n"
     ]
    },
    {
     "name": "stderr",
     "output_type": "stream",
     "text": [
      "Processing Images:  46%|████▌     | 4716/10286 [00:44<00:38, 143.16images/s]"
     ]
    },
    {
     "name": "stdout",
     "output_type": "stream",
     "text": [
      "Error processing D:\\PENNY\\Gaiat products\\processed_processed_Ali_Café_3_In_1_Classic_Instant_Coffee_-_22_Sticks.jpg: OpenCV(4.6.0) D:\\a\\opencv-python\\opencv-python\\opencv\\modules\\imgproc\\src\\color.cpp:182: error: (-215:Assertion failed) !_src.empty() in function 'cv::cvtColor'\n",
      "Error processing D:\\PENNY\\Gaiat products\\processed_processed_Ali_Café_3_In_1_Instant_French_Coffee_-_20Packs_-24_Sticks.jpg: OpenCV(4.6.0) D:\\a\\opencv-python\\opencv-python\\opencv\\modules\\imgproc\\src\\color.cpp:182: error: (-215:Assertion failed) !_src.empty() in function 'cv::cvtColor'\n",
      "\n",
      "\n"
     ]
    },
    {
     "name": "stderr",
     "output_type": "stream",
     "text": [
      "Processing Images:  47%|████▋     | 4847/10286 [00:45<00:46, 117.46images/s]"
     ]
    },
    {
     "name": "stdout",
     "output_type": "stream",
     "text": [
      "Error processing D:\\PENNY\\Gaiat products\\processed_processed_Bn130_Brown_Paper_Napkin_-_30Cm _40_Packs.jpg: OpenCV(4.6.0) D:\\a\\opencv-python\\opencv-python\\opencv\\modules\\imgproc\\src\\color.cpp:182: error: (-215:Assertion failed) !_src.empty() in function 'cv::cvtColor'\n",
      "\n"
     ]
    },
    {
     "name": "stderr",
     "output_type": "stream",
     "text": [
      "Processing Images:  49%|████▊     | 5012/10286 [00:48<01:12, 72.81images/s] "
     ]
    },
    {
     "name": "stdout",
     "output_type": "stream",
     "text": [
      "Error processing D:\\PENNY\\Gaiat products\\processed_processed_Crème_Caramel_-_72_Pcs_-100g.jpg: OpenCV(4.6.0) D:\\a\\opencv-python\\opencv-python\\opencv\\modules\\imgproc\\src\\color.cpp:182: error: (-215:Assertion failed) !_src.empty() in function 'cv::cvtColor'\n",
      "\n"
     ]
    },
    {
     "name": "stderr",
     "output_type": "stream",
     "text": [
      "Processing Images:  51%|█████     | 5234/10286 [00:49<00:32, 157.63images/s]"
     ]
    },
    {
     "name": "stdout",
     "output_type": "stream",
     "text": [
      "Error processing D:\\PENNY\\Gaiat products\\processed_processed_Edged_Ali_Café_3_In_1_Classic_Instant_Coffee_-_22_Sticks.jpg: OpenCV(4.6.0) D:\\a\\opencv-python\\opencv-python\\opencv\\modules\\imgproc\\src\\color.cpp:182: error: (-215:Assertion failed) !_src.empty() in function 'cv::cvtColor'\n",
      "Error processing D:\\PENNY\\Gaiat products\\processed_processed_Edged_Ali_Café_3_In_1_Instant_French_Coffee_-_20Packs_-24_Sticks.jpg: OpenCV(4.6.0) D:\\a\\opencv-python\\opencv-python\\opencv\\modules\\imgproc\\src\\color.cpp:182: error: (-215:Assertion failed) !_src.empty() in function 'cv::cvtColor'\n",
      "\n",
      "\n"
     ]
    },
    {
     "name": "stderr",
     "output_type": "stream",
     "text": [
      "Processing Images:  53%|█████▎    | 5454/10286 [00:51<00:50, 95.77images/s] "
     ]
    },
    {
     "name": "stdout",
     "output_type": "stream",
     "text": [
      "Error processing D:\\PENNY\\Gaiat products\\processed_processed_Edged_Bn130_Brown_Paper_Napkin_-_30Cm _40_Packs.jpg: OpenCV(4.6.0) D:\\a\\opencv-python\\opencv-python\\opencv\\modules\\imgproc\\src\\color.cpp:182: error: (-215:Assertion failed) !_src.empty() in function 'cv::cvtColor'\n",
      "\n"
     ]
    },
    {
     "name": "stderr",
     "output_type": "stream",
     "text": [
      "Processing Images:  55%|█████▍    | 5618/10286 [00:53<01:06, 69.99images/s] "
     ]
    },
    {
     "name": "stdout",
     "output_type": "stream",
     "text": [
      "Error processing D:\\PENNY\\Gaiat products\\processed_processed_Edged_Crème_Caramel_-_72_Pcs_-100g.jpg: OpenCV(4.6.0) D:\\a\\opencv-python\\opencv-python\\opencv\\modules\\imgproc\\src\\color.cpp:182: error: (-215:Assertion failed) !_src.empty() in function 'cv::cvtColor'\n",
      "\n"
     ]
    },
    {
     "name": "stderr",
     "output_type": "stream",
     "text": [
      "Processing Images:  62%|██████▏   | 6340/10286 [00:59<00:28, 140.00images/s]"
     ]
    },
    {
     "name": "stdout",
     "output_type": "stream",
     "text": [
      "Error processing D:\\PENNY\\Gaiat products\\processed_processed_Edged_Nescafé_Classic_3_In1_Instant_Coffee_-_12Packs_-28_Sticks.jpg: OpenCV(4.6.0) D:\\a\\opencv-python\\opencv-python\\opencv\\modules\\imgproc\\src\\color.cpp:182: error: (-215:Assertion failed) !_src.empty() in function 'cv::cvtColor'\n",
      "\n",
      "Error processing D:\\PENNY\\Gaiat products\\processed_processed_Edged_Nescafé_Classic_Instant_Coffee_-_12_Bottles.jpg: OpenCV(4.6.0) D:\\a\\opencv-python\\opencv-python\\opencv\\modules\\imgproc\\src\\color.cpp:182: error: (-215:Assertion failed) !_src.empty() in function 'cv::cvtColor'\n",
      "\n"
     ]
    },
    {
     "name": "stderr",
     "output_type": "stream",
     "text": [
      "Processing Images:  65%|██████▍   | 6679/10286 [01:03<00:20, 174.36images/s]"
     ]
    },
    {
     "name": "stdout",
     "output_type": "stream",
     "text": [
      "Error processing D:\\PENNY\\Gaiat products\\processed_processed_Nescafé_Classic_3_In1_Instant_Coffee_-_12Packs_-28_Sticks.jpg: OpenCV(4.6.0) D:\\a\\opencv-python\\opencv-python\\opencv\\modules\\imgproc\\src\\color.cpp:182: error: (-215:Assertion failed) !_src.empty() in function 'cv::cvtColor'\n",
      "\n",
      "Error processing D:\\PENNY\\Gaiat products\\processed_processed_Nescafé_Classic_Instant_Coffee_-_12_Bottles.jpg: OpenCV(4.6.0) D:\\a\\opencv-python\\opencv-python\\opencv\\modules\\imgproc\\src\\color.cpp:182: error: (-215:Assertion failed) !_src.empty() in function 'cv::cvtColor'\n",
      "\n",
      "Error processing D:\\PENNY\\Gaiat products\\processed_processed_Nescafé_Gold_Instant_Coffee_-6Pcs.jpg: OpenCV(4.6.0) D:\\a\\opencv-python\\opencv-python\\opencv\\modules\\imgproc\\src\\color.cpp:182: error: (-215:Assertion failed) !_src.empty() in function 'cv::cvtColor'\n",
      "\n",
      "Error processing D:\\PENNY\\Gaiat products\\processed_processed_Nescafé_Gold_Instant_Coffee_-_12_Bottles.jpg: OpenCV(4.6.0) D:\\a\\opencv-python\\opencv-python\\opencv\\modules\\imgproc\\src\\color.cpp:182: error: (-215:Assertion failed) !_src.empty() in function 'cv::cvtColor'\n",
      "\n",
      "Error processing D:\\PENNY\\Gaiat products\\processed_processed_Nescafé_Red_Mug_Instant_Coffee_-_24_Bottles.jpg: OpenCV(4.6.0) D:\\a\\opencv-python\\opencv-python\\opencv\\modules\\imgproc\\src\\color.cpp:182: error: (-215:Assertion failed) !_src.empty() in function 'cv::cvtColor'\n",
      "\n",
      "Error processing D:\\PENNY\\Gaiat products\\processed_processed_Nescafé_Red_Mug_Instant_Coffee_-_12_Bottles.jpg: OpenCV(4.6.0) D:\\a\\opencv-python\\opencv-python\\opencv\\modules\\imgproc\\src\\color.cpp:182: error: (-215:Assertion failed) !_src.empty() in function 'cv::cvtColor'\n",
      "\n"
     ]
    },
    {
     "name": "stderr",
     "output_type": "stream",
     "text": [
      "Processing Images:  66%|██████▌   | 6750/10286 [01:03<00:31, 112.48images/s]"
     ]
    },
    {
     "name": "stdout",
     "output_type": "stream",
     "text": [
      "Error processing D:\\PENNY\\Gaiat products\\processed_processed_Paper_Cup_3Oz_-_Café_20_Pack.jpg: OpenCV(4.6.0) D:\\a\\opencv-python\\opencv-python\\opencv\\modules\\imgproc\\src\\color.cpp:182: error: (-215:Assertion failed) !_src.empty() in function 'cv::cvtColor'\n",
      "\n",
      "Error processing D:\\PENNY\\Gaiat products\\processed_processed_Paper_Cup_9Oz80Mm_-_Café_20_Pack.jpg: OpenCV(4.6.0) D:\\a\\opencv-python\\opencv-python\\opencv\\modules\\imgproc\\src\\color.cpp:182: error: (-215:Assertion failed) !_src.empty() in function 'cv::cvtColor'\n",
      "\n",
      "Error processing D:\\PENNY\\Gaiat products\\processed_processed_PC AIO ACER I51135G7 4G 1TB 238  NO TOUCH Black.jpg: OpenCV(4.6.0) D:\\a\\opencv-python\\opencv-python\\opencv\\modules\\imgproc\\src\\color.cpp:182: error: (-215:Assertion failed) !_src.empty() in function 'cv::cvtColor'\n",
      "\n"
     ]
    },
    {
     "name": "stderr",
     "output_type": "stream",
     "text": [
      "Processing Images:  67%|██████▋   | 6894/10286 [01:05<00:26, 126.49images/s]"
     ]
    },
    {
     "name": "stdout",
     "output_type": "stream",
     "text": [
      "Error processing D:\\PENNY\\Gaiat products\\processed_processed_processed_Ali_Café_3_In_1_Classic_Instant_Coffee_-_22_Sticks.jpg: OpenCV(4.6.0) D:\\a\\opencv-python\\opencv-python\\opencv\\modules\\imgproc\\src\\color.cpp:182: error: (-215:Assertion failed) !_src.empty() in function 'cv::cvtColor'\n",
      "\n",
      "Error processing D:\\PENNY\\Gaiat products\\processed_processed_processed_Ali_Café_3_In_1_Instant_French_Coffee_-_20Packs_-24_Sticks.jpg: OpenCV(4.6.0) D:\\a\\opencv-python\\opencv-python\\opencv\\modules\\imgproc\\src\\color.cpp:182: error: (-215:Assertion failed) !_src.empty() in function 'cv::cvtColor'\n",
      "\n"
     ]
    },
    {
     "name": "stderr",
     "output_type": "stream",
     "text": [
      "Processing Images:  68%|██████▊   | 7006/10286 [01:06<00:37, 87.49images/s] "
     ]
    },
    {
     "name": "stdout",
     "output_type": "stream",
     "text": [
      "Error processing D:\\PENNY\\Gaiat products\\processed_processed_Sharpened_Acoustic_Panels_-_120060030_mm.jpg: OpenCV(4.6.0) D:\\a\\opencv-python\\opencv-python\\opencv\\modules\\imgproc\\src\\color.cpp:182: error: (-215:Assertion failed) !_src.empty() in function 'cv::cvtColor'\n",
      "\n",
      "Error processing D:\\PENNY\\Gaiat products\\processed_processed_Sharpened_Acoustic_Panels_-_120030060_mm.jpg: OpenCV(4.6.0) D:\\a\\opencv-python\\opencv-python\\opencv\\modules\\imgproc\\src\\color.cpp:182: error: (-215:Assertion failed) !_src.empty() in function 'cv::cvtColor'\n",
      "\n",
      "Error processing D:\\PENNY\\Gaiat products\\processed_processed_Sharpened_Acoustic_Panels_-_30030030_mm.jpg: OpenCV(4.6.0) D:\\a\\opencv-python\\opencv-python\\opencv\\modules\\imgproc\\src\\color.cpp:182: error: (-215:Assertion failed) !_src.empty() in function 'cv::cvtColor'\n",
      "\n",
      "Error processing D:\\PENNY\\Gaiat products\\processed_processed_Sharpened_Acoustic_Panels_-_120060060_mm.jpg: OpenCV(4.6.0) D:\\a\\opencv-python\\opencv-python\\opencv\\modules\\imgproc\\src\\color.cpp:182: error: (-215:Assertion failed) !_src.empty() in function 'cv::cvtColor'\n",
      "\n"
     ]
    },
    {
     "name": "stderr",
     "output_type": "stream",
     "text": [
      "Processing Images:  70%|███████   | 7228/10286 [01:08<00:17, 175.28images/s]"
     ]
    },
    {
     "name": "stdout",
     "output_type": "stream",
     "text": [
      "Error processing D:\\PENNY\\Gaiat products\\processed_Sharpened_Ali_Café_3_In_1_Instant_French_Coffee_-_20Packs_-24_Sticks.jpg: OpenCV(4.6.0) D:\\a\\opencv-python\\opencv-python\\opencv\\modules\\imgproc\\src\\color.cpp:182: error: (-215:Assertion failed) !_src.empty() in function 'cv::cvtColor'\n",
      "\n",
      "Error processing D:\\PENNY\\Gaiat products\\processed_Sharpened_Ali_Café_3_In_1_Classic_Instant_Coffee_-_22_Sticks.jpg: OpenCV(4.6.0) D:\\a\\opencv-python\\opencv-python\\opencv\\modules\\imgproc\\src\\color.cpp:182: error: (-215:Assertion failed) !_src.empty() in function 'cv::cvtColor'\n",
      "\n"
     ]
    },
    {
     "name": "stderr",
     "output_type": "stream",
     "text": [
      "Processing Images:  73%|███████▎  | 7540/10286 [01:11<00:25, 109.23images/s]"
     ]
    },
    {
     "name": "stdout",
     "output_type": "stream",
     "text": [
      "Error processing D:\\PENNY\\Gaiat products\\processed_Sharpened_Bn130_Brown_Paper_Napkin_-_30Cm _40_Packs.jpg: OpenCV(4.6.0) D:\\a\\opencv-python\\opencv-python\\opencv\\modules\\imgproc\\src\\color.cpp:182: error: (-215:Assertion failed) !_src.empty() in function 'cv::cvtColor'\n",
      "\n"
     ]
    },
    {
     "name": "stderr",
     "output_type": "stream",
     "text": [
      "Processing Images:  75%|███████▌  | 7750/10286 [01:13<00:23, 108.89images/s]"
     ]
    },
    {
     "name": "stdout",
     "output_type": "stream",
     "text": [
      "Error processing D:\\PENNY\\Gaiat products\\processed_Sharpened_Crème_Caramel_-_72_Pcs_-100g.jpg: OpenCV(4.6.0) D:\\a\\opencv-python\\opencv-python\\opencv\\modules\\imgproc\\src\\color.cpp:182: error: (-215:Assertion failed) !_src.empty() in function 'cv::cvtColor'\n",
      "\n"
     ]
    },
    {
     "name": "stderr",
     "output_type": "stream",
     "text": [
      "Processing Images:  82%|████████▏ | 8415/10286 [01:18<00:12, 144.30images/s]"
     ]
    },
    {
     "name": "stdout",
     "output_type": "stream",
     "text": [
      "Error processing D:\\PENNY\\Gaiat products\\processed_Sharpened_Nescafé_Classic_3_In1_Instant_Coffee_-_12Packs_-28_Sticks.jpg: OpenCV(4.6.0) D:\\a\\opencv-python\\opencv-python\\opencv\\modules\\imgproc\\src\\color.cpp:182: error: (-215:Assertion failed) !_src.empty() in function 'cv::cvtColor'\n",
      "Error processing D:\\PENNY\\Gaiat products\\processed_Sharpened_Nescafé_Classic_Instant_Coffee_-_12_Bottles.jpg: OpenCV(4.6.0) D:\\a\\opencv-python\\opencv-python\\opencv\\modules\\imgproc\\src\\color.cpp:182: error: (-215:Assertion failed) !_src.empty() in function 'cv::cvtColor'\n",
      "\n",
      "\n"
     ]
    },
    {
     "name": "stderr",
     "output_type": "stream",
     "text": [
      "Processing Images:  87%|████████▋ | 8940/10286 [01:22<00:06, 205.35images/s]"
     ]
    },
    {
     "name": "stdout",
     "output_type": "stream",
     "text": [
      "Error processing D:\\PENNY\\Gaiat products\\Sharpened_Ali_Café_3_In_1_Instant_French_Coffee_-_20Packs_-24_Sticks.jpg: OpenCV(4.6.0) D:\\a\\opencv-python\\opencv-python\\opencv\\modules\\imgproc\\src\\color.cpp:182: error: (-215:Assertion failed) !_src.empty() in function 'cv::cvtColor'\n",
      "Error processing D:\\PENNY\\Gaiat products\\Sharpened_Ali_Café_3_In_1_Classic_Instant_Coffee_-_22_Sticks.jpg: OpenCV(4.6.0) D:\\a\\opencv-python\\opencv-python\\opencv\\modules\\imgproc\\src\\color.cpp:182: error: (-215:Assertion failed) !_src.empty() in function 'cv::cvtColor'\n",
      "\n",
      "\n"
     ]
    },
    {
     "name": "stderr",
     "output_type": "stream",
     "text": [
      "Processing Images:  89%|████████▊ | 9126/10286 [01:23<00:05, 202.58images/s]"
     ]
    },
    {
     "name": "stdout",
     "output_type": "stream",
     "text": [
      "Error processing D:\\PENNY\\Gaiat products\\Sharpened_Bn130_Brown_Paper_Napkin_-_30Cm _40_Packs.jpg: OpenCV(4.6.0) D:\\a\\opencv-python\\opencv-python\\opencv\\modules\\imgproc\\src\\color.cpp:182: error: (-215:Assertion failed) !_src.empty() in function 'cv::cvtColor'\n",
      "\n"
     ]
    },
    {
     "name": "stderr",
     "output_type": "stream",
     "text": [
      "Processing Images:  90%|█████████ | 9297/10286 [01:25<00:10, 92.51images/s] "
     ]
    },
    {
     "name": "stdout",
     "output_type": "stream",
     "text": [
      "Error processing D:\\PENNY\\Gaiat products\\Sharpened_Crème_Caramel_-_72_Pcs_-100g.jpg: OpenCV(4.6.0) D:\\a\\opencv-python\\opencv-python\\opencv\\modules\\imgproc\\src\\color.cpp:182: error: (-215:Assertion failed) !_src.empty() in function 'cv::cvtColor'\n",
      "\n"
     ]
    },
    {
     "name": "stderr",
     "output_type": "stream",
     "text": [
      "Processing Images:  97%|█████████▋| 10010/10286 [01:30<00:02, 124.55images/s]"
     ]
    },
    {
     "name": "stdout",
     "output_type": "stream",
     "text": [
      "Error processing D:\\PENNY\\Gaiat products\\Sharpened_Nescafé_Classic_Instant_Coffee_-_12_Bottles.jpg: OpenCV(4.6.0) D:\\a\\opencv-python\\opencv-python\\opencv\\modules\\imgproc\\src\\color.cpp:182: error: (-215:Assertion failed) !_src.empty() in function 'cv::cvtColor'\n",
      "\n",
      "Error processing D:\\PENNY\\Gaiat products\\Sharpened_Nescafé_Classic_3_In1_Instant_Coffee_-_12Packs_-28_Sticks.jpg: OpenCV(4.6.0) D:\\a\\opencv-python\\opencv-python\\opencv\\modules\\imgproc\\src\\color.cpp:182: error: (-215:Assertion failed) !_src.empty() in function 'cv::cvtColor'\n",
      "\n"
     ]
    },
    {
     "name": "stderr",
     "output_type": "stream",
     "text": [
      "Processing Images: 100%|██████████| 10286/10286 [01:32<00:00, 110.65images/s]\n"
     ]
    },
    {
     "ename": "MemoryError",
     "evalue": "Unable to allocate 11.4 GiB for an array with shape (10197, 224, 224, 3) and data type float64",
     "output_type": "error",
     "traceback": [
      "\u001b[1;31m---------------------------------------------------------------------------\u001b[0m",
      "\u001b[1;31mMemoryError\u001b[0m                               Traceback (most recent call last)",
      "\u001b[1;32md:\\PENNY\\penny_keras.ipynb Cell 6\u001b[0m in \u001b[0;36m<cell line: 37>\u001b[1;34m()\u001b[0m\n\u001b[0;32m     <a href='vscode-notebook-cell:/d%3A/PENNY/penny_keras.ipynb#X22sZmlsZQ%3D%3D?line=38'>39</a>\u001b[0m folder_path \u001b[39m=\u001b[39m \u001b[39mr\u001b[39m\u001b[39m'\u001b[39m\u001b[39mD:\u001b[39m\u001b[39m\\\u001b[39m\u001b[39mPENNY\u001b[39m\u001b[39m\\\u001b[39m\u001b[39mGaiat products\u001b[39m\u001b[39m'\u001b[39m\n\u001b[0;32m     <a href='vscode-notebook-cell:/d%3A/PENNY/penny_keras.ipynb#X22sZmlsZQ%3D%3D?line=40'>41</a>\u001b[0m \u001b[39m# Load the image data\u001b[39;00m\n\u001b[1;32m---> <a href='vscode-notebook-cell:/d%3A/PENNY/penny_keras.ipynb#X22sZmlsZQ%3D%3D?line=41'>42</a>\u001b[0m X \u001b[39m=\u001b[39m load_data(folder_path)\n\u001b[0;32m     <a href='vscode-notebook-cell:/d%3A/PENNY/penny_keras.ipynb#X22sZmlsZQ%3D%3D?line=43'>44</a>\u001b[0m \u001b[39m# Load the Catalog Names and Category Names (readonly)\u001b[39;00m\n\u001b[0;32m     <a href='vscode-notebook-cell:/d%3A/PENNY/penny_keras.ipynb#X22sZmlsZQ%3D%3D?line=44'>45</a>\u001b[0m \u001b[39m# Replace the following lists with your actual catalog and category names\u001b[39;00m\n\u001b[0;32m     <a href='vscode-notebook-cell:/d%3A/PENNY/penny_keras.ipynb#X22sZmlsZQ%3D%3D?line=45'>46</a>\u001b[0m catalog_names \u001b[39m=\u001b[39m [\u001b[39m\"\u001b[39m\u001b[39mStationery\u001b[39m\u001b[39m\"\u001b[39m, \u001b[39m\"\u001b[39m\u001b[39mElectronics\u001b[39m\u001b[39m\"\u001b[39m, \u001b[39m\"\u001b[39m\u001b[39mClothing\u001b[39m\u001b[39m\"\u001b[39m, \u001b[39m.\u001b[39m\u001b[39m.\u001b[39m\u001b[39m.\u001b[39m]\n",
      "\u001b[1;32md:\\PENNY\\penny_keras.ipynb Cell 6\u001b[0m in \u001b[0;36mload_data\u001b[1;34m(folder_path, target_size)\u001b[0m\n\u001b[0;32m     <a href='vscode-notebook-cell:/d%3A/PENNY/penny_keras.ipynb#X22sZmlsZQ%3D%3D?line=31'>32</a>\u001b[0m                 X\u001b[39m.\u001b[39mappend(img_array)\n\u001b[0;32m     <a href='vscode-notebook-cell:/d%3A/PENNY/penny_keras.ipynb#X22sZmlsZQ%3D%3D?line=32'>33</a>\u001b[0m             pbar\u001b[39m.\u001b[39mupdate(\u001b[39m1\u001b[39m)  \u001b[39m# Update the progress bar\u001b[39;00m\n\u001b[1;32m---> <a href='vscode-notebook-cell:/d%3A/PENNY/penny_keras.ipynb#X22sZmlsZQ%3D%3D?line=34'>35</a>\u001b[0m \u001b[39mreturn\u001b[39;00m np\u001b[39m.\u001b[39;49marray(X)\n",
      "\u001b[1;31mMemoryError\u001b[0m: Unable to allocate 11.4 GiB for an array with shape (10197, 224, 224, 3) and data type float64"
     ]
    }
   ],
   "source": [
    "import os\n",
    "import concurrent.futures\n",
    "import cv2\n",
    "import numpy as np\n",
    "from sklearn.model_selection import train_test_split\n",
    "from tqdm import tqdm  # Import tqdm for the progress bar\n",
    "from tensorflow.keras.preprocessing.image import ImageDataGenerator\n",
    "from tensorflow.keras.applications import VGG16\n",
    "from tensorflow.keras.models import Model\n",
    "from tensorflow.keras.layers import Dense, GlobalAveragePooling2D\n",
    "from tensorflow.keras.optimizers import Adam\n",
    "\n",
    "def process_image(filename, target_size=(224, 224)):\n",
    "    try:\n",
    "        img = cv2.imread(filename)\n",
    "        img_rgb = cv2.cvtColor(img, cv2.COLOR_BGR2RGB)\n",
    "        img_filtered = cv2.filter2D(img_rgb, -1, np.array([[-1, -1, -1], [-1, 9, -1], [-1, -1, -1]]))\n",
    "        img_resized = cv2.resize(img_filtered, target_size)\n",
    "        img_array = img_resized / 255.0  # Normalize pixel values to [0, 1]\n",
    "        return img_array\n",
    "    except (OSError, IOError, Exception) as e:\n",
    "        print(f\"Error processing {filename}: {e}\")\n",
    "        return None\n",
    "\n",
    "def load_data(folder_path, target_size=(224, 224)):\n",
    "    image_files = [os.path.join(folder_path, filename) for filename in os.listdir(folder_path) if filename.endswith('.jpg')]\n",
    "    X = []\n",
    "    with concurrent.futures.ThreadPoolExecutor() as executor:\n",
    "        with tqdm(total=len(image_files), desc=\"Processing Images\", unit=\"images\") as pbar:\n",
    "            for img_array in executor.map(process_image, image_files):\n",
    "                if img_array is not None:\n",
    "                    X.append(img_array)\n",
    "                pbar.update(1)  # Update the progress bar\n",
    "\n",
    "    return np.array(X)\n",
    "\n",
    "if __name__ == \"__main__\":\n",
    "    # Folder path\n",
    "    folder_path = r'D:\\PENNY\\Gaiat products'\n",
    "\n",
    "    # Load the image data\n",
    "    X = load_data(folder_path)\n",
    "\n",
    "    # Load the Catalog Names and Category Names (readonly)\n",
    "    # Replace the following lists with your actual catalog and category names\n",
    "    catalog_names = [\"Stationery\", \"Electronics\", \"Clothing\", ...]\n",
    "    category_names = [\"Files\", \"Laptops\", \"T-Shirts\", ...]\n",
    "\n",
    "    # Prepare the labels for catalog and category classification\n",
    "    y_catalog = np.random.randint(len(catalog_names), size=X.shape[0])\n",
    "    y_category = np.random.randint(len(category_names), size=X.shape[0])\n",
    "\n",
    "    # Split the dataset into training and testing sets\n",
    "    X_train, X_test, y_train_catalog, y_test_catalog, y_train_category, y_test_category = train_test_split(\n",
    "        X, y_catalog, y_category, test_size=0.2, random_state=42)\n",
    "\n",
    "    # Load pre-trained VGG16 model\n",
    "    base_model = VGG16(weights='imagenet', include_top=False, input_shape=(224, 224, 3))\n",
    "\n",
    "    # Add new classification layers for catalog and category\n",
    "    x = base_model.output\n",
    "    x = GlobalAveragePooling2D()(x)\n",
    "    x = Dense(512, activation='relu')(x)\n",
    "    catalog_output = Dense(len(catalog_names), activation='softmax', name='catalog_output')(x)  # Output layer for catalog classification\n",
    "    category_output = Dense(len(category_names), activation='softmax', name='category_output')(x)  # Output layer for category classification\n",
    "\n",
    "    model = Model(inputs=base_model.input, outputs=[catalog_output, category_output])\n",
    "\n",
    "    # Compile the model\n",
    "    model.compile(optimizer=Adam(learning_rate=0.001),\n",
    "                  loss={'catalog_output': 'sparse_categorical_crossentropy', 'category_output': 'sparse_categorical_crossentropy'},\n",
    "                  metrics={'catalog_output': 'accuracy', 'category_output': 'accuracy'})\n",
    "\n",
    "    # Train the model\n",
    "    model.fit(X_train, {'catalog_output': y_train_catalog, 'category_output': y_train_category},\n",
    "              validation_data=(X_test, {'catalog_output': y_test_catalog, 'category_output': y_test_category}),\n",
    "              epochs=10, batch_size=32)\n",
    "\n",
    "    # Now you have a trained model that can classify images into catalogs and categories simultaneously.\n"
   ]
  },
  {
   "cell_type": "code",
   "execution_count": null,
   "metadata": {},
   "outputs": [],
   "source": []
  }
 ],
 "metadata": {
  "kernelspec": {
   "display_name": "Python 3",
   "language": "python",
   "name": "python3"
  },
  "language_info": {
   "codemirror_mode": {
    "name": "ipython",
    "version": 3
   },
   "file_extension": ".py",
   "mimetype": "text/x-python",
   "name": "python",
   "nbconvert_exporter": "python",
   "pygments_lexer": "ipython3",
   "version": "3.10.6"
  },
  "orig_nbformat": 4
 },
 "nbformat": 4,
 "nbformat_minor": 2
}
